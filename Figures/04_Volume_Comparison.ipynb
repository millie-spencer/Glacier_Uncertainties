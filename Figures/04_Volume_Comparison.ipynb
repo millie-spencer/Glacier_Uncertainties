{
 "cells": [
  {
   "cell_type": "markdown",
   "id": "5a76a53c-215f-48ea-91dd-29f195bba40e",
   "metadata": {},
   "source": [
    "# Figure 4: Volume comparison between M22 and F19"
   ]
  },
  {
   "cell_type": "code",
   "execution_count": null,
   "id": "1cc797cb-76f0-4946-816c-fcf9de60ab00",
   "metadata": {
    "tags": []
   },
   "outputs": [],
   "source": [
    "import os \n",
    "import numpy as np\n",
    "import pandas as pd\n",
    "import geopandas as gpd\n",
    "import shapely.geometry\n",
    "\n",
    "import plotly.express as px\n",
    "import plotly.graph_objects as go\n",
    "import plotly.figure_factory as ff\n",
    "from plotly.subplots import make_subplots\n",
    "\n",
    "cl = px.colors.qualitative.D3\n",
    "os.chdir('/home/rooda/Dropbox/Patagonia/')"
   ]
  },
  {
   "cell_type": "markdown",
   "id": "0e0b9904-c1f6-4f03-b7b6-f32a8d61b96b",
   "metadata": {},
   "source": [
    "# Data"
   ]
  },
  {
   "cell_type": "code",
   "execution_count": null,
   "id": "e5b2e6ce-0a1b-47f6-b8ce-b0aa02d90db6",
   "metadata": {
    "tags": []
   },
   "outputs": [],
   "source": [
    "# Preprocessed RGI inventories (with already an ID and a Zone code)\n",
    "RGI6 = gpd.read_file(\"GIS South/Glaciers/RGI6_v2.shp\") # preprocessed in \"Preprocess_RGI.R\"\n",
    "RGI7 = gpd.read_file(\"GIS South/Glaciers/RGI7_v2.shp\") # preprocessed in \"Preprocess_RGI.R\"\n",
    "\n",
    "# Zone: numeric to name (for the plot)\n",
    "RGI6 = RGI6.replace({\"Zone\": {1:'PPY', 2:'PCA', 3:'NPI-E', 4:'NPI-W', 5:'SPI-N', 6:'SPI-C', 7:'SPI-S', 8:'GCN', 9:'CDI'}})\n",
    "RGI7 = RGI7.replace({\"Zone\": {1:'PPY', 2:'PCA', 3:'NPI-E', 4:'NPI-W', 5:'SPI-N', 6:'SPI-C', 7:'SPI-S', 8:'GCN', 9:'CDI'}})\n",
    "\n",
    "basins = gpd.read_file(\"GIS South/Basins_Patagonia_ice.shp\")\n",
    "basins = basins.set_index(\"ID\")"
   ]
  },
  {
   "cell_type": "markdown",
   "id": "cd63e091-7b24-470a-9e1c-da68cdeec9cc",
   "metadata": {},
   "source": [
    "## 1. Comparison by catchment (a,b)"
   ]
  },
  {
   "cell_type": "code",
   "execution_count": null,
   "id": "d6bc01b6-c708-4a12-8af6-bc01b5ff88b8",
   "metadata": {
    "tags": []
   },
   "outputs": [],
   "source": [
    "data = RGI6[[\"ID_basin\",\"vol_M22\",\"vol_F19\"]].groupby(\"ID_basin\").sum()\n",
    "basins = pd.concat([basins, data], axis=1)\n",
    "basins # notice there are basins with glacier_area > 0, but the total volume is 0 because the volume assignment is based on the glacier's terminus position"
   ]
  },
  {
   "cell_type": "code",
   "execution_count": null,
   "id": "9e7b5ce4-4464-41c3-838a-0bb1a5ebd4cb",
   "metadata": {
    "tags": []
   },
   "outputs": [],
   "source": [
    "basins[\"vol_M22\"] = basins[\"vol_M22\"].fillna(0) # correct NaNs\n",
    "basins[\"vol_F19\"] = basins[\"vol_F19\"].fillna(0)"
   ]
  },
  {
   "cell_type": "code",
   "execution_count": null,
   "id": "3c845666-0b29-406e-be3d-b666b61e4d64",
   "metadata": {
    "tags": []
   },
   "outputs": [],
   "source": [
    "basins = basins.reset_index()\n",
    "basins = basins.rename(columns = {\"index\": \"ID\"})\n",
    "\n",
    "names = [\"Yelcho\", \"Baker\", \"Santa Cruz                          \", \"Palena\", \"Grey\", \"Puelo\", \"Cisnes\", \"Aysen\", \"Pascua\"]\n",
    "basins.loc[basins.basin_area > 5000, \"Name\"] = names"
   ]
  },
  {
   "cell_type": "code",
   "execution_count": null,
   "id": "ec8334a2-6860-46c7-8c1f-d1247360d274",
   "metadata": {
    "tags": []
   },
   "outputs": [],
   "source": [
    "data = RGI6[[\"Zone\",\"vol_M22\",\"vol_F19\"]].groupby(\"Zone\").sum()\n",
    "data[\"delta_p\"] = (data.vol_M22 / data.vol_F19) - 1\n",
    "data[\"delta_abs\"] = (data.vol_M22 - data.vol_F19).astype(\"int\")\n",
    "delta_abs  = [str(x)+' km<sup>3</sup>' for x in data[\"delta_abs\"]]"
   ]
  },
  {
   "cell_type": "code",
   "execution_count": null,
   "id": "82587506-0e22-4c19-a1fa-513bff03ec53",
   "metadata": {
    "tags": []
   },
   "outputs": [],
   "source": [
    "# basemap for background\n",
    "geo_map = gpd.read_file(\"/home/rooda/Dropbox/ArcGIS/Chile/south_america.shp\")\n",
    "geo_map = geo_map[(geo_map.CC == \"CI\") | (geo_map.CC == \"AR\")]\n",
    "geo_map = geo_map.dissolve(by='REGION')\n",
    "geo_map[\"geometry\"] = geo_map.simplify(0.01)\n",
    "\n",
    "poly_gdf = shapely.geometry.Polygon([(-76, -55.7), (-76, -40.52), (-68.05, -40.52), (-68.05, -55.7), (-76, -55.8)])\n",
    "poly_gdf = gpd.GeoDataFrame([1], geometry=[poly_gdf], crs=geo_map.crs)\n",
    "\n",
    "geo_map = geo_map.clip(poly_gdf)"
   ]
  },
  {
   "cell_type": "code",
   "execution_count": null,
   "id": "838259a5-546e-45d6-aa7b-844ff9e367ab",
   "metadata": {
    "tags": []
   },
   "outputs": [],
   "source": [
    "# hydrological zone divides\n",
    "geo_lines = gpd.read_file(\"GIS South/Basins_Patagonia_ice_divides.shp\")\n",
    "\n",
    "lats = []\n",
    "lons = []\n",
    "\n",
    "for feature in geo_lines.geometry:\n",
    "    if isinstance(feature, shapely.geometry.linestring.LineString):\n",
    "        linestrings = [feature]\n",
    "    elif isinstance(feature, shapely.geometry.multilinestring.MultiLineString):\n",
    "        linestrings = feature.geoms\n",
    "    else:\n",
    "        continue\n",
    "    for linestring in linestrings:\n",
    "        x, y = linestring.xy\n",
    "        lats = np.append(lats, y)\n",
    "        lons = np.append(lons, x)\n",
    "        lats = np.append(lats, None)\n",
    "        lons = np.append(lons, None)\n",
    "        \n",
    "lat_coords = [-43.2, -45.95,  -46.4,  -47.55,  -49.2,   -50.5,   -52.0, -53.1, -54.8]\n",
    "lon_coords = [-71.2, -71.7,   -74.5,  -71.7,   -72.2,   -72.3,   -72.1, -72.8, -68.9]\n",
    "names      = [\"PPY\", \"PCA\", \"NPI-W\", \"NPI-E\", \"SPI-N\", \"SPI-C\", \"SPI-S\", \"GCN\", \"CDI\"]\n",
    "names  = ['<b>'+x+'</b>' for x in names]"
   ]
  },
  {
   "cell_type": "code",
   "execution_count": null,
   "id": "5973a8ab-e3a6-4ea4-91e7-bb7c2ecf8607",
   "metadata": {
    "tags": []
   },
   "outputs": [],
   "source": [
    "fig = make_subplots(rows=2, cols=3, column_titles = [\"a) Normalized thickness in M22\", \"b) Volume difference per catchment rel. to F19 \", \"c) Volume difference per zone rel. to F19 \"], \n",
    "                    horizontal_spacing = 0.01, specs=[[{\"type\": \"scattergeo\", \"rowspan\": 2}, {\"type\": \"scattergeo\", \"rowspan\": 2}, {\"type\": \"xy\"}], \n",
    "                                                      [None,                                 None,                                  None]], \n",
    "                    row_heights = [2,-0.18])\n",
    "\n",
    "## Basemap\n",
    "for x in range(1,3):\n",
    "    fig.add_trace(go.Choropleth(geojson = eval(geo_map['geometry'].to_json()),  locations = geo_map.index, z = geo_map['iso_num'], \n",
    "                            colorscale = [\"#d5d5d5\", \"#d5d5d5\"], showscale= False, marker_line_color ='white', marker_line_width=0.1), row=1, col=x)\n",
    "\n",
    "# Figure a -------------------------------------------------------------------------------------------------------------------\n",
    "\n",
    "colorbar_config_a = dict(title='Thickness', len=0.4, x=0.22, y= 0.79, ticksuffix = \" m\", thickness=20)\n",
    "fig.add_trace(go.Choropleth(geojson = eval(basins['geometry'].to_json()),  locations = basins.index, z = (basins['vol_M22'] / basins['basin_area'])*1000, \n",
    "                            colorscale = [\"#ccebc5\", \"#4eb3d3\", \"#034b8a\"], marker_line_color ='rgba(255,255,255, 0.6)', marker_line_width=0.5, \n",
    "                            zmin = 0, zmax = 100, colorbar = colorbar_config_a), row=1, col=1)\n",
    "\n",
    "\n",
    "# Figure b -------------------------------------------------------------------------------------------------------------------\n",
    "\n",
    "colorbar_config_b = dict(title='Difference', len=0.4, x=0.57, y = 0.79, ticksuffix = \"%\", thickness=20)\n",
    "fig.add_trace(go.Choropleth(geojson = eval(basins['geometry'].to_json()), locations = basins.index, z = ((basins['vol_M22']/basins['vol_F19'])-1)*100, \n",
    "                            colorscale=[cl[1], \"#ffe9ba\" ,cl[0]], marker_line_color='rgba(255,255,255, 0.6)', marker_line_width=0.5, \n",
    "                           zmax = 100, zmin = -100, colorbar = colorbar_config_b), row=1, col=2)\n",
    "## for Fig a) and b)\n",
    "for x in range(1,3):\n",
    "    \n",
    "    ## Add basin and hydrological zone names plus the hydro zone divides\n",
    "    fig.add_trace(go.Scattergeo(lon = lons, lat = lats, mode = 'lines', line = dict(width = 0.7,color = 'black'),opacity = 0.5, showlegend = False),row=1, col=x)  \n",
    "    fig.add_trace(go.Scattergeo(lon = lon_coords, lat=lat_coords, mode='text', text=names, textfont=dict(size=12, color = \"rgba(0,0,0,0.5)\"), showlegend = False),row=1, col=x)\n",
    "    fig.add_scattergeo(geojson = eval(basins['geometry'].to_json()), locations = basins.index, text = basins['Name'], mode = 'text', showlegend = False,\n",
    "                       textfont=dict(size=11, color = \"rgba(0,0,0,0.3)\"),row=1, col=x)\n",
    "\n",
    "# Figure c -------------------------------------------------------------------------------------------------------------------\n",
    "fig.add_trace(go.Bar(y=data.index, x=data['delta_p'], orientation='h', text= delta_abs,\n",
    "                     marker= dict(color = data['delta_p'], colorscale = [\"#ffb05d\", \"#ffe9ba\", \"#8eafb6\"], showscale=False)), row=1, col=3)\n",
    "fig.update_traces(showlegend=False, opacity=1, textfont_size=14, textangle=0, textposition=\"outside\", cliponaxis=False, row=1, col=3)\n",
    "fig.update_xaxes(title = \"Difference per zone (%)\", title_standoff = 0, zeroline = True, range = [-0.19,0.19], dtick = 0.1, tickformat = ',.0%', row=1, col=3)\n",
    "fig.update_yaxes(side = \"right\", categoryorder='array', categoryarray= ['CDI', 'GCN', 'SPI-S', 'SPI-C', 'SPI-N', 'NPI-W','NPI-E','PCA','PPY'], row=1, col=3)\n",
    "fig.update_traces(textposition='auto', row=1, col=3)\n",
    "fig.add_annotation(text=\"Absolute difference\", font=dict(size=14), x=-0.13, y=0.25, ax=30, showarrow=True, row=1, col=3)\n",
    "\n",
    "# Layout -------------------------------------------------------------------------------------------------------------------\n",
    "fig.update_xaxes(showline = True, linecolor = 'rgba(0,0,0,0.5)', linewidth = 1, ticks=\"outside\", griddash = \"dot\", mirror=True)\n",
    "fig.update_yaxes(showline = True, linecolor = 'rgba(0,0,0,0.5)', linewidth = 1, ticks=\"outside\", griddash = \"dot\", mirror=True)\n",
    "\n",
    "fig.update_geos(showframe = True, framewidth = 1, framecolor = \"rgba(0,0,0,0.5)\", lonaxis_range=[-76, -68], lataxis_range=[-55.8, -40.5], \n",
    "                bgcolor = \"#f9f9f9\", showland = False, showcoastlines = False, showlakes = False)\n",
    "\n",
    "fig.update_layout(autosize = False, width = 1150, height = 700, plot_bgcolor=\"rgba(213,213,213,0.6)\", margin = dict(l=10, r=5, b=5, t=30))\n",
    "\n",
    "fig.write_image(\"/home/rooda/Dropbox/Patagonia/MS2 Results/Figure_4_thickness.png\", scale=4)\n",
    "fig.show()"
   ]
  }
 ],
 "metadata": {
  "kernelspec": {
   "display_name": "Python 3 (ipykernel)",
   "language": "python",
   "name": "python3"
  },
  "language_info": {
   "codemirror_mode": {
    "name": "ipython",
    "version": 3
   },
   "file_extension": ".py",
   "mimetype": "text/x-python",
   "name": "python",
   "nbconvert_exporter": "python",
   "pygments_lexer": "ipython3",
   "version": "3.10.10"
  }
 },
 "nbformat": 4,
 "nbformat_minor": 5
}

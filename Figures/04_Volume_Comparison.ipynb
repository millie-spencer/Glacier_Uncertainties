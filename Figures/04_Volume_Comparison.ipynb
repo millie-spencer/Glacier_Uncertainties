{
 "cells": [
  {
   "cell_type": "markdown",
   "id": "5a76a53c-215f-48ea-91dd-29f195bba40e",
   "metadata": {},
   "source": [
    "# Figure 4: Volume comparison between M22 and F19"
   ]
  },
  {
   "cell_type": "code",
   "execution_count": 1,
   "id": "1cc797cb-76f0-4946-816c-fcf9de60ab00",
   "metadata": {
    "tags": []
   },
   "outputs": [],
   "source": [
    "import os \n",
    "import numpy as np\n",
    "import pandas as pd\n",
    "import geopandas as gpd\n",
    "import shapely.geometry\n",
    "\n",
    "import plotly.express as px\n",
    "import plotly.graph_objects as go\n",
    "import plotly.figure_factory as ff\n",
    "from plotly.subplots import make_subplots\n",
    "\n",
    "cl = px.colors.qualitative.D3\n",
    "os.chdir('/home/rooda/Dropbox/Patagonia/')"
   ]
  },
  {
   "cell_type": "markdown",
   "id": "0e0b9904-c1f6-4f03-b7b6-f32a8d61b96b",
   "metadata": {},
   "source": [
    "# Data"
   ]
  },
  {
   "cell_type": "code",
   "execution_count": 2,
   "id": "e5b2e6ce-0a1b-47f6-b8ce-b0aa02d90db6",
   "metadata": {
    "tags": []
   },
   "outputs": [],
   "source": [
    "# Preprocessed RGI inventories (with already an ID and a Zone code)\n",
    "RGI6 = gpd.read_file(\"GIS South/Glaciers/RGI6_v2.shp\") # preprocessed in \"Preprocess_RGI.R\"\n",
    "RGI7 = gpd.read_file(\"GIS South/Glaciers/RGI7_v2.shp\") # preprocessed in \"Preprocess_RGI.R\"\n",
    "\n",
    "# Zone: numeric to name (for the plot)\n",
    "RGI6 = RGI6.replace({\"Zone\": {1:'PPY', 2:'PCA', 3:'NPI-E', 4:'NPI-W', 5:'SPI-N', 6:'SPI-C', 7:'SPI-S', 8:'GCN', 9:'CDI'}})\n",
    "RGI7 = RGI7.replace({\"Zone\": {1:'PPY', 2:'PCA', 3:'NPI-E', 4:'NPI-W', 5:'SPI-N', 6:'SPI-C', 7:'SPI-S', 8:'GCN', 9:'CDI'}})\n",
    "\n",
    "basins = gpd.read_file(\"GIS South/Basins_Patagonia_ice.shp\")\n",
    "basins = basins.set_index(\"ID\")"
   ]
  },
  {
   "cell_type": "markdown",
   "id": "cd63e091-7b24-470a-9e1c-da68cdeec9cc",
   "metadata": {},
   "source": [
    "## 1. Comparison by catchment (a,b)"
   ]
  },
  {
   "cell_type": "code",
   "execution_count": 3,
   "id": "d6bc01b6-c708-4a12-8af6-bc01b5ff88b8",
   "metadata": {
    "tags": []
   },
   "outputs": [
    {
     "data": {
      "text/html": [
       "<div>\n",
       "<style scoped>\n",
       "    .dataframe tbody tr th:only-of-type {\n",
       "        vertical-align: middle;\n",
       "    }\n",
       "\n",
       "    .dataframe tbody tr th {\n",
       "        vertical-align: top;\n",
       "    }\n",
       "\n",
       "    .dataframe thead th {\n",
       "        text-align: right;\n",
       "    }\n",
       "</style>\n",
       "<table border=\"1\" class=\"dataframe\">\n",
       "  <thead>\n",
       "    <tr style=\"text-align: right;\">\n",
       "      <th></th>\n",
       "      <th>basin_area</th>\n",
       "      <th>lat</th>\n",
       "      <th>lon</th>\n",
       "      <th>Zone</th>\n",
       "      <th>RGI6_ngla</th>\n",
       "      <th>RGI6_area</th>\n",
       "      <th>RGI7_ngla</th>\n",
       "      <th>RGI7_area</th>\n",
       "      <th>RGI6_area_</th>\n",
       "      <th>Name</th>\n",
       "      <th>geometry</th>\n",
       "      <th>vol_M22</th>\n",
       "      <th>vol_F19</th>\n",
       "    </tr>\n",
       "  </thead>\n",
       "  <tbody>\n",
       "    <tr>\n",
       "      <th>0</th>\n",
       "      <td>29.55</td>\n",
       "      <td>-49.916985</td>\n",
       "      <td>-73.741851</td>\n",
       "      <td>6.0</td>\n",
       "      <td>1.0</td>\n",
       "      <td>40.424054</td>\n",
       "      <td>1.0</td>\n",
       "      <td>37.491513</td>\n",
       "      <td>98.363791</td>\n",
       "      <td>NaN</td>\n",
       "      <td>POLYGON ((-73.72645 -49.88884, -73.70706 -49.8...</td>\n",
       "      <td>6.488849</td>\n",
       "      <td>5.297352</td>\n",
       "    </tr>\n",
       "    <tr>\n",
       "      <th>1</th>\n",
       "      <td>31.41</td>\n",
       "      <td>-54.666561</td>\n",
       "      <td>-69.763669</td>\n",
       "      <td>9.0</td>\n",
       "      <td>1.0</td>\n",
       "      <td>34.894414</td>\n",
       "      <td>1.0</td>\n",
       "      <td>39.191853</td>\n",
       "      <td>99.279409</td>\n",
       "      <td>NaN</td>\n",
       "      <td>POLYGON ((-69.74586 -54.63201, -69.74045 -54.6...</td>\n",
       "      <td>3.614492</td>\n",
       "      <td>3.309764</td>\n",
       "    </tr>\n",
       "    <tr>\n",
       "      <th>2</th>\n",
       "      <td>97.63</td>\n",
       "      <td>-50.603309</td>\n",
       "      <td>-73.370863</td>\n",
       "      <td>6.0</td>\n",
       "      <td>0.0</td>\n",
       "      <td>0.000000</td>\n",
       "      <td>9.0</td>\n",
       "      <td>155.599212</td>\n",
       "      <td>95.484854</td>\n",
       "      <td>NaN</td>\n",
       "      <td>POLYGON ((-73.35703 -50.53665, -73.35212 -50.5...</td>\n",
       "      <td>NaN</td>\n",
       "      <td>NaN</td>\n",
       "    </tr>\n",
       "    <tr>\n",
       "      <th>3</th>\n",
       "      <td>26.74</td>\n",
       "      <td>-54.640225</td>\n",
       "      <td>-69.530664</td>\n",
       "      <td>9.0</td>\n",
       "      <td>1.0</td>\n",
       "      <td>27.672274</td>\n",
       "      <td>1.0</td>\n",
       "      <td>24.396267</td>\n",
       "      <td>100.000000</td>\n",
       "      <td>NaN</td>\n",
       "      <td>POLYGON ((-69.51544 -54.59554, -69.50463 -54.5...</td>\n",
       "      <td>2.537286</td>\n",
       "      <td>3.053799</td>\n",
       "    </tr>\n",
       "    <tr>\n",
       "      <th>4</th>\n",
       "      <td>60.60</td>\n",
       "      <td>-49.842249</td>\n",
       "      <td>-73.759775</td>\n",
       "      <td>6.0</td>\n",
       "      <td>2.0</td>\n",
       "      <td>65.064631</td>\n",
       "      <td>1.0</td>\n",
       "      <td>60.009486</td>\n",
       "      <td>98.027613</td>\n",
       "      <td>NaN</td>\n",
       "      <td>MULTIPOLYGON (((-73.81290 -49.82869, -73.81048...</td>\n",
       "      <td>8.755025</td>\n",
       "      <td>6.529922</td>\n",
       "    </tr>\n",
       "    <tr>\n",
       "      <th>...</th>\n",
       "      <td>...</td>\n",
       "      <td>...</td>\n",
       "      <td>...</td>\n",
       "      <td>...</td>\n",
       "      <td>...</td>\n",
       "      <td>...</td>\n",
       "      <td>...</td>\n",
       "      <td>...</td>\n",
       "      <td>...</td>\n",
       "      <td>...</td>\n",
       "      <td>...</td>\n",
       "      <td>...</td>\n",
       "      <td>...</td>\n",
       "    </tr>\n",
       "    <tr>\n",
       "      <th>2016</th>\n",
       "      <td>239.52</td>\n",
       "      <td>-48.588851</td>\n",
       "      <td>-73.768220</td>\n",
       "      <td>5.0</td>\n",
       "      <td>14.0</td>\n",
       "      <td>617.512028</td>\n",
       "      <td>50.0</td>\n",
       "      <td>635.027307</td>\n",
       "      <td>53.505515</td>\n",
       "      <td>NaN</td>\n",
       "      <td>POLYGON ((-73.72996 -48.49458, -73.72054 -48.4...</td>\n",
       "      <td>314.583050</td>\n",
       "      <td>227.284141</td>\n",
       "    </tr>\n",
       "    <tr>\n",
       "      <th>2018</th>\n",
       "      <td>986.44</td>\n",
       "      <td>-46.690103</td>\n",
       "      <td>-73.644219</td>\n",
       "      <td>4.0</td>\n",
       "      <td>1.0</td>\n",
       "      <td>721.949949</td>\n",
       "      <td>13.0</td>\n",
       "      <td>684.966739</td>\n",
       "      <td>66.754946</td>\n",
       "      <td>NaN</td>\n",
       "      <td>MULTIPOLYGON (((-74.06348 -46.59560, -74.06121...</td>\n",
       "      <td>282.901020</td>\n",
       "      <td>251.573580</td>\n",
       "    </tr>\n",
       "    <tr>\n",
       "      <th>2020</th>\n",
       "      <td>215.28</td>\n",
       "      <td>-45.870200</td>\n",
       "      <td>-73.378296</td>\n",
       "      <td>2.0</td>\n",
       "      <td>3.0</td>\n",
       "      <td>9.126361</td>\n",
       "      <td>9.0</td>\n",
       "      <td>9.995560</td>\n",
       "      <td>3.997858</td>\n",
       "      <td>NaN</td>\n",
       "      <td>POLYGON ((-73.24036 -45.80388, -73.23812 -45.8...</td>\n",
       "      <td>0.568540</td>\n",
       "      <td>0.468213</td>\n",
       "    </tr>\n",
       "    <tr>\n",
       "      <th>2021</th>\n",
       "      <td>78.83</td>\n",
       "      <td>-49.166033</td>\n",
       "      <td>-74.016617</td>\n",
       "      <td>5.0</td>\n",
       "      <td>1.0</td>\n",
       "      <td>1234.714181</td>\n",
       "      <td>0.0</td>\n",
       "      <td>0.000000</td>\n",
       "      <td>36.329042</td>\n",
       "      <td>NaN</td>\n",
       "      <td>POLYGON ((-74.07262 -49.10398, -74.06547 -49.1...</td>\n",
       "      <td>496.826840</td>\n",
       "      <td>448.169080</td>\n",
       "    </tr>\n",
       "    <tr>\n",
       "      <th>2025</th>\n",
       "      <td>455.35</td>\n",
       "      <td>-50.222128</td>\n",
       "      <td>-73.687659</td>\n",
       "      <td>6.0</td>\n",
       "      <td>6.0</td>\n",
       "      <td>429.914333</td>\n",
       "      <td>27.0</td>\n",
       "      <td>452.454579</td>\n",
       "      <td>91.121399</td>\n",
       "      <td>NaN</td>\n",
       "      <td>POLYGON ((-73.56117 -50.12178, -73.52952 -50.1...</td>\n",
       "      <td>127.795979</td>\n",
       "      <td>121.842380</td>\n",
       "    </tr>\n",
       "  </tbody>\n",
       "</table>\n",
       "<p>847 rows × 13 columns</p>\n",
       "</div>"
      ],
      "text/plain": [
       "      basin_area        lat        lon  Zone  RGI6_ngla    RGI6_area  \\\n",
       "0          29.55 -49.916985 -73.741851   6.0        1.0    40.424054   \n",
       "1          31.41 -54.666561 -69.763669   9.0        1.0    34.894414   \n",
       "2          97.63 -50.603309 -73.370863   6.0        0.0     0.000000   \n",
       "3          26.74 -54.640225 -69.530664   9.0        1.0    27.672274   \n",
       "4          60.60 -49.842249 -73.759775   6.0        2.0    65.064631   \n",
       "...          ...        ...        ...   ...        ...          ...   \n",
       "2016      239.52 -48.588851 -73.768220   5.0       14.0   617.512028   \n",
       "2018      986.44 -46.690103 -73.644219   4.0        1.0   721.949949   \n",
       "2020      215.28 -45.870200 -73.378296   2.0        3.0     9.126361   \n",
       "2021       78.83 -49.166033 -74.016617   5.0        1.0  1234.714181   \n",
       "2025      455.35 -50.222128 -73.687659   6.0        6.0   429.914333   \n",
       "\n",
       "      RGI7_ngla   RGI7_area  RGI6_area_  Name  \\\n",
       "0           1.0   37.491513   98.363791   NaN   \n",
       "1           1.0   39.191853   99.279409   NaN   \n",
       "2           9.0  155.599212   95.484854   NaN   \n",
       "3           1.0   24.396267  100.000000   NaN   \n",
       "4           1.0   60.009486   98.027613   NaN   \n",
       "...         ...         ...         ...   ...   \n",
       "2016       50.0  635.027307   53.505515   NaN   \n",
       "2018       13.0  684.966739   66.754946   NaN   \n",
       "2020        9.0    9.995560    3.997858   NaN   \n",
       "2021        0.0    0.000000   36.329042   NaN   \n",
       "2025       27.0  452.454579   91.121399   NaN   \n",
       "\n",
       "                                               geometry     vol_M22  \\\n",
       "0     POLYGON ((-73.72645 -49.88884, -73.70706 -49.8...    6.488849   \n",
       "1     POLYGON ((-69.74586 -54.63201, -69.74045 -54.6...    3.614492   \n",
       "2     POLYGON ((-73.35703 -50.53665, -73.35212 -50.5...         NaN   \n",
       "3     POLYGON ((-69.51544 -54.59554, -69.50463 -54.5...    2.537286   \n",
       "4     MULTIPOLYGON (((-73.81290 -49.82869, -73.81048...    8.755025   \n",
       "...                                                 ...         ...   \n",
       "2016  POLYGON ((-73.72996 -48.49458, -73.72054 -48.4...  314.583050   \n",
       "2018  MULTIPOLYGON (((-74.06348 -46.59560, -74.06121...  282.901020   \n",
       "2020  POLYGON ((-73.24036 -45.80388, -73.23812 -45.8...    0.568540   \n",
       "2021  POLYGON ((-74.07262 -49.10398, -74.06547 -49.1...  496.826840   \n",
       "2025  POLYGON ((-73.56117 -50.12178, -73.52952 -50.1...  127.795979   \n",
       "\n",
       "         vol_F19  \n",
       "0       5.297352  \n",
       "1       3.309764  \n",
       "2            NaN  \n",
       "3       3.053799  \n",
       "4       6.529922  \n",
       "...          ...  \n",
       "2016  227.284141  \n",
       "2018  251.573580  \n",
       "2020    0.468213  \n",
       "2021  448.169080  \n",
       "2025  121.842380  \n",
       "\n",
       "[847 rows x 13 columns]"
      ]
     },
     "execution_count": 3,
     "metadata": {},
     "output_type": "execute_result"
    }
   ],
   "source": [
    "data = RGI6[[\"ID_basin\",\"vol_M22\",\"vol_F19\"]].groupby(\"ID_basin\").sum()\n",
    "basins = pd.concat([basins, data], axis=1)\n",
    "basins # notice there are basins with glacier_area > 0, but the total volume is 0 because the volume assignment is based on the glacier's terminus position"
   ]
  },
  {
   "cell_type": "code",
   "execution_count": 4,
   "id": "9e7b5ce4-4464-41c3-838a-0bb1a5ebd4cb",
   "metadata": {
    "tags": []
   },
   "outputs": [],
   "source": [
    "basins[\"vol_M22\"] = basins[\"vol_M22\"].fillna(0) # correct NaNs\n",
    "basins[\"vol_F19\"] = basins[\"vol_F19\"].fillna(0)"
   ]
  },
  {
   "cell_type": "code",
   "execution_count": 5,
   "id": "3c845666-0b29-406e-be3d-b666b61e4d64",
   "metadata": {
    "tags": []
   },
   "outputs": [],
   "source": [
    "basins = basins.reset_index()\n",
    "basins = basins.rename(columns = {\"index\": \"ID\"})\n",
    "\n",
    "names = [\"Yelcho\", \"Baker\", \"Santa Cruz                          \", \"Palena\", \"Grey\", \"Puelo\", \"Cisnes\", \"Aysen\", \"Pascua\"]\n",
    "basins.loc[basins.basin_area > 5000, \"Name\"] = names"
   ]
  },
  {
   "cell_type": "code",
   "execution_count": 21,
   "id": "6b09da88-9f46-4779-934a-9806207855f8",
   "metadata": {
    "tags": []
   },
   "outputs": [
    {
     "data": {
      "text/plain": [
       "483"
      ]
     },
     "execution_count": 21,
     "metadata": {},
     "output_type": "execute_result"
    }
   ],
   "source": [
    "len((basins.loc[((basins['vol_M22'] / basins['basin_area'])*1000)>= 1])) # The 26% of the total catchment area, which represents XX catchments"
   ]
  },
  {
   "cell_type": "code",
   "execution_count": 35,
   "id": "3383bca2-f199-4816-8479-97c1ad2ff928",
   "metadata": {
    "tags": []
   },
   "outputs": [
    {
     "data": {
      "text/plain": [
       "<Axes: >"
      ]
     },
     "execution_count": 35,
     "metadata": {},
     "output_type": "execute_result"
    },
    {
     "data": {
      "image/png": "[encoded data removed]",
      "text/plain": [
       "<Figure size 640x480 with 1 Axes>"
      ]
     },
     "metadata": {},
     "output_type": "display_data"
    }
   ],
   "source": [
    "basins.loc[basins['vol_M22'] > basins['vol_F19']].plot()"
   ]
  },
  {
   "cell_type": "code",
   "execution_count": 6,
   "id": "ec8334a2-6860-46c7-8c1f-d1247360d274",
   "metadata": {
    "tags": []
   },
   "outputs": [],
   "source": [
    "data = RGI6[[\"Zone\",\"vol_M22\",\"vol_F19\"]].groupby(\"Zone\").sum()\n",
    "data[\"delta_p\"] = (data.vol_M22 / data.vol_F19) - 1\n",
    "data[\"delta_abs\"] = (data.vol_M22 - data.vol_F19).astype(\"int\")\n",
    "delta_abs  = [str(x)+' km<sup>3</sup>' for x in data[\"delta_abs\"]]"
   ]
  },
  {
   "cell_type": "code",
   "execution_count": null,
   "id": "82587506-0e22-4c19-a1fa-513bff03ec53",
   "metadata": {
    "tags": []
   },
   "outputs": [],
   "source": [
    "# basemap for background\n",
    "geo_map = gpd.read_file(\"/home/rooda/Dropbox/ArcGIS/Chile/south_america.shp\")\n",
    "geo_map = geo_map[(geo_map.CC == \"CI\") | (geo_map.CC == \"AR\")]\n",
    "geo_map = geo_map.dissolve(by='REGION')\n",
    "geo_map[\"geometry\"] = geo_map.simplify(0.01)\n",
    "\n",
    "poly_gdf = shapely.geometry.Polygon([(-76, -55.7), (-76, -40.52), (-68.05, -40.52), (-68.05, -55.7), (-76, -55.8)])\n",
    "poly_gdf = gpd.GeoDataFrame([1], geometry=[poly_gdf], crs=geo_map.crs)\n",
    "\n",
    "geo_map = geo_map.clip(poly_gdf)"
   ]
  },
  {
   "cell_type": "code",
   "execution_count": null,
   "id": "838259a5-546e-45d6-aa7b-844ff9e367ab",
   "metadata": {
    "tags": []
   },
   "outputs": [],
   "source": [
    "# hydrological zone divides\n",
    "geo_lines = gpd.read_file(\"GIS South/Basins_Patagonia_ice_divides.shp\")\n",
    "\n",
    "lats = []\n",
    "lons = []\n",
    "\n",
    "for feature in geo_lines.geometry:\n",
    "    if isinstance(feature, shapely.geometry.linestring.LineString):\n",
    "        linestrings = [feature]\n",
    "    elif isinstance(feature, shapely.geometry.multilinestring.MultiLineString):\n",
    "        linestrings = feature.geoms\n",
    "    else:\n",
    "        continue\n",
    "    for linestring in linestrings:\n",
    "        x, y = linestring.xy\n",
    "        lats = np.append(lats, y)\n",
    "        lons = np.append(lons, x)\n",
    "        lats = np.append(lats, None)\n",
    "        lons = np.append(lons, None)\n",
    "        \n",
    "lat_coords = [-43.2, -45.95,  -46.4,  -47.55,  -49.2,   -50.5,   -52.0, -53.1, -54.8]\n",
    "lon_coords = [-71.2, -71.7,   -74.5,  -71.7,   -72.2,   -72.3,   -72.1, -72.8, -68.9]\n",
    "names      = [\"PPY\", \"PCA\", \"NPI-W\", \"NPI-E\", \"SPI-N\", \"SPI-C\", \"SPI-S\", \"GCN\", \"CDI\"]\n",
    "names  = ['<b>'+x+'</b>' for x in names]"
   ]
  },
  {
   "cell_type": "code",
   "execution_count": null,
   "id": "5973a8ab-e3a6-4ea4-91e7-bb7c2ecf8607",
   "metadata": {
    "tags": []
   },
   "outputs": [],
   "source": [
    "fig = make_subplots(rows=2, cols=3, column_titles = [\"a) Normalized thickness in M22\", \"b) Volume difference per catchment rel. to F19 \", \"c) Volume difference per zone rel. to F19 \"], \n",
    "                    horizontal_spacing = 0.01, specs=[[{\"type\": \"scattergeo\", \"rowspan\": 2}, {\"type\": \"scattergeo\", \"rowspan\": 2}, {\"type\": \"xy\"}], \n",
    "                                                      [None,                                 None,                                  None]], \n",
    "                    row_heights = [2,-0.18])\n",
    "\n",
    "## Basemap\n",
    "for x in range(1,3):\n",
    "    fig.add_trace(go.Choropleth(geojson = eval(geo_map['geometry'].to_json()),  locations = geo_map.index, z = geo_map['iso_num'], \n",
    "                            colorscale = [\"#d5d5d5\", \"#d5d5d5\"], showscale= False, marker_line_color ='white', marker_line_width=0.1), row=1, col=x)\n",
    "\n",
    "# Figure a -------------------------------------------------------------------------------------------------------------------\n",
    "\n",
    "colorbar_config_a = dict(title='Thickness', len=0.4, x=0.22, y= 0.79, ticksuffix = \" m\", thickness=20)\n",
    "fig.add_trace(go.Choropleth(geojson = eval(basins['geometry'].to_json()),  locations = basins.index, z = (basins['vol_M22'] / basins['basin_area'])*1000, \n",
    "                            colorscale = [\"#ccebc5\", \"#4eb3d3\", \"#034b8a\"], marker_line_color ='rgba(255,255,255, 0.6)', marker_line_width=0.5, \n",
    "                            zmin = 0, zmax = 100, colorbar = colorbar_config_a), row=1, col=1)\n",
    "\n",
    "\n",
    "# Figure b -------------------------------------------------------------------------------------------------------------------\n",
    "\n",
    "colorbar_config_b = dict(title='Difference', len=0.4, x=0.57, y = 0.79, ticksuffix = \"%\", thickness=20)\n",
    "fig.add_trace(go.Choropleth(geojson = eval(basins['geometry'].to_json()), locations = basins.index, z = ((basins['vol_M22']/basins['vol_F19'])-1)*100, \n",
    "                            colorscale=[cl[1], \"#ffe9ba\" ,cl[0]], marker_line_color='rgba(255,255,255, 0.6)', marker_line_width=0.5, \n",
    "                           zmax = 100, zmin = -100, colorbar = colorbar_config_b), row=1, col=2)\n",
    "## for Fig a) and b)\n",
    "for x in range(1,3):\n",
    "    \n",
    "    ## Add basin and hydrological zone names plus the hydro zone divides\n",
    "    fig.add_trace(go.Scattergeo(lon = lons, lat = lats, mode = 'lines', line = dict(width = 0.7,color = 'black'),opacity = 0.5, showlegend = False),row=1, col=x)  \n",
    "    fig.add_trace(go.Scattergeo(lon = lon_coords, lat=lat_coords, mode='text', text=names, textfont=dict(size=12, color = \"rgba(0,0,0,0.5)\"), showlegend = False),row=1, col=x)\n",
    "    fig.add_scattergeo(geojson = eval(basins['geometry'].to_json()), locations = basins.index, text = basins['Name'], mode = 'text', showlegend = False,\n",
    "                       textfont=dict(size=11, color = \"rgba(0,0,0,0.3)\"),row=1, col=x)\n",
    "\n",
    "# Figure c -------------------------------------------------------------------------------------------------------------------\n",
    "fig.add_trace(go.Bar(y=data.index, x=data['delta_p'], orientation='h', text= delta_abs,\n",
    "                     marker= dict(color = data['delta_p'], colorscale = [\"#ffb05d\", \"#ffe9ba\", \"#8eafb6\"], showscale=False)), row=1, col=3)\n",
    "fig.update_traces(showlegend=False, opacity=1, textfont_size=14, textangle=0, textposition=\"outside\", cliponaxis=False, row=1, col=3)\n",
    "fig.update_xaxes(title = \"Difference per zone (%)\", title_standoff = 0, zeroline = True, range = [-0.19,0.19], dtick = 0.1, tickformat = ',.0%', row=1, col=3)\n",
    "fig.update_yaxes(side = \"right\", categoryorder='array', categoryarray= ['CDI', 'GCN', 'SPI-S', 'SPI-C', 'SPI-N', 'NPI-W','NPI-E','PCA','PPY'], row=1, col=3)\n",
    "fig.update_traces(textposition='auto', row=1, col=3)\n",
    "fig.add_annotation(text=\"Absolute difference\", font=dict(size=14), x=-0.13, y=0.25, ax=30, showarrow=True, row=1, col=3)\n",
    "\n",
    "# Layout -------------------------------------------------------------------------------------------------------------------\n",
    "fig.update_xaxes(showline = True, linecolor = 'rgba(0,0,0,0.5)', linewidth = 1, ticks=\"outside\", griddash = \"dot\", mirror=True)\n",
    "fig.update_yaxes(showline = True, linecolor = 'rgba(0,0,0,0.5)', linewidth = 1, ticks=\"outside\", griddash = \"dot\", mirror=True)\n",
    "\n",
    "fig.update_geos(showframe = True, framewidth = 1, framecolor = \"rgba(0,0,0,0.5)\", lonaxis_range=[-76, -68], lataxis_range=[-55.8, -40.5], \n",
    "                bgcolor = \"#f9f9f9\", showland = False, showcoastlines = False, showlakes = False)\n",
    "\n",
    "fig.update_layout(autosize = False, width = 1150, height = 700, plot_bgcolor=\"rgba(213,213,213,0.6)\", margin = dict(l=10, r=5, b=5, t=30))\n",
    "\n",
    "fig.write_image(\"/home/rooda/Dropbox/Patagonia/MS2 Results/Figure_4_thickness.png\", scale=4)\n",
    "fig.show()"
   ]
  }
 ],
 "metadata": {
  "kernelspec": {
   "display_name": "Python 3 (ipykernel)",
   "language": "python",
   "name": "python3"
  },
  "language_info": {
   "codemirror_mode": {
    "name": "ipython",
    "version": 3
   },
   "file_extension": ".py",
   "mimetype": "text/x-python",
   "name": "python",
   "nbconvert_exporter": "python",
   "pygments_lexer": "ipython3",
   "version": "3.10.10"
  }
 },
 "nbformat": 4,
 "nbformat_minor": 5
}

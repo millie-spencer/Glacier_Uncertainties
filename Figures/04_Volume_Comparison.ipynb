{
 "cells": [
  {
   "cell_type": "markdown",
   "id": "5a76a53c-215f-48ea-91dd-29f195bba40e",
   "metadata": {},
   "source": [
    "# Figure 4: Volume comparison between M22 and F19"
   ]
  },
  {
   "cell_type": "code",
   "execution_count": null,
   "id": "1cc797cb-76f0-4946-816c-fcf9de60ab00",
   "metadata": {
    "tags": []
   },
   "outputs": [],
   "source": [
    "import os \n",
    "import numpy as np\n",
    "import pandas as pd\n",
    "import geopandas as gpd\n",
    "import shapely.geometry\n",
    "\n",
    "import plotly.express as px\n",
    "import plotly.graph_objects as go\n",
    "import plotly.figure_factory as ff\n",
    "from plotly.subplots import make_subplots\n",
    "\n",
    "os.chdir('/home/rooda/Dropbox/Patagonia/')"
   ]
  },
  {
   "cell_type": "markdown",
   "id": "0e0b9904-c1f6-4f03-b7b6-f32a8d61b96b",
   "metadata": {},
   "source": [
    "## Data"
   ]
  },
  {
   "cell_type": "markdown",
   "id": "2a71730e-de5d-4955-94c3-763ace11df07",
   "metadata": {},
   "source": [
    "Notice there are basins with glacier_area > 0 and glacier_volume == 0 because the volume assignment is based on the glacier's terminus position"
   ]
  },
  {
   "cell_type": "code",
   "execution_count": null,
   "id": "e5b2e6ce-0a1b-47f6-b8ce-b0aa02d90db6",
   "metadata": {
    "tags": []
   },
   "outputs": [],
   "source": [
    "# data at the catchment scale\n",
    "basins = gpd.read_file(\"zip:////home/rooda/Dropbox/Patagonia/MS2 Results/zenodo/basins_boundaries.zip\")\n",
    "basins = basins[[\"basin_id\", \"geometry\"]].set_index(\"basin_id\")\n",
    "\n",
    "data = pd.read_csv(\"MS2 Results/zenodo/dataset_historical.csv\", index_col = \"basin_id\")\n",
    "data['basin_name']= data['basin_name'].replace({'Santa Cruz': 'Santa Cruz                          '})\n",
    "basins = pd.concat([basins, data], axis=1)\n",
    "basins[\"diff\"] = ((basins['vol_M22']/basins['vol_F19'])-1)*100\n",
    "\n",
    "# data at the catchment scale\n",
    "data = basins[[\"basin_zone\",\"vol_M22\",\"vol_F19\"]].groupby(\"basin_zone\").sum()\n",
    "data[\"delta_p\"] = (data.vol_M22 / data.vol_F19) - 1\n",
    "data[\"delta_abs\"] = (data.vol_M22 - data.vol_F19).astype(\"int\")\n",
    "delta_abs  = [str(x)+' km<sup>3</sup>' for x in data[\"delta_abs\"]]"
   ]
  },
  {
   "cell_type": "markdown",
   "id": "584f7dd9-3d40-40cd-a07e-02e0133ae117",
   "metadata": {
    "tags": []
   },
   "source": [
    "## Plot elements "
   ]
  },
  {
   "cell_type": "code",
   "execution_count": null,
   "id": "82587506-0e22-4c19-a1fa-513bff03ec53",
   "metadata": {
    "tags": []
   },
   "outputs": [],
   "source": [
    "# basemap for background\n",
    "geo_map = gpd.read_file(\"/home/rooda/Dropbox/ArcGIS/Chile/south_america.shp\")\n",
    "geo_map = geo_map[(geo_map.CC == \"CI\") | (geo_map.CC == \"AR\")]\n",
    "geo_map = geo_map.dissolve(by='REGION')\n",
    "geo_map[\"geometry\"] = geo_map.simplify(0.01)\n",
    "\n",
    "poly_gdf = shapely.geometry.Polygon([(-76, -55.7), (-76, -40.52), (-68.05, -40.52), (-68.05, -55.7), (-76, -55.8)])\n",
    "poly_gdf = gpd.GeoDataFrame([1], geometry=[poly_gdf], crs=geo_map.crs)\n",
    "\n",
    "geo_map = geo_map.clip(poly_gdf)"
   ]
  },
  {
   "cell_type": "code",
   "execution_count": null,
   "id": "838259a5-546e-45d6-aa7b-844ff9e367ab",
   "metadata": {
    "tags": []
   },
   "outputs": [],
   "source": [
    "# hydrological zone divides\n",
    "geo_lines = gpd.read_file(\"GIS South/Basins_Patagonia_ice_divides.shp\")\n",
    "\n",
    "lats = []\n",
    "lons = []\n",
    "\n",
    "for feature in geo_lines.geometry:\n",
    "    if isinstance(feature, shapely.geometry.linestring.LineString):\n",
    "        linestrings = [feature]\n",
    "    elif isinstance(feature, shapely.geometry.multilinestring.MultiLineString):\n",
    "        linestrings = feature.geoms\n",
    "    else:\n",
    "        continue\n",
    "    for linestring in linestrings:\n",
    "        x, y = linestring.xy\n",
    "        lats = np.append(lats, y)\n",
    "        lons = np.append(lons, x)\n",
    "        lats = np.append(lats, None)\n",
    "        lons = np.append(lons, None)\n",
    "        \n",
    "lat_coords = [-43.2, -45.95,  -46.4,  -47.55,  -49.2,   -50.5,   -52.0, -53.1, -54.8]\n",
    "lon_coords = [-71.2, -71.7,   -74.5,  -71.7,   -72.2,   -72.3,   -72.1, -72.8, -68.9]\n",
    "names      = [\"PPY\", \"PCA\", \"NPI-W\", \"NPI-E\", \"SPI-N\", \"SPI-C\", \"SPI-S\", \"GCN\", \"CDI\"]\n",
    "names  = ['<b>'+x+'</b>' for x in names]"
   ]
  },
  {
   "cell_type": "markdown",
   "id": "7eba42aa-47a5-4048-a734-5a458bb1ee14",
   "metadata": {
    "tags": []
   },
   "source": [
    "## Plot"
   ]
  },
  {
   "cell_type": "code",
   "execution_count": null,
   "id": "5973a8ab-e3a6-4ea4-91e7-bb7c2ecf8607",
   "metadata": {
    "tags": []
   },
   "outputs": [],
   "source": [
    "fig = make_subplots(rows=2, cols=3, column_titles = [\"Normalized thickness in F19\", \"Volume difference per catchment rel. to F19 \", \"Volume difference per zone rel. to F19 \"], \n",
    "                    horizontal_spacing = 0.01, specs=[[{\"type\": \"scattergeo\", \"rowspan\": 2}, {\"type\": \"scattergeo\", \"rowspan\": 2}, {\"type\": \"xy\"}], \n",
    "                                                      [None,                                 None,                                  None]], row_heights = [2,-0.18])\n",
    "\n",
    "cl = px.colors.colorbrewer.RdYlBu\n",
    "cs = px.colors.colorbrewer.GnBu\n",
    "\n",
    "## Basemap\n",
    "for x in range(1,3):\n",
    "    fig.add_trace(go.Choropleth(geojson = eval(geo_map['geometry'].to_json()),  locations = geo_map.index, z = geo_map['iso_num'], \n",
    "                            colorscale = [\"#EAEAF2\", \"#EAEAF2\"], showscale= False, marker_line_color ='white', marker_line_width=0.1), row=1, col=x)\n",
    "\n",
    "# Figure a -------------------------------------------------------------------------------------------------------------------\n",
    "\n",
    "colorbar_config_a = dict(title='Thickness<br>(log m)', len=0.4, x=0.24, y= 0.79, thickness=20, tickwidth = 1, \n",
    "                         ticktext = [\"10<sup>-1\", \"10<sup>0\", \"10<sup>1\", \"10<sup>2\", \"10<sup>3\"], tickvals =  [-1,0,1,2, 3])\n",
    "fig.add_trace(go.Choropleth(geojson = eval(basins['geometry'].to_json()),  locations = basins.index, z = np.log10((basins['vol_F19'] / basins['basin_area'])*1000), \n",
    "                            colorscale = [cs[1], cs[4], cs[8]], marker_line_color ='rgba(255,255,255, 0.6)', marker_line_width=0.5, \n",
    "                            zmin = -1, zmax = 3, colorbar = colorbar_config_a), row=1, col=1)\n",
    "\n",
    "\n",
    "# Figure b -------------------------------------------------------------------------------------------------------------------\n",
    "\n",
    "colorbar_config_b = dict(title='Difference', len=0.4, x=0.57, y = 0.79, ticktext = [\"< -50 %\", \"-25 %\", \"0 %\", \"25 %\", \"> 50 %\"], tickvals =  [-50,-25,0,25,50], thickness=20, tickwidth = 1)\n",
    "fig.add_trace(go.Choropleth(geojson = eval(basins['geometry'].to_json()), locations = basins.index, z = basins[\"diff\"], \n",
    "                            colorscale=[cl[2],\"#ffe9ba\", cl[9]], marker_line_color='rgba(255,255,255, 0.6)', marker_line_width=0.5, \n",
    "                           zmax = 50, zmin = -50, colorbar = colorbar_config_b), row=1, col=2)\n",
    "## for Fig a) and b)\n",
    "for x in range(1,3):\n",
    "    \n",
    "    ## Add basin and hydrological zone names plus the hydro zone divides\n",
    "    fig.add_trace(go.Scattergeo(lon = lons, lat = lats, mode = 'lines', line = dict(width = 0.8, color = 'black'), opacity = 0.7, showlegend = False),row=1, col=x)  \n",
    "    fig.add_trace(go.Scattergeo(lon = lon_coords, lat=lat_coords, mode='text', text=names, textfont=dict(size=12, color = \"rgba(0,0,0,0.7)\"), showlegend = False),row=1, col=x)\n",
    "    fig.add_scattergeo(geojson = eval(basins['geometry'].to_json()), locations = basins.index, text = basins['basin_name'], mode = 'text', showlegend = False,\n",
    "                       textfont=dict(size=11, color = \"rgba(0,0,0,0.3)\"),row=1, col=x)\n",
    "\n",
    "# Figure c -------------------------------------------------------------------------------------------------------------------\n",
    "fig.add_trace(go.Bar(y=data.index, x=data['delta_p'], orientation='h', text= delta_abs, insidetextfont = dict(size=15),\n",
    "                     marker= dict(color = data['delta_p'], colorscale = [cl[3], \"#ffe9ba\", cl[8]], showscale=False)), row=1, col=3)\n",
    "fig.update_traces(showlegend=False, opacity=0.9, textfont_size=15, textangle=0, textposition=\"outside\", marker_line_color='rgba(0,0,0,0.6)', marker_line_width=1, cliponaxis=False, row=1, col=3)\n",
    "fig.update_xaxes(title = \"Difference per zone (%)\", title_standoff = 0, zeroline = True, zerolinecolor = 'rgba(0,0,0,0.5)', zerolinewidth = 1, range = [-0.19,0.19], dtick = 0.1, tickformat = ',.0%', row=1, col=3)\n",
    "fig.update_yaxes(side = \"right\", categoryorder='array', categoryarray= ['CDI', 'GCN', 'SPI-S', 'SPI-C', 'SPI-N', 'NPI-W','NPI-E','PCA','PPY'], row=1, col=3)\n",
    "fig.update_traces(textposition='auto', row=1, col=3)\n",
    "fig.add_annotation(text=\"Absolute difference\", font=dict(size=14), x=-0.13, y=0.25, ax=30, showarrow=True, arrowhead=0, arrowcolor=\"#636363\", row=1, col=3)\n",
    "\n",
    "# Layout -------------------------------------------------------------------------------------------------------------------\n",
    "fig.update_xaxes(showline = True, linecolor = 'rgba(0,0,0,0.5)', linewidth = 1, ticks=\"outside\", griddash = \"dot\", mirror=True)\n",
    "fig.update_yaxes(showline = True, linecolor = 'rgba(0,0,0,0.5)', linewidth = 1, ticks=\"outside\", griddash = \"dot\", mirror=True)\n",
    "\n",
    "fig.update_geos(showframe = True, framewidth = 1, framecolor = \"rgba(0,0,0,0.5)\", lonaxis_range=[-76, -68], lataxis_range=[-55.8, -40.5], \n",
    "                bgcolor = \"rgb(255,255,255)\", showland = False, showcoastlines = False, showlakes = False)\n",
    "\n",
    "fig.add_annotation(text=\"(a)\", font=dict(size=16), x=0.005, y=0.995,  xref = \"paper\", yref = \"paper\", showarrow=False)\n",
    "fig.add_annotation(text=\"(b)\", font=dict(size=16), x=0.36, y=0.995,  xref = \"paper\", yref = \"paper\", showarrow=False)\n",
    "fig.add_annotation(text=\"(c)\", font=dict(size=16), x=0.70, y=0.995,  xref = \"paper\", yref = \"paper\", showarrow=False)\n",
    "\n",
    "fig.update_layout(autosize = False, width = 1150, height = 700, template = \"seaborn\", margin = dict(l=10, r=5, b=5, t=30))\n",
    "fig.show()\n",
    "\n",
    "#fig.write_image(\"/home/rooda/Dropbox/Patagonia/MS2 Results/Figure_4_thickness.png\", scale=4)"
   ]
  },
  {
   "cell_type": "markdown",
   "id": "0e2a95d1-104b-476c-b43d-33f8dab20617",
   "metadata": {
    "tags": []
   },
   "source": [
    "## Main text"
   ]
  },
  {
   "cell_type": "code",
   "execution_count": null,
   "id": "02d554b0-7dd8-4908-a733-83898116e5d4",
   "metadata": {
    "tags": []
   },
   "outputs": [],
   "source": [
    "\"The hydrological zones comprising the SPI have an ice volume of {:.0f} km3, representing {:.1f}% of the study area\".format(\n",
    "    data.vol_F19.iloc[6:].sum(), \n",
    "    data.vol_F19.iloc[6:].sum()*100/data.vol_F19.sum())"
   ]
  },
  {
   "cell_type": "code",
   "execution_count": null,
   "id": "365fc2cb-110a-4066-9dc0-8c7d625d1320",
   "metadata": {
    "tags": []
   },
   "outputs": [],
   "source": [
    "\"Conversely, the PPY, PCA, GCN and CDI zones accounted for only {:.1f}% of the total ice volume\".format(\n",
    "    (data.vol_F19.iloc[0:2].sum() + data.vol_F19.iloc[4:6].sum())*100/data.vol_F19.sum())"
   ]
  },
  {
   "cell_type": "code",
   "execution_count": null,
   "id": "1f02583e-586b-41a2-b623-eb82644ab4bb",
   "metadata": {
    "tags": []
   },
   "outputs": [],
   "source": [
    "\"The {:.1f}% of the study domain had a normalized thickness (ice volume divided by catchment area) of less than 1.0 m\".format(\n",
    "basins[(basins['vol_F19']/basins['basin_area'])*1000 < 1].basin_area.sum()*100/basins.basin_area.sum())"
   ]
  },
  {
   "cell_type": "code",
   "execution_count": null,
   "id": "f753f556-aa7b-4edd-9c82-2ff28c799503",
   "metadata": {},
   "outputs": [],
   "source": [
    "\"Based on RGI6, the M22 dataset showed more ice volume than the F19 dataset in {:.1f}% of the total glacier area\".format(\n",
    "    basins[basins['vol_M22'] > basins['vol_F19']].area_RGI6.sum()*100/basins.area_RGI6.sum())"
   ]
  },
  {
   "cell_type": "code",
   "execution_count": null,
   "id": "467604c0-d9cc-467a-a588-841b57be605f",
   "metadata": {},
   "outputs": [],
   "source": [
    "\"Overall difference of {:.1f}%\".format( (basins.vol_M22.sum() - basins.vol_F19.sum())*100/basins.vol_F19.sum())"
   ]
  },
  {
   "cell_type": "code",
   "execution_count": null,
   "id": "15683799-56fe-4b72-be25-30da2a019aae",
   "metadata": {
    "tags": []
   },
   "outputs": [],
   "source": [
    "\"The glacier area-weighted means of relative differences was {:.1f}%\".format(\n",
    "    (basins[\"diff\"] * basins.area_RGI6).sum() / basins.area_RGI6.sum()) "
   ]
  },
  {
   "cell_type": "code",
   "execution_count": null,
   "id": "b995541e-97ce-43c5-9b8d-75be421707a8",
   "metadata": {},
   "outputs": [],
   "source": []
  }
 ],
 "metadata": {
  "kernelspec": {
   "display_name": "Python 3 (ipykernel)",
   "language": "python",
   "name": "python3"
  },
  "language_info": {
   "codemirror_mode": {
    "name": "ipython",
    "version": 3
   },
   "file_extension": ".py",
   "mimetype": "text/x-python",
   "name": "python",
   "nbconvert_exporter": "python",
   "pygments_lexer": "ipython3",
   "version": "3.11.8"
  }
 },
 "nbformat": 4,
 "nbformat_minor": 5
}

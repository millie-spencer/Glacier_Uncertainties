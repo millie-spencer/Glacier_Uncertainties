{
 "cells": [
  {
   "cell_type": "markdown",
   "id": "caa1d417-8756-4484-a00b-52ae1a33790d",
   "metadata": {},
   "source": [
    "# Figure 5: Reference climate comparison between PMET, CR2MET, MSWEP and ERA5"
   ]
  },
  {
   "cell_type": "code",
   "execution_count": null,
   "id": "4497ef9a-1022-486a-8d4b-d97bd8961019",
   "metadata": {},
   "outputs": [],
   "source": [
    "# spatial libraries\n",
    "import shapely.geometry\n",
    "import rioxarray as rioxr\n",
    "import geopandas as gpd\n",
    "import xarray as xr\n",
    "\n",
    "import pandas as pd\n",
    "import numpy as np\n",
    "import os\n",
    "\n",
    "# plotting libraries\n",
    "from plotly.subplots import make_subplots\n",
    "import plotly.graph_objects as go\n",
    "import plotly.express as px\n",
    "\n",
    "os.chdir('/home/rooda/Dropbox/Patagonia/')"
   ]
  },
  {
   "cell_type": "markdown",
   "id": "fce21173-3e2d-496a-8812-f118b7dcacca",
   "metadata": {},
   "source": [
    "## Data"
   ]
  },
  {
   "cell_type": "code",
   "execution_count": null,
   "id": "f601b2b9-0c85-4586-b064-a0c2aae2e228",
   "metadata": {},
   "outputs": [],
   "source": [
    "# Catchment shapefiles\n",
    "basins = gpd.read_file(\"zip:////home/rooda/Dropbox/Patagonia/MS2 Results/zenodo/basins_boundaries.zip\")\n",
    "basins = basins[[\"basin_id\", \"geometry\"]].set_index(\"basin_id\")\n",
    "\n",
    "data = pd.read_csv(\"MS2 Results/zenodo/dataset_historical.csv\", index_col = \"basin_id\")\n",
    "data['basin_name']= data['basin_name'].replace({'Santa Cruz': 'Santa Cruz                          '})\n",
    "basins = pd.concat([basins, data], axis=1)"
   ]
  },
  {
   "cell_type": "code",
   "execution_count": null,
   "id": "6a98ad66-abe7-4880-bdb9-b89a84fa33af",
   "metadata": {
    "scrolled": true,
    "tags": []
   },
   "outputs": [],
   "source": [
    "# differences\n",
    "basins_diff = basins[['basin_name', \"basin_zone\", \"basin_area\", \"area_RGI6\"]].reset_index()\n",
    "basins_diff[\"PRSN_CR2MET\"] = ((basins.PRSN_CR2MET / basins.PRSN_PMET)-1).values\n",
    "basins_diff[\"PRSN_ERA5\"]   = ((basins.PRSN_ERA5   / basins.PRSN_PMET)-1).values\n",
    "basins_diff[\"PRSN_MSWEP\"]  = ((basins.PRSN_MSWEP  / basins.PRSN_PMET)-1).values\n",
    "\n",
    "basins_diff[\"T2M_CR2MET\"]  = (basins.T2M_CR2MET - basins.T2M_PMET).values\n",
    "basins_diff[\"T2M_ERA5\"]    = (basins.T2M_ERA5   - basins.T2M_PMET).values\n",
    "basins_diff[\"T2M_MSWEP\"]   = (basins.T2M_MSWEP  - basins.T2M_PMET).values\n",
    "\n",
    "basins_diff[\"PPD_CR2MET\"]  = ((basins.PPD_CR2MET / basins.PPD_PMET)-1).values\n",
    "basins_diff[\"PPD_ERA5\"]    = ((basins.PPD_ERA5   / basins.PPD_PMET)-1).values\n",
    "basins_diff[\"PPD_MSWEP\"]   = ((basins.PPD_MSWEP  / basins.PPD_PMET)-1).values\n",
    "\n",
    "basins_diff = basins_diff.replace([np.inf, -np.inf], np.nan)\n",
    "basins_diff.iloc[:,5:8] = basins_diff.iloc[:,5:8].where(basins_diff.iloc[:,5:8] < 2 , np.nan)\n",
    "basins_diff[\"area_RGI6_percent\"] = basins_diff[\"area_RGI6\"]/basins_diff.area_RGI6.sum()\n",
    "basins_diff_m = basins_diff.dropna(subset = ['basin_name'])"
   ]
  },
  {
   "cell_type": "code",
   "execution_count": null,
   "id": "dded0926-31b1-4ae7-a720-5fd7bb774632",
   "metadata": {
    "tags": []
   },
   "outputs": [],
   "source": [
    "# weighted-means\n",
    "df_wm = {'PRSN': [(basins_diff.PRSN_CR2MET * basins_diff.area_RGI6).sum()*100 / basins_diff.area_RGI6.sum(), \n",
    "               (basins_diff.PRSN_ERA5   * basins_diff.area_RGI6).sum()*100 / basins_diff.area_RGI6.sum(), \n",
    "               (basins_diff.PRSN_MSWEP  * basins_diff.area_RGI6).sum()*100 / basins_diff.area_RGI6.sum()], \n",
    "      'T2M':  [(basins_diff.T2M_CR2MET  * basins_diff.area_RGI6).sum() / basins_diff.area_RGI6.sum(), \n",
    "               (basins_diff.T2M_ERA5    * basins_diff.area_RGI6).sum() / basins_diff.area_RGI6.sum(), \n",
    "               (basins_diff.T2M_MSWEP   * basins_diff.area_RGI6).sum() / basins_diff.area_RGI6.sum()], \n",
    "      'PPD':  [(basins_diff.PPD_CR2MET  * basins_diff.area_RGI6).sum()*100 / basins_diff.area_RGI6.sum(), \n",
    "               (basins_diff.PPD_ERA5    * basins_diff.area_RGI6).sum()*100 / basins_diff.area_RGI6.sum(), \n",
    "               (basins_diff.PPD_MSWEP   * basins_diff.area_RGI6).sum()*100 / basins_diff.area_RGI6.sum()]}\n",
    "\n",
    "df_wm = pd.DataFrame(data=df_wm, index=[\"CR2MET\", \"ERA5\", \"MSWEP\"])"
   ]
  },
  {
   "cell_type": "markdown",
   "id": "4689c556-5a6b-4b96-a1fa-5661fcd5ce3f",
   "metadata": {
    "tags": []
   },
   "source": [
    "## Plot elements"
   ]
  },
  {
   "cell_type": "code",
   "execution_count": null,
   "id": "bedccd49-52c1-4f0b-9f3c-bacccd61ede1",
   "metadata": {
    "tags": []
   },
   "outputs": [],
   "source": [
    "# basemap for background\n",
    "geo_map = gpd.read_file(\"/home/rooda/Dropbox/ArcGIS/Chile/south_america.shp\")\n",
    "geo_map = geo_map[(geo_map.CC == \"CI\") | (geo_map.CC == \"AR\")]\n",
    "geo_map = geo_map.dissolve(by='REGION')\n",
    "geo_map[\"geometry\"] = geo_map.simplify(0.01)\n",
    "\n",
    "poly_gdf = shapely.geometry.Polygon([(-76, -55.7), (-76, -40.52), (-68.05, -40.52), (-68.05, -55.7), (-76, -55.8)])\n",
    "poly_gdf = gpd.GeoDataFrame([1], geometry=[poly_gdf], crs=geo_map.crs)\n",
    "\n",
    "geo_map = geo_map.clip(poly_gdf)"
   ]
  },
  {
   "cell_type": "code",
   "execution_count": null,
   "id": "30b00056-e385-41d2-9ea2-0cbb7f0b7611",
   "metadata": {},
   "outputs": [],
   "source": [
    "# hydrological zone divides\n",
    "geo_lines = gpd.read_file(\"/home/rooda/Dropbox/Patagonia/GIS South/Basins_Patagonia_ice_divides.shp\")\n",
    "\n",
    "lats = []\n",
    "lons = []\n",
    "\n",
    "for feature in geo_lines.geometry:\n",
    "    if isinstance(feature, shapely.geometry.linestring.LineString):\n",
    "        linestrings = [feature]\n",
    "    elif isinstance(feature, shapely.geometry.multilinestring.MultiLineString):\n",
    "        linestrings = feature.geoms\n",
    "    else:\n",
    "        continue\n",
    "    for linestring in linestrings:\n",
    "        x, y = linestring.xy\n",
    "        lats = np.append(lats, y)\n",
    "        lons = np.append(lons, x)\n",
    "        lats = np.append(lats, None)\n",
    "        lons = np.append(lons, None)\n",
    "        \n",
    "lat_coords = [-43.2, -45.95,  -46.4,  -47.55,  -49.2,   -50.5,   -52.0, -53.1, -54.8]\n",
    "lon_coords = [-71.2, -71.7,   -74.5,  -71.7,   -72.2,   -72.3,   -72.1, -71.7, -68.9]\n",
    "names      = [\"PPY\", \"PCA\", \"NPI-W\", \"NPI-E\", \"SPI-N\", \"SPI-C\", \"SPI-S\", \"GCN\", \"CDI\"]\n",
    "names  = ['<b>'+x+'</b>' for x in names]"
   ]
  },
  {
   "cell_type": "markdown",
   "id": "b55f325e-5d29-4ecb-a7fe-a1c500832cfe",
   "metadata": {
    "tags": []
   },
   "source": [
    "## Plot"
   ]
  },
  {
   "cell_type": "code",
   "execution_count": null,
   "id": "a443c2cb-5c33-431e-bd17-51a8d55f2768",
   "metadata": {
    "tags": []
   },
   "outputs": [],
   "source": [
    "fig = make_subplots(rows=3, cols=3, horizontal_spacing = 0.01, vertical_spacing = 0.02, column_widths = [0.36, 0.36, 0.31], shared_xaxes = True,\n",
    "                    subplot_titles = [\"Mean annual precipitation (PMET)\",\"Mean annual temperature (PMET)\", \"Relative difference to PMET\"],\n",
    "                    specs=[[{\"type\": \"scattergeo\", \"rowspan\": 3}, {\"type\": \"scattergeo\", \"rowspan\": 3}, {\"type\": \"histogram\"}],\n",
    "                           [          None,                                      None,                  {\"type\": \"histogram\"}],\n",
    "                           [          None,                                      None,                  {\"type\": \"histogram\"}]])\n",
    "\n",
    "cl = px.colors.colorbrewer.RdYlBu\n",
    "cs = px.colors.colorbrewer.GnBu\n",
    "\n",
    "## Basemap\n",
    "for x in range(1,3):\n",
    "    fig.add_trace(go.Choropleth(geojson = eval(geo_map['geometry'].to_json()),  locations = geo_map.index, z = geo_map['iso_num'], \n",
    "                            colorscale = [\"#EAEAF2\", \"#EAEAF2\"], showscale= False, marker_line_color ='white', marker_line_width=0.1), row=1, col=x)\n",
    "\n",
    "# Precipitation mean change (a) -----------------------------------------------------------------------------------------------------------\n",
    "fig.add_trace(go.Choropleth(geojson = eval(basins['geometry'].to_json()),  locations = basins.index, z = basins['PP_PMET'], \n",
    "                            colorscale = [cs[2], cs[4], cs[8]], marker_line_color ='white', marker_line_width=0.1, \n",
    "                            zmin = 1000, zmax = 8000, colorbar=dict(len=0.45, x=0.24, y= 0.77, title='Precipitation', ticksuffix = \" mm\", thickness=20)), row=1, col=1)\n",
    "fig.add_annotation(text=\"(a)\", font=dict(size=16), x=0.005, y=0.995,  xref = \"paper\", yref = \"paper\", showarrow=False)\n",
    "\n",
    "\n",
    "# Temperature mean change (b) -----------------------------------------------------------------------------------------------------------\n",
    "fig.add_trace(go.Choropleth(geojson = eval(basins['geometry'].to_json()), locations = basins.index, z = basins['T2M_PMET'], \n",
    "                            colorscale=[\"#ffe9ba\", cl[3],  cl[1]], marker_line_color='white', marker_line_width=0.1, \n",
    "                            zmin = -1, zmax = 8, colorbar=dict(len=0.45, x=0.59, y= 0.77, title='Temperature', ticksuffix = \" ºC\", thickness=20)), row=1, col=2)\n",
    "fig.add_annotation(text=\"(b)\", font=dict(size=16), x=0.367, y=0.995,  xref = \"paper\", yref = \"paper\", showarrow=False)\n",
    "\n",
    "# layout a) and b) ---------------------------------------------------------------------------------------------------------------------\n",
    "for x in range(1,3):\n",
    "    ## Add basin and hydrological zone names plus the hydro zone divides\n",
    "    fig.add_trace(go.Scattergeo(lon = lons, lat = lats, mode = 'lines', line = dict(width = 0.8, color = 'black'), opacity = 0.7, showlegend = False),row=1, col=x)  \n",
    "    fig.add_trace(go.Scattergeo(lon = lon_coords, lat=lat_coords, mode='text', text=names, textfont=dict(size=12, color = \"rgba(0,0,0,0.7)\"), showlegend = False),row=1, col=x)\n",
    "    fig.add_scattergeo(geojson = eval(basins['geometry'].to_json()), locations = basins.index, text = basins['basin_name'], mode = 'text', showlegend = False,\n",
    "                       textfont=dict(size=11, color = \"rgba(0,0,0,0.3)\"),row=1, col=x)\n",
    "\n",
    "fig.update_geos(showframe = True, framewidth = 1,  framecolor = \"black\", lonaxis_range=[-76, -68], lataxis_range=[-55.8, -40.5], \n",
    "                bgcolor = \"rgb(255,255,255)\", showland = False, showcoastlines = False, showlakes = False)\n",
    "\n",
    "# Solid precipitation spread (c) -----------------------------------------------------------------------------------------------------------\n",
    "fig.add_trace(go.Scatter(y = basins_diff.sort_values(\"PRSN_CR2MET\").PRSN_CR2MET, x = basins_diff.sort_values(\"PRSN_CR2MET\").area_RGI6_percent.cumsum(), \n",
    "                         marker_color = cl[1],  name = \"CR2MET\",  showlegend = False), row=1, col=3)\n",
    "\n",
    "fig.add_trace(go.Scatter(y = basins_diff.sort_values(\"PRSN_ERA5\").PRSN_ERA5, x = basins_diff.sort_values(\"PRSN_ERA5\").area_RGI6_percent.cumsum(), \n",
    "                         marker_color = cl[3], name = \"ERA5\",  showlegend = False), row=1, col=3)\n",
    "\n",
    "fig.add_trace(go.Scatter(y = basins_diff.sort_values(\"PRSN_MSWEP\").PRSN_MSWEP, x = basins_diff.sort_values(\"PRSN_MSWEP\").area_RGI6_percent.cumsum(), \n",
    "                         marker_color = cl[9], name = \"MSWEP\",  showlegend = False), row=1, col=3)\n",
    "\n",
    "fig.update_xaxes(dtick = 0.25, row = 1, col = 3)\n",
    "fig.update_yaxes(range = [-1,1], title_text=\"Δ Solid precpitation (%)\", side = \"right\", title_standoff = 0, tickangle = 0, tickformat = ',.0%', row = 1, col = 3)\n",
    "fig.add_annotation(text=\"(c)\", font=dict(size=16), x=0.03, y=0.90, showarrow=False, row=1, col=3)\n",
    "fig.add_annotation(text=\"ERA5 ({:.1f}%)\".format(df_wm.PRSN[\"ERA5\"]),   font=dict(size=14, color = cl[3]), x=0.35, y=0.57, textangle=-12, showarrow=False, row=1, col=3)\n",
    "fig.add_annotation(text=\"CR2MET ({:.1f}%)\".format(df_wm.PRSN[\"CR2MET\"]), font=dict(size=14, color = cl[1]), x=0.35, y=-0.20, textangle=-20, showarrow=False, row=1, col=3)\n",
    "fig.add_annotation(text=\"MSWEP ({:.1f}%)\".format(df_wm.PRSN[\"MSWEP\"]),  font=dict(size=14, color = cl[9]), x=0.35, y=-0.55, textangle=-5, showarrow=False, row=1, col=3)\n",
    "\n",
    "# Air temperature (d) -----------------------------------------------------------------------------------------------------------\n",
    "fig.add_trace(go.Scatter(y = basins_diff.sort_values(\"T2M_CR2MET\").T2M_CR2MET, x = basins_diff.sort_values(\"T2M_CR2MET\").area_RGI6_percent.cumsum(), \n",
    "                         marker_color = cl[1], name = \"CR2MET\",  showlegend = False), row=2, col=3)\n",
    "\n",
    "fig.add_trace(go.Scatter(y = basins_diff.sort_values(\"T2M_ERA5\").T2M_ERA5, x = basins_diff.sort_values(\"T2M_ERA5\").area_RGI6_percent.cumsum(), \n",
    "                         marker_color = cl[3], name = \"ERA5\", showlegend = False), row=2, col=3)\n",
    "\n",
    "fig.add_trace(go.Scatter(y = basins_diff.sort_values(\"T2M_MSWEP\").T2M_MSWEP, x = basins_diff.sort_values(\"T2M_MSWEP\").area_RGI6_percent.cumsum(), \n",
    "                         marker_color = cl[9], name = \"MSWEP\", showlegend = False), row=2, col=3)\n",
    "\n",
    "fig.update_xaxes(dtick = 0.25, row = 2, col = 3)\n",
    "fig.update_yaxes(range = [-3,3], title_text=\"Δ Air temperature (°C)\", side = \"right\", title_standoff = 25, tickangle = 0, row = 2, col = 3)\n",
    "fig.add_annotation(text=\"(d)\", font=dict(size=16), x=0.03, y=2.5, showarrow=False, row=2, col=3)\n",
    "fig.add_annotation(text=\"ERA5 ({:.1f}°C)\".format(df_wm.T2M[\"ERA5\"]),   font=dict(size=14, color = cl[3]), x=0.45, y=-1.7, textangle=-5, showarrow=False, row=2, col=3)\n",
    "fig.add_annotation(text=\"CR2MET ({:.1f}°C)\".format(df_wm.T2M[\"CR2MET\"]), font=dict(size=14, color = cl[1]), x=0.45, y=-0.4, textangle=-15, showarrow=False, row=2, col=3)\n",
    "fig.add_annotation(text=\"MSWEP ({:.1f}°C)\".format(df_wm.T2M[\"MSWEP\"]),  font=dict(size=14, color = cl[9]), x=0.45, y=0.62, textangle=-12, showarrow=False, row=2, col=3)\n",
    "\n",
    "# Positive degree-day sum (e) -----------------------------------------------------------------------------------------------------------\n",
    "fig.add_trace(go.Scatter(y = basins_diff.sort_values(\"PPD_CR2MET\").PPD_CR2MET, x = basins_diff.sort_values(\"PPD_CR2MET\").area_RGI6_percent.cumsum(), \n",
    "                         marker_color = cl[1], name = \"CR2MET\",  showlegend = False), row=3, col=3)\n",
    "\n",
    "fig.add_trace(go.Scatter(y = basins_diff.sort_values(\"PPD_ERA5\").PPD_ERA5, x = basins_diff.sort_values(\"PPD_ERA5\").area_RGI6_percent.cumsum(), \n",
    "                         marker_color = cl[3], name = \"ERA5\",  showlegend = False), row=3, col=3)\n",
    "\n",
    "fig.add_trace(go.Scatter(y = basins_diff.sort_values(\"PPD_MSWEP\").PPD_MSWEP, x = basins_diff.sort_values(\"PPD_MSWEP\").area_RGI6_percent.cumsum(), \n",
    "                         marker_color = cl[9], name = \"MSWEP\",  showlegend = False), row=3, col=3)\n",
    "\n",
    "fig.update_xaxes(range = [-0.02,1.02], title_text=\"Probability of exceedance (glacier area; %)\", title_standoff = 0, dtick = 0.25, tickangle = 0, tickformat = ',.0%', row = 3, col = 3)\n",
    "fig.update_yaxes(range = [-1,1], title_text=\"Δ Positive degree-day sum (%)\", side = \"right\", title_standoff = 0, tickangle = 0, tickformat = ',.0%', row = 3, col = 3)\n",
    "fig.add_annotation(text=\"(e)\", font=dict(size=16), x=0.03, y=0.90, showarrow=False, row=3, col=3)\n",
    "fig.add_annotation(text=\"ERA5 ({:.1f}%)\".format(df_wm.PPD[\"ERA5\"]),   font=dict(size=14, color = cl[3]), x=0.4, y=-0.40, textangle=-5, showarrow=False, row=3, col=3)\n",
    "fig.add_annotation(text=\"CR2MET ({:.1f}%)\".format(df_wm.PPD[\"CR2MET\"]), font=dict(size=14, color = cl[1]), x=0.35, y=0.20, textangle=-12, showarrow=False, row=3, col=3)\n",
    "fig.add_annotation(text=\"MSWEP ({:.1f}%)\".format(df_wm.PPD[\"MSWEP\"]),  font=dict(size=14, color = cl[9]), x=0.35, y=-0.15, textangle=-9, showarrow=False, row=3, col=3)\n",
    "\n",
    "# layout c, d and e\n",
    "fig.update_traces(line = dict(width = 2), opacity = 0.7, row = 1, col = 3)\n",
    "fig.update_traces(line = dict(width = 2), opacity = 0.7, row = 2, col = 3)\n",
    "fig.update_traces(line = dict(width = 2), opacity = 0.7, row = 3, col = 3)\n",
    "fig.update_xaxes(griddash = \"dot\", gridcolor = \"rgba(255,255,255,0.8)\", zeroline=False, showline = True, linecolor = 'black', linewidth = 1, ticks=\"outside\", mirror=True)\n",
    "fig.update_yaxes(griddash = \"dot\", gridcolor = \"rgba(255,255,255,0.8)\", zeroline=True,  showline = True, linecolor = 'black', linewidth = 1, ticks=\"outside\", mirror=True)\n",
    "\n",
    "# general \n",
    "fig.update_layout(autosize = False, template = \"seaborn\", width = 1000, height = 670, margin = dict(l=10, r=5, b=5, t=30, pad=0, autoexpand=True))\n",
    "fig.show()\n",
    "\n",
    "fig.write_image(\"/home/rooda/Dropbox/Patagonia/MS2 Results/Figure_5_climate.png\", scale=4)"
   ]
  },
  {
   "cell_type": "code",
   "execution_count": null,
   "id": "ddf19fee-7254-442b-9e4f-c6056162f71f",
   "metadata": {},
   "outputs": [],
   "source": [
    "\"Mean precipitation was greater than 4,000 mm yr-1 over {:.1f}% of the glacier area, and {:.1f}% of the glacier area showed an mean temperature above 0 ºC\".format(\n",
    "    basins[basins[\"PP_PMET\"] > 4000].area_RGI6.sum()*100 / basins.area_RGI6.sum(),\n",
    "    basins[basins[\"T2M_PMET\"] > 0].area_RGI6.sum()*100 / basins.area_RGI6.sum())"
   ]
  },
  {
   "cell_type": "code",
   "execution_count": null,
   "id": "c33f877f-e475-43b7-9943-b9d5f1e71916",
   "metadata": {
    "tags": []
   },
   "outputs": [],
   "source": [
    "\"In relation to PMET, the glacier area-weighted means of solid precipitation were {:.1f}%, {:.1f}% and {:.1f}%, for CR2MET, ERA5 and MSWEP, respectively\".format(\n",
    "    df_wm.PRSN[\"CR2MET\"], df_wm.PRSN[\"ERA5\"], df_wm.PRSN[\"MSWEP\"]) "
   ]
  },
  {
   "cell_type": "code",
   "execution_count": null,
   "id": "f582b8f7-56b9-4cec-a448-f436e829aede",
   "metadata": {},
   "outputs": [],
   "source": [
    "\"In relation to PMET, the glacier area-weighted means of temperature were {:.2f}ºC, {:.2f}ºC and {:.2f}ºC, for CR2MET, ERA5 and MSWEP, respectively\".format(\n",
    "    df_wm.T2M[\"CR2MET\"], df_wm.T2M[\"ERA5\"], df_wm.T2M[\"MSWEP\"]) "
   ]
  },
  {
   "cell_type": "code",
   "execution_count": null,
   "id": "dbeeb72a-96ba-490f-a873-c8d87328de6e",
   "metadata": {
    "tags": []
   },
   "outputs": [],
   "source": [
    "\"In relation to PMET, the glacier area-weighted means of PPD were {:.1f}%, {:.1f}% and {:.1f}%, for CR2MET, ERA5 and MSWEP, respectively\".format(\n",
    "    df_wm.PPD[\"CR2MET\"], df_wm.PPD[\"ERA5\"], df_wm.PPD[\"MSWEP\"]) "
   ]
  },
  {
   "cell_type": "code",
   "execution_count": null,
   "id": "b8b70c28-de9c-4e25-a092-742d1e8b3527",
   "metadata": {},
   "outputs": [],
   "source": []
  }
 ],
 "metadata": {
  "kernelspec": {
   "display_name": "Python 3 (ipykernel)",
   "language": "python",
   "name": "python3"
  },
  "language_info": {
   "codemirror_mode": {
    "name": "ipython",
    "version": 3
   },
   "file_extension": ".py",
   "mimetype": "text/x-python",
   "name": "python",
   "nbconvert_exporter": "python",
   "pygments_lexer": "ipython3",
   "version": "3.11.8"
  }
 },
 "nbformat": 4,
 "nbformat_minor": 5
}

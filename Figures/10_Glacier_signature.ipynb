{
 "cells": [
  {
   "cell_type": "markdown",
   "id": "789db941-91ac-4e20-bed3-f7251f1a17c9",
   "metadata": {},
   "source": [
    "# Figure 10: Glacier signature uncertainty"
   ]
  },
  {
   "cell_type": "code",
   "execution_count": null,
   "id": "cbba8af2-7f80-4c89-b922-0f937b328bc9",
   "metadata": {},
   "outputs": [],
   "source": [
    "import numpy as np\n",
    "import pandas as pd\n",
    "import geopandas as gpd\n",
    "\n",
    "import os\n",
    "from glob import glob\n",
    "from oggm import utils\n",
    "\n",
    "import plotly.express as px\n",
    "import plotly.graph_objects as go\n",
    "from   plotly.subplots import make_subplots\n",
    "\n",
    "cl = px.colors.qualitative.D3\n",
    "os.chdir('/home/rooda/Dropbox/Patagonia/')"
   ]
  },
  {
   "cell_type": "markdown",
   "id": "a04e2158-4e7c-45b7-9767-8efd4cd9bf7c",
   "metadata": {},
   "source": [
    "## Data"
   ]
  },
  {
   "cell_type": "code",
   "execution_count": null,
   "id": "3dcf940c-05f8-4a81-bd3c-2c2758cfbc3f",
   "metadata": {
    "tags": []
   },
   "outputs": [],
   "source": [
    "# basin data\n",
    "basins = gpd.read_file(\"GIS South/Basins_Patagonia_ice.shp\")\n",
    "basins = basins.set_index(\"ID\")\n",
    "\n",
    "basin_names = [\"Yelcho\", \"Baker\", \"Santa Cruz\", \"Palena\", \"Grey\", \"Puelo\", \"Cisnes\", \"Aysen\", \"Pascua\"] \n",
    "basins.loc[basins.basin_area > 5000, \"Name\"] = basin_names\n",
    "basins = basins.dropna(subset = ['Name'])"
   ]
  },
  {
   "cell_type": "code",
   "execution_count": null,
   "id": "6b0e0279-34db-457c-9db2-c6afb873ae0c",
   "metadata": {
    "tags": []
   },
   "outputs": [],
   "source": [
    "# feature importance data\n",
    "data = pd.read_csv(\"MS2 Results/feature_importance_rmse.csv\", index_col = \"ID\")\n",
    "data_main = data[data.index.isin(basins.index)]"
   ]
  },
  {
   "cell_type": "code",
   "execution_count": null,
   "id": "b28aa13e-9462-494e-92a7-d6aa8a76c077",
   "metadata": {},
   "outputs": [],
   "source": [
    "metrics = data.Metric.unique()\n",
    "metrics = metrics.reshape(2,5)\n",
    "\n",
    "titles = ['Reference magnitude', 'Peak water year', 'Peak water magnitude', 'Peak water duration', 'Inter-annual variability', \n",
    "          'Seasonal contribution', 'Seasonal variability', 'Seasonal shift', 'Long-term trend', 'Long-term change']\n",
    "\n",
    "fig = make_subplots(rows=2, cols=5, horizontal_spacing = 0.01, vertical_spacing = 0.07, shared_yaxes = True, \n",
    "                    subplot_titles = titles, x_title='Feature importance (% of RMSE loss after permutations)')\n",
    "\n",
    "# a to e) Boxplot -----------------------------------------------------------------------------------------------------------\n",
    "for y in range (0,2):\n",
    "    for x in range(0,5):   \n",
    "        \n",
    "        # melt on glacier\n",
    "        data_xy = data[(data.Metric == metrics[y,x]) & (data.Variable == \"melt_on_glacier\")]\n",
    "        data_main_xy = data_main[(data_main.Metric == metrics[y,x]) & (data_main.Variable == \"melt_on_glacier\")]\n",
    "\n",
    "        fig.add_trace(go.Box(x = data_xy.Outline, name = \"Geometry\",  marker_color=cl[3], marker = dict(size= 3), opacity=0.4, offsetgroup= \"A\", showlegend = False, boxmean=True), row=y+1, col=x+1)\n",
    "        fig.add_trace(go.Box(x = data_xy.Volume,  name = \"Volume\",    marker_color=cl[1], marker = dict(size= 3), opacity=0.4, offsetgroup= \"A\", showlegend = False, boxmean=True), row=y+1, col=x+1)\n",
    "        fig.add_trace(go.Box(x = data_xy.Climate, name = \"Climate\",   marker_color=cl[2], marker = dict(size= 3), opacity=0.4, offsetgroup= \"A\", showlegend = False, boxmean=True), row=y+1, col=x+1)\n",
    "        fig.add_trace(go.Box(x = data_xy.GCM,     name = \"GCM\",       marker_color=cl[0], marker = dict(size= 3), opacity=0.4, offsetgroup= \"A\", showlegend = False, boxmean=True), row=y+1, col=x+1)\n",
    "        fig.add_trace(go.Box(x = data_xy.SSP,     name = \"SSP\",       marker_color=cl[4], marker = dict(size= 3), opacity=0.4, offsetgroup= \"A\", showlegend = False, boxmean=True), row=y+1, col=x+1)\n",
    "        fig.add_trace(go.Box(x = data_xy.BCM,     name = \"BCM\",       marker_color=cl[5], marker = dict(size= 3), opacity=0.4, offsetgroup= \"A\", showlegend = False, boxmean=True), row=y+1, col=x+1)\n",
    "  \n",
    "        # total runoff\n",
    "        data_xy = data[(data.Metric == metrics[y,x]) & (data.Variable == \"total_runoff\")]\n",
    "        data_main_xy = data_main[(data_main.Metric == metrics[y,x]) & (data_main.Variable == \"total_runoff\")]\n",
    "\n",
    "        fig.add_trace(go.Box(x = data_xy.Outline, name = \"Geometry\",  marker_color=cl[3], marker = dict(size= 3), opacity=0.8, offsetgroup= \"b\", showlegend = False, boxmean=True), row=y+1, col=x+1)\n",
    "        fig.add_trace(go.Box(x = data_xy.Volume,  name = \"Volume\",    marker_color=cl[1], marker = dict(size= 3), opacity=0.8, offsetgroup= \"b\", showlegend = False, boxmean=True), row=y+1, col=x+1)\n",
    "        fig.add_trace(go.Box(x = data_xy.Climate, name = \"Climate\",   marker_color=cl[2], marker = dict(size= 3), opacity=0.8, offsetgroup= \"b\", showlegend = False, boxmean=True), row=y+1, col=x+1)\n",
    "        fig.add_trace(go.Box(x = data_xy.GCM,     name = \"GCM\",       marker_color=cl[0], marker = dict(size= 3), opacity=0.8, offsetgroup= \"b\", showlegend = False, boxmean=True), row=y+1, col=x+1)\n",
    "        fig.add_trace(go.Box(x = data_xy.SSP,     name = \"SSP\",       marker_color=cl[4], marker = dict(size= 3), opacity=0.8, offsetgroup= \"b\", showlegend = False, boxmean=True), row=y+1, col=x+1)\n",
    "        fig.add_trace(go.Box(x = data_xy.BCM,     name = \"BCM\",       marker_color=cl[5], marker = dict(size= 3), opacity=0.8, offsetgroup= \"b\", showlegend = False, boxmean=True), row=y+1, col=x+1)\n",
    "    \n",
    "fig.add_annotation(text=\"Total runoff\", font=dict(size=12),  arrowhead=0, arrowwidth=1, arrowcolor=\"rgb(30,30,30)\", ax=40, x=0.05, y=4.2, showarrow=True, row=1, col=1)\n",
    "fig.add_annotation(text=\"Melt on glacier\", font=dict(size=12),  arrowhead=0, arrowwidth=1, arrowcolor=\"rgb(30,30,30)\", ax=70, x=0.05, y=3.8, showarrow=True, row=1, col=1)\n",
    "\n",
    "fig.update_xaxes(range = [-0.12, 0.85], row = 1, col = 2)\n",
    "fig.update_xaxes(range = [-0.15, 0.8], row = 2, col = 2)\n",
    "fig.update_xaxes(range = [-0.1, 0.6], row = 2, col = 3)\n",
    "fig.update_xaxes(range = [-0.20, 0.8], row = 2, col = 4)\n",
    "fig.update_xaxes(range = [-0.05, 0.7], row = 2, col = 5)\n",
    "\n",
    "# general \n",
    "fig.update_layout(boxmode='group', boxgap=0.2)\n",
    "fig.update_layout(plot_bgcolor=\"rgba(213,213,213,0.6)\")\n",
    "fig.update_layout(width = 900, height =900, template = \"seaborn\", autosize = False, margin = dict(l=10, r=10, b=50, t=30, pad=0, autoexpand=True))\n",
    "fig.update_xaxes(griddash = \"dot\", gridcolor = \"rgba(255,255,255,0.8)\", zeroline=False, showline = True, linecolor = 'black', linewidth = 1, tickformat = ',.0%', dtick = 0.3, ticks=\"outside\", mirror=True)\n",
    "fig.update_yaxes(griddash = \"dot\", gridcolor = \"rgba(255,255,255,0.8)\", zeroline=True,  showline = True, linecolor = 'black', linewidth = 1, mirror=True)\n",
    "\n",
    "fig.write_image(\"/home/rooda/Dropbox/Patagonia/MS2 Results/Figure_10_signature.png\", scale=4)\n",
    "fig.show()"
   ]
  }
 ],
 "metadata": {
  "kernelspec": {
   "display_name": "Python 3 (ipykernel)",
   "language": "python",
   "name": "python3"
  },
  "language_info": {
   "codemirror_mode": {
    "name": "ipython",
    "version": 3
   },
   "file_extension": ".py",
   "mimetype": "text/x-python",
   "name": "python",
   "nbconvert_exporter": "python",
   "pygments_lexer": "ipython3",
   "version": "3.10.10"
  },
  "toc-autonumbering": false
 },
 "nbformat": 4,
 "nbformat_minor": 5
}

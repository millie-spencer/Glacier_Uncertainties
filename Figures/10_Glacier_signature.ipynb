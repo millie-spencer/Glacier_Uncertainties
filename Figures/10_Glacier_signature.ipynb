{
 "cells": [
  {
   "cell_type": "markdown",
   "id": "789db941-91ac-4e20-bed3-f7251f1a17c9",
   "metadata": {},
   "source": [
    "# Figure 10: Glacier signature uncertainty"
   ]
  },
  {
   "cell_type": "code",
   "execution_count": null,
   "id": "cbba8af2-7f80-4c89-b922-0f937b328bc9",
   "metadata": {},
   "outputs": [],
   "source": [
    "import numpy as np\n",
    "import pandas as pd\n",
    "import geopandas as gpd\n",
    "\n",
    "import os\n",
    "from glob import glob\n",
    "from oggm import utils\n",
    "\n",
    "import plotly.express as px\n",
    "import plotly.graph_objects as go\n",
    "from   plotly.subplots import make_subplots\n",
    "\n",
    "cl = px.colors.qualitative.D3\n",
    "os.chdir('/home/rooda/Dropbox/Patagonia/')"
   ]
  },
  {
   "cell_type": "markdown",
   "id": "a04e2158-4e7c-45b7-9767-8efd4cd9bf7c",
   "metadata": {},
   "source": [
    "## Data"
   ]
  },
  {
   "cell_type": "code",
   "execution_count": null,
   "id": "3dcf940c-05f8-4a81-bd3c-2c2758cfbc3f",
   "metadata": {
    "tags": []
   },
   "outputs": [],
   "source": [
    "basins = gpd.read_file(\"GIS South/Basins_Patagonia_ice.shp\")\n",
    "basins = basins.set_index(\"ID\")\n",
    "\n",
    "basin_names = [\"Yelcho\", \"Baker\", \"Santa Cruz\", \"Palena\", \"Grey\", \"Puelo\", \"Cisnes\", \"Aysen\", \"Pascua\"] \n",
    "basins.loc[basins.basin_area > 5000, \"Name\"] = basin_names\n",
    "basins = basins.dropna(subset = ['Name'])"
   ]
  },
  {
   "cell_type": "code",
   "execution_count": null,
   "id": "70b79871-2b2e-4238-aa0b-4bb5806f65f3",
   "metadata": {
    "tags": []
   },
   "outputs": [],
   "source": [
    "dict_replace = {\"Metric\": {\"peak_water_year\" : 'Timing', \n",
    "                           \"peak_magnitude\"  : 'Magnitude',\n",
    "                            \"frecuency\"      : 'Frecuency',\n",
    "                            \"rate_of_change\" : 'Rate of change',\n",
    "                            \"duration\"       : 'Duration'}}\n",
    "\n",
    "data = pd.read_csv(\"MS2 Results/variable_importance.csv\", index_col = \"ID\")\n",
    "data = data.replace(dict_replace)\n",
    "\n",
    "# only major basins\n",
    "data_main = data[data.index.isin(basins.index)]"
   ]
  },
  {
   "cell_type": "code",
   "execution_count": null,
   "id": "8c69001c-5722-4709-a70d-7b5c5da78330",
   "metadata": {},
   "outputs": [],
   "source": [
    "metrics = data.Metric.unique()\n",
    "\n",
    "fig = make_subplots(rows=1, cols=5, horizontal_spacing = 0.01, vertical_spacing = 0.01, shared_yaxes = True,\n",
    "                    subplot_titles = metrics, x_title='Permutation importance (RMSE)')\n",
    "\n",
    "# a to e) Boxplot -----------------------------------------------------------------------------------------------------------\n",
    "for x in range(0,5):\n",
    "    data_x = data[data.Metric == metrics[x]]\n",
    "    data_main_x = data_main[data_main.Metric == metrics[x]]\n",
    "    fig.add_trace(go.Violin(x = data_x.Outline, name = \"Geometry\",  marker_color=cl[3], opacity=0.7, showlegend = False, points = False), row=1, col=x+1)\n",
    "    fig.add_trace(go.Violin(x = data_x.Volume,  name = \"Volume\",    marker_color=cl[1], opacity=0.7, showlegend = False, points = False), row=1, col=x+1)\n",
    "    fig.add_trace(go.Violin(x = data_x.Climate, name = \"Climate\",   marker_color=cl[2], opacity=0.7, showlegend = False, points = False), row=1, col=x+1)\n",
    "    fig.add_trace(go.Violin(x = data_x.GCM,     name = \"GCM\",       marker_color=cl[0], opacity=0.7, showlegend = False, points = False), row=1, col=x+1)\n",
    "    fig.add_trace(go.Violin(x = data_x.SSP,     name = \"SSP\",       marker_color=cl[4], opacity=0.7, showlegend = False, points = False), row=1, col=x+1)\n",
    "    fig.add_trace(go.Violin(x = data_x.BCM,     name = \"BCM\",       marker_color=cl[5], opacity=0.7, showlegend = False, points = False), row=1, col=x+1)\n",
    "    fig.add_trace(go.Violin(x = data_main_x.Outline, name = \"Geometry\", marker_color=cl[3], opacity=0.9, line_color= \"rgba(255,255,255,0)\", fillcolor= \"rgba(255,255,255,0)\",  points=\"all\", showlegend = False), row=1, col=x+1)\n",
    "    fig.add_trace(go.Violin(x = data_main_x.Volume,  name = \"Volume\",   marker_color=cl[1], opacity=0.9, line_color= \"rgba(255,255,255,0)\", fillcolor= \"rgba(255,255,255,0)\",  points=\"all\", showlegend = False), row=1, col=x+1)\n",
    "    fig.add_trace(go.Violin(x = data_main_x.Climate, name = \"Climate\",  marker_color=cl[2], opacity=0.9, line_color= \"rgba(255,255,255,0)\", fillcolor= \"rgba(255,255,255,0)\",  points=\"all\", showlegend = False), row=1, col=x+1)\n",
    "    fig.add_trace(go.Violin(x = data_main_x.GCM,     name = \"GCM\",      marker_color=cl[0], opacity=0.9, line_color= \"rgba(255,255,255,0)\", fillcolor= \"rgba(255,255,255,0)\",  points=\"all\", showlegend = False), row=1, col=x+1)\n",
    "    fig.add_trace(go.Violin(x = data_main_x.SSP,     name = \"SSP\",      marker_color=cl[4], opacity=0.9, line_color= \"rgba(255,255,255,0)\", fillcolor= \"rgba(255,255,255,0)\",  points=\"all\", showlegend = False), row=1, col=x+1)\n",
    "    fig.add_trace(go.Violin(x = data_main_x.BCM,     name = \"BCM\",      marker_color=cl[5], opacity=0.9, line_color= \"rgba(255,255,255,0)\", fillcolor= \"rgba(255,255,255,0)\",  points=\"all\", showlegend = False), row=1, col=x+1)\n",
    "\n",
    "\n",
    "fig.update_traces(box_visible=True, width=0.7, meanline_visible=True, pointpos = 0.8, jitter = 0.2)\n",
    "fig.update_xaxes(range = [-4,20], row = 1, col = 1)\n",
    "fig.update_xaxes(range = [-30,150], row = 1, col = 2)\n",
    "fig.update_xaxes(range = [-3,15], row = 1, col = 3)\n",
    "fig.update_xaxes(range = [-1,10], row = 1, col = 4)\n",
    "fig.update_xaxes(range = [-2,10], row = 1, col = 5)   \n",
    "    \n",
    "# general \n",
    "fig.update_layout(plot_bgcolor=\"rgba(213,213,213,0.4)\")\n",
    "fig.update_layout(width = 900, height = 450, template = \"seaborn\", autosize = False, margin = dict(l=0, r=0, b=50, t=30, pad=0, autoexpand=True))\n",
    "fig.update_xaxes(griddash = \"dot\", gridcolor = \"rgba(255,255,255,0.8)\", zeroline=False, showline = True, ticks=\"outside\")\n",
    "fig.update_yaxes(griddash = \"dot\", gridcolor = \"rgba(255,255,255,0.8)\", zeroline=True,  showline = True, ticks=\"outside\")\n",
    "\n",
    "fig.write_image(\"/home/rooda/Dropbox/Patagonia/MS2 Results/Figure_10_signature.png\", scale=4)\n",
    "fig.show()    "
   ]
  }
 ],
 "metadata": {
  "kernelspec": {
   "display_name": "Python 3 (ipykernel)",
   "language": "python",
   "name": "python3"
  },
  "language_info": {
   "codemirror_mode": {
    "name": "ipython",
    "version": 3
   },
   "file_extension": ".py",
   "mimetype": "text/x-python",
   "name": "python",
   "nbconvert_exporter": "python",
   "pygments_lexer": "ipython3",
   "version": "3.10.10"
  },
  "toc-autonumbering": false
 },
 "nbformat": 4,
 "nbformat_minor": 5
}

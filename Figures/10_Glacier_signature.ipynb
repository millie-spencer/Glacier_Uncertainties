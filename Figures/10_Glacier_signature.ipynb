{
 "cells": [
  {
   "cell_type": "markdown",
   "id": "789db941-91ac-4e20-bed3-f7251f1a17c9",
   "metadata": {},
   "source": [
    "# Figure 10: Glacier signature uncertainty"
   ]
  },
  {
   "cell_type": "code",
   "execution_count": null,
   "id": "cbba8af2-7f80-4c89-b922-0f937b328bc9",
   "metadata": {},
   "outputs": [],
   "source": [
    "import numpy as np\n",
    "import pandas as pd\n",
    "import geopandas as gpd\n",
    "\n",
    "import os\n",
    "from glob import glob\n",
    "\n",
    "import plotly.express as px\n",
    "import plotly.graph_objects as go\n",
    "from   plotly.subplots import make_subplots\n",
    "\n",
    "cl = px.colors.qualitative.D3\n",
    "os.chdir('/home/rooda/Dropbox/Patagonia/')"
   ]
  },
  {
   "cell_type": "markdown",
   "id": "a04e2158-4e7c-45b7-9767-8efd4cd9bf7c",
   "metadata": {},
   "source": [
    "## Data"
   ]
  },
  {
   "cell_type": "code",
   "execution_count": null,
   "id": "3dcf940c-05f8-4a81-bd3c-2c2758cfbc3f",
   "metadata": {
    "tags": []
   },
   "outputs": [],
   "source": [
    "# feature importance data\n",
    "data = pd.read_csv(\"MS2 Results/feature_importance_rmse.csv\", index_col = \"ID\")\n",
    "area = pd.read_csv(\"MS2 Results/zenodo/dataset_historical.csv\", index_col = \"basin_id\").area_RGI6\n",
    "data = data.join(area)"
   ]
  },
  {
   "cell_type": "code",
   "execution_count": null,
   "id": "9c02514e-e435-4690-8aa7-9ec425ea02ba",
   "metadata": {
    "tags": []
   },
   "outputs": [],
   "source": [
    "# weighted-means\n",
    "metrics   = data.Metric.unique()\n",
    "variables = data.Variable.unique()\n",
    "sources   = data.columns[2:8]\n",
    "\n",
    "df_wm = []\n",
    "\n",
    "for variable in variables: \n",
    "    for metric in metrics: \n",
    "        data_i = data[(data.Variable == variable) & (data.Metric == metric)]\n",
    "        \n",
    "        for source in sources: \n",
    "            data_s = (data_i[source] * data_i.area_RGI6).sum() / data_i.area_RGI6.sum()\n",
    "            df_wm.append([variable, metric, source, data_s])\n",
    "            \n",
    "df_wm = pd.DataFrame(df_wm, columns = [\"Variable\", \"Metric\", \"Source\", \"WM\"])"
   ]
  },
  {
   "cell_type": "markdown",
   "id": "d51838b2-43d1-47ba-a75f-cbef95fceffb",
   "metadata": {},
   "source": [
    "## Plot"
   ]
  },
  {
   "cell_type": "code",
   "execution_count": null,
   "id": "b28aa13e-9462-494e-92a7-d6aa8a76c077",
   "metadata": {},
   "outputs": [],
   "source": [
    "\n",
    "metrics = metrics.reshape(2,5)\n",
    "titles = ['Reference magnitude', 'Peak water year', 'Peak water magnitude', 'Peak water duration', 'Inter-annual variability', \n",
    "          'Reference<br>seasonal contribution', 'Reference<br>seasonal variability', 'Seasonal shift', 'Long-term trend', 'Long-term change']\n",
    "\n",
    "cl = px.colors.colorbrewer.Dark2\n",
    "\n",
    "fig = make_subplots(rows=2, cols=5, horizontal_spacing = 0.01, vertical_spacing = 0.08, shared_yaxes = True, \n",
    "                    subplot_titles = titles, x_title='Feature importance (% of RMSE loss after permutations)')\n",
    "\n",
    "# a to e) Boxplot -----------------------------------------------------------------------------------------------------------\n",
    "for y in range (0,2):\n",
    "    for x in range(0,5):   \n",
    "        \n",
    "        # melt on glacier\n",
    "        data_xy = data[(data.Metric == metrics[y,x]) & (data.Variable == \"melt_on_glacier\")]\n",
    "        data_xy_wm = df_wm[(df_wm.Metric == metrics[y,x]) & (df_wm.Variable == \"melt_on_glacier\")].set_index(\"Source\")\n",
    "        \n",
    "        fig.add_trace(go.Box(x = data_xy.Outline, name = \"Glacier<br>inventory\", marker_color=cl[0], marker = dict(size= 3), opacity=0.4, offsetgroup= \"A\", showlegend = False, boxmean=False), row=y+1, col=x+1)\n",
    "        fig.add_trace(go.Box(x = data_xy.Volume,  name = \"Glacier<br>volume\",    marker_color=cl[4], marker = dict(size= 3), opacity=0.4, offsetgroup= \"A\", showlegend = False, boxmean=False), row=y+1, col=x+1)\n",
    "        fig.add_trace(go.Box(x = data_xy.Climate, name = \"Reference<br>climate\", marker_color=cl[1], marker = dict(size= 3), opacity=0.4, offsetgroup= \"A\", showlegend = False, boxmean=False), row=y+1, col=x+1)\n",
    "        fig.add_trace(go.Box(x = data_xy.GCM,     name = \"GCM\",                  marker_color=cl[5], marker = dict(size= 3), opacity=0.4, offsetgroup= \"A\", showlegend = False, boxmean=False), row=y+1, col=x+1)\n",
    "        fig.add_trace(go.Box(x = data_xy.SSP,     name = \"SSP\",                  marker_color=cl[6], marker = dict(size= 3), opacity=0.4, offsetgroup= \"A\", showlegend = False, boxmean=False), row=y+1, col=x+1)\n",
    "        fig.add_trace(go.Box(x = data_xy.BCM,     name = \"Bias<br>correction\",   marker_color=cl[2], marker = dict(size= 3), opacity=0.4, offsetgroup= \"A\", showlegend = False, boxmean=False), row=y+1, col=x+1)\n",
    "        fig.add_trace(go.Box(x = np.array(data_xy_wm.WM.Outline), name = \"Glacier<br>inventory\", marker_color=cl[0], boxpoints=\"all\", line_color= \"rgba(255,255,255,0)\", opacity=0.5, pointpos = -0.15, marker = dict(size= 8), offsetgroup= \"A\", showlegend = False), row=y+1, col=x+1)\n",
    "        fig.add_trace(go.Box(x = np.array(data_xy_wm.WM.Volume),  name = \"Glacier<br>volume\",    marker_color=cl[4], boxpoints=\"all\", line_color= \"rgba(255,255,255,0)\", opacity=0.5, pointpos = -0.15, marker = dict(size= 8), offsetgroup= \"A\", showlegend = False), row=y+1, col=x+1)\n",
    "        fig.add_trace(go.Box(x = np.array(data_xy_wm.WM.Climate), name = \"Reference<br>climate\", marker_color=cl[1], boxpoints=\"all\", line_color= \"rgba(255,255,255,0)\", opacity=0.5, pointpos = -0.15, marker = dict(size= 8), offsetgroup= \"A\", showlegend = False), row=y+1, col=x+1)\n",
    "        fig.add_trace(go.Box(x = np.array(data_xy_wm.WM.GCM),     name = \"GCM\",                  marker_color=cl[5], boxpoints=\"all\", line_color= \"rgba(255,255,255,0)\", opacity=0.5, pointpos = -0.15, marker = dict(size= 8), offsetgroup= \"A\", showlegend = False), row=y+1, col=x+1)\n",
    "        fig.add_trace(go.Box(x = np.array(data_xy_wm.WM.SSP),     name = \"SSP\",                  marker_color=cl[6], boxpoints=\"all\", line_color= \"rgba(255,255,255,0)\", opacity=0.5, pointpos = -0.15, marker = dict(size= 8), offsetgroup= \"A\", showlegend = False), row=y+1, col=x+1)\n",
    "        fig.add_trace(go.Box(x = np.array(data_xy_wm.WM.BCM),     name = \"Bias<br>correction\",   marker_color=cl[2], boxpoints=\"all\", line_color= \"rgba(255,255,255,0)\", opacity=0.5, pointpos = -0.15, marker = dict(size= 8), offsetgroup= \"A\", showlegend = False), row=y+1, col=x+1)\n",
    " \n",
    "        # total runoff\n",
    "        data_xy = data[(data.Metric == metrics[y,x]) & (data.Variable == \"total_runoff\")]\n",
    "        data_xy_wm = df_wm[(df_wm.Metric == metrics[y,x]) & (df_wm.Variable == \"total_runoff\")].set_index(\"Source\")\n",
    "        \n",
    "        fig.add_trace(go.Box(x = data_xy.Outline, name = \"Glacier<br>inventory\", marker_color=cl[0], marker = dict(size= 3), opacity=0.8, offsetgroup= \"B\", showlegend = False, boxmean=False), row=y+1, col=x+1)\n",
    "        fig.add_trace(go.Box(x = data_xy.Volume,  name = \"Glacier<br>volume\",    marker_color=cl[4], marker = dict(size= 3), opacity=0.8, offsetgroup= \"B\", showlegend = False, boxmean=False), row=y+1, col=x+1)\n",
    "        fig.add_trace(go.Box(x = data_xy.Climate, name = \"Reference<br>climate\", marker_color=cl[1], marker = dict(size= 3), opacity=0.8, offsetgroup= \"B\", showlegend = False, boxmean=False), row=y+1, col=x+1)\n",
    "        fig.add_trace(go.Box(x = data_xy.GCM,     name = \"GCM\",                  marker_color=cl[5], marker = dict(size= 3), opacity=0.8, offsetgroup= \"B\", showlegend = False, boxmean=False), row=y+1, col=x+1)\n",
    "        fig.add_trace(go.Box(x = data_xy.SSP,     name = \"SSP\",                  marker_color=cl[6], marker = dict(size= 3), opacity=0.8, offsetgroup= \"B\", showlegend = False, boxmean=False), row=y+1, col=x+1)\n",
    "        fig.add_trace(go.Box(x = data_xy.BCM,     name = \"Bias<br>correction\",   marker_color=cl[2], marker = dict(size= 3), opacity=0.8, offsetgroup= \"B\", showlegend = False, boxmean=False), row=y+1, col=x+1)\n",
    "        fig.add_trace(go.Box(x = np.array(data_xy_wm.WM.Outline), name = \"Glacier<br>inventory\", marker_color=cl[0], line_color= \"rgba(255,255,255,0)\", boxpoints=\"all\",  opacity=0.9, pointpos = -0.15, marker = dict(size= 8), offsetgroup= \"B\", showlegend = False), row=y+1, col=x+1)\n",
    "        fig.add_trace(go.Box(x = np.array(data_xy_wm.WM.Volume),  name = \"Glacier<br>volume\",    marker_color=cl[4], line_color= \"rgba(255,255,255,0)\", boxpoints=\"all\", opacity=0.9, pointpos = -0.15, marker = dict(size= 8), offsetgroup= \"B\", showlegend = False), row=y+1, col=x+1)\n",
    "        fig.add_trace(go.Box(x = np.array(data_xy_wm.WM.Climate), name = \"Reference<br>climate\", marker_color=cl[1], line_color= \"rgba(255,255,255,0)\", boxpoints=\"all\", opacity=0.9, pointpos = -0.15, marker = dict(size= 8), offsetgroup= \"B\", showlegend = False), row=y+1, col=x+1)\n",
    "        fig.add_trace(go.Box(x = np.array(data_xy_wm.WM.GCM),     name = \"GCM\",                  marker_color=cl[5], line_color= \"rgba(255,255,255,0)\", boxpoints=\"all\", opacity=0.9, pointpos = -0.15, marker = dict(size= 8), offsetgroup= \"B\", showlegend = False), row=y+1, col=x+1)\n",
    "        fig.add_trace(go.Box(x = np.array(data_xy_wm.WM.SSP),     name = \"SSP\",                  marker_color=cl[6], line_color= \"rgba(255,255,255,0)\", boxpoints=\"all\", opacity=0.9, pointpos = -0.15, marker = dict(size= 8), offsetgroup= \"B\", showlegend = False), row=y+1, col=x+1)\n",
    "        fig.add_trace(go.Box(x = np.array(data_xy_wm.WM.BCM),     name = \"Bias<br>correction\",   marker_color=cl[2], line_color= \"rgba(255,255,255,0)\", boxpoints=\"all\", opacity=0.9, pointpos = -0.15, marker = dict(size= 8), offsetgroup= \"B\", showlegend = False), row=y+1, col=x+1)\n",
    " \n",
    "        \n",
    "fig.update_annotations(font_size=14)\n",
    "fig.update_traces(line_width = 1.5)\n",
    "fig.add_annotation(text=\"Glacier runoff\", font=dict(size=12),  arrowhead=0, arrowwidth=1, arrowcolor=\"rgb(30,30,30)\", ax=40, x=0.05, y=4.2, showarrow=True, row=1, col=1)\n",
    "fig.add_annotation(text=\"Glacier melt\", font=dict(size=12),  arrowhead=0, arrowwidth=1, arrowcolor=\"rgb(30,30,30)\", ax=70, x=0.05, y=3.8, showarrow=True, row=1, col=1)\n",
    "\n",
    "fig.update_xaxes(range = [-0.12, 0.85], row = 1, col = 2)\n",
    "fig.update_xaxes(range = [-0.05, 1.1], row = 2, col = 2)\n",
    "fig.update_xaxes(range = [-0.1, 0.6], row = 2, col = 3)\n",
    "fig.update_xaxes(range = [-0.20, 0.8], row = 2, col = 4)\n",
    "fig.update_xaxes(range = [-0.05, 0.7], row = 2, col = 5)\n",
    "\n",
    "\n",
    "# general \n",
    "fig.update_layout(boxmode='group', boxgap=0.15)\n",
    "fig.update_layout(width = 900, height =900, template = \"seaborn\", autosize = False, margin = dict(l=10, r=10, b=50, t=30, pad=0, autoexpand=True))\n",
    "fig.update_xaxes(griddash = \"dot\", gridcolor = \"rgba(255,255,255,0.8)\", zeroline=False, showline = True, linecolor = 'black', linewidth = 1, tickformat = ',.0%', dtick = 0.3, ticks=\"outside\", mirror=True)\n",
    "fig.update_yaxes(griddash = \"dot\", gridcolor = \"rgba(255,255,255,0.8)\", zeroline=True,  showline = True, linecolor = 'black', linewidth = 1, mirror=True)\n",
    "fig.show()\n",
    "\n",
    "fig.write_image(\"/home/rooda/Dropbox/Patagonia/MS2 Results/Figure_10_signature.png\", scale=4)"
   ]
  },
  {
   "cell_type": "code",
   "execution_count": null,
   "id": "1cb305b3-23b0-4802-a326-d944119d908d",
   "metadata": {},
   "outputs": [],
   "source": [
    "\"This was especially clear for {} where the reference climate accumulated more than 50% of the total RMSE loss after the permutations\".format(\n",
    "df_wm[(df_wm.Source == \"Climate\") & (df_wm.WM > 0.5)  & (df_wm.Variable ==  \"melt_on_glacier\")].Metric.values)"
   ]
  },
  {
   "cell_type": "code",
   "execution_count": null,
   "id": "f9cddfb4-a9a6-4294-85d3-ed9ee92b8f1e",
   "metadata": {},
   "outputs": [],
   "source": [
    "df_wm[(df_wm.Variable ==  \"melt_on_glacier\") & df_wm.Source.isin([\"Climate\", \"Volume\", \"Outline\"])].groupby(by = [\"Metric\"]).sum(numeric_only = True) > df_wm[\n",
    "      (df_wm.Variable ==  \"melt_on_glacier\") & df_wm.Source.isin([\"SSP\",     \"GCM\",    \"BCM\"])].groupby(by = [\"Metric\"]).sum(numeric_only = True)"
   ]
  },
  {
   "cell_type": "code",
   "execution_count": null,
   "id": "6e5255e8-4985-4129-b630-b5475b94b2f4",
   "metadata": {},
   "outputs": [],
   "source": [
    "df_wm[(df_wm.Variable ==  \"total_runoff\") & df_wm.Source.isin([\"Climate\", \"Volume\", \"Outline\"])].groupby(by = [\"Metric\"]).sum(numeric_only = True) > df_wm[\n",
    "      (df_wm.Variable ==  \"total_runoff\") & df_wm.Source.isin([\"SSP\",     \"GCM\",    \"BCM\"])].groupby(by = [\"Metric\"]).sum(numeric_only = True)"
   ]
  },
  {
   "cell_type": "code",
   "execution_count": null,
   "id": "b62ca599-067f-4735-8cd4-d3cce3503e8c",
   "metadata": {},
   "outputs": [],
   "source": []
  }
 ],
 "metadata": {
  "kernelspec": {
   "display_name": "Python 3 (ipykernel)",
   "language": "python",
   "name": "python3"
  },
  "language_info": {
   "codemirror_mode": {
    "name": "ipython",
    "version": 3
   },
   "file_extension": ".py",
   "mimetype": "text/x-python",
   "name": "python",
   "nbconvert_exporter": "python",
   "pygments_lexer": "ipython3",
   "version": "3.11.8"
  },
  "toc-autonumbering": false
 },
 "nbformat": 4,
 "nbformat_minor": 5
}

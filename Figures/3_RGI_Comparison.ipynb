{
 "cells": [
  {
   "cell_type": "markdown",
   "id": "hollywood-cement",
   "metadata": {},
   "source": [
    "## Figure 3: Geometry comparison between RGI6 and RGI7"
   ]
  },
  {
   "cell_type": "code",
   "execution_count": null,
   "id": "5bee0511-bf00-42e1-bb0f-35712efc11a3",
   "metadata": {},
   "outputs": [],
   "source": [
    "import os\n",
    "import numpy as np\n",
    "import pandas as pd\n",
    "import geopandas as gpd\n",
    "import shapely.geometry\n",
    "\n",
    "import plotly.express as px\n",
    "import plotly.graph_objects as go\n",
    "import plotly.figure_factory as ff\n",
    "from plotly.subplots import make_subplots\n",
    "\n",
    "cl = px.colors.qualitative.D3\n",
    "os.chdir('/home/rooda/Dropbox/Patagonia')"
   ]
  },
  {
   "cell_type": "markdown",
   "id": "bfe59c94-0596-4d6c-a629-356d61e5a8ec",
   "metadata": {
    "tags": []
   },
   "source": [
    "## Data"
   ]
  },
  {
   "cell_type": "code",
   "execution_count": null,
   "id": "c19c42af-1aae-4edd-91c3-08bb837185a9",
   "metadata": {},
   "outputs": [],
   "source": [
    "# data\n",
    "RGI6   = gpd.read_file(\"GIS South/Glaciers/RGI6_v2.shp\")\n",
    "RGI7   = gpd.read_file(\"GIS South/Glaciers/RGI7_v2.shp\")\n",
    "\n",
    "RGI6[\"year\"] = RGI6.BgnDate.str[0:4].astype(\"int16\")\n",
    "RGI7[\"year\"] = RGI7.src_date.str[0:4].astype(\"int16\")\n",
    "\n",
    "# polygons to points (centroid)\n",
    "basins = gpd.read_file(\"GIS South/Basins_Patagonia_ice.shp\")\n",
    "basins = basins.set_index(\"ID\")\n",
    "\n",
    "names = [\"Yelcho\", \"Baker\", \"Santa Cruz                             \", \"Palena\", \"Grey\", \"Puelo\", \"Cisnes\", \"Aysen\", \"Pascua\"]\n",
    "basins.loc[basins.basin_area > 5000, \"Name\"] = names"
   ]
  },
  {
   "cell_type": "code",
   "execution_count": null,
   "id": "aae92e38-b6e5-45f1-94ce-0434b64c5b7c",
   "metadata": {},
   "outputs": [],
   "source": [
    "# basemap for background\n",
    "geo_map = gpd.read_file(\"/home/rooda/Dropbox/ArcGIS/Chile/south_america.shp\")\n",
    "geo_map = geo_map[(geo_map.CC == \"CI\") | (geo_map.CC == \"AR\")]\n",
    "geo_map = geo_map.dissolve(by='REGION')\n",
    "geo_map[\"geometry\"] = geo_map.simplify(0.01)\n",
    "\n",
    "poly_gdf = shapely.geometry.Polygon([(-76, -55.7), (-76, -40.52), (-68.05, -40.52), (-68.05, -55.7), (-76, -55.8)])\n",
    "poly_gdf = gpd.GeoDataFrame([1], geometry=[poly_gdf], crs=geo_map.crs)\n",
    "geo_map = geo_map.clip(poly_gdf)"
   ]
  },
  {
   "cell_type": "code",
   "execution_count": null,
   "id": "cce7394d-89e5-44da-bf70-8dd57a19e31c",
   "metadata": {},
   "outputs": [],
   "source": [
    "# hydrological zone divides\n",
    "geo_lines = gpd.read_file(\"GIS South/Basins_Patagonia_ice_divides.shp\")\n",
    "\n",
    "lats = []\n",
    "lons = []\n",
    "\n",
    "for feature in geo_lines.geometry:\n",
    "    if isinstance(feature, shapely.geometry.linestring.LineString):\n",
    "        linestrings = [feature]\n",
    "    elif isinstance(feature, shapely.geometry.multilinestring.MultiLineString):\n",
    "        linestrings = feature.geoms\n",
    "    else:\n",
    "        continue\n",
    "    for linestring in linestrings:\n",
    "        x, y = linestring.xy\n",
    "        lats = np.append(lats, y)\n",
    "        lons = np.append(lons, x)\n",
    "        lats = np.append(lats, None)\n",
    "        lons = np.append(lons, None)\n",
    "        \n",
    "lat_coords = [-43.2, -46.0,   -46.9,   -47.6,   -49.2,   -50.5,   -52.0, -53.1, -54.8]\n",
    "lon_coords = [-71.2, -71.7,   -73.8,   -71.7,   -72.2,   -72.3,   -72.1, -72.8, -69.2]\n",
    "names      = [\"PPY\", \"PCA\", \"NPI-W\", \"NPI-E\", \"SPI-N\", \"SPI-C\", \"SPI-S\", \"GCN\", \"CDI\"]\n",
    "names  = ['<b>'+x+'</b>' for x in names]"
   ]
  },
  {
   "cell_type": "markdown",
   "id": "1e7c4200-64c3-4240-9803-26dd254fc5e7",
   "metadata": {
    "tags": []
   },
   "source": [
    "## Plot"
   ]
  },
  {
   "cell_type": "code",
   "execution_count": null,
   "id": "46551203-cb87-4d1d-b9d0-0726e6bf8cdf",
   "metadata": {
    "tags": []
   },
   "outputs": [],
   "source": [
    "fig = make_subplots(rows=2, cols=3, horizontal_spacing = 0.05, vertical_spacing = 0.08, subplot_titles = [\"a) Area difference(%)\",\"b) Area (log km<sup>2</sup>)\",\n",
    "                                                                                                          \"c) Slope (deg)\",\"d) Aspect (deg)\",\"e) Acquisition date (year)\"],\n",
    "                    specs=[[{\"type\": \"scattergeo\", \"rowspan\": 2}, {\"type\": \"xy\"}, {\"type\": \"xy\"}],\n",
    "                           [None,                                 {\"type\": \"xy\"}, {\"type\": \"xy\"}]])\n",
    "\n",
    "# Map ----------------------------------------------------------------------------------------------------------\n",
    "fig.add_trace(go.Choropleth(geojson = eval(geo_map['geometry'].to_json()),  locations = geo_map.index, z = geo_map['iso_num'], \n",
    "                            colorscale = [\"rgba(213,213,213,0.7)\", \"rgba(213,213,213,0.7)\"], showscale= False, marker_line_color ='white', marker_line_width=0.1), row=1, col=1)\n",
    "\n",
    "fig.add_trace(go.Choropleth(geojson = eval(basins['geometry'].to_json()),  locations = basins.index, z = ((basins['RGI7_area']/basins['RGI6_area'])-1)*100, \n",
    "                            colorscale = [cl[1], \"#ffe9ba\" ,cl[0]], marker_line_color ='rgba(255,255,255, 0.6)', marker_line_width=0.5,\n",
    "                            zmin = -100, zmax = 100, colorbar=dict(len=0.5, x=0.23, y= 0.75, title='Area (%)', thickness=20)), row=1, col=1)\n",
    "\n",
    "fig.add_trace(go.Scattergeo(lon = lons, lat = lats, mode = 'lines', line = dict(width = 0.7,color = 'black'),opacity = 0.5, showlegend = False),row=1, col=1)\n",
    "fig.add_trace(go.Scattergeo(lon=lon_coords, lat=lat_coords, mode='text', text=names, textfont=dict(size=9, color = \"rgba(0,0,0,0.7)\")),row=1, col=1)\n",
    "\n",
    "fig.add_scattergeo(geojson = eval(basins['geometry'].to_json()), locations = basins.index, text = basins['Name'], mode = 'text', showlegend = False, \n",
    "                   textfont=dict(size=11, color = \"rgba(0,0,0,0.3)\"),row=1, col=1)\n",
    "\n",
    "fig.update_geos(showframe = True, framecolor = \"rgba(0,0,0,0.5)\", framewidth = 1, lonaxis_range=[-76, -68], lataxis_range=[-55.8, -40.5], bgcolor = \"#f9f9f9\", showland = False, showcoastlines = False, showlakes = False)\n",
    "\n",
    "# Area in log km2 --------------------------------------------------------------------------------------------------\n",
    "fig.add_trace(go.Histogram(x=np.log(RGI6.area_km2), histnorm='percent', marker_color= cl[1], name = \"RGI6\"), row=1, col=2)\n",
    "fig.add_trace(go.Histogram(x=np.log(RGI7.area_km2), histnorm='percent', marker_color= cl[0], name = \"RGI7\"), row=1, col=2)\n",
    "fig.update_yaxes(range = (0,4), dtick = 1, row=1, col=2)\n",
    "fig.update_xaxes(tickmode = 'array', row=1, col=2)\n",
    "fig.update_xaxes(tickvals = [-4, -2, 0, 2, 4, 6], ticktext = [\"10<sup>-4<sup>\", \"10<sup>-2<sup>\", \"10<sup>0<sup>\", \"10<sup>2<sup>\", \"10<sup>4<sup>\", \"10<sup>6<sup>\"], row=1, col=2)\n",
    "fig.update_traces(opacity=0.7, row = 1, col = 2)\n",
    "\n",
    "# Slope in deg --------------------------------------------------------------------------------------------------\n",
    "fig.add_trace(go.Histogram(x=RGI6.slope_v2, histnorm='percent', marker_color= cl[1], showlegend = False, xbins=dict(start=0, size=1, end=60)), row=1, col=3)\n",
    "fig.add_trace(go.Histogram(x=RGI7.slope_v2, histnorm='percent', marker_color= cl[0], showlegend = False, xbins=dict(start=0, size=1, end=60)), row=1, col=3)\n",
    "fig.update_yaxes(range = (0,8), dtick = 2, row=1, col=3)\n",
    "fig.update_xaxes(range = (0,60), dtick = 15, row=1, col=3)\n",
    "fig.update_traces(opacity=0.7, row = 1, col = 3)\n",
    "\n",
    "# Aspect in deg ----------------------------------------------------------------------------------------------------\n",
    "fig.add_trace(go.Histogram(x=RGI6.aspect_v2, histnorm='percent', marker_color= cl[1], showlegend = False), row=2, col=2)\n",
    "fig.add_trace(go.Histogram(x=RGI7.aspect_v2, histnorm='percent', marker_color= cl[0], showlegend = False), row=2, col=2)\n",
    "fig.update_yaxes(dtick = 1, range = (0,5), row=2, col=2)\n",
    "fig.update_traces(opacity=0.7, row = 2, col = 2)\n",
    "\n",
    "# RGI year ---------------------------------------------------------------------------------------------------------\n",
    "fig.add_trace(go.Histogram(x=RGI6.year, histnorm='percent', marker_color= cl[1], showlegend = False), row=2, col=3)\n",
    "fig.add_trace(go.Histogram(x=RGI7.year, histnorm='percent', marker_color= cl[0], showlegend = False), row=2, col=3)\n",
    "fig.update_xaxes(dtick = 3, row=2, col=3)\n",
    "fig.update_yaxes(range = (0,100), row=2, col=3)\n",
    "fig.update_traces(opacity=0.7, row = 2, col = 3)\n",
    "\n",
    "# All -----------------------------------------------------------------------------------------------------\n",
    "fig.update_xaxes(showline = True, linecolor = 'rgba(0,0,0,0.5)', linewidth = 1, ticks=\"outside\", griddash = \"dot\", mirror=True)\n",
    "fig.update_yaxes(showline = True, linecolor = 'rgba(0,0,0,0.5)', linewidth = 1, ticks=\"outside\", griddash = \"dot\", mirror=True, title = \"Percent (%)\", title_standoff = 0)\n",
    "\n",
    "fig.update_layout(font=dict(size=14), barmode='overlay', plot_bgcolor=\"rgba(213,213,213,0.6)\", margin = dict(l=5, r=5, b=5, t=30), autosize=False, width=1350, height=800)\n",
    "fig.update_layout(legend=dict(y=0.99, x=0.93, bgcolor = 'rgba(255,255,255,0.5)'))\n",
    "fig.show()\n",
    "\n",
    "fig.write_image(\"/home/rooda/Dropbox/Patagonia/MS2 Results/Figure_3_RGI.png\", scale=4)"
   ]
  },
  {
   "cell_type": "markdown",
   "id": "47d84591-78ba-4f52-9e7d-34c1d9a4b8a9",
   "metadata": {},
   "source": [
    "## Hexbins alternative of  for a)"
   ]
  },
  {
   "cell_type": "code",
   "execution_count": null,
   "id": "d1b27c73-ef2f-4263-ae89-1f512367f846",
   "metadata": {},
   "outputs": [],
   "source": [
    "fig = ff.create_hexbin_mapbox(\n",
    "    data_frame=RGI, lat=\"CenLat\", lon=\"CenLon\",\n",
    "    nx_hexagon=15, opacity=0.7, labels={\"color\": \"ΔGlaciers (n)\"},\n",
    "    min_count=1, color=\"number\", agg_func=np.sum, color_continuous_scale=[(0, c2), (0.16, \"white\"), (1, c1)], \n",
    "    range_color = [-50,250], mapbox_style = \"carto-positron\")\n",
    "\n",
    "fig.update_mapboxes(style='carto-positron', center={'lat': -48.5, 'lon': -72},  zoom=5.3)\n",
    "\n",
    "fig.update_layout(font=dict(size=20), autosize=False, width=1000, height=1500)\n",
    "fig.update_layout(margin = {'l':0.1,'r':0.1,'t':0.1,'b':0.1})\n",
    "fig.show()"
   ]
  }
 ],
 "metadata": {
  "kernelspec": {
   "display_name": "Python 3",
   "language": "python",
   "name": "python3"
  },
  "language_info": {
   "codemirror_mode": {
    "name": "ipython",
    "version": 3
   },
   "file_extension": ".py",
   "mimetype": "text/x-python",
   "name": "python",
   "nbconvert_exporter": "python",
   "pygments_lexer": "ipython3",
   "version": "3.9.15"
  }
 },
 "nbformat": 4,
 "nbformat_minor": 5
}

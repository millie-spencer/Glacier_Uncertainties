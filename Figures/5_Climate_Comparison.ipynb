{
 "cells": [
  {
   "cell_type": "markdown",
   "id": "caa1d417-8756-4484-a00b-52ae1a33790d",
   "metadata": {},
   "source": [
    "## Figure 5: Climate baseline"
   ]
  },
  {
   "cell_type": "code",
   "execution_count": null,
   "id": "4497ef9a-1022-486a-8d4b-d97bd8961019",
   "metadata": {},
   "outputs": [],
   "source": [
    "# spatial libraries\n",
    "import shapely.geometry\n",
    "import rioxarray as rioxr\n",
    "import geopandas as gpd\n",
    "import xarray as xr\n",
    "import xesmf as xe\n",
    "import regionmask\n",
    "\n",
    "import pandas as pd\n",
    "import numpy as np\n",
    "import os\n",
    "\n",
    "# plotting libraries\n",
    "from plotly.subplots import make_subplots\n",
    "import plotly.graph_objects as go\n",
    "import plotly.express as px\n",
    "\n",
    "# colors\n",
    "cl = px.colors.qualitative.D3\n",
    "cs = px.colors.sequential.Sunset\n",
    "\n",
    "os.chdir('/home/rooda/Dropbox/Patagonia/')\n",
    "period = slice(\"1980-01-01\", \"2019-12-31\")"
   ]
  },
  {
   "cell_type": "code",
   "execution_count": null,
   "id": "82d00443-590a-4325-b7dd-510e2e0680eb",
   "metadata": {},
   "outputs": [],
   "source": [
    "# Basins\n",
    "basins = gpd.read_file(\"GIS South/Basins_Patagonia_ice.shp\")\n",
    "basins = basins.set_index(\"ID\")\n",
    "\n",
    "names = [\"Yelcho\", \"Baker\", \"Santa Cruz                           \", \"Palena\", \"Grey\", \"Puelo\", \"Cisnes\", \"Aysen\", \"Pascua\"]\n",
    "basins.loc[basins.basin_area > 5000, \"Name\"] = names"
   ]
  },
  {
   "cell_type": "code",
   "execution_count": null,
   "id": "02a316ff-f938-4b5c-921b-008dd0a65a4d",
   "metadata": {},
   "outputs": [],
   "source": [
    "# Climate baseline (1980-2019)\n",
    "period = slice(\"1980-01-01\", \"2019-12-31\")\n",
    "\n",
    "pp_pmet   = xr.open_dataset(\"Data/Precipitation/PP_PMET_1980_2020m.nc\").sel(time = period).rename({'latitude':'lat', 'longitude':'lon'}).drop(\"crs\")\n",
    "pp_era5   = xr.open_dataset(\"Data/Precipitation/PP_ERA5_1959_2021m.nc\").sel(time = period)\n",
    "pp_cr2met = xr.open_dataset(\"Data/Precipitation/PP_CR2MET_1979_2020m.nc\").sel(time = period)\n",
    "pp_w5d5   = xr.open_dataset(\"Data/Precipitation/PP_MSWEPv28_1979_2020m.nc\").sel(time = period)\n",
    "\n",
    "t2m_pmet   = xr.open_dataset(\"Data/Temperature/Tavg_PMET_1980_2020m.nc\").sel(time = period).rename({'latitude':'lat', 'longitude':'lon'})\n",
    "t2m_era5   = xr.open_dataset(\"Data/Temperature/Tavg_ERA5_1959_2021m.nc\").sel(time = period)\n",
    "t2m_cr2met = xr.open_dataset(\"Data/Temperature/Tavg_CR2MET_1979_2020m.nc\").sel(time = period)\n",
    "t2m_w5d5   = xr.open_dataset(\"Data/Temperature/Tavg_MSWX_1979_2021m.nc\").sel(time = period)"
   ]
  },
  {
   "cell_type": "code",
   "execution_count": null,
   "id": "15561707-c70a-4243-b476-a4854641d7e4",
   "metadata": {},
   "outputs": [],
   "source": [
    "# Average annual value for selected period\n",
    "pp_pmet    = pp_pmet.resample(time='1Y').sum().mean(dim=\"time\")\n",
    "pp_era5    = pp_era5.resample(time='1Y').sum().mean(dim=\"time\")\n",
    "pp_cr2met  = pp_cr2met.resample(time='1Y').sum().mean(dim=\"time\")\n",
    "pp_w5d5    = pp_w5d5.resample(time='1Y').sum().mean(dim=\"time\")\n",
    "\n",
    "t2m_pmet   = t2m_pmet.resample(time='1Y').mean().mean(dim=\"time\")\n",
    "t2m_era5   = t2m_era5.resample(time='1Y').mean().mean(dim=\"time\")\n",
    "t2m_cr2met = t2m_cr2met.resample(time='1Y').mean().mean(dim=\"time\")\n",
    "t2m_w5d5   = t2m_w5d5.resample(time='1Y').mean().mean(dim=\"time\")"
   ]
  },
  {
   "cell_type": "code",
   "execution_count": null,
   "id": "99514865-9def-4d65-9b5c-ae9584c86b68",
   "metadata": {},
   "outputs": [],
   "source": [
    "# Correction of zero values\n",
    "pp_pmet = pp_pmet.where(pp_pmet > 0)\n",
    "pp_cr2met = pp_cr2met.where(pp_cr2met > 0)"
   ]
  },
  {
   "cell_type": "code",
   "execution_count": null,
   "id": "51ca0358-6680-4a51-83da-ea3c346fac2e",
   "metadata": {},
   "outputs": [],
   "source": [
    "# resampled values\n",
    "pp_era5    = pp_era5.interp(lat = pp_pmet.lat, lon = pp_pmet.lon)\n",
    "pp_cr2met  = pp_cr2met.interp(lat = pp_pmet.lat, lon = pp_pmet.lon)\n",
    "pp_w5d5    = pp_w5d5.interp(lat = pp_pmet.lat, lon = pp_pmet.lon)\n",
    "\n",
    "t2m_era5   = t2m_era5.interp(lat = t2m_pmet.lat, lon = t2m_pmet.lon)\n",
    "t2m_cr2met = t2m_cr2met.interp(lat = t2m_pmet.lat, lon = t2m_pmet.lon)\n",
    "t2m_w5d5   = t2m_w5d5.interp(lat = t2m_pmet.lat, lon = t2m_pmet.lon)"
   ]
  },
  {
   "cell_type": "code",
   "execution_count": null,
   "id": "f7354cdc-81b5-4982-97e8-024042fdb97d",
   "metadata": {},
   "outputs": [],
   "source": [
    "# mask values\n",
    "pp_pmet    = pp_pmet.where(regionmask.mask_geopandas(basins, pp_pmet) > 0, drop = True)\n",
    "pp_era5    = pp_era5.where(regionmask.mask_geopandas(basins, pp_era5) > 0, drop = True)\n",
    "pp_cr2met  = pp_cr2met.where(regionmask.mask_geopandas(basins, pp_cr2met) > 0, drop = True)\n",
    "pp_w5d5    = pp_w5d5.where(regionmask.mask_geopandas(basins, pp_w5d5) > 0, drop = True)\n",
    "\n",
    "t2m_pmet   = t2m_pmet.where(regionmask.mask_geopandas(basins, t2m_pmet) > 0, drop = True)\n",
    "t2m_era5   = t2m_era5.where(regionmask.mask_geopandas(basins, t2m_era5) > 0, drop = True)\n",
    "t2m_cr2met = t2m_cr2met.where(regionmask.mask_geopandas(basins, t2m_cr2met) > 0, drop = True)\n",
    "t2m_w5d5   = t2m_w5d5.where(regionmask.mask_geopandas(basins, t2m_w5d5) > 0, drop = True)"
   ]
  },
  {
   "cell_type": "code",
   "execution_count": null,
   "id": "dabfb4ba-7687-4fd3-909f-0b5c70703829",
   "metadata": {},
   "outputs": [],
   "source": [
    "pmet_avg   = xe.SpatialAverager(pp_pmet,   basins.geometry, geom_dim_name=\"avg\")\n",
    "era5_avg   = xe.SpatialAverager(pp_era5,   basins.geometry, geom_dim_name=\"avg\")\n",
    "cr2met_avg = xe.SpatialAverager(pp_cr2met, basins.geometry, geom_dim_name=\"avg\")\n",
    "w5d5_avg   = xe.SpatialAverager(pp_w5d5, basins.geometry, geom_dim_name=\"avg\")"
   ]
  },
  {
   "cell_type": "code",
   "execution_count": null,
   "id": "93291549-ead6-4cfa-b3b2-a7d91e69f5ee",
   "metadata": {},
   "outputs": [],
   "source": [
    "basins[\"PP_PMET\"]   = pmet_avg(pp_pmet.pp, skipna=True).assign_coords(avg=xr.DataArray(basins.index, dims=(\"avg\",))).values\n",
    "basins[\"PP_ERA5\"]   = era5_avg(pp_era5.pp, skipna=True).assign_coords(avg=xr.DataArray(basins.index, dims=(\"avg\",))).values\n",
    "basins[\"PP_CR2MET\"] = cr2met_avg(pp_cr2met.pp, skipna=True).assign_coords(avg=xr.DataArray(basins.index, dims=(\"avg\",))).values\n",
    "basins[\"PP_W5D5\"]   = w5d5_avg(pp_w5d5.pp, skipna=True).assign_coords(avg=xr.DataArray(basins.index, dims=(\"avg\",))).values\n",
    "\n",
    "basins[\"T2M_PMET\"]   = pmet_avg(t2m_pmet.t2m, skipna=True).assign_coords(avg=xr.DataArray(basins.index, dims=(\"avg\",))).values\n",
    "basins[\"T2M_ERA5\"]   = era5_avg(t2m_era5.t2m, skipna=True).assign_coords(avg=xr.DataArray(basins.index, dims=(\"avg\",))).values\n",
    "basins[\"T2M_CR2MET\"] = cr2met_avg(t2m_cr2met.t2m, skipna=True).assign_coords(avg=xr.DataArray(basins.index, dims=(\"avg\",))).values\n",
    "basins[\"T2M_W5D5\"]   = w5d5_avg(t2m_w5d5.t2m, skipna=True).assign_coords(avg=xr.DataArray(basins.index, dims=(\"avg\",))).values\n",
    "\n",
    "#basins[\"T2M_ERA5d\"]  = basins.T2M_ERA5 - basins.T2M_PMET\n",
    "#basins[\"T2M_CR2METd\"]= basins.T2M_CR2MET - basins.T2M_PMET\n",
    "#basins[\"T2M_W5D5d\"]  = basins.T2M_W5D5 - basins.T2M_PMET"
   ]
  },
  {
   "cell_type": "code",
   "execution_count": null,
   "id": "bedccd49-52c1-4f0b-9f3c-bacccd61ede1",
   "metadata": {},
   "outputs": [],
   "source": [
    "# basemap for background\n",
    "geo_map = gpd.read_file(\"/home/rooda/Dropbox/ArcGIS/Chile/south_america.shp\")\n",
    "geo_map = geo_map[(geo_map.CC == \"CI\") | (geo_map.CC == \"AR\")]\n",
    "geo_map = geo_map.dissolve(by='REGION')\n",
    "geo_map[\"geometry\"] = geo_map.simplify(0.01)\n",
    "\n",
    "poly_gdf = shapely.geometry.Polygon([(-76, -55.7), (-76, -40.52), (-68.05, -40.52), (-68.05, -55.7), (-76, -55.8)])\n",
    "poly_gdf = gpd.GeoDataFrame([1], geometry=[poly_gdf], crs=geo_map.crs)\n",
    "\n",
    "geo_map = geo_map.clip(poly_gdf)"
   ]
  },
  {
   "cell_type": "code",
   "execution_count": null,
   "id": "30b00056-e385-41d2-9ea2-0cbb7f0b7611",
   "metadata": {},
   "outputs": [],
   "source": [
    "# hydrological zone divides\n",
    "geo_lines = gpd.read_file(\"GIS South/Basins_Patagonia_ice_divides.shp\")\n",
    "\n",
    "lats = []\n",
    "lons = []\n",
    "\n",
    "for feature in geo_lines.geometry:\n",
    "    if isinstance(feature, shapely.geometry.linestring.LineString):\n",
    "        linestrings = [feature]\n",
    "    elif isinstance(feature, shapely.geometry.multilinestring.MultiLineString):\n",
    "        linestrings = feature.geoms\n",
    "    else:\n",
    "        continue\n",
    "    for linestring in linestrings:\n",
    "        x, y = linestring.xy\n",
    "        lats = np.append(lats, y)\n",
    "        lons = np.append(lons, x)\n",
    "        lats = np.append(lats, None)\n",
    "        lons = np.append(lons, None)\n",
    "        \n",
    "lat_coords = [-43.2, -46.0,   -46.9,   -47.6,   -49.2,   -50.5,   -52.0, -53.1, -54.8]\n",
    "lon_coords = [-71.2, -71.7,   -73.8,   -71.7,   -72.2,   -72.3,   -72.1, -72.8, -69.2]\n",
    "names      = [\"PPY\", \"PCA\", \"NPI-W\", \"NPI-E\", \"SPI-N\", \"SPI-C\", \"SPI-S\", \"GCN\", \"CDI\"]\n",
    "names  = ['<b>'+x+'</b>' for x in names]"
   ]
  },
  {
   "cell_type": "code",
   "execution_count": null,
   "id": "15011f72-481c-4903-9d90-587d98009a95",
   "metadata": {},
   "outputs": [],
   "source": [
    "fig = make_subplots(rows=2, cols=3, horizontal_spacing = 0.01, vertical_spacing = 0.1, column_widths = [0.35, 0.35, 0.31], shared_xaxes = True,\n",
    "                    subplot_titles = [\"a) Annual precipitation (mm)\",\"b) Annual temperature (ºC)\",\"c) Precipitation alternatives\", \"d) Temperature alternatives\"],\n",
    "                    specs=[[{\"type\": \"scattergeo\", \"rowspan\": 2}, {\"type\": \"scattergeo\", \"rowspan\": 2}, {\"type\": \"histogram\"}],\n",
    "                           [          None,                                      None,                  {\"type\": \"histogram\"}]])\n",
    "\n",
    "# Precipitation mean change (a) -----------------------------------------------------------------------------------------------------------\n",
    "fig.add_trace(go.Choropleth(geojson = eval(geo_map['geometry'].to_json()),  locations = geo_map.index, z = geo_map['iso_num'], \n",
    "                            colorscale = [\"#d5d5d5\", \"#d5d5d5\"], showscale= False, marker_line_color ='white', marker_line_width=0.1), row=1, col=1)\n",
    "\n",
    "fig.add_trace(go.Choropleth(geojson = eval(basins['geometry'].to_json()),  locations = basins.index, z = basins['PP_PMET'], \n",
    "                            colorscale = [\"#ccebc5\", \"#4eb3d3\", \"#034b8a\"], marker_line_color ='white', marker_line_width=0.1, \n",
    "                            zmin = 1000, zmax = 8000, colorbar=dict(len=0.45, x=0.24, y= 0.75, title='PP (mm)', thickness=20)), row=1, col=1)\n",
    "\n",
    "fig.add_trace(go.Scattergeo(lon = lons, lat = lats, mode = 'lines', line = dict(width = 0.7,color = 'black'),opacity = 0.4, showlegend = False),row=1, col=1)\n",
    "fig.add_scattergeo(geojson = eval(basins['geometry'].to_json()), locations = basins.index, text = basins['Name'], mode = 'text', showlegend = False, \n",
    "                   textfont=dict(size=10, color = \"rgba(0,0,0,0.3)\"),row=1, col=1)\n",
    "\n",
    "# Temperature mean change (b) -----------------------------------------------------------------------------------------------------------\n",
    "fig.add_trace(go.Choropleth(geojson = eval(geo_map['geometry'].to_json()),  locations = geo_map.index, z = geo_map['iso_num'], \n",
    "                            colorscale = [\"#d5d5d5\", \"#d5d5d5\"], showscale= False, marker_line_color ='white', marker_line_width=0.1), row=1, col=2)\n",
    "\n",
    "fig.add_trace(go.Choropleth(geojson = eval(basins['geometry'].to_json()), locations = basins.index, z = basins['T2M_PMET'], \n",
    "                            colorscale=[cs[5], cs[3],  cs[0]], marker_line_color='white', marker_line_width=0.1, \n",
    "                            zmin = -2, zmax = 8, colorbar=dict(len=0.45, x=0.58, y= 0.75, title='T2M (ºC)', thickness=20)), row=1, col=2)\n",
    "\n",
    "fig.add_trace(go.Scattergeo(lon = lons, lat = lats, mode = 'lines', line = dict(width = 0.7,color = 'black'),opacity = 0.4, showlegend = False),row=1, col=2)\n",
    "fig.add_scattergeo(geojson = eval(basins['geometry'].to_json()), locations = basins.index, text = basins['Name'], mode = 'text', showlegend = False, \n",
    "                   textfont=dict(size=10, color = \"rgba(0,0,0,0.3)\"),row=1, col=2)\n",
    "\n",
    "# layout a) and b)\n",
    "fig.update_geos(showframe = True, framewidth = 1,  framecolor = \"black\", lonaxis_range=[-76, -68], lataxis_range=[-55.8, -40.5], \n",
    "                bgcolor = \"#f9f9f9\", showland = False, showcoastlines = False, showlakes = False)\n",
    "\n",
    "# Precipitation spread (c) -----------------------------------------------------------------------------------------------------------\n",
    "fig.add_trace(go.Violin(y = ((pp_cr2met-pp_pmet)/(pp_pmet)).pp.values.flatten(),   width=0.7,  points=False, meanline_visible=True,  marker_color = cl[0], name = \"CR2MET\", showlegend = False), row=1, col=3)\n",
    "fig.add_trace(go.Violin(y = ((pp_era5-pp_pmet)/(pp_pmet)).pp.values.flatten(),     width=0.7, points=False, meanline_visible=True, marker_color = cl[1], name = \"ERA5\", showlegend = False), row=1, col=3)\n",
    "fig.add_trace(go.Violin(y = ((pp_w5d5-pp_pmet)/(pp_pmet)).pp.values.flatten(),    width=0.7, points=False, meanline_visible=True,  marker_color = cs[5], name = \"W5D5\", showlegend = False), row=1, col=3)\n",
    "fig.update_yaxes(title_text=\"Relative difference (%)\", side = \"right\", title_standoff = 2, row = 1, col = 3)\n",
    "fig.update_yaxes(range = [-0.9,1.5], tickformat = ',.0%', row = 1, col = 3)\n",
    "fig.update_traces(opacity=0.7, row = 1, col = 3)\n",
    "\n",
    "# Temperature spread (d) -----------------------------------------------------------------------------------------------------------\n",
    "fig.add_trace(go.Violin(y = (t2m_cr2met-t2m_pmet).t2m.values.flatten(), width=0.7, meanline_visible=True, points=False, marker_color= cl[0], name = \"CR2MET\", showlegend = False), row=2, col=3)\n",
    "fig.add_trace(go.Violin(y = (t2m_era5-t2m_pmet).t2m.values.flatten(),  width=0.7, meanline_visible=True,  points=False, marker_color= cl[1], name = \"ERA5\", showlegend = False), row=2, col=3)\n",
    "fig.add_trace(go.Violin(y = (t2m_w5d5-t2m_pmet).t2m.values.flatten(), width=0.7, meanline_visible=True,  points=False, marker_color= cs[5], name = \"W5D5\", showlegend = False), row=2, col=3)\n",
    "fig.update_yaxes(range = [-4, 4], row = 2, col = 3)\n",
    "fig.update_yaxes(title_text=\"Relative difference (ºC)\", side = \"right\", title_standoff = 0, row = 2, col = 3)\n",
    "fig.update_traces(opacity=0.7, row = 2, col = 3)\n",
    "\n",
    "# layout c and d\n",
    "fig.update_layout(plot_bgcolor=\"rgba(213,213,213,0.6)\")\n",
    "fig.update_xaxes(griddash = \"dot\", gridcolor = \"rgba(255,255,255,0.5)\", zeroline=False, showline = True, linecolor = 'black', linewidth = 1, ticks=\"outside\", mirror=True)\n",
    "fig.update_yaxes(griddash = \"dot\", gridcolor = \"rgba(255,255,255,0.5)\", zeroline=False, showline = True, linecolor = 'black', linewidth = 1, ticks=\"outside\", mirror=True)\n",
    "\n",
    "# general \n",
    "fig.update_layout(autosize = False, width = 900, height = 600, margin = dict(l=10, r=5, b=5, t=30, pad=0, autoexpand=True))\n",
    "\n",
    "fig.write_image(\"/home/rooda/Dropbox/Patagonia/MS2 Results/Figure_5_climate.png\", scale=4)\n",
    "fig.show()"
   ]
  },
  {
   "cell_type": "code",
   "execution_count": null,
   "id": "3bd6f528-7b72-428b-bff7-7ab103dd87ba",
   "metadata": {},
   "outputs": [],
   "source": []
  }
 ],
 "metadata": {
  "kernelspec": {
   "display_name": "Python 3",
   "language": "python",
   "name": "python3"
  },
  "language_info": {
   "codemirror_mode": {
    "name": "ipython",
    "version": 3
   },
   "file_extension": ".py",
   "mimetype": "text/x-python",
   "name": "python",
   "nbconvert_exporter": "python",
   "pygments_lexer": "ipython3",
   "version": "3.9.15"
  }
 },
 "nbformat": 4,
 "nbformat_minor": 5
}

{
 "cells": [
  {
   "cell_type": "markdown",
   "id": "caa1d417-8756-4484-a00b-52ae1a33790d",
   "metadata": {},
   "source": [
    "## Figure 5: Climate baseline"
   ]
  },
  {
   "cell_type": "code",
   "execution_count": null,
   "id": "4497ef9a-1022-486a-8d4b-d97bd8961019",
   "metadata": {},
   "outputs": [],
   "source": [
    "# spatial libraries\n",
    "from shapely.geometry import Polygon\n",
    "import rioxarray as rioxr\n",
    "import geopandas as gpd\n",
    "import xarray as xr\n",
    "import xesmf as xe\n",
    "\n",
    "import pandas as pd\n",
    "import numpy as np\n",
    "import cftime\n",
    "import os\n",
    "\n",
    "# plotting libraries\n",
    "from plotly.subplots import make_subplots\n",
    "import plotly.graph_objects as go\n",
    "import plotly.express as px\n",
    "\n",
    "# colors and main folder\n",
    "cl = px.colors.qualitative.D3\n",
    "os.chdir('/home/rooda/Dropbox/Patagonia/')"
   ]
  },
  {
   "cell_type": "code",
   "execution_count": null,
   "id": "82d00443-590a-4325-b7dd-510e2e0680eb",
   "metadata": {},
   "outputs": [],
   "source": [
    "# Basins\n",
    "basins = gpd.read_file(\"GIS South/Basins_Patagonia_all.shp\")\n",
    "basins = basins.set_index(\"ID\")"
   ]
  },
  {
   "cell_type": "code",
   "execution_count": null,
   "id": "e3d186c5-f364-4429-90d5-cbad87061383",
   "metadata": {},
   "outputs": [],
   "source": [
    "# Climate baseline (1980-2019)\n",
    "period = slice(\"1980-01-01\", \"2019-12-31\")\n",
    "\n",
    "pp_pmet   = xr.open_dataset(\"Data/Precipitation/PP_PMET_1980_2020m.nc\").sel(time = period).rename({'latitude':'lat', 'longitude':'lon'}).drop(\"crs\")\n",
    "pp_era5   = xr.open_dataset(\"Data/Precipitation/PP_ERA5_1959_2021m.nc\").sel(time = period)\n",
    "pp_cr2met = xr.open_dataset(\"Data/Precipitation/PP_CR2MET_1979_2020m.nc\").sel(time = period)\n",
    "\n",
    "t2m_pmet   = xr.open_dataset(\"Data/Temperature/Tavg_PMET_1980_2020m.nc\").sel(time = period).rename({'latitude':'lat', 'longitude':'lon'})\n",
    "t2m_era5   = xr.open_dataset(\"Data/Temperature/Tavg_ERA5_1959_2021m.nc\").sel(time = period)\n",
    "t2m_cr2met = xr.open_dataset(\"Data/Temperature/Tavg_CR2MET_1979_2020m.nc\").sel(time = period)"
   ]
  },
  {
   "cell_type": "code",
   "execution_count": null,
   "id": "ac436be1-8c8a-45f7-8307-08322039bbd2",
   "metadata": {},
   "outputs": [],
   "source": [
    "# Average annual value for selected period\n",
    "pp_pmet    = pp_pmet.resample(time='1Y').sum().mean(dim=\"time\")\n",
    "pp_era5    = pp_era5.resample(time='1Y').sum().mean(dim=\"time\")\n",
    "pp_cr2met  = pp_cr2met.resample(time='1Y').sum().mean(dim=\"time\")\n",
    "\n",
    "t2m_pmet   = t2m_pmet.resample(time='1Y').mean().mean(dim=\"time\")\n",
    "t2m_era5   = t2m_era5.resample(time='1Y').mean().mean(dim=\"time\")\n",
    "t2m_cr2met = t2m_cr2met.resample(time='1Y').mean().mean(dim=\"time\")"
   ]
  },
  {
   "cell_type": "code",
   "execution_count": null,
   "id": "321ea550-5210-4010-9b7b-131db615f167",
   "metadata": {},
   "outputs": [],
   "source": [
    "# Correction of zero values\n",
    "pp_pmet = pp_pmet.where(pp_pmet > 0)\n",
    "pp_cr2met = pp_cr2met.where(pp_cr2met > 0)"
   ]
  },
  {
   "cell_type": "code",
   "execution_count": null,
   "id": "b7260921-9c44-4140-b2cb-3c97ec070add",
   "metadata": {},
   "outputs": [],
   "source": [
    "pp_pmet_avg    = xe.SpatialAverager(pp_pmet,   basins.geometry, geom_dim_name=\"avg\")\n",
    "pp_era5_avg    = xe.SpatialAverager(pp_era5,   basins.geometry, geom_dim_name=\"avg\")\n",
    "pp_cr2met_avg  = xe.SpatialAverager(pp_cr2met, basins.geometry, geom_dim_name=\"avg\")\n",
    "\n",
    "t2m_pmet_avg   = xe.SpatialAverager(t2m_pmet,   basins.geometry, geom_dim_name=\"avg\")\n",
    "t2m_era5_avg   = xe.SpatialAverager(t2m_era5,   basins.geometry, geom_dim_name=\"avg\")\n",
    "t2m_cr2met_avg = xe.SpatialAverager(t2m_cr2met, basins.geometry, geom_dim_name=\"avg\")"
   ]
  },
  {
   "cell_type": "code",
   "execution_count": null,
   "id": "6d842ce4-4bd1-4c11-8fb7-c3646af9e2b7",
   "metadata": {},
   "outputs": [],
   "source": [
    "basins[\"PP_PMET\"]   = pp_pmet_avg(pp_pmet.pp, skipna=True).assign_coords(avg=xr.DataArray(basins.index, dims=(\"avg\",))).values\n",
    "basins[\"PP_ERA5\"]   = pp_era5_avg(pp_era5.pp, skipna=True).assign_coords(avg=xr.DataArray(basins.index, dims=(\"avg\",))).values\n",
    "basins[\"PP_CR2MET\"] = pp_cr2met_avg(pp_cr2met.pp, skipna=True).assign_coords(avg=xr.DataArray(basins.index, dims=(\"avg\",))).values\n",
    "basins[\"PP_ERA5d\"]  = basins.PP_ERA5 - basins.PP_PMET\n",
    "basins[\"PP_CR2METd\"]= basins.PP_CR2MET - basins.PP_PMET\n",
    "\n",
    "basins[\"T2M_PMET\"]   = t2m_pmet_avg(t2m_pmet.t2m, skipna=True).assign_coords(avg=xr.DataArray(basins.index, dims=(\"avg\",))).values\n",
    "basins[\"T2M_ERA5\"]   = t2m_era5_avg(t2m_era5.t2m, skipna=True).assign_coords(avg=xr.DataArray(basins.index, dims=(\"avg\",))).values\n",
    "basins[\"T2M_CR2MET\"] = t2m_cr2met_avg(t2m_cr2met.t2m, skipna=True).assign_coords(avg=xr.DataArray(basins.index, dims=(\"avg\",))).values\n",
    "basins[\"T2M_ERA5d\"]  =  basins.T2M_ERA5 - basins.T2M_PMET\n",
    "basins[\"T2M_CR2METd\"]=  basins.T2M_CR2MET - basins.T2M_PMET"
   ]
  },
  {
   "cell_type": "code",
   "execution_count": null,
   "id": "45e4b09d-2170-4833-8b89-8a072af401ea",
   "metadata": {},
   "outputs": [],
   "source": [
    "geo_map = gpd.read_file(\"/home/rooda/Dropbox/ArcGIS/Chile/south_america.shp\")\n",
    "geo_map = geo_map[(geo_map.CC == \"CI\") | (geo_map.CC == \"AR\")]\n",
    "geo_map = geo_map.dissolve(by='REGION')\n",
    "geo_map[\"geometry\"] = geo_map.simplify(0.01)\n",
    "\n",
    "poly_gdf = Polygon([(-76, -55.7), (-76, -40.52), (-68.05, -40.52), (-68.05, -55.7), (-76, -55.8)])\n",
    "poly_gdf = gpd.GeoDataFrame([1], geometry=[poly_gdf], crs=geo_map.crs)\n",
    "geo_map = geo_map.clip(poly_gdf)"
   ]
  },
  {
   "cell_type": "code",
   "execution_count": null,
   "id": "606fb0ce-6242-4ba0-beba-ce88d6f7703a",
   "metadata": {},
   "outputs": [],
   "source": [
    "row_titles = [\"Annual precipitation (mm)\", \"Annual temperature (ºC)\"]\n",
    "column_titles = [\"PMET\", \"ERA5 - PMET\", \"CR2MET - PMET\"]\n",
    "\n",
    "fig = make_subplots(rows=2, cols=3, horizontal_spacing = 0.01, vertical_spacing = 0.01, column_titles = column_titles, row_titles = row_titles,\n",
    "                    specs=[[{\"type\": \"scattergeo\"}, {\"type\": \"scattergeo\"}, {\"type\": \"scattergeo\"}],\n",
    "                           [{\"type\": \"scattergeo\"}, {\"type\": \"scattergeo\"}, {\"type\": \"scattergeo\"}]])\n",
    "\n",
    "# Precipitation -----------------------------------------------------------------------------------------------------------\n",
    "fig.add_trace(go.Choropleth(geojson = eval(geo_map['geometry'].to_json()),  locations = geo_map.index, z = geo_map['iso_num'], \n",
    "                            colorscale = [\"#d5d5d5\", \"#d5d5d5\"], showscale= False, marker_line_color ='white', marker_line_width=0.1), row=1, col=1)\n",
    "\n",
    "fig.add_trace(go.Choropleth(geojson = eval(basins['geometry'].to_json()),  locations = basins.index, z = basins['PP_PMET'], \n",
    "                            colorscale = [\"#ccebc5\", \"#4eb3d3\", \"#034b8a\"], marker_line_color ='white', marker_line_width=0.1, \n",
    "                            zmin = 0, zmax = 8000, colorbar=dict(len=0.20, x=0.23, y= 0.90, title='PP (mm)', thickness=20)), row=1, col=1)\n",
    "\n",
    "# ----\n",
    "fig.add_trace(go.Choropleth(geojson = eval(geo_map['geometry'].to_json()),  locations = geo_map.index, z = geo_map['iso_num'], \n",
    "                            colorscale = [\"#d5d5d5\", \"#d5d5d5\"], showscale= False, marker_line_color ='white', marker_line_width=0.1), row=1, col=2)\n",
    "\n",
    "fig.add_trace(go.Choropleth(geojson = eval(basins['geometry'].to_json()), locations = basins.index, z = basins['PP_ERA5d'], \n",
    "                            colorscale=[\"#fe7e0d\",\"#ffe9ba\",\"#1d78b4\"], marker_line_color='white', marker_line_width=0.1, \n",
    "                            colorbar=dict(len=0.20, x=0.55, y = 0.90, title='ΔPP (mm)', thickness=20), zmid = 0, zmax = 2000, zmin = -2000), row=1, col=2)\n",
    "\n",
    "# ----\n",
    "fig.add_trace(go.Choropleth(geojson = eval(geo_map['geometry'].to_json()),  locations = geo_map.index, z = geo_map['iso_num'], \n",
    "                            colorscale = [\"#d5d5d5\", \"#d5d5d5\"], showscale= False, marker_line_color ='white', marker_line_width=0.1), row=1, col=3)\n",
    "\n",
    "fig.add_trace(go.Choropleth(geojson = eval(basins['geometry'].to_json()), locations = basins.index, z = basins['PP_CR2METd'],\n",
    "                            colorscale=[\"#fe7e0d\",\"#ffe9ba\",\"#1d78b4\"], marker_line_color='white', marker_line_width=0.1, \n",
    "                            colorbar=dict(len=0.20, x=0.89, y = 0.90, title='ΔPP (mm)', thickness=20), zmid = 0, zmax = 2000, zmin = -2000), row=1, col=3)\n",
    "\n",
    "# Temperature -----------------------------------------------------------------------------------------------------------\n",
    "fig.add_trace(go.Choropleth(geojson = eval(geo_map['geometry'].to_json()),  locations = geo_map.index, z = geo_map['iso_num'], \n",
    "                            colorscale = [\"#d5d5d5\", \"#d5d5d5\"], showscale= False, marker_line_color ='white', marker_line_width=0.1), row=2, col=1)\n",
    "\n",
    "cs = px.colors.sequential.Sunset\n",
    "fig.add_trace(go.Choropleth(geojson = eval(basins['geometry'].to_json()), locations = basins.index, z = basins['T2M_PMET'], \n",
    "                            colorscale= [cs[5], cs[3],  cs[0]], marker_line_color='white', marker_line_width=0.1, \n",
    "                            zmin = -2, zmax = 8, colorbar=dict(len=0.2, x=0.23, y= 0.39, title='T2M (ºC)', thickness=20)), row=2, col=1)\n",
    "\n",
    "# ----\n",
    "fig.add_trace(go.Choropleth(geojson = eval(geo_map['geometry'].to_json()),  locations = geo_map.index, z = geo_map['iso_num'], \n",
    "                            colorscale = [\"#d5d5d5\", \"#d5d5d5\"], showscale= False, marker_line_color ='white', marker_line_width=0.1), row=2, col=2)\n",
    "\n",
    "fig.add_trace(go.Choropleth(geojson = eval(basins['geometry'].to_json()), locations = basins.index, z = basins['T2M_ERA5d'], \n",
    "                            colorscale=[\"#1d78b4\", \"#ffe9ba\",\"#fe7e0d\"], marker_line_color='white', marker_line_width=0.1, \n",
    "                            colorbar=dict(len=0.2, x=0.55, y = 0.39, title='ΔT2M (ºC)', thickness=20), zmid = 0, zmax = 2, zmin = -2), row=2, col=2)\n",
    "\n",
    "# ----\n",
    "fig.add_trace(go.Choropleth(geojson = eval(geo_map['geometry'].to_json()),  locations = geo_map.index, z = geo_map['iso_num'], \n",
    "                            colorscale = [\"#d5d5d5\", \"#d5d5d5\"], showscale= False, marker_line_color ='white', marker_line_width=0.1), row=2, col=3)\n",
    "\n",
    "fig.add_trace(go.Choropleth(geojson = eval(basins['geometry'].to_json()), locations = basins.index, z = basins['T2M_CR2METd'],\n",
    "                            colorscale=[\"#1d78b4\", \"#ffe9ba\",\"#fe7e0d\"],  marker_line_color='white', marker_line_width=0.1, \n",
    "                            colorbar=dict(len=0.2, x=0.89, y = 0.39, title='ΔT2M (ºC)', thickness=20), zmid = 0, zmax = 2, zmin = -2), row=2, col=3)\n",
    "\n",
    "# Layout for all -------------------------------------------------------------------------------------------------------------\n",
    "fig.update_geos(showframe = True, framewidth = 1, framecolor = \"rgba(0,0,0,0.5)\", lonaxis_range=[-76, -68], lataxis_range=[-55.8, -40.5], \n",
    "                bgcolor = \"#f9f9f9\", showland = False, showcoastlines = False, showlakes = False)\n",
    "\n",
    "fig.update_layout(autosize = False, width = 900, height = 1150, margin = dict(l=7, r=15, b=7, t=30))\n",
    "fig.write_image(\"/home/rooda/Dropbox/Patagonia/MS2 Results/Figure_5_climate.png\", scale=4)\n",
    "fig.show()"
   ]
  },
  {
   "cell_type": "code",
   "execution_count": null,
   "id": "0d36947b-5c77-4037-b3f2-412e9a93889d",
   "metadata": {},
   "outputs": [],
   "source": []
  }
 ],
 "metadata": {
  "kernelspec": {
   "display_name": "Python 3",
   "language": "python",
   "name": "python3"
  },
  "language_info": {
   "codemirror_mode": {
    "name": "ipython",
    "version": 3
   },
   "file_extension": ".py",
   "mimetype": "text/x-python",
   "name": "python",
   "nbconvert_exporter": "python",
   "pygments_lexer": "ipython3",
   "version": "3.9.15"
  }
 },
 "nbformat": 4,
 "nbformat_minor": 5
}

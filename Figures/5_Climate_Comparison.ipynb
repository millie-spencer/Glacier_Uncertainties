{
 "cells": [
  {
   "cell_type": "markdown",
   "id": "caa1d417-8756-4484-a00b-52ae1a33790d",
   "metadata": {},
   "source": [
    "## Figure 5: Climate baseline"
   ]
  },
  {
   "cell_type": "code",
   "execution_count": null,
   "id": "4497ef9a-1022-486a-8d4b-d97bd8961019",
   "metadata": {},
   "outputs": [],
   "source": [
    "# spatial libraries\n",
    "import rioxarray as rioxr\n",
    "import geopandas as gpd\n",
    "import xarray as xr\n",
    "import xesmf as xe\n",
    "\n",
    "import pandas as pd\n",
    "import numpy as np\n",
    "import cftime\n",
    "import os\n",
    "\n",
    "# plotting libraries\n",
    "from plotly.subplots import make_subplots\n",
    "import plotly.graph_objects as go\n",
    "import plotly.express as px\n",
    "\n",
    "os.chdir('/home/rooda/Dropbox/Patagonia/')\n",
    "period = slice(\"1980-01-01\", \"2019-12-31\")"
   ]
  },
  {
   "cell_type": "code",
   "execution_count": null,
   "id": "82d00443-590a-4325-b7dd-510e2e0680eb",
   "metadata": {},
   "outputs": [],
   "source": [
    "# Basins\n",
    "basins = gpd.read_file(\"GIS South/Basins_Patagonia_all.shp\")\n",
    "basins = basins.set_index(\"ID\")"
   ]
  },
  {
   "cell_type": "code",
   "execution_count": null,
   "id": "e3d186c5-f364-4429-90d5-cbad87061383",
   "metadata": {},
   "outputs": [],
   "source": [
    "# Climate baseline (1980-2019)\n",
    "pp_pmet   = xr.open_dataset(\"Data/Precipitation/PP_PMET_1980_2020m.nc\").sel(time = period).rename({'latitude':'lat', 'longitude':'lon'}).drop(\"crs\")\n",
    "pp_era5   = xr.open_dataset(\"Data/Precipitation/PP_ERA5_1959_2021m.nc\").sel(time = period)\n",
    "pp_cr2met = xr.open_dataset(\"Data/Precipitation/PP_CR2MET_1979_2020m.nc\").sel(time = period)\n",
    "\n",
    "t2m_pmet   = xr.open_dataset(\"Data/Temperature/Tavg_PMET_1980_2020m.nc\").sel(time = period).rename({'latitude':'lat', 'longitude':'lon'})\n",
    "t2m_era5   = xr.open_dataset(\"Data/Temperature/Tavg_ERA5_1959_2021m.nc\").sel(time = period)\n",
    "t2m_cr2met = xr.open_dataset(\"Data/Temperature/Tavg_CR2MET_1979_2020m.nc\").sel(time = period)"
   ]
  },
  {
   "cell_type": "code",
   "execution_count": null,
   "id": "ac436be1-8c8a-45f7-8307-08322039bbd2",
   "metadata": {},
   "outputs": [],
   "source": [
    "# Average annual value for selected period\n",
    "pp_pmet    = pp_pmet.resample(time='1Y').sum().mean(dim=\"time\")\n",
    "pp_era5    = pp_era5.resample(time='1Y').sum().mean(dim=\"time\")\n",
    "pp_cr2met  = pp_cr2met.resample(time='1Y').sum().mean(dim=\"time\")\n",
    "\n",
    "t2m_pmet   = t2m_pmet.resample(time='1Y').mean().mean(dim=\"time\")\n",
    "t2m_era5   = t2m_era5.resample(time='1Y').mean().mean(dim=\"time\")\n",
    "t2m_cr2met = t2m_cr2met.resample(time='1Y').mean().mean(dim=\"time\")"
   ]
  },
  {
   "cell_type": "code",
   "execution_count": null,
   "id": "321ea550-5210-4010-9b7b-131db615f167",
   "metadata": {},
   "outputs": [],
   "source": [
    "# Correction of zero values\n",
    "pp_pmet = pp_pmet.where(pp_pmet > 0)\n",
    "pp_cr2met = pp_cr2met.where(pp_cr2met > 0)"
   ]
  },
  {
   "cell_type": "code",
   "execution_count": null,
   "id": "b7260921-9c44-4140-b2cb-3c97ec070add",
   "metadata": {},
   "outputs": [],
   "source": [
    "pp_pmet_avg    = xe.SpatialAverager(pp_pmet,   basins.geometry, geom_dim_name=\"avg\")\n",
    "pp_era5_avg    = xe.SpatialAverager(pp_era5,   basins.geometry, geom_dim_name=\"avg\")\n",
    "pp_cr2met_avg  = xe.SpatialAverager(pp_cr2met, basins.geometry, geom_dim_name=\"avg\")\n",
    "\n",
    "t2m_pmet_avg   = xe.SpatialAverager(t2m_pmet,   basins.geometry, geom_dim_name=\"avg\")\n",
    "t2m_era5_avg   = xe.SpatialAverager(t2m_era5,   basins.geometry, geom_dim_name=\"avg\")\n",
    "t2m_cr2met_avg = xe.SpatialAverager(t2m_cr2met, basins.geometry, geom_dim_name=\"avg\")"
   ]
  },
  {
   "cell_type": "code",
   "execution_count": null,
   "id": "6d842ce4-4bd1-4c11-8fb7-c3646af9e2b7",
   "metadata": {},
   "outputs": [],
   "source": [
    "basins[\"PP_PMET\"]   = pp_pmet_avg(pp_pmet.pp, skipna=True).assign_coords(avg=xr.DataArray(basins.index, dims=(\"avg\",))).values\n",
    "basins[\"PP_ERA5\"]   = pp_era5_avg(pp_era5.pp, skipna=True).assign_coords(avg=xr.DataArray(basins.index, dims=(\"avg\",))).values\n",
    "basins[\"PP_CR2MET\"] = pp_cr2met_avg(pp_cr2met.pp, skipna=True).assign_coords(avg=xr.DataArray(basins.index, dims=(\"avg\",))).values\n",
    "basins[\"PP_ERA5d\"]  = basins.PP_ERA5 - basins.PP_PMET\n",
    "basins[\"PP_CR2METd\"]= basins.PP_CR2MET - basins.PP_PMET\n",
    "\n",
    "basins[\"T2M_PMET\"]   = t2m_pmet_avg(t2m_pmet.t2m, skipna=True).assign_coords(avg=xr.DataArray(basins.index, dims=(\"avg\",))).values\n",
    "basins[\"T2M_ERA5\"]   = t2m_era5_avg(t2m_era5.t2m, skipna=True).assign_coords(avg=xr.DataArray(basins.index, dims=(\"avg\",))).values\n",
    "basins[\"T2M_CR2MET\"] = t2m_cr2met_avg(t2m_cr2met.t2m, skipna=True).assign_coords(avg=xr.DataArray(basins.index, dims=(\"avg\",))).values\n",
    "basins[\"T2M_ERA5d\"]  =  basins.T2M_ERA5 - basins.T2M_PMET\n",
    "basins[\"T2M_CR2METd\"]=  basins.T2M_CR2MET - basins.T2M_PMET"
   ]
  },
  {
   "cell_type": "code",
   "execution_count": null,
   "id": "45e4b09d-2170-4833-8b89-8a072af401ea",
   "metadata": {},
   "outputs": [],
   "source": [
    "geo_map = gpd.read_file(\"/home/rooda/Dropbox/ArcGIS/Chile/south_america.shp\")\n",
    "geo_map = geo_map[(geo_map.CC == \"CI\") | (geo_map.CC == \"AR\")]\n",
    "geo_map = geo_map.dissolve(by='REGION')\n",
    "geo_map[\"geometry\"] = geo_map.simplify(0.01)\n",
    "\n",
    "from shapely.geometry import Polygon\n",
    "poly_gdf = Polygon([(-76, -55.7), (-76, -40.6), (-68.1, -40.6), (-68.1, -55.7), (-76, -55.8)])\n",
    "poly_gdf = gpd.GeoDataFrame([1], geometry=[poly_gdf], crs=geo_map.crs)\n",
    "\n",
    "geo_map = geo_map.clip(poly_gdf)"
   ]
  },
  {
   "cell_type": "code",
   "execution_count": null,
   "id": "606fb0ce-6242-4ba0-beba-ce88d6f7703a",
   "metadata": {},
   "outputs": [],
   "source": [
    "fig = make_subplots(rows=2, cols=3, column_titles = [\"PMET\", \"ERA5\", \"CR2MET\"], horizontal_spacing = 0.01, vertical_spacing = 0.01, \n",
    "                    specs=[[{\"type\": \"scattergeo\"}, {\"type\": \"scattergeo\"}, {\"type\": \"scattergeo\"}],\n",
    "                           [{\"type\": \"scattergeo\"}, {\"type\": \"scattergeo\"}, {\"type\": \"scattergeo\"}]])\n",
    "\n",
    "# Precipitation -----------------------------------------------------------------------------------------------------------\n",
    "fig.add_trace(go.Choropleth(geojson = eval(geo_map['geometry'].to_json()),  locations = geo_map.index, z = geo_map['iso_num'], \n",
    "                            colorscale = [\"#d5d5d5\", \"#d5d5d5\"], showscale= False, marker_line_color ='white', marker_line_width=0.1), row=1, col=1)\n",
    "\n",
    "fig.add_trace(go.Choropleth(geojson = eval(basins['geometry'].to_json()),  locations = basins.index, z = basins['PP_PMET'], \n",
    "                            colorscale = [\"#ccebc5\", \"#4eb3d3\", \"#034b8a\"], marker_line_color ='white', marker_line_width=0.1, \n",
    "                            zmin = 0, zmax = 8000, colorbar=dict(len=0.25, x=0.23, y= 0.87, title='PP (mm)', thickness=20)), row=1, col=1)\n",
    "\n",
    "fig.add_trace(go.Choropleth(geojson = eval(geo_map['geometry'].to_json()),  locations = geo_map.index, z = geo_map['iso_num'], \n",
    "                            colorscale = [\"#d5d5d5\", \"#d5d5d5\"], showscale= False, marker_line_color ='white', marker_line_width=0.1), row=1, col=2)\n",
    "\n",
    "fig.add_trace(go.Choropleth(geojson = eval(basins['geometry'].to_json()), locations = basins.index, z = basins['PP_ERA5d'], \n",
    "                            colorscale=\"Earth\", marker_line_color='white', marker_line_width=0.1, \n",
    "                            colorbar=dict(len=0.25, x=0.89, y = 0.87, title='ΔPP (mm)', thickness=20), zmid = 0, zmax = 2000, zmin = -2000), row=1, col=2)\n",
    "\n",
    "fig.add_trace(go.Choropleth(geojson = eval(geo_map['geometry'].to_json()),  locations = geo_map.index, z = geo_map['iso_num'], \n",
    "                            colorscale = [\"#d5d5d5\", \"#d5d5d5\"], showscale= False, marker_line_color ='white', marker_line_width=0.1), row=1, col=3)\n",
    "\n",
    "fig.add_trace(go.Choropleth(geojson = eval(basins['geometry'].to_json()), locations = basins.index, z = basins['PP_CR2METd'],\n",
    "                            colorscale=\"Earth\", marker_line_color='white', marker_line_width=0.1, \n",
    "                            showscale= False, zmid = 0, zmax = 2000, zmin = -2000), row=1, col=3)\n",
    "\n",
    "# Temperature -----------------------------------------------------------------------------------------------------------\n",
    "fig.add_trace(go.Choropleth(geojson = eval(geo_map['geometry'].to_json()),  locations = geo_map.index, z = geo_map['iso_num'], \n",
    "                            colorscale = [\"#d5d5d5\", \"#d5d5d5\"], showscale= False, marker_line_color ='white', marker_line_width=0.1), row=2, col=1)\n",
    "\n",
    "fig.add_trace(go.Choropleth(geojson = eval(basins['geometry'].to_json()), locations = basins.index, z = basins['T2M_PMET'], \n",
    "                            colorscale=\"Sunset_r\", marker_line_color='white', marker_line_width=0.1, \n",
    "                            zmin = -2, zmax = 8, colorbar=dict(len=0.25, x=0.23, y= 0.37, title='T2M (ºC)', thickness=20)), row=2, col=1)\n",
    "\n",
    "fig.add_trace(go.Choropleth(geojson = eval(geo_map['geometry'].to_json()),  locations = geo_map.index, z = geo_map['iso_num'], \n",
    "                            colorscale = [\"#d5d5d5\", \"#d5d5d5\"], showscale= False, marker_line_color ='white', marker_line_width=0.1), row=2, col=2)\n",
    "\n",
    "fig.add_trace(go.Choropleth(geojson = eval(basins['geometry'].to_json()), locations = basins.index, z = basins['T2M_ERA5d'], \n",
    "                            colorscale=\"Earth_r\", marker_line_color='white', marker_line_width=0.1, \n",
    "                            colorbar=dict(len=0.25, x=0.89, y = 0.37, title='ΔT2M (ºC)', thickness=20), zmid = 0, zmax = 2, zmin = -2), row=2, col=2)\n",
    "\n",
    "fig.add_trace(go.Choropleth(geojson = eval(geo_map['geometry'].to_json()),  locations = geo_map.index, z = geo_map['iso_num'], \n",
    "                            colorscale = [\"#d5d5d5\", \"#d5d5d5\"], showscale= False, marker_line_color ='white', marker_line_width=0.1), row=2, col=3)\n",
    "\n",
    "fig.add_trace(go.Choropleth(geojson = eval(basins['geometry'].to_json()), locations = basins.index, z = basins['T2M_CR2METd'],\n",
    "                            colorscale=\"Earth_r\",  marker_line_color='white', marker_line_width=0.1, \n",
    "                            showscale= False, zmid = 0, zmax = 2, zmin = -2), row=2, col=3)\n",
    "\n",
    "fig.update_layout(autosize = False, width = 900, height = 1150, margin = dict(l=10, r=5, b=5, t=30, pad=0, autoexpand=True))\n",
    "fig.update_geos(showframe = True, framewidth = 1, lonaxis_range=[-76, -68], lataxis_range=[-55.8, -40.5], bgcolor = \"#f9f9f9\", showland = False, showcoastlines = False, showlakes = False)\n",
    "fig.show()"
   ]
  },
  {
   "cell_type": "code",
   "execution_count": null,
   "id": "610cd43e-cb4b-4428-a96c-4f3772e5849a",
   "metadata": {},
   "outputs": [],
   "source": [
    "cl     = px.colors.qualitative.D3\n",
    "\n",
    "fig = make_subplots(rows=2, cols=3, shared_yaxes = True, shared_xaxes = False, horizontal_spacing = 0.02, vertical_spacing = 0.05, \n",
    "                    subplot_titles = (\"PMET\", \"CR2MET\", \"ERA5\"), y_title = (\"Annual Temperature (°C)                              Annual Precipitation (mm)\"))\n",
    "\n",
    "fig.add_trace(go.Histogram(y = pp_pmet_np,   marker_color = cl[0], histnorm='percent', ybins=dict(start=0, size=200, end=8000)), row=1, col=1)\n",
    "fig.add_trace(go.Histogram(y = pp_cr2met_np, marker_color = cl[1], histnorm='percent', ybins=dict(start=0, size=200, end=8000)), row=1, col=2)\n",
    "fig.add_trace(go.Histogram(y = pp_era5_np,   marker_color = cl[2], histnorm='percent', ybins=dict(start=0, size=200, end=8000)), row=1, col=3)\n",
    "fig.update_yaxes(dtick = 2000, row=1, col=1)\n",
    "fig.update_yaxes(dtick = 2000, row=1, col=2)\n",
    "fig.update_yaxes(dtick = 2000, row=1, col=3)\n",
    "\n",
    "fig.add_trace(go.Histogram(y = t2m_pmet_np,  marker_color= cl[0], histnorm='percent', ybins=dict(start=-6, size=0.3, end=9)), row=2, col=1)\n",
    "fig.add_trace(go.Histogram(y = t2m_cr2met_np,marker_color= cl[1], histnorm='percent', ybins=dict(start=-6, size=0.3, end=9)), row=2, col=2)\n",
    "fig.add_trace(go.Histogram(y = t2m_era5_np,  marker_color= cl[2], histnorm='percent', ybins=dict(start=-6, size=0.3, end=9)), row=2, col=3)\n",
    "fig.update_yaxes(dtick = 3, row=2, col=1)\n",
    "fig.update_yaxes(dtick = 3, row=2, col=2)\n",
    "fig.update_yaxes(dtick = 3, row=2, col=3)\n",
    "\n",
    "fig.update_layout(height=800, width=700, template = \"seaborn\", showlegend = False, autosize=False,)\n",
    "#fig.update_layout(margin = {'l':0.2,'r':0.2,'t':0.2,'b':0.2})\n",
    "fig.update_xaxes(ticks=\"outside\", dtick = 2)\n",
    "fig.update_yaxes(ticks=\"outside\")\n",
    "fig.update_traces(opacity=0.7)\n",
    "fig.show()\n"
   ]
  },
  {
   "cell_type": "code",
   "execution_count": null,
   "id": "1465ece4-6773-4c28-ae19-4de3745568b8",
   "metadata": {},
   "outputs": [],
   "source": [
    "os.chdir(\"/home/rooda/OGGM_results/Future_climate/\")\n",
    "\n",
    "lat_coords = np.arange(-56,-40, 0.5)\n",
    "lon_coords = np.arange(-75,-67, 0.5)\n",
    "\n",
    "baseline_period = slice(\"1980-01-01\", \"2010-01-01\")\n",
    "future_period   = slice(\"2070-01-01\", \"2100-01-01\")\n",
    "\n",
    "gcm_list  = [\"ACCESS-CM2\", \"CMCC-ESM2\", \"EC-Earth3\", \"GFDL-ESM4\", \"INM-CM5-0\", \"KACE-1-0-G\", \"MPI-ESM1-2-HR\", \"MRI-ESM2-0\", \"MIROC6\", \"NorESM2-MM\"]\n",
    "ssp_list  = ['ssp126', 'ssp245', 'ssp585']\n",
    "\n",
    "results_pp = []\n",
    "results_t2m = []\n",
    "\n",
    "for ssp in ssp_list:\n",
    "    \n",
    "    results_gcm_pp  = []\n",
    "    results_gcm_t2m = []\n",
    "    \n",
    "    for gcm in gcm_list:\n",
    "        \n",
    "        pp_model_ssp = xr.open_dataset(\"PP_\" + gcm + \"_\" + ssp + \".nc\")[\"pr\"]\n",
    "        pp_model_ssp = pp_model_ssp.interp(lat = lat_coords, lon = lon_coords)\n",
    "        pp_model_ssp = pp_model_ssp.resample(time='YS').sum()\n",
    "        pp_change    = (pp_model_ssp.sel(time = future_period).mean(dim=\"time\") / pp_model_ssp.sel(time = baseline_period).mean(dim=\"time\"))-1\n",
    "        results_gcm_pp.append(pp_change)\n",
    "        \n",
    "        t2m_model_ssp = xr.open_mfdataset(\"T2M_\" + gcm + \"_\" + ssp + \".nc\")[\"tas\"]\n",
    "        t2m_model_ssp = t2m_model_ssp.interp(lat = lat_coords, lon = lon_coords)\n",
    "        t2m_model_ssp = t2m_model_ssp.resample(time='YS').mean()\n",
    "        t2m_change    = t2m_model_ssp.sel(time = future_period).mean(dim=\"time\") - t2m_model_ssp.sel(time = baseline_period).mean(dim=\"time\")\n",
    "        results_gcm_t2m.append(t2m_change)\n",
    "        print(ssp, gcm)\n",
    "        \n",
    "    results_gcm_pp  = xr.concat(results_gcm_pp,  dim='gcm').mean(dim = \"gcm\")\n",
    "    results_gcm_t2m = xr.concat(results_gcm_t2m, dim='gcm').mean(dim = \"gcm\")\n",
    "    results_pp.append(results_gcm_pp)\n",
    "    results_t2m.append(results_gcm_t2m)\n",
    "    \n",
    "final_pp  = xr.concat(results_pp,  dim='ssp')\n",
    "final_t2m = xr.concat(results_t2m, dim='ssp')"
   ]
  },
  {
   "cell_type": "code",
   "execution_count": null,
   "id": "9af490e2-e904-4eb5-ab98-bb2d9890213b",
   "metadata": {},
   "outputs": [],
   "source": [
    "final_t2m[0].plot()"
   ]
  },
  {
   "cell_type": "code",
   "execution_count": null,
   "id": "d6e2d7dc-ed71-45e9-ae80-da4963a2d955",
   "metadata": {},
   "outputs": [],
   "source": [
    "fig  = px.imshow(final_t2m[0], color_continuous_scale='RdBu_r', origin='lower')\n",
    "fig.show()"
   ]
  },
  {
   "cell_type": "code",
   "execution_count": null,
   "id": "9822582a-f1a4-430d-92d9-f731f2c5fcad",
   "metadata": {},
   "outputs": [],
   "source": [
    "?px.imshow"
   ]
  },
  {
   "cell_type": "code",
   "execution_count": null,
   "id": "0d36947b-5c77-4037-b3f2-412e9a93889d",
   "metadata": {},
   "outputs": [],
   "source": []
  }
 ],
 "metadata": {
  "kernelspec": {
   "display_name": "Python 3",
   "language": "python",
   "name": "python3"
  },
  "language_info": {
   "codemirror_mode": {
    "name": "ipython",
    "version": 3
   },
   "file_extension": ".py",
   "mimetype": "text/x-python",
   "name": "python",
   "nbconvert_exporter": "python",
   "pygments_lexer": "ipython3",
   "version": "3.9.15"
  }
 },
 "nbformat": 4,
 "nbformat_minor": 5
}

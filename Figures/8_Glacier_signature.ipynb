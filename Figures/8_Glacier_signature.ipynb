{
 "cells": [
  {
   "cell_type": "markdown",
   "id": "789db941-91ac-4e20-bed3-f7251f1a17c9",
   "metadata": {},
   "source": [
    "# Figure 8: Glacier Signature"
   ]
  },
  {
   "cell_type": "code",
   "execution_count": null,
   "id": "cbba8af2-7f80-4c89-b922-0f937b328bc9",
   "metadata": {},
   "outputs": [],
   "source": [
    "import numpy as np\n",
    "import pandas as pd\n",
    "import xarray as xr \n",
    "import geopandas as gpd\n",
    "from shapely.geometry import Polygon\n",
    "\n",
    "import os\n",
    "from glob import glob\n",
    "from oggm import utils\n",
    "\n",
    "import plotly.express as px\n",
    "import plotly.graph_objects as go\n",
    "from   plotly.subplots import make_subplots\n",
    "\n",
    "cl = px.colors.qualitative.D3\n",
    "os.chdir('/home/rooda/Dropbox/Patagonia/MS2 Results/')"
   ]
  },
  {
   "cell_type": "markdown",
   "id": "0b0e8ac0-d991-4716-98bf-f81c4aca30ff",
   "metadata": {},
   "source": [
    "## Random forest results"
   ]
  },
  {
   "cell_type": "code",
   "execution_count": null,
   "id": "b04e3b5a-5b80-44b2-89c1-15edfe3268e9",
   "metadata": {},
   "outputs": [],
   "source": [
    "data_RF = pd.read_csv(\"RF_importance_basin.csv\")\n",
    "data_RF = data_RF.replace({\"Glacier_Signature\": {\"Rate_change\" : 'Rate of change'}})\n",
    "data_RF = data_RF.drop(\"Unnamed: 0\", axis=1) \n",
    "\n",
    "data_RF['best'] = data_RF[[\"Outline\",\"Climate\", \"Volume\", \"GGM\", \"SSP\", \"BCM\"]].idxmax(axis=1)\n",
    "data_RF = data_RF.rename(columns = {\"Zone\": \"ID\"})\n",
    "\n",
    "data_RF.ID = data_RF.ID.str[1:] # trick ID code\n",
    "data_RF[\"ID\"] = data_RF.ID.astype(\"int64\")"
   ]
  },
  {
   "cell_type": "code",
   "execution_count": null,
   "id": "3607debf-0bf9-4af3-98e4-401951f00823",
   "metadata": {},
   "outputs": [],
   "source": [
    "# new df with the most important variable for each basin and metric (column)\n",
    "rf_timing      = data_RF[data_RF[\"Glacier_Signature\"] == \"Timing\"][[     \"ID\", \"best\"]].set_index(\"ID\")\n",
    "rf_frequency   = data_RF[data_RF[\"Glacier_Signature\"] == \"Frequency\"][[  \"ID\", \"best\"]].set_index(\"ID\")\n",
    "rf_duration    = data_RF[data_RF[\"Glacier_Signature\"] == \"Duration\"][[   \"ID\", \"best\"]].set_index(\"ID\")\n",
    "rf_magnitude   = data_RF[data_RF[\"Glacier_Signature\"] == \"Magnitude\"][[  \"ID\", \"best\"]].set_index(\"ID\")\n",
    "rf_rate_change = data_RF[data_RF[\"Glacier_Signature\"] == \"Rate of change\"][[\"ID\", \"best\"]].set_index(\"ID\")\n",
    "\n",
    "data_RF_new = pd.concat([rf_timing, rf_frequency, rf_duration, rf_magnitude, rf_rate_change], axis=1)\n",
    "data_RF_new.columns = ['Timing', 'Frequency', 'Duration', 'Magnitude', 'Rate of change']"
   ]
  },
  {
   "cell_type": "markdown",
   "id": "34602585-2204-4047-86f7-e30f0439d0c4",
   "metadata": {},
   "source": [
    "##  Basin polygons"
   ]
  },
  {
   "cell_type": "code",
   "execution_count": null,
   "id": "f090c51c-e0fb-4052-b4e8-57df9f9cc645",
   "metadata": {},
   "outputs": [],
   "source": [
    "# merge gpd and RF dataset\n",
    "basins = gpd.read_file(\"/home/rooda/Dropbox/Patagonia/GIS South/Basins_Patagonia_ice.shp\")\n",
    "basins[\"ID\"] = basins.ID.astype(\"int64\")\n",
    "basins = basins.set_index(\"ID\")\n",
    "\n",
    "names = [\"Yelcho\", \"Baker\", \"Santa Cruz                           \", \"Palena\", \"Grey\", \"Puelo\", \"Cisnes\", \"Aysen\", \"Pascua\"]\n",
    "basins.loc[basins.basin_area > 5000, \"Name\"] = names\n",
    "\n",
    "basins = pd.merge(basins, data_RF_new, left_index=True, right_index=True)\n",
    "basins # only 73 because we need to update the runs "
   ]
  },
  {
   "cell_type": "code",
   "execution_count": null,
   "id": "67e197e7-dce6-49ae-9815-2f3ca216fd7c",
   "metadata": {},
   "outputs": [],
   "source": [
    "# more date for the base map\n",
    "geo_map = gpd.read_file(\"/home/rooda/Dropbox/ArcGIS/Chile/south_america.shp\")\n",
    "geo_map = geo_map[(geo_map.CC == \"CI\") | (geo_map.CC == \"AR\")]\n",
    "geo_map = geo_map.dissolve(by='REGION')\n",
    "geo_map[\"geometry\"] = geo_map.simplify(0.01)\n",
    "poly_gdf = Polygon([(-74.98, -55.7), (-74.98, -40.52), (-68.05, -40.52), (-68.05, -55.7), (-74.98, -55.8)])\n",
    "poly_gdf = gpd.GeoDataFrame([1], geometry=[poly_gdf], crs=geo_map.crs)\n",
    "\n",
    "geo_map = geo_map.clip(poly_gdf)"
   ]
  },
  {
   "cell_type": "code",
   "execution_count": null,
   "id": "896c28ee-9cbd-43cf-981b-7dde10cfd960",
   "metadata": {},
   "outputs": [],
   "source": [
    "fig = make_subplots(rows=2, cols=5, horizontal_spacing = 0.01, vertical_spacing = 0.01, row_heights = [0.42,0.58], \n",
    "                    specs=[[{\"type\": \"box\", \"colspan\": 5}, None,                   None,                    None,                    None], \n",
    "                           [{\"type\": \"scattergeo\"}, {\"type\": \"scattergeo\"}, {\"type\": \"scattergeo\"}, {\"type\": \"scattergeo\"}, {\"type\": \"scattergeo\"}]])\n",
    "\n",
    "# a) Boxplot -----------------------------------------------------------------------------------------------------------\n",
    "fig.add_trace(go.Box(x = data_RF.Glacier_Signature, y = data_RF.Outline/100, name = \"Geometry\",  boxmean=True, marker_color=cl[3], showlegend = False), row=1, col=1)\n",
    "fig.add_trace(go.Box(x = data_RF.Glacier_Signature, y = data_RF.Volume/100,  name = \"Volume\",    boxmean=True, marker_color=cl[1], showlegend = False), row=1, col=1)\n",
    "fig.add_trace(go.Box(x = data_RF.Glacier_Signature, y = data_RF.Climate/100, name = \"Climate\",   boxmean=True, marker_color=cl[2], showlegend = False), row=1, col=1)\n",
    "fig.add_trace(go.Box(x = data_RF.Glacier_Signature, y = data_RF.GGM/100,     name = \"GGM\",       boxmean=True, marker_color=cl[0], showlegend = False), row=1, col=1)\n",
    "fig.add_trace(go.Box(x = data_RF.Glacier_Signature, y = data_RF.SSP/100,     name = \"SSP\",       boxmean=True, marker_color=cl[4], showlegend = False), row=1, col=1)\n",
    "fig.add_trace(go.Box(x = data_RF.Glacier_Signature, y = data_RF.BCM/100,     name = \"BCM\",       boxmean=True, marker_color=cl[5], showlegend = False), row=1, col=1)\n",
    "\n",
    "fig.update_yaxes(showline = True, linecolor = 'rgba(0,0,0,0.5)', linewidth = 1, ticks=\"outside\", mirror=True,  griddash = \"dot\", zeroline = False, title='Importance (% IncMSE)', tickformat = ',.0%',row=1, col=1)\n",
    "fig.update_xaxes(showline = True, linecolor = 'rgba(0,0,0,0.5)', linewidth = 1, ticks=\"outside\", mirror=True,  griddash = \"dot\", tickfont = dict(size=16), row=1, col=1)\n",
    "fig.add_annotation(text=\"a)\", font = dict(size = 18), xref=\"paper\", yref=\"paper\", x = 0.01, y = 0.99, showarrow=False)\n",
    "fig.update_layout(boxgroupgap=0.15, boxgap=0.2, boxmode='group', font=dict(size=14))\n",
    "\n",
    "# maps -----------------------------------------------------------------------------------------------------------------\n",
    "basins = basins.replace({\"Outline\":0, \"Volume\":1, \"Climate\":2, \"GGM\":3, \"SSP\":4, \"BCM\":5}) # trick for plotting using go.Choropleth (discrete data)\n",
    "\n",
    "for x in range(1,6): \n",
    "    fig.add_trace(go.Choropleth(geojson = eval(geo_map['geometry'].to_json()),  locations = geo_map.index, z = geo_map['iso_num'],\n",
    "                            colorscale = [\"#d5d5d5\", \"#d5d5d5\"], showscale= False, marker_line_color ='white', marker_line_width=0.1), row=2, col=x)\n",
    "\n",
    "    fig.add_scattergeo(geojson = eval(basins['geometry'].to_json()), locations = basins.index, text = basins['Name'], mode = 'text', showlegend = False, \n",
    "                   textfont=dict(size=8, color = \"rgba(255,255,255,0.7)\"),row=2, col=x)\n",
    "    \n",
    "# b) Timing -----------------------------------------------------------------------------------------------------------\n",
    "fig.add_trace(go.Choropleth(geojson = eval(basins['geometry'].to_json()),  locations = basins.index, z = basins['Timing'],\n",
    "                            coloraxis=\"coloraxis\", showscale= False, marker_line_color ='white', marker_line_width=0.1), row=2, col=1)\n",
    "fig.add_annotation(text=\"b)\", font = dict(size = 18), xref=\"paper\", yref=\"paper\", x = 0.01, y = 0.52, showarrow=False)\n",
    "\n",
    "# c) Frequency -----------------------------------------------------------------------------------------------------------\n",
    "fig.add_trace(go.Choropleth(geojson = eval(basins['geometry'].to_json()), locations = basins.index, z = basins['Frequency'], \n",
    "                            coloraxis=\"coloraxis\", showscale= False, marker_line_color='white', marker_line_width=0.1), row=2, col=2)\n",
    "fig.add_annotation(text=\"c)\", font = dict(size = 18), xref=\"paper\", yref=\"paper\", x = 0.205, y = 0.52, showarrow=False)\n",
    "\n",
    "# d) Duration -----------------------------------------------------------------------------------------------------------\n",
    "fig.add_trace(go.Choropleth(geojson = eval(basins['geometry'].to_json()), locations = basins.index, z = basins['Duration'],\n",
    "                            coloraxis=\"coloraxis\", marker_line_color='white', marker_line_width=0.1, showscale= False), row=2, col=3)\n",
    "fig.add_annotation(text=\"d)\", font = dict(size = 18), xref=\"paper\", yref=\"paper\", x = 0.42, y = 0.52, showarrow=False)\n",
    "\n",
    "# e) Magnitude -----------------------------------------------------------------------------------------------------------\n",
    "fig.add_trace(go.Choropleth(geojson = eval(basins['geometry'].to_json()), locations = basins.index, z = basins['Magnitude'], \n",
    "                            coloraxis=\"coloraxis\", marker_line_color='white', marker_line_width=0.1, showscale= False), row=2, col=4)\n",
    "fig.add_annotation(text=\"e)\", font = dict(size = 18), xref=\"paper\", yref=\"paper\", x = 0.62, y = 0.52, showarrow=False)\n",
    "\n",
    "# f) Rate of change -----------------------------------------------------------------------------------------------------------\n",
    "fig.add_trace(go.Choropleth(geojson = eval(basins['geometry'].to_json()), locations = basins.index, z = basins['Rate of change'], \n",
    "                            coloraxis=\"coloraxis\",  marker_line_color='white', marker_line_width=0.1, showscale= False), row=2, col=5)\n",
    "fig.add_annotation(text=\"f)\", font = dict(size = 18), xref=\"paper\", yref=\"paper\", x = 0.83, y = 0.52, showarrow=False)\n",
    "\n",
    "cl = [px.colors.qualitative.D3[3], px.colors.qualitative.D3[1], px.colors.qualitative.D3[2], px.colors.qualitative.D3[0], px.colors.qualitative.D3[4], px.colors.qualitative.D3[5]]\n",
    "cc_scale = ([(0, cl[0])] + [(e, cl[(i + 1) // 2]) for i, e in enumerate(np.repeat(np.linspace(0, 1, 7)[1:6], 2))] + [(1, cl[5])])\n",
    "colorbar  =  {\"tickvals\": [0,1,2,3,4,5], \"ticktext\": [\"Outline\", \"Volume\", \"Climate\", \"GGM\", \"SSP\", \"BCM\"], \"ticklabelposition\" : \"outside\", \"len\" : 0.9}\n",
    "coloraxis =  {\"colorscale\": cc_scale, \"colorbar\": colorbar, \"cmin\" : -0.5, \"cmax\" : 5.5}\n",
    "\n",
    "## Layout and geos\n",
    "fig.update_geos(showframe = True, framewidth = 1, framecolor = \"rgba(0,0,0,0.5)\", lonaxis_range=[-75, -68], lataxis_range=[-55.8, -40.5], \n",
    "                bgcolor = \"#f9f9f9\", showland = False, showcoastlines = False, showlakes = False)\n",
    "fig.update_layout(coloraxis = coloraxis, plot_bgcolor=\"rgba(213,213,213,0.7)\")\n",
    "fig.update_layout(autosize = False, width = 1250, height = 900, margin = dict(l=5, r=5, b=5, t=5))\n",
    "fig.write_image(\"/home/rooda/Dropbox/Patagonia/MS2 Results/Figure_8_signature.png\", scale=4)\n",
    "fig.show()"
   ]
  },
  {
   "cell_type": "markdown",
   "id": "792071dc-91ec-4c1b-b29b-87532ceaf91b",
   "metadata": {},
   "source": [
    "## Figures for slides"
   ]
  },
  {
   "cell_type": "code",
   "execution_count": null,
   "id": "a803cd69-43ad-45dd-809a-458904ca6566",
   "metadata": {},
   "outputs": [],
   "source": [
    "# data\n",
    "data_timing    = pd.read_csv(\"data_peak_water_year.csv\")\n",
    "data_rate      = pd.read_csv(\"data_rate_change.csv\")\n",
    "data_duration  = pd.read_csv(\"data_duration.csv\")\n",
    "data_magnitude = pd.read_csv(\"data_peak_water_value.csv\")\n",
    "data_frequency = pd.read_csv(\"data_freq.csv\")"
   ]
  },
  {
   "cell_type": "code",
   "execution_count": null,
   "id": "73595bb3-2fb3-41ee-b240-afd6930ee0e3",
   "metadata": {
    "tags": []
   },
   "outputs": [],
   "source": [
    "data = data_timing\n",
    "fig  = make_subplots(rows=3, cols=3, horizontal_spacing = 0.04, vertical_spacing = 0.04, \n",
    "                       subplot_titles = zones.reshape(1,9).tolist()[0], shared_xaxes= True, shared_yaxes= True, \n",
    "                       x_title = \"Peak water (year)\", y_title = \"Percent (%)\")\n",
    "\n",
    "for x in range(0,3):\n",
    "    for y in range(0,3):\n",
    "        fig.add_trace(go.Histogram(x = data[zones[x,y]].to_numpy(), histnorm='percent', \n",
    "                                   marker_color= cl[0], xbins=dict(start=1980, size=5, end=2100), \n",
    "                                   showlegend=False), row=x+1, col=y+1)\n",
    "        \n",
    "fig.update_layout(bargap=0.1, font=dict(size=14), barmode='overlay', template='seaborn', autosize=False, width=1100, height=700)\n",
    "\n",
    "fig.update_xaxes(range= [1980,2100])\n",
    "fig.update_yaxes(range= [0,50])\n",
    "fig.update_traces(opacity=0.7)\n",
    "fig.show()"
   ]
  },
  {
   "cell_type": "code",
   "execution_count": null,
   "id": "2d01796b-90fc-49fc-8ab9-e8dadc010df9",
   "metadata": {
    "tags": []
   },
   "outputs": [],
   "source": [
    "data = data_timing\n",
    "fig  = make_subplots(rows=3, cols=3, horizontal_spacing = 0.04, vertical_spacing = 0.04, \n",
    "                       subplot_titles = zones.reshape(1,9).tolist()[0], shared_xaxes= True, shared_yaxes= True, \n",
    "                       x_title = \"Peak water (year)\", y_title = \"Percent (%)\")\n",
    "\n",
    "for x in range(0,3):\n",
    "    for y in range(0,3):\n",
    "        fig.add_trace(go.Histogram(x = data[(data.SSP == \"ssp126\")][zones[x,y]], name = \"SSP126\", histnorm='percent', \n",
    "                                   marker_color= cl[0], xbins=dict(start=1980, size=5, end=2100), \n",
    "                                   showlegend=True), row=x+1, col=y+1)\n",
    "\n",
    "        fig.add_trace(go.Histogram(x = data[(data.SSP == \"ssp585\")][zones[x,y]], name = \"SSP585\", histnorm='percent', \n",
    "                                   marker_color= cl[3], xbins=dict(start=1980, size=5, end=2100), \n",
    "                                   showlegend=True), row=x+1, col=y+1)\n",
    "        \n",
    "fig.update_layout(bargap = 0.1, font=dict(size=14), barmode='overlay', template='seaborn', autosize=False, width=1100, height=700)\n",
    "\n",
    "fig.update_xaxes(range= [1980,2100])\n",
    "fig.update_yaxes(range= [0,50])\n",
    "fig.update_traces(opacity=0.7)\n",
    "fig.show()"
   ]
  }
 ],
 "metadata": {
  "kernelspec": {
   "display_name": "Python 3",
   "language": "python",
   "name": "python3"
  },
  "language_info": {
   "codemirror_mode": {
    "name": "ipython",
    "version": 3
   },
   "file_extension": ".py",
   "mimetype": "text/x-python",
   "name": "python",
   "nbconvert_exporter": "python",
   "pygments_lexer": "ipython3",
   "version": "3.9.15"
  }
 },
 "nbformat": 4,
 "nbformat_minor": 5
}

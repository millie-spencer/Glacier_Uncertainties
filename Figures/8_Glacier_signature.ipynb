{
 "cells": [
  {
   "cell_type": "markdown",
   "id": "789db941-91ac-4e20-bed3-f7251f1a17c9",
   "metadata": {},
   "source": [
    "# Figure 8: Glacier Signature"
   ]
  },
  {
   "cell_type": "code",
   "execution_count": null,
   "id": "cbba8af2-7f80-4c89-b922-0f937b328bc9",
   "metadata": {},
   "outputs": [],
   "source": [
    "import numpy as np\n",
    "import pandas as pd\n",
    "import xarray as xr \n",
    "import geopandas as gpd\n",
    "from shapely.geometry import Polygon\n",
    "\n",
    "import os\n",
    "from glob import glob\n",
    "from oggm import utils\n",
    "\n",
    "import plotly.express as px\n",
    "import plotly.graph_objects as go\n",
    "from   plotly.subplots import make_subplots\n",
    "\n",
    "cl = px.colors.qualitative.D3\n",
    "os.chdir('/home/rooda/Dropbox/Patagonia/MS2 Results/')"
   ]
  },
  {
   "cell_type": "markdown",
   "id": "0b0e8ac0-d991-4716-98bf-f81c4aca30ff",
   "metadata": {},
   "source": [
    "## Random forest results"
   ]
  },
  {
   "cell_type": "code",
   "execution_count": null,
   "id": "b04e3b5a-5b80-44b2-89c1-15edfe3268e9",
   "metadata": {},
   "outputs": [],
   "source": [
    "data_RF = pd.read_csv(\"RF_importance_basin.csv\", index_col = 0 )\n",
    "data_RF = data_RF.replace({\"Metric\": {\"Rate_change\" : 'Rate of change'}})\n",
    "data_RF['best'] = data_RF[[\"Outline\",\"Climate\", \"Volume\", \"GGM\", \"SSP\", \"BCM\"]].idxmax(axis=1)\n",
    "data_RF"
   ]
  },
  {
   "cell_type": "code",
   "execution_count": null,
   "id": "3607debf-0bf9-4af3-98e4-401951f00823",
   "metadata": {},
   "outputs": [],
   "source": [
    "# new df with the most important variable for each basin and metric (column)\n",
    "rf_timing      = data_RF[data_RF[\"Metric\"] == \"Timing\"][[     \"ID\", \"best\"]].set_index(\"ID\")\n",
    "rf_frequency   = data_RF[data_RF[\"Metric\"] == \"Frequency\"][[  \"ID\", \"best\"]].set_index(\"ID\")\n",
    "rf_duration    = data_RF[data_RF[\"Metric\"] == \"Duration\"][[   \"ID\", \"best\"]].set_index(\"ID\")\n",
    "rf_magnitude   = data_RF[data_RF[\"Metric\"] == \"Magnitude\"][[  \"ID\", \"best\"]].set_index(\"ID\")\n",
    "rf_rate_change = data_RF[data_RF[\"Metric\"] == \"Rate of change\"][[\"ID\", \"best\"]].set_index(\"ID\")\n",
    "\n",
    "data_RF_new = pd.concat([rf_timing, rf_frequency, rf_duration, rf_magnitude, rf_rate_change], axis=1)\n",
    "data_RF_new.columns = ['Timing', 'Frequency', 'Duration', 'Magnitude', 'Rate of change']"
   ]
  },
  {
   "cell_type": "markdown",
   "id": "34602585-2204-4047-86f7-e30f0439d0c4",
   "metadata": {},
   "source": [
    "##  Basin polygons"
   ]
  },
  {
   "cell_type": "code",
   "execution_count": null,
   "id": "f090c51c-e0fb-4052-b4e8-57df9f9cc645",
   "metadata": {},
   "outputs": [],
   "source": [
    "# merge gpd and RF dataset\n",
    "basins = gpd.read_file(\"/home/rooda/Dropbox/Patagonia/GIS South/Basins_Patagonia_ice.shp\")\n",
    "basins[\"ID\"] = basins.ID.astype(\"int64\")\n",
    "basins = basins.set_index(\"ID\")\n",
    "\n",
    "names = [\"Yelcho\", \"Baker\", \"Santa Cruz                           \", \"Palena\", \"Grey\", \"Puelo\", \"Cisnes\", \"Aysen\", \"Pascua\"]\n",
    "basins.loc[basins.basin_area > 5000, \"Name\"] = names\n",
    "\n",
    "basins = pd.merge(basins, data_RF_new, left_index=True, right_index=True)"
   ]
  },
  {
   "cell_type": "code",
   "execution_count": null,
   "id": "67e197e7-dce6-49ae-9815-2f3ca216fd7c",
   "metadata": {},
   "outputs": [],
   "source": [
    "# more date for the base map\n",
    "geo_map = gpd.read_file(\"/home/rooda/Dropbox/ArcGIS/Chile/south_america.shp\")\n",
    "geo_map = geo_map[(geo_map.CC == \"CI\") | (geo_map.CC == \"AR\")]\n",
    "geo_map = geo_map.dissolve(by='REGION')\n",
    "geo_map[\"geometry\"] = geo_map.simplify(0.01)\n",
    "poly_gdf = Polygon([(-74.98, -55.7), (-74.98, -40.52), (-68.05, -40.52), (-68.05, -55.7), (-74.98, -55.8)])\n",
    "poly_gdf = gpd.GeoDataFrame([1], geometry=[poly_gdf], crs=geo_map.crs)\n",
    "\n",
    "geo_map = geo_map.clip(poly_gdf)"
   ]
  },
  {
   "cell_type": "code",
   "execution_count": null,
   "id": "a8d5e7e6-fd94-480a-b5ad-84441800f237",
   "metadata": {},
   "outputs": [],
   "source": [
    "metrics = data_RF.Metric.unique()\n",
    "\n",
    "fig = make_subplots(rows=2, cols=5, horizontal_spacing = 0.01, vertical_spacing = 0.01, row_heights = [0.35,0.65], subplot_titles = metrics,\n",
    "                    specs=[[{\"type\": \"box\"},               {\"type\": \"box\"},        {\"type\": \"box\"},        {\"type\": \"box\"},        {\"type\": \"box\"}], \n",
    "                           [{\"type\": \"scattergeo\"}, {\"type\": \"scattergeo\"}, {\"type\": \"scattergeo\"}, {\"type\": \"scattergeo\"}, {\"type\": \"scattergeo\"}]])\n",
    "\n",
    "# a to e) Boxplot -----------------------------------------------------------------------------------------------------------\n",
    "for x in range(0,5):\n",
    "    data_RF_x = data_RF[data_RF.Metric == metrics[x]]\n",
    "    fig.add_trace(go.Box(x = data_RF_x.Metric, y = data_RF_x.Outline, name = \"Geometry\",  marker_color=cl[3], offsetgroup=1, showlegend = False), row=1, col=x+1)\n",
    "    fig.add_trace(go.Box(x = data_RF_x.Metric, y = data_RF_x.Volume,  name = \"Volume\",    marker_color=cl[1], offsetgroup=2, showlegend = False), row=1, col=x+1)\n",
    "    fig.add_trace(go.Box(x = data_RF_x.Metric, y = data_RF_x.Climate, name = \"Climate\",   marker_color=cl[2], offsetgroup=3, showlegend = False), row=1, col=x+1)\n",
    "    fig.add_trace(go.Box(x = data_RF_x.Metric, y = data_RF_x.GGM,     name = \"GGM\",       marker_color=cl[0], offsetgroup=4, showlegend = False), row=1, col=x+1)\n",
    "    fig.add_trace(go.Box(x = data_RF_x.Metric, y = data_RF_x.SSP,     name = \"SSP\",       marker_color=cl[4], offsetgroup=5, showlegend = False), row=1, col=x+1)\n",
    "    fig.add_trace(go.Box(x = data_RF_x.Metric, y = data_RF_x.BCM,     name = \"BCM\",       marker_color=cl[5], offsetgroup=6, showlegend = False), row=1, col=x+1)\n",
    "\n",
    "fig.update_yaxes(title='Importance (decrease of RMSE)', range = [-2,30], dtick = 10, row = 1, col = 1)\n",
    "fig.update_yaxes(range = [-1,12], dtick = 4, row = 1, col = 2)\n",
    "fig.update_yaxes(range = [-1,12], dtick = 4, row = 1, col = 3)\n",
    "fig.update_yaxes(range = [-15,180], dtick = 60, row = 1, col = 4)\n",
    "fig.update_yaxes(range = [-2,30], dtick = 10, row = 1, col = 5)\n",
    "\n",
    "fig.update_yaxes(showline = True, linecolor = 'rgba(0,0,0,0.5)', linewidth = 1, ticks=\"inside\",  ticklabelposition =\"inside\", mirror=True,  griddash = \"dot\", zeroline = False)\n",
    "fig.update_xaxes(showline = True,  showgrid=False, showticklabels= False, linecolor = 'rgba(0,0,0,0.5)', linewidth = 1, ticks=\"outside\", mirror=True, tickfont = dict(size=16))\n",
    "fig.update_layout(boxgroupgap=0.15, boxgap=0.2, boxmode='group', font=dict(size=14))\n",
    "\n",
    "# maps -----------------------------------------------------------------------------------------------------------------\n",
    "basins = basins.replace({\"Outline\":0, \"Volume\":1, \"Climate\":2, \"GGM\":3, \"SSP\":4, \"BCM\":5}) # trick for plotting using go.Choropleth (discrete data)\n",
    "\n",
    "for x in range(1,6): \n",
    "    fig.add_trace(go.Choropleth(geojson = eval(geo_map['geometry'].to_json()),  locations = geo_map.index, z = geo_map['iso_num'],\n",
    "                            colorscale = [\"#d5d5d5\", \"#d5d5d5\"], showscale= False, marker_line_color ='white', marker_line_width=0.1), row=2, col=x)\n",
    "\n",
    "    fig.add_scattergeo(geojson = eval(basins['geometry'].to_json()), locations = basins.index, text = basins['Name'], mode = 'text', showlegend = False, \n",
    "                   textfont=dict(size=8, color = \"rgba(255,255,255,0.7)\"),row=2, col=x)\n",
    "    \n",
    "# f) Timing -----------------------------------------------------------------------------------------------------------\n",
    "fig.add_trace(go.Choropleth(geojson = eval(basins['geometry'].to_json()),  locations = basins.index, z = basins['Timing'],\n",
    "                            coloraxis=\"coloraxis\", showscale= False, marker_line_color ='white', marker_line_width=0.1), row=2, col=1)\n",
    "#fig.add_annotation(text=\"b)\", font = dict(size = 18), xref=\"paper\", yref=\"paper\", x = 0.01, y = 0.52, showarrow=False)\n",
    "\n",
    "# g) Frequency -----------------------------------------------------------------------------------------------------------\n",
    "fig.add_trace(go.Choropleth(geojson = eval(basins['geometry'].to_json()), locations = basins.index, z = basins['Frequency'], \n",
    "                            coloraxis=\"coloraxis\", showscale= False, marker_line_color='white', marker_line_width=0.1), row=2, col=2)\n",
    "#fig.add_annotation(text=\"c)\", font = dict(size = 18), xref=\"paper\", yref=\"paper\", x = 0.205, y = 0.52, showarrow=False)\n",
    "\n",
    "# h) Duration -----------------------------------------------------------------------------------------------------------\n",
    "fig.add_trace(go.Choropleth(geojson = eval(basins['geometry'].to_json()), locations = basins.index, z = basins['Duration'],\n",
    "                            coloraxis=\"coloraxis\", marker_line_color='white', marker_line_width=0.1, showscale= False), row=2, col=3)\n",
    "#fig.add_annotation(text=\"d)\", font = dict(size = 18), xref=\"paper\", yref=\"paper\", x = 0.42, y = 0.52, showarrow=False)\n",
    "\n",
    "# i) Magnitude -----------------------------------------------------------------------------------------------------------\n",
    "fig.add_trace(go.Choropleth(geojson = eval(basins['geometry'].to_json()), locations = basins.index, z = basins['Magnitude'], \n",
    "                            coloraxis=\"coloraxis\", marker_line_color='white', marker_line_width=0.1, showscale= False), row=2, col=4)\n",
    "#fig.add_annotation(text=\"e)\", font = dict(size = 18), xref=\"paper\", yref=\"paper\", x = 0.62, y = 0.52, showarrow=False)\n",
    "\n",
    "# j) Rate of change -----------------------------------------------------------------------------------------------------------\n",
    "fig.add_trace(go.Choropleth(geojson = eval(basins['geometry'].to_json()), locations = basins.index, z = basins['Rate of change'], \n",
    "                            coloraxis=\"coloraxis\",  marker_line_color='white', marker_line_width=0.1, showscale= False), row=2, col=5)\n",
    "#fig.add_annotation(text=\"f)\", font = dict(size = 18), xref=\"paper\", yref=\"paper\", x = 0.83, y = 0.52, showarrow=False)\n",
    "\n",
    "cl = [px.colors.qualitative.D3[3], px.colors.qualitative.D3[1], px.colors.qualitative.D3[2], px.colors.qualitative.D3[0], px.colors.qualitative.D3[4], px.colors.qualitative.D3[5]]\n",
    "cc_scale = ([(0, cl[0])] + [(e, cl[(i + 1) // 2]) for i, e in enumerate(np.repeat(np.linspace(0, 1, 7)[1:6], 2))] + [(1, cl[5])])\n",
    "colorbar  =  {\"tickvals\": [0,1,2,3,4,5], \"ticktext\": [\"Outline\", \"Volume\", \"Climate\", \"GGM\", \"SSP\", \"BCM\"], \"ticklabelposition\" : \"outside\", \"len\" : 0.9}\n",
    "coloraxis =  {\"colorscale\": cc_scale, \"colorbar\": colorbar, \"cmin\" : -0.5, \"cmax\" : 5.5}\n",
    "\n",
    "## Layout and geos\n",
    "fig.update_geos(showframe = True, framewidth = 1, framecolor = \"rgba(0,0,0,0.5)\", lonaxis_range=[-75, -68], lataxis_range=[-55.8, -40.5], \n",
    "                bgcolor = \"#f9f9f9\", showland = False, showcoastlines = False, showlakes = False)\n",
    "fig.update_layout(coloraxis = coloraxis, plot_bgcolor=\"rgba(213,213,213,0.7)\")\n",
    "fig.update_layout(autosize = False, width = 1250, height = 750, margin = dict(l=10, r=10, b=10, t=10))\n",
    "fig.write_image(\"/home/rooda/Dropbox/Patagonia/MS2 Results/Figure_8_signature.png\", scale=4)\n",
    "fig.show()"
   ]
  },
  {
   "cell_type": "markdown",
   "id": "792071dc-91ec-4c1b-b29b-87532ceaf91b",
   "metadata": {},
   "source": [
    "## Figures for slides"
   ]
  },
  {
   "cell_type": "code",
   "execution_count": null,
   "id": "a803cd69-43ad-45dd-809a-458904ca6566",
   "metadata": {},
   "outputs": [],
   "source": [
    "# data\n",
    "data_timing    = pd.read_csv(\"data_peak_water_year.csv\")\n",
    "data_rate      = pd.read_csv(\"data_rate_change.csv\")\n",
    "data_duration  = pd.read_csv(\"data_duration.csv\")\n",
    "data_magnitude = pd.read_csv(\"data_peak_water_value.csv\")\n",
    "data_frequency = pd.read_csv(\"data_freq.csv\")"
   ]
  },
  {
   "cell_type": "code",
   "execution_count": null,
   "id": "73595bb3-2fb3-41ee-b240-afd6930ee0e3",
   "metadata": {
    "tags": []
   },
   "outputs": [],
   "source": [
    "data = data_timing\n",
    "fig  = make_subplots(rows=3, cols=3, horizontal_spacing = 0.04, vertical_spacing = 0.04, \n",
    "                       subplot_titles = zones.reshape(1,9).tolist()[0], shared_xaxes= True, shared_yaxes= True, \n",
    "                       x_title = \"Peak water (year)\", y_title = \"Percent (%)\")\n",
    "\n",
    "for x in range(0,3):\n",
    "    for y in range(0,3):\n",
    "        fig.add_trace(go.Histogram(x = data[zones[x,y]].to_numpy(), histnorm='percent', \n",
    "                                   marker_color= cl[0], xbins=dict(start=1980, size=5, end=2100), \n",
    "                                   showlegend=False), row=x+1, col=y+1)\n",
    "        \n",
    "fig.update_layout(bargap=0.1, font=dict(size=14), barmode='overlay', template='seaborn', autosize=False, width=1100, height=700)\n",
    "\n",
    "fig.update_xaxes(range= [1980,2100])\n",
    "fig.update_yaxes(range= [0,50])\n",
    "fig.update_traces(opacity=0.7)\n",
    "fig.show()"
   ]
  },
  {
   "cell_type": "code",
   "execution_count": null,
   "id": "2d01796b-90fc-49fc-8ab9-e8dadc010df9",
   "metadata": {
    "tags": []
   },
   "outputs": [],
   "source": [
    "data = data_timing\n",
    "fig  = make_subplots(rows=3, cols=3, horizontal_spacing = 0.04, vertical_spacing = 0.04, \n",
    "                       subplot_titles = zones.reshape(1,9).tolist()[0], shared_xaxes= True, shared_yaxes= True, \n",
    "                       x_title = \"Peak water (year)\", y_title = \"Percent (%)\")\n",
    "\n",
    "for x in range(0,3):\n",
    "    for y in range(0,3):\n",
    "        fig.add_trace(go.Histogram(x = data[(data.SSP == \"ssp126\")][zones[x,y]], name = \"SSP126\", histnorm='percent', \n",
    "                                   marker_color= cl[0], xbins=dict(start=1980, size=5, end=2100), \n",
    "                                   showlegend=True), row=x+1, col=y+1)\n",
    "\n",
    "        fig.add_trace(go.Histogram(x = data[(data.SSP == \"ssp585\")][zones[x,y]], name = \"SSP585\", histnorm='percent', \n",
    "                                   marker_color= cl[3], xbins=dict(start=1980, size=5, end=2100), \n",
    "                                   showlegend=True), row=x+1, col=y+1)\n",
    "        \n",
    "fig.update_layout(bargap = 0.1, font=dict(size=14), barmode='overlay', template='seaborn', autosize=False, width=1100, height=700)\n",
    "\n",
    "fig.update_xaxes(range= [1980,2100])\n",
    "fig.update_yaxes(range= [0,50])\n",
    "fig.update_traces(opacity=0.7)\n",
    "fig.show()"
   ]
  }
 ],
 "metadata": {
  "kernelspec": {
   "display_name": "Python 3",
   "language": "python",
   "name": "python3"
  },
  "language_info": {
   "codemirror_mode": {
    "name": "ipython",
    "version": 3
   },
   "file_extension": ".py",
   "mimetype": "text/x-python",
   "name": "python",
   "nbconvert_exporter": "python",
   "pygments_lexer": "ipython3",
   "version": "3.9.15"
  },
  "toc-autonumbering": false
 },
 "nbformat": 4,
 "nbformat_minor": 5
}

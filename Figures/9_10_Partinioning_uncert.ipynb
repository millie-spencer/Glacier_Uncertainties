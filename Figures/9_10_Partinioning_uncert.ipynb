{
 "cells": [
  {
   "cell_type": "markdown",
   "id": "546609a9-0940-419c-ae28-cac52ea2ec11",
   "metadata": {},
   "source": [
    "# Partioning the evolution of uncertainties"
   ]
  },
  {
   "cell_type": "code",
   "execution_count": null,
   "id": "10885fd0-3cf4-4958-ade7-81c84c48e333",
   "metadata": {},
   "outputs": [],
   "source": [
    "import os\n",
    "import numpy as np\n",
    "import pandas as pd\n",
    "\n",
    "import plotly.express as px\n",
    "import plotly.graph_objects as go\n",
    "from   plotly.subplots import make_subplots\n",
    "\n",
    "os.chdir(\"/home/rooda/Dropbox/Patagonia/MS2 Results/\")\n",
    "cl     = px.colors.qualitative.D3"
   ]
  },
  {
   "cell_type": "markdown",
   "id": "6d0b69e4-7fa5-4a67-a491-edb532f640d5",
   "metadata": {},
   "source": [
    "## Data"
   ]
  },
  {
   "cell_type": "code",
   "execution_count": null,
   "id": "bf784c9e-9a20-4aa9-b87a-1982a459989b",
   "metadata": {},
   "outputs": [],
   "source": [
    "basins_id  = ['PPY', 'PCA', 'NPI-E', 'NPI-W', 'SPI-N', 'SPI-C', 'SPI-S', 'GCN', 'CDI']\n",
    "\n",
    "var_ens = pd.read_csv(\"variance_ensemble.csv\",      index_col = [\"rgi_id\", \"time\"])\n",
    "var_cli = pd.read_csv(\"variance_climate.csv\",       index_col = [\"rgi_id\", \"time\"])\n",
    "var_geo = pd.read_csv(\"variance_geometry.csv\",      index_col = [\"rgi_id\", \"time\"])\n",
    "var_ssp = pd.read_csv(\"variance_ssp_scenarios.csv\", index_col = [\"rgi_id\", \"time\"])\n",
    "var_gcm = pd.read_csv(\"variance_gcms.csv\",          index_col = [\"rgi_id\", \"time\"])\n",
    "var_nv  = pd.read_csv(\"variance_ssp_nv.csv\",        index_col = \"rgi_id\")"
   ]
  },
  {
   "cell_type": "code",
   "execution_count": null,
   "id": "b745b1a3-c00c-469a-afa0-eb68294e0799",
   "metadata": {},
   "outputs": [],
   "source": [
    "var_ssp = var_ssp - var_nv\n",
    "var_gcm = var_gcm - var_nv\n",
    "\n",
    "# trick \n",
    "var_ssp = var_ssp.where(var_ssp > 0, 0)\n",
    "var_gcm = var_gcm.where(var_gcm > 0, 0)\n",
    "\n",
    "var_tot = var_ssp + var_gcm + var_geo + var_cli "
   ]
  },
  {
   "cell_type": "code",
   "execution_count": null,
   "id": "f6b3d321-662d-46be-bceb-341d166a8b6d",
   "metadata": {},
   "outputs": [],
   "source": [
    "time_series_ssp = (all_ssps.isel(time = slice(1, 99)).to_dataframe() - all_ssps_nv[variables_final].to_dataframe())\n",
    "time_series_ssp = time_series_ssp.where(time_series_ssp[variable] > 0, 0)\n",
    "\n",
    "time_series_gcm = (all_gcms.isel(time = slice(1, 99)).to_dataframe() - all_ssps_nv[variables_final].to_dataframe())\n",
    "time_series_gcm = time_series_gcm.where(time_series_ssp[variables_final] > 0, 0)\n",
    "\n",
    "time_series_nv  = all_ssps_nv.to_dataframe()\n",
    "time_series_mod = all_mods.isel(time = slice(1, 99)).to_dataframe()\n",
    "time_series_cli = all_climate.isel(time = slice(1, 99)).to_dataframe()"
   ]
  },
  {
   "cell_type": "markdown",
   "id": "a317f06a-fc70-446a-92ec-1cf4645e4bae",
   "metadata": {},
   "source": [
    "# Figure 9"
   ]
  },
  {
   "cell_type": "code",
   "execution_count": null,
   "id": "a7bae690-4921-4987-81e2-4259dfe47972",
   "metadata": {},
   "outputs": [],
   "source": [
    "variables_final = [\"melt_on_glacier\", \"total_runoff\", \"smb\"]\n",
    "\n",
    "fig = make_subplots(rows=9, cols=3, horizontal_spacing = 0.05, vertical_spacing = 0.01,\n",
    "                    shared_xaxes= True, shared_yaxes= False, y_title = \"pertantage of total σ (%)\", \n",
    "                    column_titles = [\"Total runoff\", \"Melt on glacier\", \"Specific mass balance\"], row_titles = basins_id)\n",
    "\n",
    "for x in range(0,3):\n",
    "    for y in range(0,9):\n",
    "        \n",
    "        var_ssp_id = var_ssp[var_ssp.index.get_level_values('rgi_id') == basins_id[y]][variables_final[x]]\n",
    "        var_gcm_id = var_gcm[var_gcm.index.get_level_values('rgi_id') == basins_id[y]][variables_final[x]]\n",
    "        var_mod_id = var_geo[var_geo.index.get_level_values('rgi_id') == basins_id[y]][variables_final[x]]\n",
    "        var_cli_id = var_cli[var_cli.index.get_level_values('rgi_id') == basins_id[y]][variables_final[x]]\n",
    "        var_ens_id = var_ens[var_ens.index.get_level_values('rgi_id') == basins_id[y]][variables_final[x]]\n",
    "        var_tot_id = var_tot[var_tot.index.get_level_values('rgi_id') == basins_id[y]][variables_final[x]]\n",
    "        \n",
    "        var_nv_id  = var_gcm_id.copy()\n",
    "        var_nv_id[basins_id[y]] = float(var_nv[variables_final[x]][var_nv.index == basins_id[y]])\n",
    "        var_tot_id = var_tot_id + var_nv_id\n",
    "        \n",
    "        if x == 0 | y == 0:\n",
    "            fig.add_trace(go.Scatter(x = var_ssp_id.index.get_level_values(1), y = var_ssp_id, \n",
    "                                     mode='lines', name= \"SSP\", line=dict(color=cl[4], width=1), showlegend=True, legendgroup='g1'), row=y+1, col=x+1)\n",
    "            fig.add_trace(go.Scatter(x = var_gcm_id.index.get_level_values(1), y = var_gcm_id, \n",
    "                                     mode='lines', name= \"GCM\", line=dict(color=cl[0], width=1), showlegend=True, legendgroup='g2'), row=y+1, col=x+1)\n",
    "            fig.add_trace(go.Scatter(x = var_mod_id.index.get_level_values(1), y = var_mod_id, \n",
    "                                     mode='lines', name= \"Geometry / Volume\", line=dict(color=cl[8], width=1), showlegend=True, legendgroup='g4'), row=y+1, col=x+1)\n",
    "            fig.add_trace(go.Scatter(x = var_cli_id.index.get_level_values(1), y = var_cli_id, \n",
    "                                     mode='lines', name= \"Climate\", line=dict(color=cl[2], width=1), showlegend=True, legendgroup='g5'), row=y+1, col=x+1)\n",
    "            \n",
    "            fig.add_trace(go.Scatter(x = var_ens_id.index.get_level_values(1), y = var_ens_id, \n",
    "                                     mode='lines', name= \"Ensemble\", line=dict(color=\"black\", width = 1.5), showlegend=True, legendgroup='g6'), row=y+1, col=x+1)\n",
    "            fig.add_trace(go.Scatter(x = var_tot_id.index.get_level_values(1), y = var_tot_id, \n",
    "                                     mode='lines', name= \"Total\", line=dict(color=\"black\", width=1, dash = 'dot'), showlegend=True, legendgroup='g7'), row=y+1, col=x+1)\n",
    "\n",
    "        else:\n",
    "            fig.add_trace(go.Scatter(x = var_nv_id.index.get_level_values(1), y = var_nv_id, \n",
    "                                     mode='lines', name= \"Natural variability\", line=dict(color=cl[7], width=1), showlegend=False, legendgroup='g3'), row=y+1, col=x+1)\n",
    "            fig.add_trace(go.Scatter(x = var_ssp_id.index.get_level_values(1), y = var_ssp_id, \n",
    "                                     mode='lines', name= \"SSP\", line=dict(color=cl[4], width=1), showlegend=False, legendgroup='g1'), row=y+1, col=x+1)\n",
    "            fig.add_trace(go.Scatter(x = var_gcm_id.index.get_level_values(1), y = var_gcm_id, \n",
    "                                     mode='lines', name= \"GCM\", line=dict(color=cl[0], width=1), showlegend=False, legendgroup='g2'), row=y+1, col=x+1)\n",
    "            fig.add_trace(go.Scatter(x = var_mod_id.index.get_level_values(1), y = var_mod_id, \n",
    "                                     mode='lines', name= \"Geometry / Volume\", line=dict(color=cl[8], width=1), showlegend=False, legendgroup='g4'), row=y+1, col=x+1)\n",
    "            fig.add_trace(go.Scatter(x = var_cli_id.index.get_level_values(1), y = var_cli_id, \n",
    "                                     mode='lines', name= \"Climate\", line=dict(color=cl[2], width=1), showlegend=False, legendgroup='g5'), row=y+1, col=x+1)\n",
    "            \n",
    "            fig.add_trace(go.Scatter(x = var_ens_id.index.get_level_values(1), y = var_ens_id, \n",
    "                                     mode='lines', name= \"Ensemble\", line=dict(color=\"black\", width = 1.2), showlegend=False, legendgroup='g6'), row=y+1, col=x+1)\n",
    "            fig.add_trace(go.Scatter(x = var_tot_id.index.get_level_values(1), y = var_tot_id, \n",
    "                                     mode='lines', name= \"Total\", line=dict(color=\"black\", width=1, dash = 'dot'), showlegend=False, legendgroup='g7'), row=y+1, col=x+1)\n",
    "\n",
    "fig.update_layout(height = 1200, width = 1000, template = \"seaborn\")\n",
    "fig.update_layout(legend = dict(font=dict(size=13), yanchor=\"top\", y=1.03, xanchor=\"center\", x=0.5, orientation = \"h\"))\n",
    "fig.for_each_annotation(lambda a:  a.update(y = -0.04) if a.text in [\"Total runoff\", \"Melt on glacier\", \"Specific mass balance\"] else())\n",
    "\n",
    "fig.write_image(\"/home/rooda/Dropbox/Patagonia/MS2 Results/Figure_10_total_contribution.png\", height=1200, width=900, scale=4)\n",
    "fig.show()"
   ]
  },
  {
   "cell_type": "markdown",
   "id": "46239847-a544-413d-89ae-f818a97ddb3c",
   "metadata": {},
   "source": [
    "# Figure 10"
   ]
  },
  {
   "cell_type": "code",
   "execution_count": null,
   "id": "37aa4ce9-17a1-49bb-88c6-e58374355613",
   "metadata": {},
   "outputs": [],
   "source": [
    "fig    = make_subplots(rows=9, cols=3, horizontal_spacing = 0.01, vertical_spacing = 0.01,\n",
    "                       shared_xaxes= True, shared_yaxes= True, y_title = \"pertantage of total σ (%)\", \n",
    "                       column_titles = [\"Total runoff\", \"Melt on glacier\", \"Specific mass balance\"], row_titles = basins_id)\n",
    "\n",
    "for x in range(0,3):\n",
    "    for y in range(0,9):\n",
    "        \n",
    "        var_ssp_id = var_ssp[var_ssp.index.get_level_values('rgi_id') == basins_id[y]]\n",
    "        var_gcm_id = var_gcm[var_gcm.index.get_level_values('rgi_id') == basins_id[y]]\n",
    "        var_mod_id = var_geo[var_geo.index.get_level_values('rgi_id') == basins_id[y]]\n",
    "        var_cli_id = var_cli[var_cli.index.get_level_values('rgi_id') == basins_id[y]]\n",
    "                \n",
    "        var_nv_id  = var_gcm_id.copy()\n",
    "        var_nv_id[basins_id[y]] = float(var_nv[variables_final[x]][var_nv.index == basins_id[y]])\n",
    "\n",
    "        if x == 0 | y == 0:\n",
    "            fig.add_trace(go.Scatter(x=var_nv_id.index.get_level_values(1), y=var_nv_id[variables_final[x]], mode='lines', groupnorm='percent', name= \"Natural variability\", \n",
    "                                        line=dict(color=cl[7], width = 1.2), showlegend=True, legendgroup='g5', stackgroup='one'), row=y+1, col=x+1)\n",
    "            fig.add_trace(go.Scatter(x=var_ssp_id.index.get_level_values(1), y=var_ssp_id[variables_final[x]], mode='lines',  groupnorm='percent', name= \"SSP\", \n",
    "                                     line=dict(color=cl[4], width = 1.2), showlegend=True, legendgroup='g1', stackgroup='one'), row=y+1, col=x+1)\n",
    "            fig.add_trace(go.Scatter(x=var_gcm_id.index.get_level_values(1), y=var_gcm_id[variables_final[x]], mode='lines', groupnorm='percent', name= \"GCM\", \n",
    "                                     line=dict(color=cl[0], width = 1.2), showlegend=True, legendgroup='g2', stackgroup='one'), row=y+1, col=x+1)\n",
    "            fig.add_trace(go.Scatter(x=var_mod_id.index.get_level_values(1), y=var_mod_id[variables_final[x]], mode='lines', groupnorm='percent', name= \"Area/Volume\", \n",
    "                                     line=dict(color=cl[8], width = 1.2), showlegend=True, legendgroup='g3', stackgroup='one'), row=y+1, col=x+1)\n",
    "            fig.add_trace(go.Scatter(x=var_cli_id.index.get_level_values(1), y=var_cli_id[variables_final[x]], mode='lines', groupnorm='percent', name= \"Climate\", \n",
    "                                     line=dict(color=cl[2], width = 1.2), showlegend=True, legendgroup='g4', stackgroup='one'), row=y+1, col=x+1)\n",
    "        \n",
    "        else:\n",
    "            fig.add_trace(go.Scatter(x=var_nv_id.index.get_level_values(1), y=var_nv_id[variables_final[x]], mode='lines', groupnorm='percent', name= \"Natural variability\", \n",
    "                                        line=dict(color=cl[7], width = 1.2), showlegend=False, legendgroup='g5', stackgroup='one'), row=y+1, col=x+1)\n",
    "            fig.add_trace(go.Scatter(x=var_ssp_id.index.get_level_values(1), y=var_ssp_id[variables_final[x]], mode='lines',  groupnorm='percent', name= \"SSP\", \n",
    "                                     line=dict(color=cl[4], width = 1.2), showlegend=False, legendgroup='g1', stackgroup='one'), row=y+1, col=x+1)\n",
    "            fig.add_trace(go.Scatter(x=var_gcm_id.index.get_level_values(1), y=var_gcm_id[variables_final[x]], mode='lines', groupnorm='percent', name= \"GCM\", \n",
    "                                     line=dict(color=cl[0], width = 1.2), showlegend=False, legendgroup='g2', stackgroup='one'), row=y+1, col=x+1)\n",
    "            fig.add_trace(go.Scatter(x=var_mod_id.index.get_level_values(1), y=var_mod_id[variables_final[x]], mode='lines', groupnorm='percent', name= \"Area/Volume\", \n",
    "                                     line=dict(color=cl[8], width = 1.2), showlegend=False, legendgroup='g3', stackgroup='one'), row=y+1, col=x+1)\n",
    "            fig.add_trace(go.Scatter(x=var_cli_id.index.get_level_values(1), y=var_cli_id[variables_final[x]], mode='lines', groupnorm='percent', name= \"Climate\", \n",
    "                                     line=dict(color=cl[2], width = 1.2), showlegend=False, legendgroup='g4', stackgroup='one'), row=y+1, col=x+1)\n",
    "\n",
    "fig.update_yaxes(range = [0,100])\n",
    "fig.update_layout(height = 1200, width = 1000, template = \"seaborn\")\n",
    "fig.update_layout(legend = dict(font=dict(size=13), yanchor=\"top\", y=1.03, xanchor=\"center\", x=0.5, orientation = \"h\"))\n",
    "fig.for_each_annotation(lambda a:  a.update(y = -0.04) if a.text in [\"Total runoff\", \"Melt on glacier\", \"Specific mass balance\"] else())\n",
    "\n",
    "fig.write_image(\"/home/rooda/Dropbox/Patagonia/MS2 Results/Figure_9_rel_contribution.png\", height=1200, width=900, scale=4)\n",
    "fig.show()"
   ]
  },
  {
   "cell_type": "code",
   "execution_count": null,
   "id": "7e738c71-77d6-45ad-bc41-fd121a5053fe",
   "metadata": {},
   "outputs": [],
   "source": []
  }
 ],
 "metadata": {
  "kernelspec": {
   "display_name": "Python 3",
   "language": "python",
   "name": "python3"
  },
  "language_info": {
   "codemirror_mode": {
    "name": "ipython",
    "version": 3
   },
   "file_extension": ".py",
   "mimetype": "text/x-python",
   "name": "python",
   "nbconvert_exporter": "python",
   "pygments_lexer": "ipython3",
   "version": "3.9.15"
  }
 },
 "nbformat": 4,
 "nbformat_minor": 5
}

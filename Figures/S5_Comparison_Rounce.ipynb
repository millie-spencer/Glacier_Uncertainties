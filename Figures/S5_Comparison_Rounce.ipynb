{
 "cells": [
  {
   "cell_type": "markdown",
   "id": "b7899677-0294-41cc-8daf-f7c7f4af03c3",
   "metadata": {},
   "source": [
    "# Figure S5: Comparison with Rounce et al. data"
   ]
  },
  {
   "cell_type": "code",
   "execution_count": null,
   "id": "1da01cc6-c418-4f8b-b653-862d46b76d90",
   "metadata": {
    "tags": []
   },
   "outputs": [],
   "source": [
    "import numpy as np\n",
    "import pandas as pd\n",
    "import xarray as xr \n",
    "import geopandas as gpd\n",
    "    \n",
    "import os\n",
    "from glob import glob\n",
    "from oggm import utils\n",
    "from tqdm import tqdm\n",
    "from tqdm.notebook import tqdm\n",
    "\n",
    "import plotly.express as px\n",
    "import plotly.graph_objects as go\n",
    "from   plotly.subplots import make_subplots\n",
    "\n",
    "os.chdir(\"/home/rooda/Dropbox/Patagonia/\")"
   ]
  },
  {
   "cell_type": "code",
   "execution_count": null,
   "id": "7d6634af-6002-4ac2-91c7-cbf7a4f9949a",
   "metadata": {
    "tags": []
   },
   "outputs": [],
   "source": [
    "RGI6_ids = gpd.read_file(\"/home/rooda/Dropbox/Patagonia/GIS South/Glaciers/RGI6_v2.shp\")\n",
    "RGI7_ids = gpd.read_file(\"/home/rooda/Dropbox/Patagonia/GIS South/Glaciers/RGI7_v2.shp\")\n",
    "RGI6_ids = RGI6_ids[RGI6_ids.area_km2 > 1][[\"RGIId\", \"Zone\"]]\n",
    "RGI7_ids = RGI7_ids[RGI7_ids.area_km2 > 1]\n",
    "\n",
    "# RGI6 doesnt have IDs yet \n",
    "RGI7_ids = utils.cook_rgidf(RGI7_ids, o1_region='17', o2_region='02', bgndate= RGI7_ids.src_date, \n",
    "                            version = \"70\", assign_column_values= {'Zone' : 'Zone'})\n",
    "\n",
    "RGI7_ids = RGI7_ids[[\"RGIId\", \"Zone\"]]\n",
    "ids = pd.concat([RGI6_ids, RGI7_ids]).set_index(\"RGIId\")\n",
    "\n",
    "dict_zone = {1:'PPY', 2:'PCA', 3:'NPI-E', 4:'NPI-W', 5:'SPI-N', 6:'SPI-C', 7:'SPI-S', 8:'GCN', 9:'CDI'}\n",
    "ids = ids.replace({\"Zone\": dict_zone})"
   ]
  },
  {
   "cell_type": "markdown",
   "id": "217bc611-76b4-4acc-ae07-25453dd1849a",
   "metadata": {},
   "source": [
    "## Rounce et al. data"
   ]
  },
  {
   "cell_type": "code",
   "execution_count": null,
   "id": "ce9bfefd-d20f-45ba-b1ce-991bc4adb6c4",
   "metadata": {
    "tags": []
   },
   "outputs": [],
   "source": [
    "df = xr.concat([xr.open_dataset(\"MS2 Results/rounce_et_al/R17_glac_mass_annual_50sets_2000_2100-ssp126.nc\"),\n",
    "               xr.open_dataset(\"MS2 Results/rounce_et_al/R17_glac_mass_annual_50sets_2000_2100-ssp245.nc\"),\n",
    "               xr.open_dataset(\"MS2 Results/rounce_et_al/R17_glac_mass_annual_50sets_2000_2100-ssp370.nc\"),\n",
    "               xr.open_dataset(\"MS2 Results/rounce_et_al/R17_glac_mass_annual_50sets_2000_2100-ssp585.nc\")], dim = \"SSP\")\n",
    "df = df.glac_mass_annual.drop_vars([\"lon\", \"lat\"])\n",
    "df.coords[\"SSP\"] = [\"ssp126\", \"ssp245\", \"ssp370\", \"ssp585\"]\n",
    "df.coords[\"model\"] = df.Climate_Model\n",
    "df.coords[\"glacier\"] = df.RGIId\n",
    "df = df.drop_vars([\"RGIId\", \"Climate_Model\"])\n",
    "df = df.where(df.glacier.isin(ids.index), drop = True)\n",
    "\n",
    "ids_subset = ids[ids.index.isin(df.glacier.to_pandas().tolist())]\n",
    "df = df.assign_coords(glacier = ids_subset.Zone.tolist())\n",
    "df = df.groupby('glacier').sum()\n",
    "\n",
    "df = 1 - (df.sel(year = 2100) / df.sel(year = 2015))\n",
    "df_mean_rounce = df.mean(dim = \"model\").to_pandas().transpose()\n",
    "df_var_rounce = df.std(dim = \"model\").to_pandas().transpose()"
   ]
  },
  {
   "cell_type": "markdown",
   "id": "b4223b26-0db9-485c-a756-9704a65a17af",
   "metadata": {},
   "source": [
    "## Aguayo et al. data"
   ]
  },
  {
   "cell_type": "code",
   "execution_count": null,
   "id": "3686abf3-9760-4f03-b1f9-e09aa91b3380",
   "metadata": {
    "tags": []
   },
   "outputs": [],
   "source": [
    "def preprocess(ds): # remove unnecessary variables and coordinates\n",
    "    return ds.drop_vars(['hydro_year', 'hydro_month', 'calendar_year', 'calendar_month'])['volume']"
   ]
  },
  {
   "cell_type": "code",
   "execution_count": null,
   "id": "76ee8005-10c2-499c-9992-7968814537e2",
   "metadata": {
    "tags": []
   },
   "outputs": [],
   "source": [
    "# Folder with all the results\n",
    "gdirs = glob(\"/home/rooda/OGGM_results/new/*\", recursive = True)\n",
    "\n",
    "ds    = []\n",
    "\n",
    "for gdir in tqdm(gdirs):\n",
    "\n",
    "    # read historical run \n",
    "    model_hist   = xr.open_mfdataset(gdir + \"/run_outputs_*.nc\", preprocess = preprocess)\n",
    "    model_hist   = model_hist.sel(time=2015).volume # check NAs\n",
    "\n",
    "    paths = glob(gdir + \"/run_output_*ssp*.nc\", recursive = True)\n",
    "    for path in tqdm(paths, leave = False):\n",
    "\n",
    "        # read future run and concatenate\n",
    "        model_future = xr.open_dataset(path)\n",
    "        model_future = preprocess(model_future).sel(time=2100)\n",
    "        model   = xr.concat([model_hist, model_future], dim = \"time\").load()\n",
    "\n",
    "        # add basin ID to each glacier ID (RGI_ID)\n",
    "        ids_subset = ids[ids.index.isin(model.rgi_id.to_pandas().tolist())]\n",
    "        model = model.assign_coords(rgi_id = ids_subset.Zone.tolist())\n",
    "        model = model.groupby('rgi_id').sum()\n",
    "        model = 1 - (model.sel(time = 2100) / model.sel(time = 2015))\n",
    "        \n",
    "        # ID of the setup\n",
    "        experiment_id = pd.Series(data = {'SSP':     os.path.basename(path).split(\"_\")[3]})\n",
    "        ds_model = pd.DataFrame(pd.concat([experiment_id, model.to_pandas()]), columns=['mass_loss']).transpose()\n",
    "        ds.append(ds_model)\n",
    "        \n",
    "ds = pd.concat(ds)\n",
    "df_mean_aguayo = ds.groupby(\"SSP\").mean().transpose()\n",
    "df_var_aguayo = ds.groupby(\"SSP\").std().transpose()"
   ]
  },
  {
   "cell_type": "code",
   "execution_count": null,
   "id": "fbef4343-10cd-4749-98f9-5ba74aa70978",
   "metadata": {
    "tags": []
   },
   "outputs": [],
   "source": [
    "# colors\n",
    "cl = px.colors.colorbrewer.RdYlBu\n",
    "symbols = ['circle', 'diamond','square', 'cross', 'hexagram','pentagon', 'hexagon', 'arrow', \"x\"]\n",
    "\n",
    "fig = go.Figure(data=go.Scatter(x=df_mean_rounce.ssp126, y=df_mean_aguayo.ssp126, \n",
    "                                error_y=dict(type='data', array=df_var_aguayo.ssp126, thickness=0.2, width=3),\n",
    "                                error_x=dict(type='data', array=df_var_rounce.ssp126, thickness=0.2, width=3),\n",
    "                                mode='markers', name = \"SSP 1-2.6\", marker=dict(size=15, color = cl[9], opacity=0.8, symbol = symbols)))\n",
    "fig.add_trace(go.Scatter(x=df_mean_rounce.ssp245, y=df_mean_aguayo.ssp245, \n",
    "                         error_y=dict(type='data', array=df_var_aguayo.ssp245, thickness=0.2, width=3),\n",
    "                         error_x=dict(type='data', array=df_var_rounce.ssp245, thickness=0.2, width=3),\n",
    "                         mode='markers',name = \"SSP 2-4.5\", marker=dict(size=15, color = cl[8], opacity=0.8, symbol = symbols)))\n",
    "\n",
    "fig.add_trace(go.Scatter(x=df_mean_rounce.ssp370, y=df_mean_aguayo.ssp370, \n",
    "                        error_y=dict(type='data', array=df_var_aguayo.ssp370, thickness=0.2, width=3),\n",
    "                        error_x=dict(type='data', array=df_var_rounce.ssp370, thickness=0.2, width=3),\n",
    "                         mode='markers', name = \"SSP 3-7.0\", marker=dict(size=15, color = cl[3], opacity=0.8, symbol = symbols)))\n",
    "\n",
    "fig.add_trace(go.Scatter(x=df_mean_rounce.ssp585, y=df_mean_aguayo.ssp585, \n",
    "                         error_y=dict(type='data', array=df_var_aguayo.ssp585, thickness=0.2, width=3),\n",
    "                         error_x=dict(type='data', array=df_var_rounce.ssp585, thickness=0.2, width=3),                         \n",
    "                         mode='markers', name = \"SSP 5-8.5\", marker=dict(size=15, color = cl[1], opacity=0.8, symbol = symbols)))\n",
    "\n",
    "fig.add_trace(go.Scatter(x=[0,1], y=[0,1], mode='lines', name = \"1:1\", line=dict(color=\"rgba(0,0,0,0.3)\", dash= 'dot')))\n",
    "\n",
    "fig.update_yaxes(title = \"Volume loss in 2100 (rel. to 2015) [Rounce et al. 2023]\", range = [0.4, 1], tickformat = ',.0%',\n",
    "                 ticks=\"outside\", zeroline=False, griddash = \"dot\", gridcolor = \"rgba(0,0,0,0.1)\", showline = True, linecolor = 'black', linewidth = 0.2, mirror=True)\n",
    "\n",
    "fig.update_xaxes(title = \"Volume loss in 2100 (rel. to 2015) [this study]\", range = [0.4, 1], tickformat = ',.0%',\n",
    "                 ticks=\"outside\", zeroline=False, griddash = \"dot\", gridcolor = \"rgba(0,0,0,0.1)\", showline = True, linecolor = 'black', linewidth = 0.2, mirror=True)\n",
    "\n",
    "fig.add_annotation(text=\"CDI\", font=dict(size=14), ax=30, ay=30, x=0.68, y=0.565, showarrow=True, arrowhead=0, arrowwidth=1, arrowcolor=\"black\")\n",
    "fig.add_annotation(text=\"GCN\", font=dict(size=14), ax=30, ay=30, x=0.85, y=0.79, showarrow=True, arrowhead=0, arrowwidth=1, arrowcolor=\"black\")\n",
    "fig.add_annotation(text=\"NPI-E\", font=dict(size=14), ax=40, ay=40, x=0.59, y=0.52, showarrow=True, arrowhead=0, arrowwidth=1, arrowcolor=\"black\")\n",
    "fig.add_annotation(text=\"SPI-S\", font=dict(size=14), ax=50, ay=50, x=0.765, y=0.69, showarrow=True, arrowhead=0, arrowwidth=1, arrowcolor=\"black\")\n",
    "fig.add_annotation(text=\"PCA\", font=dict(size=14), ax=-30, ay=-30, x=0.79, y=0.84, showarrow=True, arrowhead=0, arrowwidth=1, arrowcolor=\"black\")\n",
    "fig.add_annotation(text=\"PPY\", font=dict(size=14), ax=-40, ay=-40, x=0.868, y=0.865, showarrow=True, arrowhead=0, arrowwidth=1, arrowcolor=\"black\")\n",
    "fig.add_annotation(text=\"SPI-C\", font=dict(size=14), ax=-40, ay=-40, x=0.667, y=0.67, showarrow=True, arrowhead=0, arrowwidth=1, arrowcolor=\"black\")\n",
    "fig.add_annotation(text=\"SPI-N\", font=dict(size=14), ax=-40, ay=-40, x=0.515, y=0.535, showarrow=True, arrowhead=0, arrowwidth=1, arrowcolor=\"black\")\n",
    "fig.add_annotation(text=\"NPI-W\", font=dict(size=14), ax=-10, ay=-60, x=0.53, y=0.56, showarrow=True, arrowhead=0, arrowwidth=1, arrowcolor=\"black\")\n",
    "\n",
    "fig.update_xaxes(griddash = \"dot\", gridcolor = \"rgba(255,255,255,0.8)\")\n",
    "fig.update_yaxes(griddash = \"dot\", gridcolor = \"rgba(255,255,255,0.8)\")    \n",
    "   \n",
    "\n",
    "fig.update_layout(legend=dict(y=0.99, x=0.01, bgcolor = 'rgba(0,0,0,0.0)'))\n",
    "fig.update_layout(height=600, width=600, template = \"seaborn\", margin = dict(l=20, r=20, b=30, t=30), hovermode = False)\n",
    "\n",
    "fig.write_image(\"/home/rooda/Dropbox/Patagonia/MS2 Results/Figure_S5_comparison_rounce.png\", scale=4)\n",
    "#fig.show()"
   ]
  }
 ],
 "metadata": {
  "kernelspec": {
   "display_name": "Python 3 (ipykernel)",
   "language": "python",
   "name": "python3"
  },
  "language_info": {
   "codemirror_mode": {
    "name": "ipython",
    "version": 3
   },
   "file_extension": ".py",
   "mimetype": "text/x-python",
   "name": "python",
   "nbconvert_exporter": "python",
   "pygments_lexer": "ipython3",
   "version": "3.11.8"
  }
 },
 "nbformat": 4,
 "nbformat_minor": 5
}

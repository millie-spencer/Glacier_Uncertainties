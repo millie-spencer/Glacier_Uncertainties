{
 "cells": [
  {
   "cell_type": "markdown",
   "id": "caa1d417-8756-4484-a00b-52ae1a33790d",
   "metadata": {},
   "source": [
    "## Figure 6: Climate projections (GCM and SSP)"
   ]
  },
  {
   "cell_type": "code",
   "execution_count": null,
   "id": "4497ef9a-1022-486a-8d4b-d97bd8961019",
   "metadata": {},
   "outputs": [],
   "source": [
    "# spatial libraries\n",
    "from shapely.geometry import Polygon\n",
    "import rioxarray as rioxr\n",
    "import geopandas as gpd\n",
    "import xarray as xr\n",
    "import xesmf as xe\n",
    "import regionmask\n",
    "\n",
    "from tqdm.notebook import tqdm\n",
    "import pandas as pd\n",
    "import numpy as np\n",
    "import cftime\n",
    "import os\n",
    "\n",
    "# plotting libraries\n",
    "from plotly.subplots import make_subplots\n",
    "import plotly.graph_objects as go\n",
    "import plotly.express as px\n",
    "\n",
    "# colors\n",
    "cl = px.colors.qualitative.D3\n",
    "\n",
    "os.chdir('/home/rooda/Dropbox/Patagonia/')\n",
    "period = slice(\"1980-01-01\", \"2019-12-31\")"
   ]
  },
  {
   "cell_type": "code",
   "execution_count": null,
   "id": "82d00443-590a-4325-b7dd-510e2e0680eb",
   "metadata": {},
   "outputs": [],
   "source": [
    "# Basins\n",
    "basins = gpd.read_file(\"GIS South/Basins_Patagonia_all.shp\")\n",
    "basins = basins.set_index(\"ID\")"
   ]
  },
  {
   "cell_type": "markdown",
   "id": "223eeb58-50d2-4840-9c43-59397380e317",
   "metadata": {},
   "source": [
    "## Raw data"
   ]
  },
  {
   "cell_type": "code",
   "execution_count": null,
   "id": "1465ece4-6773-4c28-ae19-4de3745568b8",
   "metadata": {},
   "outputs": [],
   "source": [
    "os.chdir(\"/home/rooda/OGGM_results/Future_climate/\")\n",
    "\n",
    "lat_coords = np.arange(-56,-40, 0.5)\n",
    "lon_coords = np.arange(-76,-67, 0.5)\n",
    "\n",
    "baseline_period = slice(\"1980-01-01\", \"2010-01-01\")\n",
    "future_period   = slice(\"2070-01-01\", \"2100-01-01\")\n",
    "\n",
    "gcm_list  = [\"ACCESS-CM2\", \"CMCC-ESM2\", \"EC-Earth3\", \"GFDL-ESM4\", \"INM-CM5-0\", \"KACE-1-0-G\", \"MPI-ESM1-2-HR\", \"MRI-ESM2-0\", \"MIROC6\", \"NorESM2-MM\"]\n",
    "ssp_list  = ['ssp126', 'ssp245', 'ssp585']\n",
    "\n",
    "results_pp = []\n",
    "results_t2m = []\n",
    "\n",
    "for ssp in tqdm(ssp_list):\n",
    "    \n",
    "    results_gcm_pp  = []\n",
    "    results_gcm_t2m = []\n",
    "    \n",
    "    for gcm in gcm_list:\n",
    "        \n",
    "        pp_model_ssp = xr.open_dataset(\"PP_\" + gcm + \"_\" + ssp + \".nc\")[\"pr\"]\n",
    "        pp_model_ssp = pp_model_ssp.interp(lat = lat_coords, lon = lon_coords)\n",
    "        pp_model_ssp = pp_model_ssp.resample(time='YS').sum()\n",
    "        pp_change    = (pp_model_ssp.sel(time = future_period).mean(dim=\"time\") / pp_model_ssp.sel(time = baseline_period).mean(dim=\"time\"))-1\n",
    "        results_gcm_pp.append(pp_change)\n",
    "        \n",
    "        t2m_model_ssp = xr.open_mfdataset(\"T2M_\" + gcm + \"_\" + ssp + \".nc\")[\"tas\"]\n",
    "        t2m_model_ssp = t2m_model_ssp.interp(lat = lat_coords, lon = lon_coords)\n",
    "        t2m_model_ssp = t2m_model_ssp.resample(time='YS').mean()\n",
    "        t2m_change    = t2m_model_ssp.sel(time = future_period).mean(dim=\"time\") - t2m_model_ssp.sel(time = baseline_period).mean(dim=\"time\")\n",
    "        results_gcm_t2m.append(t2m_change)\n",
    "        \n",
    "    results_gcm_pp  = xr.concat(results_gcm_pp,  dim='gcm')\n",
    "    results_gcm_t2m = xr.concat(results_gcm_t2m, dim='gcm')\n",
    "    results_pp.append(results_gcm_pp)\n",
    "    results_t2m.append(results_gcm_t2m)\n",
    "    \n",
    "dataset = xr.merge([xr.concat(results_pp,  dim='ssp'), \n",
    "                    xr.concat(results_t2m, dim='ssp')])"
   ]
  },
  {
   "cell_type": "code",
   "execution_count": null,
   "id": "9806b19b-c244-4437-8168-7df0e459fce8",
   "metadata": {},
   "outputs": [],
   "source": [
    "# select SSP 245 for map (a,b)\n",
    "savg  = xe.SpatialAverager(dataset,  basins.geometry, geom_dim_name=\"avg\")\n",
    "\n",
    "basins[\"PP_change_126\"] = savg(dataset.pr[0].mean(dim = \"gcm\"), skipna=True).assign_coords(avg=xr.DataArray(basins.index, dims=(\"avg\",))).values\n",
    "basins[\"PP_change_245\"] = savg(dataset.pr[1].mean(dim = \"gcm\"), skipna=True).assign_coords(avg=xr.DataArray(basins.index, dims=(\"avg\",))).values\n",
    "basins[\"PP_change_585\"] = savg(dataset.pr[2].mean(dim = \"gcm\"), skipna=True).assign_coords(avg=xr.DataArray(basins.index, dims=(\"avg\",))).values\n",
    "\n",
    "basins[\"T2M_change_126\"] = savg(dataset.tas[0].mean(dim = \"gcm\"), skipna=True).assign_coords(avg=xr.DataArray(basins.index, dims=(\"avg\",))).values\n",
    "basins[\"T2M_change_245\"] = savg(dataset.tas[1].mean(dim = \"gcm\"), skipna=True).assign_coords(avg=xr.DataArray(basins.index, dims=(\"avg\",))).values\n",
    "basins[\"T2M_change_585\"] = savg(dataset.tas[2].mean(dim = \"gcm\"), skipna=True).assign_coords(avg=xr.DataArray(basins.index, dims=(\"avg\",))).values"
   ]
  },
  {
   "cell_type": "code",
   "execution_count": null,
   "id": "7ba5f71c-1ebf-4852-a02b-cc291adeadcf",
   "metadata": {
    "tags": []
   },
   "outputs": [],
   "source": [
    "# GCM uncertainty (SSP 245) > 80% of the models should agree the direction\n",
    "gcm_spread = dataset.pr[1].where(dataset.pr[1] >= 0, 1).where(dataset.pr[1] < 0, -1).sum(dim = \"gcm\")\n",
    "gcm_spread = gcm_spread.to_dataframe().reset_index()\n",
    "\n",
    "gcm_spread = gpd.GeoDataFrame(gcm_spread.pr, geometry=gpd.points_from_xy(gcm_spread.lon,gcm_spread.lat))\n",
    "gcm_spread = gcm_spread[(gcm_spread.pr >= 8) | (gcm_spread.pr <= -8)]"
   ]
  },
  {
   "cell_type": "code",
   "execution_count": null,
   "id": "4763ccdf-9013-4ef5-8782-fa1efb7b436e",
   "metadata": {},
   "outputs": [],
   "source": [
    "# SSP uncertanty based on pertantage of the area\n",
    "lat_coords = np.arange(-56,-40, 0.05) # reduce the resolution \n",
    "lon_coords = np.arange(-76,-67, 0.05)\n",
    "\n",
    "dataset_hr = dataset.mean(dim = \"gcm\").interp(lat = lat_coords, lon = lon_coords)\n",
    "dataset_hr = dataset_hr.where(regionmask.mask_geopandas(basins, dataset_hr) > 0, drop = True)"
   ]
  },
  {
   "cell_type": "code",
   "execution_count": null,
   "id": "bedccd49-52c1-4f0b-9f3c-bacccd61ede1",
   "metadata": {},
   "outputs": [],
   "source": [
    "geo_map = gpd.read_file(\"/home/rooda/Dropbox/ArcGIS/Chile/south_america.shp\")\n",
    "geo_map = geo_map[(geo_map.CC == \"CI\") | (geo_map.CC == \"AR\")]\n",
    "geo_map = geo_map.dissolve(by='REGION')\n",
    "geo_map[\"geometry\"] = geo_map.simplify(0.01)\n",
    "\n",
    "poly_gdf = Polygon([(-76, -55.7), (-76, -40.52), (-68.05, -40.52), (-68.05, -55.7), (-76, -55.8)])\n",
    "poly_gdf = gpd.GeoDataFrame([1], geometry=[poly_gdf], crs=geo_map.crs)\n",
    "\n",
    "geo_map = geo_map.clip(poly_gdf)"
   ]
  },
  {
   "cell_type": "code",
   "execution_count": null,
   "id": "b20808bf-bf11-4a52-b618-b7ddde06c917",
   "metadata": {},
   "outputs": [],
   "source": [
    "fig = make_subplots(rows=2, cols=3, horizontal_spacing = 0.01, vertical_spacing = 0.1, column_widths = [0.34, 0.34, 0.32], \n",
    "                    subplot_titles = [\"a) Precipitation (PP) change (%)\",\"b) Temperature (T2M) change (ºC)\",\"c) PP change by scenario (%)\", \"c) T2M change by scenario (ºC)\"],\n",
    "                    specs=[[{\"type\": \"scattergeo\", \"rowspan\": 2}, {\"type\": \"scattergeo\", \"rowspan\": 2}, {\"type\": \"histogram\"}],\n",
    "                           [          None,                                      None,                  {\"type\": \"histogram\"}]])\n",
    "\n",
    "# Precipitation mean change (a) -----------------------------------------------------------------------------------------------------------\n",
    "fig.add_trace(go.Choropleth(geojson = eval(geo_map['geometry'].to_json()),  locations = geo_map.index, z = geo_map['iso_num'], \n",
    "                            colorscale = [\"#d5d5d5\", \"#d5d5d5\"], showscale= False, marker_line_color ='white', marker_line_width=0.1), row=1, col=1)\n",
    "\n",
    "fig.add_trace(go.Choropleth(geojson = eval(basins['geometry'].to_json()),  locations = basins.index, z = basins['PP_change_245']*100, \n",
    "                            colorscale = [(0.,\"#fe7e0d\"),(0.75, \"#ffe9ba\"),(1, \"#1d78b4\")], marker_line_color ='white', marker_line_width=0.1, \n",
    "                            zmin = -15, zmax = 5, colorbar=dict(len=0.45, x=0.24, y= 0.75, title='PP (mm)', thickness=20)), row=1, col=1)\n",
    "\n",
    "fig.add_trace(go.Scattergeo(lat=gcm_spread.geometry.y, lon=gcm_spread.geometry.x, mode=\"markers\", showlegend=False, \n",
    "                            marker=dict(color=\"black\", size=1, opacity=0.5)), row=1, col=1)\n",
    "\n",
    "# Temperature mean change (b) -----------------------------------------------------------------------------------------------------------\n",
    "fig.add_trace(go.Choropleth(geojson = eval(geo_map['geometry'].to_json()),  locations = geo_map.index, z = geo_map['iso_num'], \n",
    "                            colorscale = [\"#d5d5d5\", \"#d5d5d5\"], showscale= False, marker_line_color ='white', marker_line_width=0.1), row=1, col=2)\n",
    "\n",
    "cs = px.colors.sequential.Sunset\n",
    "fig.add_trace(go.Choropleth(geojson = eval(basins['geometry'].to_json()), locations = basins.index, z = basins['T2M_change_245'], \n",
    "                            colorscale=[cs[0], cs[3],  cs[5]], marker_line_color='white', marker_line_width=0.1, \n",
    "                            zmin = 1.2, zmax = 1.8, colorbar=dict(len=0.45, x=0.58, y= 0.75, title='T2M (ºC)', thickness=20)), row=1, col=2)\n",
    "\n",
    "# layout a) and b)\n",
    "fig.update_geos(showframe = True, framewidth = 1,  framecolor = \"black\", lonaxis_range=[-76, -68], lataxis_range=[-55.8, -40.5], \n",
    "                bgcolor = \"#f9f9f9\", showland = False, showcoastlines = False, showlakes = False)\n",
    "\n",
    "# Precipitation ssp spread (c) -----------------------------------------------------------------------------------------------------------\n",
    "pr_bins = dict(start=-25, size=0.5, end=7)\n",
    "fig.add_trace(go.Histogram(x = dataset_hr.pr[0].values.flatten()*100,  marker_color = cl[0], histnorm='percent', xbins=pr_bins, name = \"SSP126\"), row=1, col=3)\n",
    "fig.add_trace(go.Histogram(x = dataset_hr.pr[1].values.flatten()*100,  marker_color = cl[1], histnorm='percent', xbins=pr_bins, name = \"SSP245\"), row=1, col=3)\n",
    "fig.add_trace(go.Histogram(x = dataset_hr.pr[2].values.flatten()*100,  marker_color = cs[5], histnorm='percent', xbins=pr_bins, name = \"SSP585\"), row=1, col=3)\n",
    "fig.update_yaxes(title_text=\"Percent of total area (%)\", side = \"right\", title_standoff = 2, row = 1, col = 3)\n",
    "fig.update_traces(opacity=0.7, row = 1, col = 3)\n",
    "\n",
    "# Temperature ssp spread (d) -----------------------------------------------------------------------------------------------------------\n",
    "tas_bins = dict(start=0, size=0.04, end=3.5)\n",
    "fig.add_trace(go.Histogram(x = dataset_hr.tas[0].values.flatten(), marker_color= cl[0], histnorm='percent', xbins=tas_bins, showlegend = False), row=2, col=3)\n",
    "fig.add_trace(go.Histogram(x = dataset_hr.tas[1].values.flatten(), marker_color= cl[1], histnorm='percent', xbins=tas_bins, showlegend = False), row=2, col=3)\n",
    "fig.add_trace(go.Histogram(x = dataset_hr.tas[2].values.flatten(), marker_color= cs[5], histnorm='percent', xbins=tas_bins, showlegend = False), row=2, col=3)\n",
    "fig.update_yaxes(title_text=\"Percent of total area (%)\", side = \"right\", title_standoff = 0, row = 2, col = 3)\n",
    "fig.update_traces(opacity=0.7, row = 2, col = 3)\n",
    "\n",
    "# layout c and d\n",
    "fig.update_layout(barmode = \"overlay\",  plot_bgcolor=\"rgba(213,213,213,0.6)\", legend = dict(yanchor=\"top\", y=0.98, xanchor=\"left\", x=0.70, bgcolor = 'rgba(255,255,255,0.5)'))\n",
    "fig.update_xaxes(griddash = \"dot\", gridcolor = \"rgba(255,255,255,0.5)\", zeroline=False, showline = True, linecolor = 'black', linewidth = 1, ticks=\"outside\", mirror=True)\n",
    "fig.update_yaxes(griddash = \"dot\", gridcolor = \"rgba(255,255,255,0.5)\", zeroline=False, showline = True, linecolor = 'black', linewidth = 1, ticks=\"outside\", mirror=True)\n",
    "\n",
    "# general \n",
    "fig.update_layout(autosize = False, width = 900, height = 600, margin = dict(l=10, r=5, b=5, t=30, pad=0, autoexpand=True))\n",
    "fig.write_image(\"/home/rooda/Dropbox/Patagonia/MS2 Results/Figure_6_GCM_SSP.png\", scale=4)\n",
    "fig.show()"
   ]
  },
  {
   "cell_type": "code",
   "execution_count": null,
   "id": "4049de4a-36f8-4264-9f1d-d533dd3e5e14",
   "metadata": {},
   "outputs": [],
   "source": []
  }
 ],
 "metadata": {
  "kernelspec": {
   "display_name": "Python 3",
   "language": "python",
   "name": "python3"
  },
  "language_info": {
   "codemirror_mode": {
    "name": "ipython",
    "version": 3
   },
   "file_extension": ".py",
   "mimetype": "text/x-python",
   "name": "python",
   "nbconvert_exporter": "python",
   "pygments_lexer": "ipython3",
   "version": "3.9.15"
  }
 },
 "nbformat": 4,
 "nbformat_minor": 5
}

{
 "cells": [
  {
   "cell_type": "markdown",
   "id": "caa1d417-8756-4484-a00b-52ae1a33790d",
   "metadata": {},
   "source": [
    "# Figure 6: Climate projections (GCM and SSP)"
   ]
  },
  {
   "cell_type": "code",
   "execution_count": null,
   "id": "4497ef9a-1022-486a-8d4b-d97bd8961019",
   "metadata": {},
   "outputs": [],
   "source": [
    "# spatial libraries\n",
    "import shapely.geometry\n",
    "import rioxarray as rioxr\n",
    "import geopandas as gpd\n",
    "import xarray as xr\n",
    "\n",
    "from tqdm.notebook import tqdm\n",
    "import pandas as pd\n",
    "import numpy as np\n",
    "import os\n",
    "\n",
    "# plotting libraries\n",
    "from plotly.subplots import make_subplots\n",
    "import plotly.graph_objects as go\n",
    "import plotly.express as px\n",
    "\n",
    "os.chdir('/home/rooda/Dropbox/Patagonia/')\n",
    "period = slice(\"1980-01-01\", \"2019-12-31\")"
   ]
  },
  {
   "cell_type": "markdown",
   "id": "58ed3f1b-fcc7-44e7-9b4c-393ac4c45fd4",
   "metadata": {},
   "source": [
    "## Data"
   ]
  },
  {
   "cell_type": "code",
   "execution_count": null,
   "id": "82d00443-590a-4325-b7dd-510e2e0680eb",
   "metadata": {},
   "outputs": [],
   "source": [
    "# Catchment shapefiles\n",
    "basins = gpd.read_file(\"zip:////home/rooda/Dropbox/Patagonia/MS2 Results/zenodo/basins_boundaries.zip\")\n",
    "basins = basins[[\"basin_id\", \"geometry\"]].set_index(\"basin_id\")\n",
    "\n",
    "data = pd.read_csv(\"MS2 Results/zenodo/dataset_future.csv\", index_col = \"basin_id\")\n",
    "area = pd.read_csv(\"MS2 Results/zenodo/dataset_historical.csv\", index_col = \"basin_id\").area_RGI6\n",
    "data['basin_name']= data['basin_name'].replace({'Santa Cruz': 'Santa Cruz                          '})\n",
    "basins = pd.concat([basins, area, data], axis=1)\n",
    "basins[\"area_RGI6_percent\"] = basins[\"area_RGI6\"]/basins.area_RGI6.sum()\n",
    "\n",
    "# major catchments\n",
    "basins_m = basins.dropna(subset = ['basin_name'])\n",
    "basins_spread = basins[basins.PPc_spread.abs() <= 8]"
   ]
  },
  {
   "cell_type": "code",
   "execution_count": null,
   "id": "60089539-b338-484b-b4ca-33794f6a7971",
   "metadata": {
    "tags": []
   },
   "outputs": [],
   "source": [
    "# weighted-means\n",
    "df_wm = {'PPc': [(basins.PPc_ssp126 * basins.area_RGI6).sum() / basins.area_RGI6.sum(), \n",
    "                 (basins.PPc_ssp245 * basins.area_RGI6).sum() / basins.area_RGI6.sum(), \n",
    "                 (basins.PPc_ssp370 * basins.area_RGI6).sum() / basins.area_RGI6.sum(), \n",
    "                 (basins.PPc_ssp585 * basins.area_RGI6).sum() / basins.area_RGI6.sum()], \n",
    "        'T2Mc': [(basins.T2Mc_ssp126 * basins.area_RGI6).sum() / basins.area_RGI6.sum(), \n",
    "                 (basins.T2Mc_ssp245 * basins.area_RGI6).sum() / basins.area_RGI6.sum(), \n",
    "                 (basins.T2Mc_ssp370 * basins.area_RGI6).sum() / basins.area_RGI6.sum(),\n",
    "                 (basins.T2Mc_ssp585 * basins.area_RGI6).sum() / basins.area_RGI6.sum()]}\n",
    "\n",
    "df_wm = pd.DataFrame(data=df_wm, index=[\"SSP126\", \"SSP245\", \"SSP370\", \"SSP585\"])"
   ]
  },
  {
   "cell_type": "markdown",
   "id": "236554d2-657c-4c0c-be7c-e24c95e8c7ad",
   "metadata": {},
   "source": [
    "## Plot elements"
   ]
  },
  {
   "cell_type": "code",
   "execution_count": null,
   "id": "bedccd49-52c1-4f0b-9f3c-bacccd61ede1",
   "metadata": {},
   "outputs": [],
   "source": [
    "# basemap for background\n",
    "geo_map = gpd.read_file(\"/home/rooda/Dropbox/ArcGIS/Chile/south_america.shp\")\n",
    "geo_map = geo_map[(geo_map.CC == \"CI\") | (geo_map.CC == \"AR\")]\n",
    "geo_map = geo_map.dissolve(by='REGION')\n",
    "geo_map[\"geometry\"] = geo_map.simplify(0.01)\n",
    "\n",
    "poly_gdf = shapely.geometry.Polygon([(-76, -55.7), (-76, -40.52), (-68.05, -40.52), (-68.05, -55.7), (-76, -55.8)])\n",
    "poly_gdf = gpd.GeoDataFrame([1], geometry=[poly_gdf], crs=geo_map.crs)\n",
    "geo_map = geo_map.clip(poly_gdf)"
   ]
  },
  {
   "cell_type": "code",
   "execution_count": null,
   "id": "30b00056-e385-41d2-9ea2-0cbb7f0b7611",
   "metadata": {},
   "outputs": [],
   "source": [
    "# hydrological zone divides\n",
    "geo_lines = gpd.read_file(\"/home/rooda/Dropbox/Patagonia/GIS South/Basins_Patagonia_ice_divides.shp\")\n",
    "\n",
    "lats = []\n",
    "lons = []\n",
    "\n",
    "for feature in geo_lines.geometry:\n",
    "    if isinstance(feature, shapely.geometry.linestring.LineString):\n",
    "        linestrings = [feature]\n",
    "    elif isinstance(feature, shapely.geometry.multilinestring.MultiLineString):\n",
    "        linestrings = feature.geoms\n",
    "    else:\n",
    "        continue\n",
    "    for linestring in linestrings:\n",
    "        x, y = linestring.xy\n",
    "        lats = np.append(lats, y)\n",
    "        lons = np.append(lons, x)\n",
    "        lats = np.append(lats, None)\n",
    "        lons = np.append(lons, None)\n",
    "        \n",
    "lat_coords  = [-43.2, -45.95,  -46.9,  -47.55,   -49.2,   -50.5,   -52.0, -53.1, -54.8]\n",
    "lon_coords  = [-71.2, -71.7,   -73.8,   -71.7,   -72.2,   -72.3,   -72.1, -72.8, -69.2]\n",
    "names      = [\"PPY\", \"PCA\", \"NPI-W\", \"NPI-E\", \"SPI-N\", \"SPI-C\", \"SPI-S\", \"GCN\", \"CDI\"]\n",
    "names  = ['<b>'+x+'</b>' for x in names]"
   ]
  },
  {
   "cell_type": "markdown",
   "id": "6d577c06-7977-43c3-b6df-59746443747c",
   "metadata": {},
   "source": [
    "## Plot"
   ]
  },
  {
   "cell_type": "code",
   "execution_count": null,
   "id": "9584eca3-10fa-44b4-b5ac-656b5f3ad06f",
   "metadata": {},
   "outputs": [],
   "source": [
    "fig = make_subplots(rows=2, cols=3, horizontal_spacing = 0.01, vertical_spacing = 0.03, column_widths = [0.34, 0.34, 0.32], shared_xaxes = True,\n",
    "                    subplot_titles = [\"Precipitation change (ΔPP)\",\"Temperature change (ΔT2M)\",\"Changes by scenario\"],\n",
    "                    specs=[[{\"type\": \"scattergeo\", \"rowspan\": 2}, {\"type\": \"scattergeo\", \"rowspan\": 2}, {\"type\": \"histogram\"}],\n",
    "                           [          None,                                      None,                  {\"type\": \"histogram\"}]])\n",
    "\n",
    "# colors\n",
    "cl = px.colors.colorbrewer.RdYlBu\n",
    "\n",
    "## Basemap\n",
    "for x in range(1,3):\n",
    "    fig.add_trace(go.Choropleth(geojson = eval(geo_map['geometry'].to_json()),  locations = geo_map.index, z = geo_map['iso_num'], \n",
    "                            colorscale = [\"#EAEAF2\", \"#EAEAF2\"], showscale= False, marker_line_color ='white', marker_line_width=0.1), row=1, col=x)\n",
    "\n",
    "# Precipitation mean change (a) -----------------------------------------------------------------------------------------------------------\n",
    "fig.add_trace(go.Choropleth(geojson = eval(basins['geometry'].to_json()),  locations = basins.index, z = basins['PPc_ssp245'], \n",
    "                            colorscale = [(0., cl[2]),(0.75, \"#ffe9ba\"),(1, cl[9])], marker_line_color ='white', marker_line_width=0.1, \n",
    "                            zmin = -15, zmax = 5, colorbar=dict(len=0.45, x=0.24, y= 0.77, title='ΔPP (%)', thickness=20)), row=1, col=1)\n",
    "\n",
    "fig.add_annotation(text=\"(a)\", font=dict(size=16), x=0.005, y=0.995,  xref = \"paper\", yref = \"paper\", showarrow=False)\n",
    "\n",
    "# Temperature mean change (b) -----------------------------------------------------------------------------------------------------------\n",
    "fig.add_trace(go.Choropleth(geojson = eval(basins['geometry'].to_json()), locations = basins.index, z = basins['T2Mc_ssp245'], \n",
    "                            colorscale=[\"#ffe9ba\", cl[4],  cl[1]], marker_line_color='white', marker_line_width=0.1, \n",
    "                            zmin = 1.2, zmax = 2, colorbar=dict(len=0.45, x=0.58, y= 0.77, title='ΔT2M (ºC)', dtick = 0.2, thickness=20)), row=1, col=2)\n",
    "\n",
    "fig.add_trace(go.Choropleth(geojson = eval(basins_spread['geometry'].to_json()),  locations = basins_spread.index, z = basins_spread.PPc_spread, \n",
    "                           colorscale = [\"rgba(213,213,213,0)\", \"rgba(213,213,213,0)\"], marker_line_color ='black', showscale= False, marker_line_width=0.20), row=1, col=1)\n",
    "\n",
    "fig.add_annotation(text=\"(b)\", font=dict(size=16), x=0.36, y=0.995,  xref = \"paper\", yref = \"paper\", showarrow=False)\n",
    "\n",
    "# layout a) and b)\n",
    "for x in range(1,3):\n",
    "    ## Add basin and hydrological zone names plus the hydro zone divides\n",
    "    fig.add_trace(go.Scattergeo(lon = lons, lat = lats, mode = 'lines', line = dict(width = 0.7, color = 'black'), opacity = 0.7, showlegend = False),row=1, col=x)  \n",
    "    fig.add_trace(go.Scattergeo(lon = lon_coords, lat=lat_coords, mode='text', text=names, textfont=dict(size=10, color = \"rgba(0,0,0,0.7)\"), showlegend = False),row=1, col=x)\n",
    "    fig.add_scattergeo(geojson = eval(basins['geometry'].to_json()), locations = basins.index, text = basins['basin_name'], mode = 'text', showlegend = False,\n",
    "                       textfont=dict(size=11, color = \"rgba(0,0,0,0.3)\"),row=1, col=x)\n",
    "\n",
    "fig.update_geos(showframe = True, framewidth = 1,  framecolor = \"black\", lonaxis_range=[-76, -68], lataxis_range=[-55.8, -40.5], \n",
    "                bgcolor = \"rgb(255,255,255)\", showland = False, showcoastlines = False, showlakes = False)\n",
    "\n",
    "# Precipitation ssp spread (c) -----------------------------------------------------------------------------------------------------------\n",
    "fig.add_trace(go.Scatter(y = basins.sort_values(\"PPc_ssp126\").PPc_ssp126/100, x = basins.sort_values(\"PPc_ssp126\").area_RGI6_percent.cumsum(), \n",
    "                         marker_color = cl[9],  showlegend = False), row=1, col=3)\n",
    "\n",
    "fig.add_trace(go.Scatter(y = basins.sort_values(\"PPc_ssp245\").PPc_ssp245/100, x = basins.sort_values(\"PPc_ssp245\").area_RGI6_percent.cumsum(), \n",
    "                         marker_color = cl[8],  showlegend = False), row=1, col=3)\n",
    "\n",
    "fig.add_trace(go.Scatter(y = basins.sort_values(\"PPc_ssp370\").PPc_ssp370/100, x = basins.sort_values(\"PPc_ssp370\").area_RGI6_percent.cumsum(), \n",
    "                         marker_color = cl[3],   showlegend = False), row=1, col=3)\n",
    "\n",
    "fig.add_trace(go.Scatter(y = basins.sort_values(\"PPc_ssp585\").PPc_ssp585/100, x = basins.sort_values(\"PPc_ssp585\").area_RGI6_percent.cumsum(), \n",
    "                         marker_color = cl[1],  showlegend = False), row=1, col=3)\n",
    "\n",
    "fig.update_xaxes(range = [-0.02,1.02], dtick = 0.25, row = 1, col = 3)\n",
    "fig.update_yaxes(range = [-0.2,0.07], title_text=\"Precipitation change (%)\", side = \"right\", title_standoff = 0, tickangle = 0, tickformat = ',.0%', row = 1, col = 3)\n",
    "fig.add_annotation(text=\"(c)\", font=dict(size=16), x=0.03, y=0.06, showarrow=False, row=1, col=3)\n",
    "fig.add_annotation(text=\"SSP5-8.5 ({:.1f}%)\".format(df_wm.PPc[\"SSP585\"]), font=dict(size=13, color = cl[1]), x=0.55, y=-0.08, textangle=-23, showarrow=False, row=1, col=3)\n",
    "fig.add_annotation(text=\"SSP3-7.0 ({:.1f}%)\".format(df_wm.PPc[\"SSP370\"]), font=dict(size=13, color = cl[3]), x=0.27, y=-0.065, textangle=-20, showarrow=False, row=1, col=3)\n",
    "fig.add_annotation(text=\"SSP2-4.5 ({:.1f}%)\".format(df_wm.PPc[\"SSP245\"]), font=dict(size=13, color = cl[8]), x=0.25, y=-0.04, textangle=-20, showarrow=False, row=1, col=3)\n",
    "fig.add_annotation(text=\"SSP1-2.6 ({:.1f}%)\".format(df_wm.PPc[\"SSP126\"]), font=dict(size=13, color = cl[9]), x=0.25, y=0.00, textangle=-10, showarrow=False, row=1, col=3)\n",
    "\n",
    "\n",
    "# Temperature ssp spread (d) -----------------------------------------------------------------------------------------------------------\n",
    "fig.add_trace(go.Scatter(y = basins.sort_values(\"T2Mc_ssp126\").T2Mc_ssp126, x = basins.sort_values(\"T2Mc_ssp126\").area_RGI6_percent.cumsum(), \n",
    "                         marker_color = cl[9], showlegend = False), row=2, col=3)\n",
    "\n",
    "fig.add_trace(go.Scatter(y = basins.sort_values(\"T2Mc_ssp245\").T2Mc_ssp245, x = basins.sort_values(\"T2Mc_ssp245\").area_RGI6_percent.cumsum(), \n",
    "                         marker_color = cl[8], showlegend = False), row=2, col=3)\n",
    "\n",
    "fig.add_trace(go.Scatter(y = basins.sort_values(\"T2Mc_ssp370\").T2Mc_ssp370, x = basins.sort_values(\"T2Mc_ssp370\").area_RGI6_percent.cumsum(), \n",
    "                         marker_color = cl[3], showlegend = False), row=2, col=3)\n",
    "\n",
    "fig.add_trace(go.Scatter(y = basins.sort_values(\"T2Mc_ssp585\").T2Mc_ssp585, x = basins.sort_values(\"T2Mc_ssp585\").area_RGI6_percent.cumsum(), \n",
    "                         marker_color = cl[1], showlegend = False), row=2, col=3)\n",
    "\n",
    "fig.update_xaxes(range = [-0.02,1.02], title_text=\"Probability of exceedance (glacier area; %)\", title_standoff = 0, dtick = 0.25, tickangle = 0, tickformat = ',.0%', row = 2, col = 3)\n",
    "fig.update_yaxes(range = [0.8,3], title_text=\"Temperature change (°C)\", side = \"right\", title_standoff = 15, tickangle = 0, row = 2, col = 3)\n",
    "fig.add_annotation(text=\"(d)\", font=dict(size=16), x=0.03, y=2.9, showarrow=False, row=2, col=3)\n",
    "fig.add_annotation(text=\"SSP5-8.5 ({:.1f}°C)\".format(df_wm.T2Mc[\"SSP585\"]), font=dict(size=13, color = cl[1]), x=0.5, y=2.83, textangle=-5, showarrow=False, row=2, col=3)\n",
    "fig.add_annotation(text=\"SSP3-7.0 ({:.1f}°C)\".format(df_wm.T2Mc[\"SSP370\"]), font=dict(size=13, color = cl[3]), x=0.5, y=2.33, textangle=-5, showarrow=False, row=2, col=3)\n",
    "fig.add_annotation(text=\"SSP2-4.5 ({:.1f}°C)\".format(df_wm.T2Mc[\"SSP245\"]), font=dict(size=13, color = cl[8]), x=0.5, y=1.7, textangle=-5, showarrow=False, row=2, col=3)\n",
    "fig.add_annotation(text=\"SSP1-2.6 ({:.1f}°C)\".format(df_wm.T2Mc[\"SSP126\"]), font=dict(size=13, color = cl[9]), x=0.5, y=1.1, textangle=-5, showarrow=False, row=2, col=3)\n",
    "\n",
    "# layout c and d\n",
    "fig.update_traces(line = dict(width = 2), opacity = 0.8, row = 1, col = 3)\n",
    "fig.update_traces(line = dict(width = 2), opacity = 0.8, row = 2, col = 3)\n",
    "fig.update_xaxes(griddash = \"dot\", gridcolor = \"rgba(255,255,255,0.5)\", zeroline=False, showline = True, linecolor = 'black', linewidth = 1, ticks=\"outside\", mirror=True)\n",
    "fig.update_yaxes(griddash = \"dot\", gridcolor = \"rgba(255,255,255,0.5)\", zeroline=False, showline = True, linecolor = 'black', linewidth = 1, ticks=\"outside\", mirror=True)\n",
    "\n",
    "# general \n",
    "fig.update_layout(barmode = \"overlay\",  template = \"seaborn\")\n",
    "fig.update_layout(autosize = False, width = 900, height = 600, margin = dict(l=10, r=10, b=10, t=30, pad=0, autoexpand=True))\n",
    "fig.show()\n",
    "\n",
    "fig.write_image(\"/home/rooda/Dropbox/Patagonia/MS2 Results/Figure_6_GCM_SSP.png\", scale=4)"
   ]
  },
  {
   "cell_type": "code",
   "execution_count": null,
   "id": "7e7d54ef-1410-4e1b-97ea-419257b6ed5d",
   "metadata": {
    "tags": []
   },
   "outputs": [],
   "source": [
    "\"Under the SSP1-2.6 scenario, the {:.0f}% of the glacier area is projected to experience a decline in precipitation (Fig. 6c). This percentage increases to {:.0f}% under the SSP5-8.5 scenario.\".format(\n",
    "    basins[basins[\"PPc_ssp126\"] < 0].area_RGI6.sum()*100 / basins.area_RGI6.sum(),\n",
    "    basins[basins[\"PPc_ssp585\"] < 0].area_RGI6.sum()*100 / basins.area_RGI6.sum())"
   ]
  },
  {
   "cell_type": "code",
   "execution_count": null,
   "id": "96ab8812-0721-4081-a3d2-e0802bfc3f9a",
   "metadata": {
    "tags": []
   },
   "outputs": [],
   "source": [
    "\"For temperature, the glacier area-weighted mean warming varies from {:.2f} ºC in SSP1-2.6 to {:.2f} ºC in SSP5-8.5 (Fig. 6d).\".format(\n",
    "    df_wm.T2Mc[\"SSP126\"], df_wm.T2Mc[\"SSP585\"])"
   ]
  },
  {
   "cell_type": "code",
   "execution_count": null,
   "id": "44895f7e-36eb-4b85-9d78-4f526f1ceee4",
   "metadata": {
    "tags": []
   },
   "outputs": [],
   "source": [
    "\"For precipitation, the relative differences in terms of glacier area-weighted mean varies from {:.1f} % in SSP1-2.6 to {:.1f} % in SSP5-8.5.\".format(\n",
    "    df_wm.PPc[\"SSP126\"], df_wm.PPc[\"SSP585\"])"
   ]
  },
  {
   "cell_type": "code",
   "execution_count": null,
   "id": "110820c7-fae3-4d5e-a3e2-d6314acacf56",
   "metadata": {},
   "outputs": [],
   "source": []
  }
 ],
 "metadata": {
  "kernelspec": {
   "display_name": "Python 3 (ipykernel)",
   "language": "python",
   "name": "python3"
  },
  "language_info": {
   "codemirror_mode": {
    "name": "ipython",
    "version": 3
   },
   "file_extension": ".py",
   "mimetype": "text/x-python",
   "name": "python",
   "nbconvert_exporter": "python",
   "pygments_lexer": "ipython3",
   "version": "3.11.8"
  }
 },
 "nbformat": 4,
 "nbformat_minor": 5
}

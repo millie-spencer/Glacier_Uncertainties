{
 "cells": [
  {
   "cell_type": "markdown",
   "id": "caa1d417-8756-4484-a00b-52ae1a33790d",
   "metadata": {},
   "source": [
    "## Figure 7: Bias correction impact"
   ]
  },
  {
   "cell_type": "code",
   "execution_count": null,
   "id": "4497ef9a-1022-486a-8d4b-d97bd8961019",
   "metadata": {},
   "outputs": [],
   "source": [
    "# spatial libraries\n",
    "from shapely.geometry import Polygon\n",
    "import rioxarray as rioxr\n",
    "import geopandas as gpd\n",
    "import xarray as xr\n",
    "import xesmf as xe\n",
    "import regionmask\n",
    "\n",
    "# bias correction\n",
    "from xclim import sdba\n",
    "\n",
    "import pandas as pd\n",
    "import numpy as np\n",
    "import cftime\n",
    "import os\n",
    "\n",
    "# plotting libraries\n",
    "from plotly.subplots import make_subplots\n",
    "import plotly.graph_objects as go\n",
    "import plotly.express as px\n",
    "\n",
    "# colors\n",
    "cl = px.colors.qualitative.D3"
   ]
  },
  {
   "cell_type": "code",
   "execution_count": null,
   "id": "82d00443-590a-4325-b7dd-510e2e0680eb",
   "metadata": {
    "tags": []
   },
   "outputs": [],
   "source": [
    "# Glacier dataset\n",
    "glacier = gpd.read_file(\"/home/rooda/Dropbox/Patagonia/GIS South/Glaciers/RGI6_v2.shp\")\n",
    "glacier = glacier[glacier.Name == \"Jorge Montt\"] # select the glacier\n",
    "glacier"
   ]
  },
  {
   "cell_type": "code",
   "execution_count": null,
   "id": "0a5f9450-d18a-4dff-aadf-ea7fc5dfef25",
   "metadata": {},
   "outputs": [],
   "source": [
    "gcm       = \"MIROC6\"\n",
    "ssp       = \"ssp245\"\n",
    "climate   = \"PMET\"\n",
    "bias_correction = [\"MVA\", \"DQM\", \"MBC\"]\n",
    "\n",
    "baseline_period = slice(\"1980-01-01\", \"2014-12-31\") # ISIMIP3b bias adjustment protocol\n",
    "future_period   = baseline_period # Future period to bias correct"
   ]
  },
  {
   "cell_type": "markdown",
   "id": "223eeb58-50d2-4840-9c43-59397380e317",
   "metadata": {},
   "source": [
    "## Process climate projection for selected glacier"
   ]
  },
  {
   "cell_type": "code",
   "execution_count": null,
   "id": "1e38f94e-7cfc-488b-ac05-e391cc6cfaf3",
   "metadata": {
    "tags": []
   },
   "outputs": [],
   "source": [
    "# historical climate\n",
    "pp_baseline  = xr.open_dataset(\"/home/rooda/OGGM_results/\" + climate + \"_OGGM_1980_2019m.nc\")[\"prcp\"]\n",
    "t2m_baseline = xr.open_dataset(\"/home/rooda/OGGM_results/\" + climate + \"_OGGM_1980_2019m.nc\")[\"temp\"]\n",
    "pp_baseline  = pp_baseline.sel(lat  = glacier.CenLat.iloc[0], lon = glacier.CenLon.iloc[0], method='nearest')\n",
    "t2m_baseline = t2m_baseline.sel(lat = glacier.CenLat.iloc[0], lon = glacier.CenLon.iloc[0], method='nearest')\n",
    "pp_baseline  = pp_baseline.sel( time  = baseline_period)\n",
    "t2m_baseline = t2m_baseline.sel(time = baseline_period)"
   ]
  },
  {
   "cell_type": "code",
   "execution_count": null,
   "id": "c975a221-e9bc-4a43-9761-21634d8c416a",
   "metadata": {
    "tags": []
   },
   "outputs": [],
   "source": [
    "os.chdir(\"/home/rooda/OGGM_results/Future_climate/\")\n",
    "\n",
    "pp_model_ssp = xr.open_dataset(\"PP_\" + gcm + \"_\" + ssp + \".nc\")[\"pr\"]\n",
    "pp_model_ssp = pp_model_ssp.interp(lat = pp_baseline.lat, lon = pp_baseline.lon)\n",
    "t2m_model_ssp = xr.open_mfdataset(\"T2M_\" + gcm + \"_\" + ssp + \".nc\")[\"tas\"]\n",
    "t2m_model_ssp = t2m_model_ssp.interp(lat = t2m_baseline.lat, lon = t2m_baseline.lon)"
   ]
  },
  {
   "cell_type": "code",
   "execution_count": null,
   "id": "68fd3fb5-7046-4f6e-8651-56291353206e",
   "metadata": {
    "tags": []
   },
   "outputs": [],
   "source": [
    "# 1. Scaling method ---------------------------------------------------------------------\n",
    "qdm_t2m = sdba.adjustment.Scaling.train(ref = t2m_baseline, hist = t2m_model_ssp.sel(time = baseline_period), kind = \"+\", group = \"time.month\")\n",
    "t2m_bc_mva = qdm_t2m.adjust(t2m_model_ssp.sel(time = future_period), interp=\"nearest\").load()\n",
    "\n",
    "qdm_pp  = sdba.adjustment.Scaling.train(ref = pp_baseline, hist = pp_model_ssp.sel(time  = baseline_period), kind = \"*\", group = \"time.month\")\n",
    "pp_bc_mva  = qdm_pp.adjust(pp_model_ssp.sel(time  = future_period), interp=\"nearest\").load()\n",
    "\n",
    "# 2. Quantile Delta Mapping method --------------------------------------------------------------\n",
    "qdm_t2m = sdba.adjustment.QuantileDeltaMapping.train(ref = t2m_baseline, hist = t2m_model_ssp.sel(time = baseline_period), kind = \"+\", group=\"time.month\")\n",
    "t2m_bc_dqm = qdm_t2m.adjust(t2m_model_ssp.sel(time = future_period), interp=\"nearest\", extrapolation=\"constant\").load()\n",
    "\n",
    "qdm_pp  = sdba.adjustment.QuantileDeltaMapping.train(ref = pp_baseline, hist = pp_model_ssp.sel(time  = baseline_period), kind = \"*\", group=\"time.month\")\n",
    "pp_bc_dqm  = qdm_pp.adjust(pp_model_ssp.sel(time  = future_period), interp=\"nearest\", extrapolation=\"constant\").load()\n",
    "\n",
    "# 3. Npdf Transform method  ------------------------------------------------------\n",
    "qdm_t2m = sdba.QuantileDeltaMapping.train(t2m_baseline, t2m_model_ssp.sel(time = baseline_period), nquantiles = 20, kind = \"+\", group = \"time.month\")\n",
    "scen_hist_t2m = qdm_t2m.adjust(t2m_model_ssp.sel(time = baseline_period))\n",
    "scen_ssp_t2m  = qdm_t2m.adjust(t2m_model_ssp.sel(time = future_period))\n",
    "\n",
    "qdm_pp = sdba.QuantileDeltaMapping.train(pp_baseline, pp_model_ssp.sel(time = baseline_period), nquantiles = 20, kind = \"*\", group = \"time.month\")\n",
    "scen_hist_pp = qdm_pp.adjust(pp_model_ssp.sel(time = baseline_period))\n",
    "scen_ssp_pp  = qdm_pp.adjust(pp_model_ssp.sel(time = future_period))\n",
    "\n",
    "dref      = xr.Dataset(dict(tas = t2m_baseline,  pr = pp_baseline))\n",
    "scen_hist = xr.Dataset(dict(tas = scen_hist_t2m, pr = scen_hist_pp))\n",
    "scen_ssp  = xr.Dataset(dict(tas = scen_ssp_t2m,  pr = scen_ssp_pp))\n",
    "scen_hist[\"time\"] = dref.time # correct date (15 -> 01)\n",
    "\n",
    "ref   = sdba.processing.stack_variables(dref) # Stack the variables (tas and pr)\n",
    "scenh = sdba.processing.stack_variables(scen_hist)\n",
    "scens = sdba.processing.stack_variables(scen_ssp)\n",
    "\n",
    "ref, _, _          = sdba.processing.standardize(ref) # Standardize\n",
    "allsim, savg, sstd = sdba.processing.standardize(xr.concat((scenh, scens), \"time\"))\n",
    "\n",
    "hist = allsim.sel(time = scenh.time)\n",
    "sim  = allsim.sel(time = scens.time)\n",
    "\n",
    "out = sdba.adjustment.NpdfTransform.adjust(ref, hist, sim, base=sdba.QuantileDeltaMapping, \n",
    "                                           base_kws={\"nquantiles\": 20, \"group\": \"time.month\"}, n_iter=20, n_escore=1000)  \n",
    "model_ssp_bc = sdba.processing.reordering(out, scens, group=\"time.month\")\n",
    "model_ssp_bc = sdba.processing.unstack_variables(model_ssp_bc)\n",
    "\n",
    "t2m_bc_mbc = model_ssp_bc.tas.load()\n",
    "pp_bc_mbc  = model_ssp_bc.pr.clip(min = 0).load()"
   ]
  },
  {
   "cell_type": "markdown",
   "id": "8369cdaf-1b16-4f58-930b-bdeab4482e2f",
   "metadata": {},
   "source": [
    "## Plot"
   ]
  },
  {
   "cell_type": "code",
   "execution_count": null,
   "id": "20eac9c5-a675-4411-bf16-86b26e54561d",
   "metadata": {},
   "outputs": [],
   "source": [
    "fig = make_subplots(rows=2, cols=4, shared_yaxes = True, horizontal_spacing = 0.02, vertical_spacing = 0.09,\n",
    "                    subplot_titles = [\"a) Baseline\", \"b) Mean and variance scaling (MVA)\", \"c) Delta quantile mapping (DQM)\", \"d) Multivariate bias correction (MBCn)\", \"e)  Annual solid precipitation (mm)\", \"f) Degree months (ºC)\"], \n",
    "                    specs=[[{\"type\": \"Histogram2dContour\"}, {\"type\": \"Histogram2dContour\"}, {\"type\": \"Histogram2dContour\"}, {\"type\": \"Histogram2dContour\"}],\n",
    "                           [{\"type\": \"Histogram2dContour\", \"colspan\" : 2},          None,   {\"type\": \"Histogram2dContour\", \"colspan\" : 2},         None]])\n",
    "\n",
    "range_x = [-8,8]\n",
    "range_y = [0,1200]\n",
    "range_z = [0,3]\n",
    "\n",
    "ybins = dict(start=range_y[0], size=100, end=range_y[1])\n",
    "xbins = dict(start=range_x[0], size=1,   end=range_x[1])\n",
    "\n",
    "# a) Historical ----------------------------------------------------------\n",
    "fig.add_trace(go.Histogram2dContour(x = t2m_baseline, y = pp_baseline, colorscale = [\"rgba(235,235,235,1)\", cl[0]], histnorm = \"percent\", line=dict(width=0.5, color= \"white\"),\n",
    "                                    zmin = range_z[0], zmax =range_z[1], xbins = xbins, ybins = ybins, colorbar=dict(title='Percent (%)', x = 1.01, thickness = 12, y = 0.514, len = 1.029)), row = 1, col = 1)\n",
    "fig.update_xaxes(title= \"T2M (ºC)\", range = range_x, row = 1, col = 1)\n",
    "fig.update_yaxes(title= \"PP (mm)\", range = range_y, row = 1, col = 1)\n",
    "\n",
    "# b) MVA ----------------------------------------------------------\n",
    "fig.add_trace(go.Histogram2dContour(x = t2m_bc_mva, y = pp_bc_mva, colorscale = [\"rgba(235,235,235,1)\", cl[1]], histnorm = \"percent\", line=dict(width=0.5, color= \"white\"),\n",
    "                                    zmin = range_z[0], zmax =range_z[1], xbins = xbins, ybins = ybins, colorbar=dict(x = 1.02,  thickness = 10)), row = 1, col = 2)\n",
    "fig.update_xaxes(title= \"T2M (ºC)\", range = range_x, row = 1, col = 2)\n",
    "fig.update_yaxes(range = range_y, row = 1, col = 2)\n",
    "\n",
    "# c) DQM ----------------------------------------------------------\n",
    "fig.add_trace(go.Histogram2dContour(x = t2m_bc_dqm, y = pp_bc_dqm, colorscale = [\"rgba(235,235,235,1)\", cl[2]], histnorm = \"percent\", line=dict(width=0.5, color= \"white\"),\n",
    "                                    zmin = range_z[0], zmax =range_z[1], xbins = xbins, ybins = ybins, colorbar=dict(x = 1.03, thickness = 10)), row = 1, col = 3)\n",
    "fig.update_xaxes(title= \"T2M (ºC)\", range = range_x, row = 1, col = 3)\n",
    "fig.update_yaxes(range = range_y, row = 1, col = 3)\n",
    "\n",
    "# d) MBC ----------------------------------------------------------\n",
    "fig.add_trace(go.Histogram2dContour(x = t2m_bc_mbc, y = pp_bc_mbc, colorscale = [\"rgba(235,235,235,1)\", cl[4]], histnorm = \"percent\", line=dict(width=0.5, color= \"white\"),\n",
    "                                    zmin = range_z[0], zmax =range_z[1], xbins = xbins, ybins = ybins,  colorbar=dict(x = 1.04, thickness = 20)), row = 1, col = 4)\n",
    "fig.update_xaxes(title= \"T2M (ºC)\", range = range_x, row = 1, col = 4)\n",
    "fig.update_yaxes(range = range_y, row = 1, col = 4)\n",
    "\n",
    "# lines for a,b,c,d\n",
    "fig.add_trace(go.Scatter(x=[0, 0], y=[0, 1200], mode='lines', line = dict(color='rgba(0,0,0,0.7)', width=0.5, dash='dash'), showlegend = False), row = 1, col = 1)\n",
    "fig.add_trace(go.Scatter(x=[0, 0], y=[0, 1200], mode='lines', line = dict(color='rgba(0,0,0,0.7)', width=0.5, dash='dash'), showlegend = False), row = 1, col = 2)\n",
    "fig.add_trace(go.Scatter(x=[0, 0], y=[0, 1200], mode='lines', line = dict(color='rgba(0,0,0,0.7)', width=0.5, dash='dash'), showlegend = False), row = 1, col = 3)\n",
    "fig.add_trace(go.Scatter(x=[0, 0], y=[0, 1200], mode='lines', line = dict(color='rgba(0,0,0,0.7)', width=0.5, dash='dash'), showlegend = False), row = 1, col = 4)\n",
    "fig.add_trace(go.Scatter(x=[5, 5], y=[0, 1200], mode='lines', line = dict(color='rgba(255,255,255,0.7)', width=1, dash='dot'), showlegend = False), row = 1, col = 1)\n",
    "fig.add_trace(go.Scatter(x=[5, 5], y=[0, 1200], mode='lines', line = dict(color='rgba(255,255,255,0.7)', width=1, dash='dot'), showlegend = False), row = 1, col = 2)\n",
    "fig.add_trace(go.Scatter(x=[5, 5], y=[0, 1200], mode='lines', line = dict(color='rgba(255,255,255,0.7)', width=1, dash='dot'), showlegend = False), row = 1, col = 3)\n",
    "fig.add_trace(go.Scatter(x=[5, 5], y=[0, 1200], mode='lines', line = dict(color='rgba(255,255,255,0.7)', width=1, dash='dot'), showlegend = False), row = 1, col = 4)\n",
    "fig.add_trace(go.Scatter(x=[-5, -5], y=[0, 1200], mode='lines', line = dict(color='rgba(255,255,255,0.7)', width=1, dash='dot'), showlegend = False), row = 1, col = 1)\n",
    "fig.add_trace(go.Scatter(x=[-5, -5], y=[0, 1200], mode='lines', line = dict(color='rgba(255,255,255,0.7)', width=1, dash='dot'), showlegend = False), row = 1, col = 2)\n",
    "fig.add_trace(go.Scatter(x=[-5, -5], y=[0, 1200], mode='lines', line = dict(color='rgba(255,255,255,0.7)', width=1, dash='dot'), showlegend = False), row = 1, col = 3)\n",
    "fig.add_trace(go.Scatter(x=[-5, -5], y=[0, 1200], mode='lines', line = dict(color='rgba(255,255,255,0.7)', width=1, dash='dot'), showlegend = False), row = 1, col = 4)\n",
    "    \n",
    "# e) Annual solid pp --------------------------------------------------\n",
    "fig.add_trace(go.Violin(x = pp_baseline.where(t2m_baseline <= 0, 0).resample(time='YS').sum(),  name = \"Baseline\", width=0.7, meanline_visible=True, box_visible=True, line_color=cl[0], opacity=0.6, showlegend = False), row = 2, col = 1)\n",
    "fig.add_trace(go.Violin(x = pp_bc_mva.where(t2m_bc_mva <= 0, 0).resample(time='YS').sum(),      name = \"MVA\", width=0.7, meanline_visible=True, box_visible=True, line_color=cl[1],opacity=0.6, showlegend = False), row = 2, col = 1)\n",
    "fig.add_trace(go.Violin(x = pp_bc_dqm.where(t2m_bc_dqm <= 0, 0).resample(time='YS').sum(),      name = \"DQM\", width=0.7, meanline_visible=True, box_visible=True, line_color=cl[2],opacity=0.6, showlegend = False), row = 2, col = 1)\n",
    "fig.add_trace(go.Violin(x = pp_bc_mbc.where(t2m_bc_mbc <= 0, 0).resample(time='YS').sum(),      name = \"MBC\", width=0.7, meanline_visible=True, box_visible=True, line_color=cl[4],opacity=0.6, showlegend = False), row = 2, col = 1)\n",
    "fig.update_xaxes(range = [1000, 7000], row = 2, col = 1)\n",
    "\n",
    "# f) Degress days (?) --------------------------------------------------\n",
    "fig.add_trace(go.Violin(x = t2m_baseline.where(t2m_baseline >= 0, 0).resample(time='YS').sum(),  name = \"Baseline\", width=0.7, meanline_visible=True, box_visible=True, line_color=cl[0], opacity=0.6, showlegend = False), row = 2, col =3 )\n",
    "fig.add_trace(go.Violin(x = t2m_bc_mva.where(t2m_bc_mva >= 0, 0).resample(time='YS').sum(),      name = \"MVA\", width=0.7, meanline_visible=True, box_visible=True, line_color=cl[1],opacity=0.6, showlegend = False), row = 2, col = 3)\n",
    "fig.add_trace(go.Violin(x = t2m_bc_dqm.where(t2m_bc_dqm >= 0, 0).resample(time='YS').sum(),      name = \"DQM\", width=0.7, meanline_visible=True, box_visible=True, line_color=cl[2],opacity=0.6, showlegend = False), row = 2, col = 3)\n",
    "fig.add_trace(go.Violin(x = t2m_bc_mbc.where(t2m_bc_mbc >= 0, 0).resample(time='YS').sum(),      name = \"MBC\", width=0.7, meanline_visible=True, box_visible=True,  line_color=cl[4],opacity=0.6, showlegend = False), row = 2, col = 3)\n",
    "fig.update_xaxes(range = [0, 17], row = 2, col = 3)\n",
    "    \n",
    "# Layout for all ------------------------------------------------------------------------------\n",
    "fig.update_yaxes(ticks=\"outside\", griddash = \"dot\", gridcolor = \"rgba(255,255,255,0.7)\", title_standoff = 0, zeroline = False,  showline = True, linecolor = 'rgba(0,0,0,0.5)', linewidth = 1, mirror=True)\n",
    "fig.update_xaxes(ticks=\"outside\", griddash = \"dot\", gridcolor = \"rgba(255,255,255,0.7)\", title_standoff = 0, zeroline = False,  showline = True, linecolor = 'rgba(0,0,0,0.5)', linewidth = 1, mirror=True)\n",
    "\n",
    "fig.update_layout(autosize = False, width = 1200, height = 800, margin = dict(l=5, r=5, b=5, t=30))\n",
    "fig.update_layout(paper_bgcolor='white', plot_bgcolor='rgba(235,235,235,1)')\n",
    "\n",
    "fig.write_image(\"/home/rooda/Dropbox/Patagonia/MS2 Results/Figure_7_BCM.png\", scale=4)\n",
    "fig.show()"
   ]
  },
  {
   "cell_type": "code",
   "execution_count": null,
   "id": "9373059b-f716-409d-99e4-ce97949a5537",
   "metadata": {},
   "outputs": [],
   "source": []
  }
 ],
 "metadata": {
  "kernelspec": {
   "display_name": "Python 3",
   "language": "python",
   "name": "python3"
  },
  "language_info": {
   "codemirror_mode": {
    "name": "ipython",
    "version": 3
   },
   "file_extension": ".py",
   "mimetype": "text/x-python",
   "name": "python",
   "nbconvert_exporter": "python",
   "pygments_lexer": "ipython3",
   "version": "3.9.15"
  }
 },
 "nbformat": 4,
 "nbformat_minor": 5
}

{
 "cells": [
  {
   "cell_type": "markdown",
   "id": "hollywood-cement",
   "metadata": {},
   "source": [
    "## Figure 3: Glacier inventory comparison between RGI6 and RGI7"
   ]
  },
  {
   "cell_type": "code",
   "execution_count": null,
   "id": "5bee0511-bf00-42e1-bb0f-35712efc11a3",
   "metadata": {
    "tags": []
   },
   "outputs": [],
   "source": [
    "import os\n",
    "import numpy as np\n",
    "import pandas as pd\n",
    "import geopandas as gpd\n",
    "import shapely.geometry\n",
    "\n",
    "import plotly.express as px\n",
    "import plotly.graph_objects as go\n",
    "import plotly.figure_factory as ff\n",
    "from plotly.subplots import make_subplots\n",
    "\n",
    "cl = px.colors.qualitative.D3\n",
    "os.chdir('/home/rooda/Dropbox/Patagonia')"
   ]
  },
  {
   "cell_type": "markdown",
   "id": "bfe59c94-0596-4d6c-a629-356d61e5a8ec",
   "metadata": {
    "tags": []
   },
   "source": [
    "## Data"
   ]
  },
  {
   "cell_type": "code",
   "execution_count": null,
   "id": "fb904a60-bd1f-4122-be0b-67b09ca1641f",
   "metadata": {
    "tags": []
   },
   "outputs": [],
   "source": [
    "# data\n",
    "RGI6   = gpd.read_file(\"GIS South/Glaciers/RGI6_v2.shp\")\n",
    "RGI7   = gpd.read_file(\"GIS South/Glaciers/RGI7_v2.shp\")\n",
    "\n",
    "RGI6[\"year\"] = RGI6.BgnDate.str[0:4].astype(\"int16\")\n",
    "RGI7[\"year\"] = RGI7.src_date.str[0:4].astype(\"int16\")\n",
    "\n",
    "# Zone: numeric to name (for the plot)\n",
    "RGI6 = RGI6.replace({\"Zone\": {1:'PPY', 2:'PCA', 3:'NPI-E', 4:'NPI-W', 5:'SPI-N', 6:'SPI-C', 7:'SPI-S', 8:'GCN', 9:'CDI'}})\n",
    "RGI7 = RGI7.replace({\"Zone\": {1:'PPY', 2:'PCA', 3:'NPI-E', 4:'NPI-W', 5:'SPI-N', 6:'SPI-C', 7:'SPI-S', 8:'GCN', 9:'CDI'}})\n",
    "\n",
    "# polygons to points (centroid)\n",
    "basins = gpd.read_file(\"GIS South/Basins_Patagonia_ice.shp\")\n",
    "basins = basins.set_index(\"ID\")\n",
    "basins[\"diff\"] = ((basins['RGI7_area']/basins['RGI6_area'])-1)*100\n",
    "\n",
    "names = [\"Yelcho\", \"Baker\", \"Santa Cruz                             \", \"Palena\", \"Grey\", \"Puelo\", \"Cisnes\", \"Aysen\", \"Pascua\"]\n",
    "basins.loc[basins.basin_area > 5000, \"Name\"] = names\n",
    "\n",
    "RGI6_agg  = RGI6[[\"Zone\",\"area_km2\"]].groupby(\"Zone\").sum()\n",
    "RGI7_agg  = RGI7[[\"Zone\",\"area_km2\"]].groupby(\"Zone\").sum()\n",
    "diff_perc = (RGI7_agg.area_km2 / RGI6_agg.area_km2) - 1\n",
    "\n",
    "diff_abs  = (RGI7_agg.area_km2 - RGI6_agg.area_km2).astype(\"int\").tolist()\n",
    "diff_abs  = [str(x)+' km<sup>2</sup>' for x in diff_abs]"
   ]
  },
  {
   "cell_type": "code",
   "execution_count": null,
   "id": "aae92e38-b6e5-45f1-94ce-0434b64c5b7c",
   "metadata": {
    "tags": []
   },
   "outputs": [],
   "source": [
    "# basemap for background\n",
    "geo_map = gpd.read_file(\"/home/rooda/Dropbox/ArcGIS/Chile/south_america.shp\")\n",
    "geo_map = geo_map[(geo_map.CC == \"CI\") | (geo_map.CC == \"AR\")]\n",
    "geo_map = geo_map.dissolve(by='REGION')\n",
    "geo_map[\"geometry\"] = geo_map.simplify(0.01)\n",
    "\n",
    "poly_gdf = shapely.geometry.Polygon([(-76, -55.7), (-76, -40.52), (-68.05, -40.52), (-68.05, -55.7), (-76, -55.8)])\n",
    "poly_gdf = gpd.GeoDataFrame([1], geometry=[poly_gdf], crs=geo_map.crs)\n",
    "geo_map = geo_map.clip(poly_gdf)"
   ]
  },
  {
   "cell_type": "code",
   "execution_count": null,
   "id": "cce7394d-89e5-44da-bf70-8dd57a19e31c",
   "metadata": {
    "tags": []
   },
   "outputs": [],
   "source": [
    "# hydrological zone divides\n",
    "geo_lines = gpd.read_file(\"GIS South/Basins_Patagonia_ice_divides.shp\")\n",
    "\n",
    "lats = []\n",
    "lons = []\n",
    "\n",
    "for feature in geo_lines.geometry:\n",
    "    if isinstance(feature, shapely.geometry.linestring.LineString):\n",
    "        linestrings = [feature]\n",
    "    elif isinstance(feature, shapely.geometry.multilinestring.MultiLineString):\n",
    "        linestrings = feature.geoms\n",
    "    else:\n",
    "        continue\n",
    "    for linestring in linestrings:\n",
    "        x, y = linestring.xy\n",
    "        lats = np.append(lats, y)\n",
    "        lons = np.append(lons, x)\n",
    "        lats = np.append(lats, None)\n",
    "        lons = np.append(lons, None)\n",
    "        \n",
    "lat_coords  = [-43.2, -45.95,  -46.9,  -47.55,   -49.2,   -50.5,   -52.0, -53.1, -54.8]\n",
    "lon_coords  = [-71.2, -71.7,   -73.8,   -71.7,   -72.2,   -72.3,   -72.1, -72.8, -69.2]\n",
    "names_zones = [\"PPY\", \"PCA\", \"NPI-W\", \"NPI-E\", \"SPI-N\", \"SPI-C\", \"SPI-S\", \"GCN\", \"CDI\"]\n",
    "names  = ['<b>'+x+'</b>' for x in names_zones]"
   ]
  },
  {
   "cell_type": "markdown",
   "id": "1e7c4200-64c3-4240-9803-26dd254fc5e7",
   "metadata": {
    "tags": []
   },
   "source": [
    "## Plot"
   ]
  },
  {
   "cell_type": "code",
   "execution_count": null,
   "id": "46551203-cb87-4d1d-b9d0-0726e6bf8cdf",
   "metadata": {
    "tags": []
   },
   "outputs": [],
   "source": [
    "fig = make_subplots(rows=2, cols=3, horizontal_spacing = 0.06, vertical_spacing = 0.1,\n",
    "                    specs=[[{\"type\": \"scattergeo\", \"rowspan\": 2}, {\"type\": \"xy\", \"colspan\": 2}, None],\n",
    "                           [None,                                 {\"type\": \"xy\", \"r\": 0}, {\"type\": \"xy\", \"l\": 0}]])\n",
    "\n",
    "# a) Map ----------------------------------------------------------------------------------------------------------\n",
    "\n",
    "## Basemap\n",
    "fig.add_trace(go.Choropleth(geojson = eval(geo_map['geometry'].to_json()),  locations = geo_map.index, z = geo_map['iso_num'], \n",
    "                            colorscale = [\"#EAEAF2\", \"#EAEAF2\"], showscale= False, marker_line_color ='white', marker_line_width=0.1), row=1, col=1)\n",
    "\n",
    "## Added shapefiles\n",
    "colorbar_config = dict(len=0.5, x=0.22, y= 0.75, title='Δ Area', ticksuffix = \"%\", thickness=20, tickfont=dict(size=13))\n",
    "fig.add_trace(go.Choropleth(geojson = eval(basins['geometry'].to_json()),  locations = basins.index, z = basins[\"diff\"], \n",
    "                            colorscale = [cl[1], \"#ffe9ba\" ,cl[0]], marker_line_color ='rgba(255,255,255, 0.6)', marker_line_width=0.5,\n",
    "                            zmin = -100, zmax = 100, colorbar = colorbar_config), row=1, col=1)\n",
    "\n",
    "## Added shapefiles (lines)\n",
    "fig.add_trace(go.Scattergeo(lon = lons, lat = lats, mode = 'lines', line = dict(width = 0.7,color = 'black'), opacity = 0.5, showlegend = False),row=1, col=1)\n",
    "fig.add_trace(go.Scattergeo(lon=lon_coords, lat=lat_coords, mode='text', text=names, textfont=dict(size=12, color = \"rgba(0,0,0,0.6)\"), showlegend = False),row=1, col=1)\n",
    "fig.add_scattergeo(geojson = eval(basins['geometry'].to_json()), locations = basins.index, text = basins['Name'], mode = 'text', showlegend = False, \n",
    "                   textfont=dict(size=11, color = \"rgba(0,0,0,0.3)\"),row=1, col=1)\n",
    "\n",
    "## Background\n",
    "fig.update_geos(showframe = True, framecolor = \"rgba(0,0,0,0.5)\", framewidth = 1, lonaxis_range=[-76, -68], lataxis_range=[-55.8, -40.5], \n",
    "                bgcolor = \"rgb(255,255,255)\", showland = False, showcoastlines = False, showlakes = False)\n",
    "fig.add_annotation(text=\"a)\", font=dict(size=16), x=0.01, y=0.995,  xref = \"paper\", yref = \"paper\", showarrow=False)\n",
    "\n",
    "\n",
    "# b) Difference by Zone --------------------------------------------------------------------------------------------------\n",
    "colorbar_config_b = dict(title='Area by zone', outlinewidth = 0, ticksuffix = \" km<sup>2</sup>\", len=0.4, x=0.5, y= 0.79, thickness=20)\n",
    "fig.add_trace(go.Bar(x=diff_perc.index, y=diff_perc.values, text = diff_abs,\n",
    "                     marker= dict(color = diff_perc.values, colorscale = [\"#ffb05d\", \"#ffe9ba\", \"#8eafb6\"], showscale=False, colorbar = colorbar_config_b)), row=1, col=2)\n",
    "fig.update_traces(showlegend=False, opacity=1, textfont_size=14, textangle=0, textposition=\"outside\", cliponaxis=False, row=1, col=2)\n",
    "fig.update_yaxes(title = \"Difference per zone rel. to RGI6 (%)\", tickangle = -90, dtick = 0.20, title_standoff = 0, zeroline = True, range = [-0.32,0.32], tickformat = ',.0%', row=1, col=2)\n",
    "fig.update_xaxes(categoryorder='array', categoryarray= names_zones, row=1, col=2)\n",
    "fig.update_layout(bargap=0.15)\n",
    "fig.update_traces(textposition='auto', row=1, col=2)\n",
    "fig.add_annotation(text=\"b)\", font=dict(size=16), x=-0.35, y=0.29, showarrow=False, row=1, col=2)\n",
    "fig.add_annotation(text=\"Absolute difference\", font=dict(size=14), x=1, y=0.09, ax=40, showarrow=True, row=1, col=2)\n",
    "\n",
    "\n",
    "# b) Area in log km2 --------------------------------------------------------------------------------------------------\n",
    "fig.add_trace(go.Histogram(x=np.log10(RGI6.area_km2), histnorm='percent', marker_color= cl[1], name = \"RGI6\"), row=2, col=2)\n",
    "fig.add_trace(go.Histogram(x=np.log10(RGI7.area_km2), histnorm='percent', marker_color= cl[0], name = \"RGI7\"), row=2, col=2)\n",
    "fig.update_yaxes(title = \"Percent of glacier number (%)\", tickangle = -90, range = (0,4), dtick = 1, row=2, col=2)\n",
    "fig.update_xaxes(title = \"Area (log km<sup>2</sup>)\", title_standoff = 0, tickmode = 'array', row=2, col=2)\n",
    "fig.update_xaxes(tickvals = [-2, -1, 0, 1, 2], ticktext = [\"10<sup>-2<sup>\", \"10<sup>-1<sup>\", \"10<sup>0<sup>\",\"10<sup>1<sup>\", \"10<sup>2<sup>\"], row=2, col=2)\n",
    "fig.update_traces(opacity=0.7, row = 2, col = 2)\n",
    "fig.add_annotation(text=\"c)\", font=dict(size=16), x=-2, y=3.8, showarrow=False, row=2, col=2)\n",
    "fig.add_annotation(text=\"Total number of glaciers:\", font=dict(size=14), x=1.8, y=3.8, showarrow=False, row=2, col=2)\n",
    "fig.add_annotation(text=\"• \" + str(len(RGI6)) +\" in RGI6\", font=dict(size=14), x=2.1, y=3.5, showarrow=False, row=2, col=2)\n",
    "fig.add_annotation(text=\"• \" + str(len(RGI7)) +\" in RGI7\", font=dict(size=14), x=2.1, y=3.2, showarrow=False, row=2, col=2)\n",
    "\n",
    "\n",
    "# c) RGI year ---------------------------------------------------------------------------------------------------------\n",
    "RGI6a = RGI6[[\"year\", \"area_km2\"]].groupby([\"year\"]).sum()*100 /  RGI6.area_km2.sum()\n",
    "RGI7a = RGI7[[\"year\", \"area_km2\"]].groupby([\"year\"]).sum()*100 /  RGI7.area_km2.sum()\n",
    "\n",
    "fig.add_trace(go.Bar(x=RGI6a.index, y=RGI6a.area_km2, marker_color= cl[1], showlegend = False), row=2, col=3)\n",
    "fig.add_trace(go.Bar(x=RGI7a.index, y=RGI7a.area_km2, marker_color= cl[0], showlegend = False), row=2, col=3)\n",
    "fig.update_xaxes(title = \"Acquisition date (year)\", title_standoff = 0, dtick = 3, row=2, col=3)\n",
    "fig.update_yaxes(title = \"Percent of total glacier area (%)\", range = (0,100), tickangle = -90, row=2, col=3)\n",
    "fig.update_traces(opacity= 0.7, row = 2, col = 3)\n",
    "fig.add_annotation(text=\"d)\", font=dict(size=16), x=2000, y=95, showarrow=False, row=2, col=3)\n",
    "\n",
    "\n",
    "# All ------------------------------------------------------------------------------------------------------------------\n",
    "fig.update_xaxes(showline = True, linecolor = 'rgba(0,0,0,0.5)', linewidth = 1, ticks=\"outside\", griddash = \"dot\", mirror=True)\n",
    "fig.update_yaxes(showline = True, linecolor = 'rgba(0,0,0,0.5)', linewidth = 1, ticks=\"outside\", griddash = \"dot\", mirror=True, title_standoff = 0)\n",
    "\n",
    "fig.update_layout(font=dict(size=14), barmode='overlay', margin = dict(l=5, r=5, b=5, t=30), autosize=False, width = 1150, height = 700)\n",
    "fig.update_layout(legend=dict(y=0.4, x=0.925, bgcolor = 'rgba(255,255,255,0.5)'))\n",
    "fig.show()\n",
    "\n",
    "fig.write_image(\"/home/rooda/Dropbox/Patagonia/MS2 Results/Figure_3_RGI.png\", scale=4)"
   ]
  },
  {
   "cell_type": "code",
   "execution_count": null,
   "id": "42a4f340-60a9-4bd9-b481-bfe744c84b3c",
   "metadata": {
    "tags": []
   },
   "outputs": [],
   "source": [
    "(RGI7.year < 2001).sum()/len(RGI7)"
   ]
  },
  {
   "cell_type": "code",
   "execution_count": null,
   "id": "389a95e7-9d38-4d6b-a0d5-627752ecb357",
   "metadata": {
    "tags": []
   },
   "outputs": [],
   "source": [
    "(RGI7.year < 2004).sum()/len(RGI7)"
   ]
  },
  {
   "cell_type": "code",
   "execution_count": null,
   "id": "2e119398-7888-43e2-b182-e69833d7c092",
   "metadata": {
    "tags": []
   },
   "outputs": [],
   "source": [
    "RGI7[RGI7.year < 2004].area_km2.sum()/RGI7.area_km2.sum()"
   ]
  },
  {
   "cell_type": "code",
   "execution_count": null,
   "id": "cf87c6bf-43fb-4fb5-aafa-50f89c83e191",
   "metadata": {
    "tags": []
   },
   "outputs": [],
   "source": [
    "basins[basins[\"diff\"].abs() < 10].basin_area.sum()/basins.basin_area.sum()"
   ]
  },
  {
   "cell_type": "code",
   "execution_count": null,
   "id": "c6491ab0-e754-4de5-9b13-abbb0f98aa04",
   "metadata": {
    "tags": []
   },
   "outputs": [],
   "source": [
    "basins[basins[\"diff\"].abs() < 10].RGI6_area.sum()/basins.RGI6_area.sum()"
   ]
  },
  {
   "cell_type": "markdown",
   "id": "47d84591-78ba-4f52-9e7d-34c1d9a4b8a9",
   "metadata": {},
   "source": [
    "## Hexbins alternative for a)"
   ]
  },
  {
   "cell_type": "code",
   "execution_count": null,
   "id": "d1b27c73-ef2f-4263-ae89-1f512367f846",
   "metadata": {},
   "outputs": [],
   "source": [
    "fig = ff.create_hexbin_mapbox(\n",
    "    data_frame=RGI, lat=\"CenLat\", lon=\"CenLon\",\n",
    "    nx_hexagon=15, opacity=0.7, labels={\"color\": \"ΔGlaciers (n)\"},\n",
    "    min_count=1, color=\"number\", agg_func=np.sum, color_continuous_scale=[(0, c2), (0.16, \"white\"), (1, c1)], \n",
    "    range_color = [-50,250], mapbox_style = \"carto-positron\")\n",
    "\n",
    "fig.update_mapboxes(style='carto-positron', center={'lat': -48.5, 'lon': -72},  zoom=5.3)\n",
    "\n",
    "fig.update_layout(font=dict(size=20), autosize=False, width=1000, height=1500)\n",
    "fig.update_layout(margin = {'l':0.1,'r':0.1,'t':0.1,'b':0.1})\n",
    "fig.show()"
   ]
  },
  {
   "cell_type": "code",
   "execution_count": null,
   "id": "dee43c20-d7c5-4d99-8e8e-5582dec4650a",
   "metadata": {
    "tags": []
   },
   "outputs": [],
   "source": [
    "fig = make_subplots(rows=2, cols=3, horizontal_spacing = 0.05, vertical_spacing = 0.1,\n",
    "                    specs=[[{\"type\": \"scattergeo\", \"rowspan\": 2}, {\"type\": \"xy\", \"colspan\": 2}, None],\n",
    "                           [None,                                 {\"type\": \"xy\", \"r\": 0}, {\"type\": \"xy\", \"l\": 0}]])\n",
    "\n",
    "# b) Area in log km2 --------------------------------------------------------------------------------------------------\n",
    "fig.add_trace(go.Histogram(x=np.log10(RGI6.area_km2), histnorm='percent', marker_color= cl[1], name = \"RGI6\"), row=2, col=2)\n",
    "fig.add_trace(go.Histogram(x=np.log10(RGI7.area_km2), histnorm='percent', marker_color= cl[0], name = \"RGI7\"), row=2, col=2)\n",
    "fig.update_yaxes(title = \"Percent (%)\", tickangle = -90, range = (0,4), dtick = 1, row=2, col=2)\n",
    "fig.update_xaxes(title = \"Area (log km<sup>2</sup>)\", title_standoff = 0, tickmode = 'array', row=2, col=2)\n",
    "fig.update_xaxes(tickvals = [-2, -1, 0, 1, 2], ticktext = [\"10<sup>-2<sup>\", \"10<sup>-1<sup>\", \"10<sup>0<sup>\",\"10<sup>1<sup>\", \"10<sup>2<sup>\"], row=2, col=2)\n",
    "fig.update_traces(opacity=0.7, row = 2, col = 2)\n",
    "fig.add_annotation(text=\"c)\", font=dict(size=16), x=-2, y=3.8, showarrow=False, row=2, col=2)\n",
    "fig.add_annotation(text=\"Total number of glaciers:\", font=dict(size=14), x=1.8, y=3.8, showarrow=False, row=2, col=2)\n",
    "fig.add_annotation(text=\"• \" + str(len(RGI6)) +\" in RGI6\", font=dict(size=14), x=2.1, y=3.5, showarrow=False, row=2, col=2)\n",
    "fig.add_annotation(text=\"• \" + str(len(RGI7)) +\" in RGI7\", font=dict(size=14), x=2.1, y=3.2, showarrow=False, row=2, col=2)\n",
    "\n",
    "# All ------------------------------------------------------------------------------------------------------------------\n",
    "fig.update_xaxes(showline = True, linecolor = 'rgba(0,0,0,0.5)', linewidth = 1, ticks=\"outside\", griddash = \"dot\", mirror=True)\n",
    "fig.update_yaxes(showline = True, linecolor = 'rgba(0,0,0,0.5)', linewidth = 1, ticks=\"outside\", griddash = \"dot\", mirror=True, title_standoff = 0)\n",
    "\n",
    "fig.update_layout(font=dict(size=14), barmode='overlay', plot_bgcolor=\"rgba(213,213,213,0.6)\", margin = dict(l=5, r=5, b=5, t=30), autosize=False, width = 1150, height = 700)\n",
    "fig.update_layout(legend=dict(y=0.4, x=0.925, bgcolor = 'rgba(255,255,255,0.5)'))\n",
    "fig.show()"
   ]
  },
  {
   "cell_type": "code",
   "execution_count": null,
   "id": "f77f9e2f-6da3-4503-808b-3321db0b48ea",
   "metadata": {},
   "outputs": [],
   "source": []
  }
 ],
 "metadata": {
  "kernelspec": {
   "display_name": "Python 3 (ipykernel)",
   "language": "python",
   "name": "python3"
  },
  "language_info": {
   "codemirror_mode": {
    "name": "ipython",
    "version": 3
   },
   "file_extension": ".py",
   "mimetype": "text/x-python",
   "name": "python",
   "nbconvert_exporter": "python",
   "pygments_lexer": "ipython3",
   "version": "3.10.10"
  }
 },
 "nbformat": 4,
 "nbformat_minor": 5
}

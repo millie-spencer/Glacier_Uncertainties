{
 "cells": [
  {
   "cell_type": "markdown",
   "id": "hollywood-cement",
   "metadata": {},
   "source": [
    "# Figure 3: Glacier inventory comparison between RGI6 and RGI7"
   ]
  },
  {
   "cell_type": "code",
   "execution_count": null,
   "id": "5bee0511-bf00-42e1-bb0f-35712efc11a3",
   "metadata": {
    "tags": []
   },
   "outputs": [],
   "source": [
    "import os\n",
    "import numpy as np\n",
    "import pandas as pd\n",
    "import geopandas as gpd\n",
    "import shapely.geometry\n",
    "\n",
    "import plotly.express as px\n",
    "import plotly.graph_objects as go\n",
    "import plotly.figure_factory as ff\n",
    "from plotly.subplots import make_subplots\n",
    "\n",
    "os.chdir('/home/rooda/Dropbox/Patagonia')"
   ]
  },
  {
   "cell_type": "markdown",
   "id": "bfe59c94-0596-4d6c-a629-356d61e5a8ec",
   "metadata": {
    "tags": []
   },
   "source": [
    "## Data"
   ]
  },
  {
   "cell_type": "code",
   "execution_count": null,
   "id": "106e25e9-5a85-4e47-853c-0a66d74a5609",
   "metadata": {
    "tags": []
   },
   "outputs": [],
   "source": [
    "# data at the catchment scale\n",
    "basins = gpd.read_file(\"zip:////home/rooda/Dropbox/Patagonia/MS2 Results/zenodo/basins_boundaries.zip\")\n",
    "basins = basins[[\"basin_id\", \"geometry\"]].set_index(\"basin_id\")\n",
    "\n",
    "\n",
    "data = pd.read_csv(\"MS2 Results/zenodo/dataset_historical.csv\", index_col = \"basin_id\")\n",
    "data['basin_name']= data['basin_name'].replace({'Santa Cruz': 'Santa Cruz                          '})\n",
    "basins = pd.concat([basins, data], axis=1)\n",
    "basins[\"area_RGI6_percent\"] = basins[\"area_RGI6\"]/basins.area_RGI6.sum()\n",
    "\n",
    "basins[\"diff\"] = ((basins['area_RGI7']/basins['area_RGI6'])-1)*100\n",
    "basins[\"diff_vol\"] = ((basins['vol_M22']/basins['vol_F19'])-1)*100\n",
    "RGI6_agg  = basins[[\"basin_zone\",\"area_RGI6\"]].groupby(\"basin_zone\").sum().iloc[:,0]\n",
    "RGI7_agg  = basins[[\"basin_zone\",\"area_RGI7\"]].groupby(\"basin_zone\").sum().iloc[:,0]\n",
    "diff_perc = (RGI7_agg / RGI6_agg) - 1\n",
    "diff_abs  = (RGI7_agg - RGI6_agg).astype(\"int\").tolist()\n",
    "diff_abs  = [str(x)+' km<sup>2</sup>' for x in diff_abs]"
   ]
  },
  {
   "cell_type": "code",
   "execution_count": null,
   "id": "db294538-b71f-4840-8fd9-aa892ef46d31",
   "metadata": {
    "tags": []
   },
   "outputs": [],
   "source": [
    "# data at the glacier scale\n",
    "RGI6   = gpd.read_file(\"GIS South/Glaciers/RGI6_v2.shp\")\n",
    "RGI7   = gpd.read_file(\"GIS South/Glaciers/RGI7_v2.shp\")\n",
    "\n",
    "RGI6[\"year\"] = RGI6.BgnDate.str[0:4].astype(\"int16\")\n",
    "RGI7[\"year\"] = RGI7.src_date.str[0:4].astype(\"int16\")\n",
    "RGI6_yr = RGI6[[\"year\", \"area_km2\"]].groupby([\"year\"]).sum()*100 /  RGI6.area_km2.sum()\n",
    "RGI7_yr = RGI7[[\"year\", \"area_km2\"]].groupby([\"year\"]).sum()*100 /  RGI7.area_km2.sum()"
   ]
  },
  {
   "cell_type": "markdown",
   "id": "e64ae996-792d-4c29-bcc1-199267baf1fb",
   "metadata": {
    "tags": []
   },
   "source": [
    "## Plot elements "
   ]
  },
  {
   "cell_type": "code",
   "execution_count": null,
   "id": "aae92e38-b6e5-45f1-94ce-0434b64c5b7c",
   "metadata": {
    "tags": []
   },
   "outputs": [],
   "source": [
    "# basemap for background\n",
    "geo_map = gpd.read_file(\"/home/rooda/Dropbox/ArcGIS/Chile/south_america.shp\")\n",
    "geo_map = geo_map[(geo_map.CC == \"CI\") | (geo_map.CC == \"AR\")]\n",
    "geo_map = geo_map.dissolve(by='REGION')\n",
    "geo_map[\"geometry\"] = geo_map.simplify(0.01)\n",
    "\n",
    "poly_gdf = shapely.geometry.Polygon([(-76, -55.7), (-76, -40.52), (-68.05, -40.52), (-68.05, -55.7), (-76, -55.8)])\n",
    "poly_gdf = gpd.GeoDataFrame([1], geometry=[poly_gdf], crs=geo_map.crs)\n",
    "geo_map = geo_map.clip(poly_gdf)"
   ]
  },
  {
   "cell_type": "code",
   "execution_count": null,
   "id": "cce7394d-89e5-44da-bf70-8dd57a19e31c",
   "metadata": {
    "tags": []
   },
   "outputs": [],
   "source": [
    "# hydrological zone divides\n",
    "geo_lines = gpd.read_file(\"GIS South/Basins_Patagonia_ice_divides.shp\")\n",
    "\n",
    "lats = []\n",
    "lons = []\n",
    "\n",
    "for feature in geo_lines.geometry:\n",
    "    if isinstance(feature, shapely.geometry.linestring.LineString):\n",
    "        linestrings = [feature]\n",
    "    elif isinstance(feature, shapely.geometry.multilinestring.MultiLineString):\n",
    "        linestrings = feature.geoms\n",
    "    else:\n",
    "        continue\n",
    "    for linestring in linestrings:\n",
    "        x, y = linestring.xy\n",
    "        lats = np.append(lats, y)\n",
    "        lons = np.append(lons, x)\n",
    "        lats = np.append(lats, None)\n",
    "        lons = np.append(lons, None)\n",
    "        \n",
    "lat_coords  = [-43.2, -45.95,  -46.9,  -47.55,   -49.2,   -50.5,   -52.0, -53.1, -54.8]\n",
    "lon_coords  = [-71.2, -71.7,   -73.8,   -71.7,   -72.2,   -72.3,   -72.1, -72.8, -69.2]\n",
    "names_zones = [\"PPY\", \"PCA\", \"NPI-W\", \"NPI-E\", \"SPI-N\", \"SPI-C\", \"SPI-S\", \"GCN\", \"CDI\"]\n",
    "names  = ['<b>'+x+'</b>' for x in names_zones]"
   ]
  },
  {
   "cell_type": "markdown",
   "id": "1e7c4200-64c3-4240-9803-26dd254fc5e7",
   "metadata": {
    "tags": []
   },
   "source": [
    "## Plot"
   ]
  },
  {
   "cell_type": "code",
   "execution_count": null,
   "id": "46551203-cb87-4d1d-b9d0-0726e6bf8cdf",
   "metadata": {
    "tags": []
   },
   "outputs": [],
   "source": [
    "fig = make_subplots(rows=2, cols=3, horizontal_spacing = 0.06, vertical_spacing = 0.1,\n",
    "                    specs=[[{\"type\": \"scattergeo\", \"rowspan\": 2}, {\"type\": \"xy\", \"colspan\": 2}, None],\n",
    "                           [None,                                 {\"type\": \"xy\", \"r\": 0}, {\"type\": \"xy\", \"l\": 0}]])\n",
    "\n",
    "cl = px.colors.colorbrewer.RdYlBu\n",
    "\n",
    "# a) Map ----------------------------------------------------------------------------------------------------------\n",
    "\n",
    "## Basemap\n",
    "fig.add_trace(go.Choropleth(geojson = eval(geo_map['geometry'].to_json()),  locations = geo_map.index, z = geo_map['iso_num'], \n",
    "                            colorscale = [\"#EAEAF2\", \"#EAEAF2\"], showscale= False, marker_line_color ='white', marker_line_width=0.1), row=1, col=1)\n",
    "\n",
    "## Added shapefiles\n",
    "colorbar_config = dict(len=0.5, x=0.20, y= 0.75, title='Δ Area', thickness=20, ticktext = [\"< -50 %\", \"-25 %\", \"0 %\", \"25 %\", \"> 50 %\"], tickvals =  [-50,-25,0,25,50], tickfont=dict(size=13))\n",
    "fig.add_trace(go.Choropleth(geojson = eval(basins['geometry'].to_json()),  locations = basins.index, z = basins[\"diff\"], \n",
    "                            colorscale = [(0, cl[2]), (0.50, \"#ffe9ba\"), (1, cl[9])], marker_line_color ='rgba(255,255,255, 0.6)', marker_line_width=0.5,\n",
    "                            zmin = -50, zmax = 50, colorbar = colorbar_config), row=1, col=1)\n",
    "\n",
    "## Added shapefiles (lines)\n",
    "fig.add_trace(go.Scattergeo(lon = lons, lat = lats, mode = 'lines', line = dict(width = 0.8, color = 'black'), opacity = 0.7, showlegend = False),row=1, col=1)\n",
    "fig.add_trace(go.Scattergeo(lon=lon_coords, lat=lat_coords, mode='text', text=names, textfont=dict(size=12, color = \"rgba(0,0,0,0.7)\"), showlegend = False),row=1, col=1)\n",
    "fig.add_scattergeo(geojson = eval(basins['geometry'].to_json()), locations = basins.index, text = basins['basin_name'], mode = 'text', showlegend = False, \n",
    "                   textfont=dict(size=11, color = \"rgba(0,0,0,0.3)\"),row=1, col=1)\n",
    "\n",
    "## Background\n",
    "fig.update_geos(showframe = True, framecolor = \"rgba(0,0,0,0.5)\", framewidth = 1, lonaxis_range=[-76, -68], lataxis_range=[-55.8, -40.5], \n",
    "                bgcolor = \"rgb(255,255,255)\", showland = False, showcoastlines = False, showlakes = False)\n",
    "fig.add_annotation(text=\"(a)\", font=dict(size=16), x=0.01, y=0.995,  xref = \"paper\", yref = \"paper\", showarrow=False)\n",
    "\n",
    "\n",
    "# b) Difference by Zone --------------------------------------------------------------------------------------------------\n",
    "colorbar_config_b = dict(outlinewidth = 0, len=0.4, x=0.5, y= 0.79, thickness=20)\n",
    "fig.add_trace(go.Bar(x=diff_perc.index, y=diff_perc.values, text = diff_abs,\n",
    "                     marker= dict(color = diff_perc.values, colorscale = [cl[2], cl[5], cl[9]], showscale=False, colorbar = colorbar_config_b)), row=1, col=2)\n",
    "fig.update_traces(showlegend=False, opacity=0.7, textfont_size=14, textangle=0, textposition='auto', cliponaxis=False, row=1, col=2)\n",
    "fig.update_traces(marker_line_color='rgba(0,0,0,0.6)', marker_line_width=1, row=1, col=2)\n",
    "fig.update_yaxes(title = \"Difference per zone rel. to RGI6 (%)\", tickangle = -90, dtick = 0.20, title_standoff = 0, zeroline = True, \n",
    "                 zerolinecolor = 'rgba(0,0,0,0.5)', zerolinewidth = 1, range = [-0.32,0.32], tickformat = ',.0%', row=1, col=2)\n",
    "fig.update_xaxes(categoryorder='array', categoryarray= names_zones, row=1, col=2)\n",
    "fig.update_layout(bargap=0.15)\n",
    "fig.add_annotation(text=\"(b)\", font=dict(size=16), x=-0.35, y=0.29, showarrow=False, row=1, col=2)\n",
    "fig.add_annotation(text=\"Absolute difference\", font=dict(size=14), x=1, y=0.09, ax=40, showarrow=True, row=1, col=2)\n",
    "\n",
    "\n",
    "# b) Area in log km2 --------------------------------------------------------------------------------------------------\n",
    "fig.add_trace(go.Histogram(x=np.log10(RGI6.area_km2), histnorm='percent', marker_color= cl[2], name = \"RGI6\"), row=2, col=2)\n",
    "fig.add_trace(go.Histogram(x=np.log10(RGI7.area_km2), histnorm='percent', marker_color= cl[9], name = \"RGI7\"), row=2, col=2)\n",
    "fig.update_yaxes(title = \"Percent of glacier number (%)\", tickangle = -90, range = (0,4), dtick = 1, row=2, col=2)\n",
    "fig.update_xaxes(title = \"Area (log km<sup>2</sup>)\", title_standoff = 0, tickmode = 'array', row=2, col=2)\n",
    "fig.update_xaxes(tickvals = [-2, -1, 0, 1, 2], ticktext = [\"10<sup>-2<sup>\", \"10<sup>-1<sup>\", \"10<sup>0<sup>\",\"10<sup>1<sup>\", \"10<sup>2<sup>\"], row=2, col=2)\n",
    "fig.update_traces(opacity=0.8, row = 2, col = 2)\n",
    "fig.add_annotation(text=\"(c)\", font=dict(size=16), x=-2, y=3.8, showarrow=False, row=2, col=2)\n",
    "fig.add_annotation(text=\"Total number of glaciers:\", font=dict(size=14), x=1.8, y=3.8, showarrow=False, row=2, col=2)\n",
    "fig.add_annotation(text=\"• \" + str(len(RGI6)) +\" in RGI6\", font=dict(size=14), x=2.1, y=3.5, showarrow=False, row=2, col=2)\n",
    "fig.add_annotation(text=\"• \" + str(len(RGI7)) +\" in RGI7\", font=dict(size=14), x=2.1, y=3.2, showarrow=False, row=2, col=2)\n",
    "\n",
    "\n",
    "# c) RGI year ---------------------------------------------------------------------------------------------------------\n",
    "fig.add_trace(go.Bar(x=RGI6_yr.index, y=RGI6_yr.area_km2, marker_color= cl[2], showlegend = False), row=2, col=3)\n",
    "fig.add_trace(go.Bar(x=RGI7_yr.index, y=RGI7_yr.area_km2, marker_color= cl[9], showlegend = False), row=2, col=3)\n",
    "fig.update_xaxes(title = \"Acquisition date (year)\", title_standoff = 0, dtick = 3, row=2, col=3)\n",
    "fig.update_yaxes(title = \"Percent of total glacier area (%)\", range = (0,100), tickangle = -90, row=2, col=3)\n",
    "fig.update_traces(opacity= 0.7, row = 2, col = 3)\n",
    "fig.add_annotation(text=\"(d)\", font=dict(size=16), x=2000, y=95, showarrow=False, row=2, col=3)\n",
    "\n",
    "\n",
    "# All ------------------------------------------------------------------------------------------------------------------\n",
    "fig.update_xaxes(showline = True, linecolor = 'rgba(0,0,0,0.5)', linewidth = 1, ticks=\"outside\", griddash = \"dot\", mirror=True)\n",
    "fig.update_yaxes(showline = True, linecolor = 'rgba(0,0,0,0.5)', linewidth = 1, ticks=\"outside\", griddash = \"dot\", mirror=True, title_standoff = 0)\n",
    "\n",
    "fig.update_layout(font=dict(size=14), barmode='overlay', margin = dict(l=5, r=5, b=5, t=30), autosize=False, width = 1150, height = 700)\n",
    "fig.update_layout(legend=dict(y=0.4, x=0.925, bgcolor = 'rgba(255,255,255,0.5)'))\n",
    "fig.show()\n",
    "\n",
    "#fig.write_image(\"/home/rooda/Dropbox/Patagonia/MS2 Results/Figure_3_RGI.png\", scale=4)"
   ]
  },
  {
   "cell_type": "markdown",
   "id": "7bda354e-d503-44a5-bf1c-e31db551a51d",
   "metadata": {
    "tags": []
   },
   "source": [
    "## Main text"
   ]
  },
  {
   "cell_type": "code",
   "execution_count": null,
   "id": "18fe0207-12f0-4d53-aece-0b5c85f2f63b",
   "metadata": {
    "tags": []
   },
   "outputs": [],
   "source": [
    "\"The total number of glaciers increased from {} in RGI6 to {} in RGI7\".format(len(RGI6), len(RGI7))"
   ]
  },
  {
   "cell_type": "code",
   "execution_count": null,
   "id": "e1e6e5b2-522d-4a8d-80f6-f1743006aacd",
   "metadata": {
    "tags": []
   },
   "outputs": [],
   "source": [
    "\"The total glacier area decreased by {:.1f}% in RGI7 (Δ = {:.0f} km2)\".format( \n",
    "    (RGI6.area_km2.sum() - RGI7.area_km2.sum())*100/RGI6.area_km2.sum(), \n",
    "     RGI6.area_km2.sum() - RGI7.area_km2.sum())"
   ]
  },
  {
   "cell_type": "code",
   "execution_count": null,
   "id": "ef06ec47-87a2-4d40-aa8d-7c36f79e8552",
   "metadata": {
    "tags": []
   },
   "outputs": [],
   "source": [
    "\"While {:.1f}% of the glacier area in RGI6 have an acquisition date in the year 2000, only {:.1f}% in RGI7 have an acquisition date in the same year\".format(\n",
    "    RGI6[RGI6.year == 2000].area_km2.sum()*100 / RGI6.area_km2.sum(),\n",
    "    RGI7[RGI7.year == 2000].area_km2.sum()*100 / RGI7.area_km2.sum())"
   ]
  },
  {
   "cell_type": "code",
   "execution_count": null,
   "id": "42a4f340-60a9-4bd9-b481-bfe744c84b3c",
   "metadata": {
    "tags": []
   },
   "outputs": [],
   "source": [
    "\"{:.1f}% between 2000–2003 in RGI7, including both years\".format(RGI7[RGI7.year < 2004].area_km2.sum()*100 / RGI7.area_km2.sum())"
   ]
  },
  {
   "cell_type": "code",
   "execution_count": null,
   "id": "04028a40-73b1-4aa2-9cd2-ee495c4c20db",
   "metadata": {},
   "outputs": [],
   "source": [
    "\"The glacier area-weighted means of relative differences was {:.1f}%\".format(\n",
    "    (basins[\"diff\"] * basins.area_RGI6).sum() / basins.area_RGI6.sum()) "
   ]
  }
 ],
 "metadata": {
  "kernelspec": {
   "display_name": "Python 3 (ipykernel)",
   "language": "python",
   "name": "python3"
  },
  "language_info": {
   "codemirror_mode": {
    "name": "ipython",
    "version": 3
   },
   "file_extension": ".py",
   "mimetype": "text/x-python",
   "name": "python",
   "nbconvert_exporter": "python",
   "pygments_lexer": "ipython3",
   "version": "3.11.8"
  }
 },
 "nbformat": 4,
 "nbformat_minor": 5
}

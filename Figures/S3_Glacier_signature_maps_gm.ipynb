{
 "cells": [
  {
   "cell_type": "markdown",
   "id": "789db941-91ac-4e20-bed3-f7251f1a17c9",
   "metadata": {},
   "source": [
    "# Figure S3: Glacier signature uncertainty (glacier melt)"
   ]
  },
  {
   "cell_type": "code",
   "execution_count": null,
   "id": "cbba8af2-7f80-4c89-b922-0f937b328bc9",
   "metadata": {},
   "outputs": [],
   "source": [
    "import numpy as np\n",
    "import pandas as pd\n",
    "import xarray as xr \n",
    "import geopandas as gpd\n",
    "import shapely.geometry\n",
    "\n",
    "import os\n",
    "from glob import glob\n",
    "\n",
    "import plotly.express as px\n",
    "import plotly.graph_objects as go\n",
    "from   plotly.subplots import make_subplots\n",
    "\n",
    "os.chdir('/home/rooda/Dropbox/Patagonia/')"
   ]
  },
  {
   "cell_type": "markdown",
   "id": "0b0e8ac0-d991-4716-98bf-f81c4aca30ff",
   "metadata": {},
   "source": [
    "## Data"
   ]
  },
  {
   "cell_type": "code",
   "execution_count": null,
   "id": "f80ec57c-8e8a-4eaa-9186-70844a0bfb96",
   "metadata": {},
   "outputs": [],
   "source": [
    "metric_titles = ['Reference magnitude', 'Peak water year', 'Peak water magnitude', 'Peak water duration', 'Inter-annual variability', \n",
    "                'Seasonal contribution', 'Seasonal variability', 'Seasonal shift', 'Long-term trend', 'Long-term change']\n",
    "\n",
    "data = pd.read_csv(\"MS2 Results/feature_importance_rmse.csv\", index_col = 0)\n",
    "data = data[data[\"Variable\"] == \"melt_on_glacier\"].drop(columns= ['Variable'], axis = 0) # only this variable\n",
    "data['Best'] = data[[\"Outline\",\"Climate\", \"Volume\", \"GCM\", \"SSP\", \"BCM\"]].idxmax(axis=1)\n",
    "data = data.pivot(columns='Metric', values='Best')\n",
    "\n",
    "data =  data[['ref_magnitude', 'peak_water_year', 'peak_water_magnitude', 'peak_water_duration', 'interannual_var', \n",
    "              'seasonal_cont', 'seasonal_var',    'seasonal_shift',       'lt_trend',            'lt_change']]\n",
    "data.columns = metric_titles"
   ]
  },
  {
   "cell_type": "code",
   "execution_count": null,
   "id": "f090c51c-e0fb-4052-b4e8-57df9f9cc645",
   "metadata": {},
   "outputs": [],
   "source": [
    "# merge gpd and RF dataset\n",
    "basins = gpd.read_file(\"zip:////home/rooda/Dropbox/Patagonia/MS2 Results/zenodo/basins_boundaries.zip\").set_index(\"basin_id\")\n",
    "basins['basin_name']= basins['basin_name'].replace({'Santa Cruz': 'Santa Cruz                          '})\n",
    "basins = pd.merge(basins, data, left_index=True, right_index=True)\n",
    "\n",
    "\n",
    "# trick for plotting using go.Choropleth (discrete data)\n",
    "basins = basins.replace({\"Outline\":0, \"Volume\":1, \"Climate\":2, \"GCM\":3, \"SSP\":4, \"BCM\":5}) "
   ]
  },
  {
   "cell_type": "markdown",
   "id": "dc984456-078f-401a-ac6a-3a30638c6281",
   "metadata": {},
   "source": [
    "## Plot elements"
   ]
  },
  {
   "cell_type": "code",
   "execution_count": null,
   "id": "9fd424ba-ac03-482e-b132-b406b5d362fd",
   "metadata": {
    "tags": []
   },
   "outputs": [],
   "source": [
    "# basemap for background\n",
    "geo_map = gpd.read_file(\"/home/rooda/Dropbox/ArcGIS/Chile/south_america.shp\")\n",
    "geo_map = geo_map[(geo_map.CC == \"CI\") | (geo_map.CC == \"AR\")]\n",
    "geo_map = geo_map.dissolve(by='REGION')\n",
    "geo_map[\"geometry\"] = geo_map.simplify(0.01)\n",
    "\n",
    "poly_gdf = shapely.geometry.Polygon([(-76, -55.7), (-76, -40.52), (-68.05, -40.52), (-68.05, -55.7), (-76, -55.8)])\n",
    "poly_gdf = gpd.GeoDataFrame([1], geometry=[poly_gdf], crs=geo_map.crs)\n",
    "\n",
    "geo_map = geo_map.clip(poly_gdf)"
   ]
  },
  {
   "cell_type": "code",
   "execution_count": null,
   "id": "5736c66d-844e-406a-a4dc-7427cb430c49",
   "metadata": {
    "tags": []
   },
   "outputs": [],
   "source": [
    "# hydrological zone divides\n",
    "geo_lines = gpd.read_file(\"GIS South/Basins_Patagonia_ice_divides.shp\")\n",
    "\n",
    "lats = []\n",
    "lons = []\n",
    "\n",
    "for feature in geo_lines.geometry:\n",
    "    if isinstance(feature, shapely.geometry.linestring.LineString):\n",
    "        linestrings = [feature]\n",
    "    elif isinstance(feature, shapely.geometry.multilinestring.MultiLineString):\n",
    "        linestrings = feature.geoms\n",
    "    else:\n",
    "        continue\n",
    "    for linestring in linestrings:\n",
    "        x, y = linestring.xy\n",
    "        lats = np.append(lats, y)\n",
    "        lons = np.append(lons, x)\n",
    "        lats = np.append(lats, None)\n",
    "        lons = np.append(lons, None)\n",
    "        \n",
    "lat_coords = [-43.2, -45.95,  -46.4,  -47.55,  -49.2,   -50.5,   -52.0, -53.1, -54.4]\n",
    "lon_coords = [-71.2, -71.7,   -74.5,  -71.7,   -72.2,   -72.3,   -72.1, -71.7, -68.9]\n",
    "names      = [\"PPY\", \"PCA\", \"NPI-W\", \"NPI-E\", \"SPI-N\", \"SPI-C\", \"SPI-S\", \"GCN\", \"CDI\"]\n",
    "names      = ['<b>'+x+'</b>' for x in names]"
   ]
  },
  {
   "cell_type": "markdown",
   "id": "c63e489a-90d8-4a7a-8558-449207c20a5e",
   "metadata": {},
   "source": [
    "## Plot"
   ]
  },
  {
   "cell_type": "code",
   "execution_count": null,
   "id": "a8d5e7e6-fd94-480a-b5ad-84441800f237",
   "metadata": {
    "tags": []
   },
   "outputs": [],
   "source": [
    "metrics = np.array(metric_titles).reshape(2,5)\n",
    "\n",
    "fig = make_subplots(rows=2, cols=5, horizontal_spacing = 0.001, vertical_spacing = 0.03, subplot_titles = metric_titles,\n",
    "                    specs=[[{\"type\": \"scattergeo\"}, {\"type\": \"scattergeo\"}, {\"type\": \"scattergeo\"}, {\"type\": \"scattergeo\"}, {\"type\": \"scattergeo\"}],\n",
    "                           [{\"type\": \"scattergeo\"}, {\"type\": \"scattergeo\"}, {\"type\": \"scattergeo\"}, {\"type\": \"scattergeo\"}, {\"type\": \"scattergeo\"}]])\n",
    "\n",
    "for x in range(0,5):\n",
    "    for y in range(0,2):\n",
    "        \n",
    "        fig.add_trace(go.Choropleth(geojson = eval(geo_map['geometry'].to_json()),  locations = geo_map.index, z = geo_map['iso_num'], \n",
    "                                colorscale = [\"#EAEAF2\", \"#EAEAF2\"], showscale= False, marker_line_color ='white', marker_line_width=0.1), row=y+1, col=x+1)\n",
    "\n",
    "        fig.add_trace(go.Choropleth(geojson = eval(basins['geometry'].to_json()),  locations = basins.index, z = basins[metrics[y,x]],\n",
    "                                coloraxis=\"coloraxis\", showscale= False, marker_line_color ='white', marker_line_width=0.1), row=y+1, col=x+1)\n",
    "\n",
    "        ## Add basin and hydrological zone names plus the hydro zone divides\n",
    "        fig.add_trace(go.Scattergeo(lon = lons, lat = lats, mode = 'lines', line = dict(width = 0.8, color = 'black'),opacity = 0.5, showlegend = False),row=y+1, col=x+1)  \n",
    "        fig.add_trace(go.Scattergeo(lon = lon_coords, lat=lat_coords, mode='text', text=names, textfont=dict(size=10, color = \"rgba(0,0,0,0.5)\"), showlegend = False),row=y+1, col=x+1)\n",
    "        fig.add_scattergeo(geojson = eval(basins['geometry'].to_json()), locations = basins.index, text = basins['basin_name'], mode = 'text', showlegend = False,\n",
    "                           textfont=dict(size=9, color = \"rgba(0,0,0,0.3)\"),row=y+1, col=x+1)\n",
    "\n",
    "cl = px.colors.colorbrewer.Dark2\n",
    "cl = [cl[0], cl[4], cl[1], cl[5], cl[6], cl[2]]\n",
    "cc_scale = ([(0, cl[0])] + [(e, cl[(i + 1) // 2]) for i, e in enumerate(np.repeat(np.linspace(0, 1, 7)[1:6], 2))] + [(1, cl[5])])\n",
    "colorbar  =  {\"tickvals\": [0,1,2,3,4,5], \"ticktext\": [\"Glacier inventory\", \"Glacier volume\", \"Reference climate\", \"GCM\", \"SSP\", \"BCM\"], \"ticklabelposition\" : \"outside\", \"len\" : 1.0, \"orientation\" : \"h\", \"y\" : -0.07}\n",
    "coloraxis =  {\"colorscale\": cc_scale, \"colorbar\": colorbar, \"cmin\" : -0.5, \"cmax\" : 5.5}\n",
    "\n",
    "## Layout and geos\n",
    "fig.update_geos(showframe = True, framewidth = 1, framecolor = \"rgba(0,0,0,0.5)\", lonaxis_range=[-75, -68], lataxis_range=[-55.8, -40.5], \n",
    "                bgcolor = \"#f9f9f9\", showland = False, showcoastlines = False, showlakes = False)\n",
    "fig.update_layout(coloraxis = coloraxis, plot_bgcolor=\"rgba(213,213,213,0.7)\")\n",
    "fig.update_layout(autosize = False, width = 1200, height = 1150, margin = dict(l=10, r=10, b=10, t=30))\n",
    "\n",
    "fig.write_image(\"/home/rooda/Dropbox/Patagonia/MS2 Results/Figure_S3_signature_maps_gm.png\", scale=4)\n",
    "fig.show()"
   ]
  },
  {
   "cell_type": "markdown",
   "id": "b8f8a4fd-592b-4f23-96c0-775fb7843c43",
   "metadata": {
    "tags": []
   },
   "source": [
    "## Text"
   ]
  },
  {
   "cell_type": "code",
   "execution_count": null,
   "id": "61e39547-8216-496a-911f-63667db1f6d7",
   "metadata": {},
   "outputs": [],
   "source": [
    "area = pd.read_csv(\"MS2 Results/zenodo/dataset_historical.csv\", index_col = \"basin_id\").area_RGI6"
   ]
  },
  {
   "cell_type": "code",
   "execution_count": null,
   "id": "04288dcc-f4e0-4749-9435-d8c00617ee28",
   "metadata": {},
   "outputs": [],
   "source": [
    "# future SoUs\n",
    "basins_subset = basins[basins.iloc[:,4:] > 2].iloc[:,4:]\n",
    "basins_subset[basins_subset > 0] = 1\n",
    "\n",
    "\"Considering the signatures calculated from the glacier melt, the future SoU were the main source in only {:.1f}% ± {:.1f}% of the total glacier area\".format(\n",
    "((basins_subset.transpose()*area).sum(axis = 1)*100/area.sum()).mean(),((basins_subset.transpose()*area).sum(axis = 1)*100/area.sum()).std())"
   ]
  },
  {
   "cell_type": "code",
   "execution_count": null,
   "id": "8e603a52-332b-41d4-b5ee-9fdbe37e84d6",
   "metadata": {},
   "outputs": [],
   "source": [
    "# ref climate\n",
    "basins_subset = basins[basins.iloc[:,4:] == 2].iloc[:,4:]\n",
    "basins_subset[basins_subset > 0] = 1\n",
    "\n",
    "\"The reference climate was the main SoU in {:.1f}% ± {:.1f}% of the glacier area\".format(\n",
    "((basins_subset.transpose()*area).sum(axis = 1)*100/area.sum()).mean(),((basins_subset.transpose()*area).sum(axis = 1)*100/area.sum()).std())"
   ]
  }
 ],
 "metadata": {
  "kernelspec": {
   "display_name": "Python 3 (ipykernel)",
   "language": "python",
   "name": "python3"
  },
  "language_info": {
   "codemirror_mode": {
    "name": "ipython",
    "version": 3
   },
   "file_extension": ".py",
   "mimetype": "text/x-python",
   "name": "python",
   "nbconvert_exporter": "python",
   "pygments_lexer": "ipython3",
   "version": "3.11.8"
  },
  "toc-autonumbering": false
 },
 "nbformat": 4,
 "nbformat_minor": 5
}

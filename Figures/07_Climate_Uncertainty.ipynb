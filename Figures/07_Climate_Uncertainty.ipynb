{
 "cells": [
  {
   "cell_type": "markdown",
   "id": "caa1d417-8756-4484-a00b-52ae1a33790d",
   "metadata": {},
   "source": [
    "# Figure 7: Climate uncertainty"
   ]
  },
  {
   "cell_type": "code",
   "execution_count": null,
   "id": "4497ef9a-1022-486a-8d4b-d97bd8961019",
   "metadata": {
    "tags": []
   },
   "outputs": [],
   "source": [
    "# spatial libraries\n",
    "import shapely.geometry\n",
    "import rioxarray as rioxr\n",
    "import geopandas as gpd\n",
    "import xarray as xr\n",
    "\n",
    "from tqdm.notebook import tqdm\n",
    "import pandas as pd\n",
    "import numpy as np\n",
    "import os\n",
    "\n",
    "# plotting libraries\n",
    "from plotly.subplots import make_subplots\n",
    "import plotly.graph_objects as go\n",
    "import plotly.express as px\n",
    "\n",
    "os.chdir('/home/rooda/Dropbox/Patagonia/')"
   ]
  },
  {
   "cell_type": "markdown",
   "id": "fd552da4-c9c3-4900-b1df-002ade0ffa14",
   "metadata": {},
   "source": [
    "## Data"
   ]
  },
  {
   "cell_type": "code",
   "execution_count": null,
   "id": "fc9a0e38-c28e-425c-988b-b07059fddfa6",
   "metadata": {
    "tags": []
   },
   "outputs": [],
   "source": [
    "# Catchment shapefiles\n",
    "basins = gpd.read_file(\"zip:////home/rooda/Dropbox/Patagonia/MS2 Results/zenodo/basins_boundaries.zip\")\n",
    "basins = basins[[\"basin_id\",'basin_name', \"geometry\"]].set_index(\"basin_id\")\n",
    "\n",
    "data = pd.read_csv(\"MS2 Results/dataset_climate_future.csv\", index_col = \"ID\")\n",
    "area = pd.read_csv(\"MS2 Results/zenodo/dataset_historical.csv\", index_col = \"basin_id\").area_RGI6\n",
    "\n",
    "basins['basin_name'] = basins['basin_name'].replace({'Santa Cruz': 'Santa Cruz                          '})\n",
    "basins = pd.concat([basins, area, data], axis=1)\n",
    "basins[\"area_RGI6_percent\"] = basins[\"area_RGI6\"]/basins.area_RGI6.sum()\n",
    "\n",
    "# major catchments\n",
    "basins_m = basins.dropna(subset = ['basin_name'])"
   ]
  },
  {
   "cell_type": "code",
   "execution_count": null,
   "id": "98410743-0868-4d0e-8a54-c5fd59fc1266",
   "metadata": {
    "tags": []
   },
   "outputs": [],
   "source": [
    "# weighted-means\n",
    "df_wm = {'PRSN': [(basins.PRSN_climate * basins.area_RGI6).sum() / basins.area_RGI6.sum(), \n",
    "                  (basins.PRSN_ssp     * basins.area_RGI6).sum() / basins.area_RGI6.sum(), \n",
    "                  (basins.PRSN_gcm     * basins.area_RGI6).sum() / basins.area_RGI6.sum(),\n",
    "                  (basins.PRSN_bcm     * basins.area_RGI6).sum() / basins.area_RGI6.sum()], \n",
    "         'T2M':  [(basins.T2M_climate  * basins.area_RGI6).sum() / basins.area_RGI6.sum(), \n",
    "                  (basins.T2M_ssp      * basins.area_RGI6).sum() / basins.area_RGI6.sum(), \n",
    "                  (basins.T2M_gcm      * basins.area_RGI6).sum() / basins.area_RGI6.sum(),\n",
    "                  (basins.T2M_bcm      * basins.area_RGI6).sum() / basins.area_RGI6.sum()], \n",
    "         'PPD':  [(basins.PPD_climate  * basins.area_RGI6).sum() / basins.area_RGI6.sum(), \n",
    "                  (basins.PPD_ssp      * basins.area_RGI6).sum() / basins.area_RGI6.sum(), \n",
    "                  (basins.PPD_gcm      * basins.area_RGI6).sum() / basins.area_RGI6.sum(),\n",
    "                  (basins.PPD_bcm      * basins.area_RGI6).sum() / basins.area_RGI6.sum()]}\n",
    "\n",
    "df_wm = pd.DataFrame(data=df_wm, index=[\"Climate\", \"SSP\", \"GCM\", \"BCM\"])"
   ]
  },
  {
   "cell_type": "markdown",
   "id": "8369cdaf-1b16-4f58-930b-bdeab4482e2f",
   "metadata": {},
   "source": [
    "## Plot elements"
   ]
  },
  {
   "cell_type": "code",
   "execution_count": null,
   "id": "e9834427-0fc4-4b27-8135-02f5379441fb",
   "metadata": {},
   "outputs": [],
   "source": [
    "# basemap for background\n",
    "geo_map = gpd.read_file(\"/home/rooda/Dropbox/ArcGIS/Chile/south_america.shp\")\n",
    "geo_map = geo_map[(geo_map.CC == \"CI\") | (geo_map.CC == \"AR\")]\n",
    "geo_map = geo_map.dissolve(by='REGION')\n",
    "geo_map[\"geometry\"] = geo_map.simplify(0.01)\n",
    "\n",
    "poly_gdf = shapely.geometry.Polygon([(-76, -55.7), (-76, -40.52), (-68.05, -40.52), (-68.05, -55.7), (-76, -55.8)])\n",
    "poly_gdf = gpd.GeoDataFrame([1], geometry=[poly_gdf], crs=geo_map.crs)\n",
    "\n",
    "geo_map = geo_map.clip(poly_gdf)"
   ]
  },
  {
   "cell_type": "code",
   "execution_count": null,
   "id": "e1e5e910-205e-44c4-83ed-8feed5b685ae",
   "metadata": {},
   "outputs": [],
   "source": [
    "# hydrological zone divides\n",
    "geo_lines = gpd.read_file(\"/home/rooda/Dropbox/Patagonia/GIS South/Basins_Patagonia_ice_divides.shp\")\n",
    "\n",
    "lats = []\n",
    "lons = []\n",
    "\n",
    "for feature in geo_lines.geometry:\n",
    "    if isinstance(feature, shapely.geometry.linestring.LineString):\n",
    "        linestrings = [feature]\n",
    "    elif isinstance(feature, shapely.geometry.multilinestring.MultiLineString):\n",
    "        linestrings = feature.geoms\n",
    "    else:\n",
    "        continue\n",
    "    for linestring in linestrings:\n",
    "        x, y = linestring.xy\n",
    "        lats = np.append(lats, y)\n",
    "        lons = np.append(lons, x)\n",
    "        lats = np.append(lats, None)\n",
    "        lons = np.append(lons, None)\n",
    "        \n",
    "lat_coords = [-43.2, -45.95,  -46.4,  -47.55,  -49.2,   -50.5,   -52.0, -53.1, -54.8]\n",
    "lon_coords = [-71.2, -71.7,   -74.5,  -71.7,   -72.2,   -72.3,   -72.1, -71.7, -68.9]\n",
    "names      = [\"PPY\", \"PCA\", \"NPI-W\", \"NPI-E\", \"SPI-N\", \"SPI-C\", \"SPI-S\", \"GCN\", \"CDI\"]\n",
    "names  = ['<b>'+ x +'</b>' for x in names]"
   ]
  },
  {
   "cell_type": "markdown",
   "id": "fb6bca6d-8f82-4784-9fae-f8bf0161b396",
   "metadata": {},
   "source": [
    "## Plot"
   ]
  },
  {
   "cell_type": "code",
   "execution_count": null,
   "id": "4c6e6865-0039-4c90-bf47-30546a03a390",
   "metadata": {},
   "outputs": [],
   "source": [
    "fig = make_subplots(rows=3, cols=3, horizontal_spacing = 0.01, vertical_spacing = 0.02, column_widths = [0.36, 0.36, 0.31], shared_xaxes = True,\n",
    "                    subplot_titles = [\"Precipitation (PP) ensemble uncertainty\",\"Temperature (T2M) ensemble uncertainty\", \"Individual uncertainty\"],\n",
    "                    specs=[[{\"type\": \"scattergeo\", \"rowspan\": 3}, {\"type\": \"scattergeo\", \"rowspan\": 3}, {\"type\": \"histogram\"}],\n",
    "                           [          None,                                      None,                  {\"type\": \"histogram\"}],\n",
    "                           [          None,                                      None,                  {\"type\": \"histogram\"}]])\n",
    "\n",
    "cl = px.colors.colorbrewer.RdYlBu\n",
    "cs = px.colors.colorbrewer.GnBu\n",
    "cd = px.colors.colorbrewer.Dark2\n",
    "\n",
    "## Basemap\n",
    "for x in range(1,3):\n",
    "    fig.add_trace(go.Choropleth(geojson = eval(geo_map['geometry'].to_json()),  locations = geo_map.index, z = geo_map['iso_num'], \n",
    "                            colorscale = [\"#EAEAF2\", \"#EAEAF2\"], showscale= False, marker_line_color ='white', marker_line_width=0.1), row=1, col=x)\n",
    "\n",
    "\n",
    "# Precipitation mean change (a) -----------------------------------------------------------------------------------------------------------\n",
    "fig.add_trace(go.Choropleth(geojson = eval(basins['geometry'].to_json()),  locations = basins.index, z = basins['PP_ensemble_std'], \n",
    "                            colorscale = [cs[2], cs[4], cs[8]], marker_line_color ='white', marker_line_width=0.1, \n",
    "                            zmin = 500, zmax = 2500, colorbar=dict(len=0.45, x=0.24, y= 0.77, title='σ PP', ticksuffix = \" mm\", thickness=20)), row=1, col=1)\n",
    "fig.add_trace(go.Choropleth(geojson = eval(basins['geometry'].to_json()),  locations = basins[basins.PP_ensemble_cv > 0.40].index, z = basins[basins.PP_ensemble_cv > 0.40].PP_ensemble_cv, \n",
    "                           colorscale = [\"rgba(213,213,213,0)\", \"rgba(213,213,213,0)\"], marker_line_color ='black', showscale= False, marker_line_width=0.3), row=1, col=1)\n",
    "fig.add_annotation(text=\"(a)\", font=dict(size=16), x=0.005, y=0.995,  xref = \"paper\", yref = \"paper\", showarrow=False)\n",
    "\n",
    "\n",
    "# Temperature mean change (b) -----------------------------------------------------------------------------------------------------------\n",
    "fig.add_trace(go.Choropleth(geojson = eval(basins['geometry'].to_json()), locations = basins.index, z = basins['T2M_ensemble_std'], \n",
    "                            colorscale=[\"#ffe9ba\", cl[3],  cl[1]], marker_line_color='white', marker_line_width=0.1, \n",
    "                            zmin = 0.7, zmax = 2, colorbar=dict(len=0.45, x=0.61, y= 0.77, title='σ T2M', ticksuffix = \" ºC\", thickness=20, dtick= 0.5)), row=1, col=2)\n",
    "fig.add_trace(go.Choropleth(geojson = eval(basins['geometry'].to_json()),  locations = basins[basins.T2M_ensemble_cv > 0.40].index, z = basins[basins.T2M_ensemble_cv > 0.4].PP_ensemble_cv, \n",
    "                           colorscale = [\"rgba(213,213,213,0)\", \"rgba(213,213,213,0)\"], marker_line_color ='black', showscale= False, marker_line_width=0.3), row=1, col=2)\n",
    "fig.add_annotation(text=\"(b)\", font=dict(size=16), x=0.368, y=0.995,  xref = \"paper\", yref = \"paper\", showarrow=False)\n",
    "\n",
    "\n",
    "# layout a) and b) ---------------------------------------------------------------------------------------------------------------------\n",
    "for x in range(1,3):\n",
    "    ## Add basin and hydrological zone names plus the hydro zone divides\n",
    "    fig.add_trace(go.Scattergeo(lon = lons, lat = lats, mode = 'lines', line = dict(width = 0.8, color = 'black'), opacity = 0.7, showlegend = False),row=1, col=x)  \n",
    "    fig.add_trace(go.Scattergeo(lon = lon_coords, lat=lat_coords, mode='text', text=names, textfont=dict(size=12, color = \"rgba(0,0,0,0.7)\"), showlegend = False),row=1, col=x)\n",
    "    fig.add_scattergeo(geojson = eval(basins['geometry'].to_json()), locations = basins.index, text = basins['basin_name'], mode = 'text', showlegend = False,\n",
    "                       textfont=dict(size=11, color = \"rgba(0,0,0,0.3)\"),row=1, col=x)\n",
    "\n",
    "fig.update_geos(showframe = True, framewidth = 1,  framecolor = \"black\", lonaxis_range=[-76, -68], lataxis_range=[-55.8, -40.5], \n",
    "                bgcolor = \"rgb(255,255,255)\", showland = False, showcoastlines = False, showlakes = False)\n",
    "\n",
    "\n",
    "# Solid precipitation spread (c) -----------------------------------------------------------------------------------------------------------\n",
    "fig.add_trace(go.Scatter(y = basins.sort_values(\"PRSN_climate\").PRSN_climate, x = basins.sort_values(\"PRSN_climate\").area_RGI6_percent.cumsum(), \n",
    "                         marker_color = cd[1],  showlegend = False), row=1, col=3)\n",
    "\n",
    "fig.add_trace(go.Scatter(y = basins.sort_values(\"PRSN_ssp\").PRSN_ssp, x = basins.sort_values(\"PRSN_ssp\").area_RGI6_percent.cumsum(), \n",
    "                         marker_color = cd[6],  showlegend = False), row=1, col=3)\n",
    "\n",
    "fig.add_trace(go.Scatter(y = basins.sort_values(\"PRSN_gcm\").PRSN_gcm, x = basins.sort_values(\"PRSN_gcm\").area_RGI6_percent.cumsum(), \n",
    "                         marker_color = cd[5],   showlegend = False), row=1, col=3)\n",
    "\n",
    "fig.add_trace(go.Scatter(y = basins.sort_values(\"PRSN_bcm\").PRSN_bcm, x = basins.sort_values(\"PRSN_bcm\").area_RGI6_percent.cumsum(), \n",
    "                         marker_color = cd[2],  showlegend = False), row=1, col=3)\n",
    "\n",
    "fig.update_yaxes(title_text=\"σ Solid precpitation (mm)\", side = \"right\", title_standoff = 2, row = 1, col = 3)\n",
    "fig.update_yaxes(range = [0,1000], tickangle = 0, row = 1, col = 3)\n",
    "fig.add_annotation(text=\"(c)\", font=dict(size=16), x=0.03, y=950, showarrow=False, row=1, col=3)\n",
    "fig.add_annotation(text=\"Climate ({:.0f}mm)\".format(df_wm.PRSN[\"Climate\"]), font=dict(size=13, color = cd[1]), x=0.55, y=550, textangle=-23, showarrow=False, row=1, col=3)\n",
    "fig.add_annotation(text=\"SSP ({:.0f}mm)\".format(df_wm.PRSN[\"SSP\"]), font=dict(size=13, color = cd[6]), x=0.80, y=280, textangle=-20, showarrow=False, row=1, col=3)\n",
    "fig.add_annotation(text=\"GCM ({:.0f}mm)\".format(df_wm.PRSN[\"GCM\"]), font=dict(size=13, color = cd[5]), x=0.20, y=70, ay=-60, textangle=0, showarrow=True, arrowhead=0, arrowcolor=\"#636363\", row=1, col=3)\n",
    "fig.add_annotation(text=\"BCM ({:.0f}mm)\".format(df_wm.PRSN[\"BCM\"]), font=dict(size=13, color = cd[2]), x=0.50, y=50, textangle=-5, showarrow=True, arrowhead=0, arrowcolor=\"#636363\", row=1, col=3)\n",
    "\n",
    "# Temperature spread (d) -----------------------------------------------------------------------------------------------------------\n",
    "fig.add_trace(go.Scatter(y = basins.sort_values(\"T2M_climate\").T2M_climate, x = basins.sort_values(\"T2M_climate\").area_RGI6_percent.cumsum(), \n",
    "                         marker_color = cd[1],  showlegend = False), row=2, col=3)\n",
    "\n",
    "fig.add_trace(go.Scatter(y = basins.sort_values(\"T2M_ssp\").T2M_ssp, x = basins.sort_values(\"T2M_ssp\").area_RGI6_percent.cumsum(), \n",
    "                         marker_color = cd[6],  showlegend = False), row=2, col=3)\n",
    "\n",
    "fig.add_trace(go.Scatter(y = basins.sort_values(\"T2M_gcm\").T2M_gcm, x = basins.sort_values(\"T2M_gcm\").area_RGI6_percent.cumsum(), \n",
    "                         marker_color = cd[5],   showlegend = False), row=2, col=3)\n",
    "\n",
    "fig.add_trace(go.Scatter(y = basins.sort_values(\"T2M_bcm\").T2M_bcm, x = basins.sort_values(\"T2M_bcm\").area_RGI6_percent.cumsum(), \n",
    "                         marker_color = cd[2],  showlegend = False), row=2, col=3)\n",
    "\n",
    "fig.update_yaxes(title_text=\"σ Temperature (ºC)\", side = \"right\", title_standoff = 5, row = 2, col = 3)\n",
    "fig.update_yaxes(range = [0, 2], tickangle = 0, row = 2, col = 3)\n",
    "fig.add_annotation(text=\"(d)\", font=dict(size=16), x=0.03, y=1.9, showarrow=False, row=2, col=3)\n",
    "fig.add_annotation(text=\"Climate ({:.1f}°C)\".format(df_wm.T2M[\"Climate\"]), font=dict(size=13, color = cd[1]), x=0.5, y=1.2, textangle=-15, showarrow=False, row=2, col=3)\n",
    "fig.add_annotation(text=\"SSP ({:.1f}°C)\".format(df_wm.T2M[\"SSP\"]), font=dict(size=13, color = cd[6]), x=0.5, y=0.8, textangle=-5, showarrow=False, row=2, col=3)\n",
    "fig.add_annotation(text=\"GCM ({:.1f}°C)\".format(df_wm.T2M[\"GCM\"]), font=dict(size=13, color = cd[5]), x=0.5, y=0.5, textangle=-5, showarrow=False, row=2, col=3)\n",
    "fig.add_annotation(text=\"BCM ({:.1f}°C)\".format(df_wm.T2M[\"BCM\"]), font=dict(size=13, color = cd[2]), x=0.5, y=0.2, textangle=-5, showarrow=False, row=2, col=3)\n",
    "\n",
    "# Positive degree-day sum spread (e) -----------------------------------------------------------------------------------------------------------\n",
    "fig.add_trace(go.Scatter(y = basins.sort_values(\"PPD_climate\").PPD_climate, x = basins.sort_values(\"PPD_climate\").area_RGI6_percent.cumsum(), \n",
    "                         marker_color = cd[1],  showlegend = False), row=3, col=3)\n",
    "\n",
    "fig.add_trace(go.Scatter(y = basins.sort_values(\"PPD_ssp\").PPD_ssp, x = basins.sort_values(\"PPD_ssp\").area_RGI6_percent.cumsum(), \n",
    "                         marker_color = cd[6],  showlegend = False), row=3, col=3)\n",
    "\n",
    "fig.add_trace(go.Scatter(y = basins.sort_values(\"PPD_gcm\").PPD_gcm, x = basins.sort_values(\"PPD_gcm\").area_RGI6_percent.cumsum(), \n",
    "                         marker_color = cd[5],   showlegend = False), row=3, col=3)\n",
    "\n",
    "fig.add_trace(go.Scatter(y = basins.sort_values(\"PPD_bcm\").PPD_bcm, x = basins.sort_values(\"PPD_bcm\").area_RGI6_percent.cumsum(), \n",
    "                         marker_color = cd[2],  showlegend = False), row=3, col=3)\n",
    "\n",
    "fig.update_xaxes(range = [-0.02,1.02], title_text=\"Accumulated glacier area (%)\", title_standoff = 0, dtick = 0.25, tickangle = 0, tickformat = ',.0%', row = 3, col = 3)\n",
    "fig.update_yaxes(title_text=\"σ Positive degree-day sum (ºC)\", side = \"right\", title_standoff = 5, row = 3, col = 3)\n",
    "fig.update_yaxes(range = [0,500], tickangle = 0, row = 3, col = 3)\n",
    "fig.add_annotation(text=\"(e)\", font=dict(size=16), x=0.03, y=470, showarrow=False, row=3, col=3)\n",
    "fig.add_annotation(text=\"Climate ({:.0f}°C)\".format(df_wm.PPD[\"Climate\"]), font=dict(size=13, color = cd[1]), x=0.5, y=300, textangle=-10, showarrow=False, row=3, col=3)\n",
    "fig.add_annotation(text=\"SSP ({:.0f}°C)\".format(df_wm.PPD[\"SSP\"]), font=dict(size=13, color = cd[6]), x=0.5, y=220, textangle=-10, showarrow=False, row=3, col=3)\n",
    "fig.add_annotation(text=\"GCM ({:.0f}°C)\".format(df_wm.PPD[\"GCM\"]), font=dict(size=13, color = cd[5]), x=0.5, y=160, textangle=-5, showarrow=False, row=3, col=3)\n",
    "fig.add_annotation(text=\"BCM ({:.0f}°C)\".format(df_wm.PPD[\"BCM\"]), font=dict(size=13, color = cd[2]), x=0.5, y=70, textangle=-2, showarrow=False, row=3, col=3)\n",
    "\n",
    "# layout c, d and e\n",
    "fig.update_traces(line = dict(width = 2), opacity = 0.8, row = 1, col = 3)\n",
    "fig.update_traces(line = dict(width = 2), opacity = 0.8, row = 2, col = 3)\n",
    "fig.update_traces(line = dict(width = 2), opacity = 0.8, row = 3, col = 3)\n",
    "fig.update_xaxes(griddash = \"dot\", gridcolor = \"rgba(255,255,255,0.8)\", zeroline=False, showline = True, linecolor = 'black', linewidth = 1, ticks=\"outside\", mirror=True)\n",
    "fig.update_yaxes(griddash = \"dot\", gridcolor = \"rgba(255,255,255,0.8)\", zeroline=True,  showline = True, linecolor = 'black', linewidth = 1, ticks=\"outside\", mirror=True)\n",
    "\n",
    "# general\n",
    "fig.update_layout(autosize = False, template = \"seaborn\", width = 1000, height = 670, margin = dict(l=10, r=5, b=5, t=30, pad=0, autoexpand=True))\n",
    "fig.show()\n",
    "\n",
    "fig.write_image(\"/home/rooda/Dropbox/Patagonia/MS2 Results/Figure_7_climate_uncertainty.png\", scale=4)"
   ]
  },
  {
   "cell_type": "code",
   "execution_count": null,
   "id": "b946f80f-0ac7-4aed-84e8-893210162ac0",
   "metadata": {},
   "outputs": [],
   "source": [
    "\"The standard deviation of the mean annual precipitation in the long term (2070–2099) was greater than 1,000 mm in {:.1f}% of the glacier area\".format(\n",
    "    basins[basins[\"PP_ensemble_std\"] > 1000].area_RGI6.sum() * 100 / basins.area_RGI6.sum())"
   ]
  },
  {
   "cell_type": "code",
   "execution_count": null,
   "id": "5b0720f1-886c-47b4-9279-2d2bc275375c",
   "metadata": {},
   "outputs": [],
   "source": [
    "\"Similarly, the standard deviation of the temperature was greater than 1.0 ºC in {:.1f}% of the glacier area\".format(\n",
    "    basins[basins[\"T2M_ensemble_std\"] > 1].area_RGI6.sum() * 100 / basins.area_RGI6.sum())"
   ]
  },
  {
   "cell_type": "code",
   "execution_count": null,
   "id": "fbe70ac5-dfe9-406c-8e25-5f1972de5cf3",
   "metadata": {},
   "outputs": [],
   "source": []
  }
 ],
 "metadata": {
  "kernelspec": {
   "display_name": "Python 3 (ipykernel)",
   "language": "python",
   "name": "python3"
  },
  "language_info": {
   "codemirror_mode": {
    "name": "ipython",
    "version": 3
   },
   "file_extension": ".py",
   "mimetype": "text/x-python",
   "name": "python",
   "nbconvert_exporter": "python",
   "pygments_lexer": "ipython3",
   "version": "3.11.8"
  }
 },
 "nbformat": 4,
 "nbformat_minor": 5
}

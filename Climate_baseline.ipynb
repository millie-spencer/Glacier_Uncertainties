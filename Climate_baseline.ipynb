{
 "cells": [
  {
   "cell_type": "markdown",
   "id": "4bc6ce84-95d4-448e-a489-dbe3c4e9cb19",
   "metadata": {},
   "source": [
    "## First runs (= runs where something is wrong)"
   ]
  },
  {
   "cell_type": "code",
   "execution_count": null,
   "id": "1dcf4865-6547-405c-9293-8e169f3cf18e",
   "metadata": {},
   "outputs": [],
   "source": [
    "import os\n",
    "import xarray as xr\n",
    "import geopandas as gpd\n",
    "import regionmask"
   ]
  },
  {
   "cell_type": "code",
   "execution_count": null,
   "id": "df4609e3-68f1-4f4c-99aa-de6e00797e0f",
   "metadata": {},
   "outputs": [],
   "source": [
    "os.chdir('/home/rooda/Dropbox/Patagonia/')\n",
    "period = slice(\"1980-01-01\", \"2019-12-31\") # problem in CR2MET in 2019"
   ]
  },
  {
   "cell_type": "code",
   "execution_count": null,
   "id": "f142de6f-9562-4f4f-a18f-f5d2c8e89f10",
   "metadata": {},
   "outputs": [],
   "source": [
    "example    = xr.open_dataset(\"/home/rooda/Dropbox/Coding/OGGM/example_nc.nc\")\n",
    "dem        = xr.open_dataset(\"GIS South/dem_patagonia005.tif\").rename({'y':'lat', 'x':'lon', 'band_data':'hgt'})\n",
    "dem        = dem.sel(band=1, drop=True).drop(\"spatial_ref\").fillna(0)\n",
    "dem.hgt.attrs['units'] = \"m\"\n",
    "\n",
    "rename_dic = {'latitude':'lat', 'longitude':'lon'}\n",
    "pp_pmet    = xr.open_dataset(\"Data/Precipitation/PP_PMET_1980_2020m.nc\", chunks = \"auto\").sel(time = period).rename(rename_dic).drop(\"crs\")\n",
    "t2m_pmet   = xr.open_dataset(\"Data/Temperature/Tavg_PMET_1980_2020m.nc\", chunks = \"auto\").sel(time = period).rename(rename_dic)\n",
    "t2m_pmet   = t2m_pmet.interp(lat = pp_pmet.lat, lon = pp_pmet.lon)\n",
    "dem_pmet   = dem.interp(lat = pp_pmet.lat, lon = pp_pmet.lon).fillna(0)\n",
    "\n",
    "pp_era5    = xr.open_dataset(\"Data/Precipitation/PP_ERA5_hr_1980_2020m.nc\", chunks = \"auto\").sel(time = period).rename(rename_dic)\n",
    "t2m_era5   = xr.open_dataset(\"Data/Temperature/Tavg_ERA5_hr_1980_2020m.nc\", chunks = \"auto\").sel(time = period).rename(rename_dic)\n",
    "dem_era5   = dem.interp(lat = pp_era5.lat, lon = pp_era5.lon).fillna(0)\n",
    "\n",
    "pp_cr2met  = xr.open_dataset(\"Data/Precipitation/PP_CR2MET_1979_2020m.nc\",  chunks = \"auto\").sel(time = period)\n",
    "t2m_cr2met = xr.open_dataset(\"Data/Temperature/Tavg_CR2MET_1979_2020m.nc\",  chunks = \"auto\").sel(time = period)\n",
    "dem_cr2met = dem.interp(lat = pp_cr2met.lat, lon = pp_cr2met.lon).fillna(0)\n",
    "\n",
    "pp_mswep  = xr.open_dataset(\"Data/Precipitation/PP_MSWEPv28_1979_2020m.nc\", chunks = \"auto\").sel(time = period)\n",
    "t2m_mswep = xr.open_dataset(\"Data/Temperature/Tavg_CR2MET_1979_2020m.nc\",   chunks = \"auto\").sel(time = period)\n",
    "t2m_mswep = t2m_mswep.interp(lat = pp_mswep.lat, lon = pp_mswep.lon)\n",
    "dem_mswep = dem.interp(lat = pp_mswep.lat, lon = pp_mswep.lon).fillna(0)"
   ]
  },
  {
   "cell_type": "code",
   "execution_count": null,
   "id": "274cb4ea-6e5b-495c-8be8-06756d449944",
   "metadata": {},
   "outputs": [],
   "source": [
    "pmet   = xr.merge([pp_pmet,   t2m_pmet, dem_pmet]).rename({'pp':'prcp', 't2m':'temp'})\n",
    "\n",
    "era5   = xr.merge([pp_era5,   t2m_era5, dem_era5]).rename({'pp':'prcp', 't2m':'temp'}).drop(\"crs\")\n",
    "era5   = era5.where((era5.lon >= -76) & (era5.lon <= -68) & (era5.lat >= -56) & (era5.lat <= -40), drop=True)\n",
    "era5   = era5[[\"lon\", \"lat\", \"time\", \"prcp\", \"temp\", \"hgt\"]]\n",
    "\n",
    "cr2met = xr.merge([pp_cr2met, t2m_cr2met, dem_cr2met]).rename({'pp':'prcp', 't2m':'temp'})\n",
    "cr2met = cr2met.where((cr2met.lon >= -76) & (cr2met.lon <= -68) & (cr2met.lat >= -56) & (cr2met.lat <= -40), drop=True)\n",
    "cr2met = cr2met[[\"lon\", \"lat\", \"time\", \"prcp\", \"temp\", \"hgt\"]]\n",
    "\n",
    "mswep  = xr.merge([pp_mswep,  t2m_mswep, dem_mswep]).rename({'pp':'prcp', 't2m':'temp'})"
   ]
  },
  {
   "cell_type": "code",
   "execution_count": null,
   "id": "d30e4d75-f265-4fea-bb75-c667c25b1fe6",
   "metadata": {},
   "outputs": [],
   "source": [
    "pmet.prcp.attrs['units']   = \"mm\"\n",
    "era5.prcp.attrs['units']   = \"mm\"\n",
    "cr2met.prcp.attrs['units'] = \"mm\"\n",
    "mswep.prcp.attrs['units']  = \"mm\"\n",
    "\n",
    "pmet.temp.attrs['units']   = \"degC\"\n",
    "era5.temp.attrs['units']   = \"degC\"\n",
    "cr2met.temp.attrs['units'] = \"degC\"\n",
    "mswep.temp.attrs['units']  = \"degC\""
   ]
  },
  {
   "cell_type": "code",
   "execution_count": null,
   "id": "a78432f9-ed0a-4460-8141-fd626be04594",
   "metadata": {},
   "outputs": [],
   "source": [
    "# all basins in 9 selected zones \n",
    "basins = gpd.read_file(\"/home/rooda/Dropbox/Patagonia/GIS South/Basins_Patagonia_all.shp\")[[\"Zone\", \"geometry\"]]\n",
    "\n",
    "# Glacier centroid location\n",
    "ids = gpd.read_file(\"/home/rooda/Dropbox/Patagonia/GIS South/Glaciers/RGI6.shp\")\n",
    "ids = gpd.GeoDataFrame(ids, geometry=gpd.points_from_xy(ids.CenLon, ids.CenLat))\n",
    "\n",
    "# Select the glaciers inside (centroid) the basin (TODO: move to glacier outlet)\n",
    "ids = gpd.clip(ids, basins, keep_geom_type = False)\n",
    "ids = ids.sjoin(basins, how=\"inner\", predicate='intersects')\n",
    "ids = ids.buffer(0.2) # mask to use for baseline climate"
   ]
  },
  {
   "cell_type": "code",
   "execution_count": null,
   "id": "19f622e5-45e8-4576-997d-9aa66bef4c8b",
   "metadata": {},
   "outputs": [],
   "source": [
    "mask_pmet     = regionmask.mask_geopandas(ids, pmet) >= 0\n",
    "mask_era5     = regionmask.mask_geopandas(ids, era5) >= 0\n",
    "mask_cr2met   = regionmask.mask_geopandas(ids, cr2met) >= 0\n",
    "mask_mswep    = regionmask.mask_geopandas(ids, mswep) >= 0"
   ]
  },
  {
   "cell_type": "code",
   "execution_count": null,
   "id": "c27bec3c-d9d8-477a-b0b8-60367f690e19",
   "metadata": {},
   "outputs": [],
   "source": [
    "pmet    = pmet.where(mask_pmet, drop = True)\n",
    "era5    = era5.where(mask_era5, drop = True)\n",
    "cr2met  = cr2met.where(mask_cr2met, drop = True)\n",
    "mswep   = mswep.where(mask_mswep, drop = True)"
   ]
  },
  {
   "cell_type": "code",
   "execution_count": null,
   "id": "a7892384-e45b-4b43-8a2a-7bd198d083e3",
   "metadata": {},
   "outputs": [],
   "source": [
    "pmet.to_netcdf(\"/home/rooda/OGGM_results/PMET_OGGM_1980_2019m.nc\")\n",
    "era5.to_netcdf(\"/home/rooda/OGGM_results/ERA5_OGGM_1980_2019m.nc\")\n",
    "cr2met.to_netcdf(\"/home/rooda/OGGM_results/CR2MET_OGGM_1980_2019m.nc\") \n",
    "mswep.to_netcdf(\"/home/rooda/OGGM_results/MSWEP_OGGM_1980_2019m.nc\")"
   ]
  },
  {
   "cell_type": "code",
   "execution_count": null,
   "id": "eefef9fa-6422-4b39-b0f0-147d5c74b764",
   "metadata": {},
   "outputs": [],
   "source": []
  }
 ],
 "metadata": {
  "kernelspec": {
   "display_name": "Python 3 (ipykernel)",
   "language": "python",
   "name": "python3"
  },
  "language_info": {
   "codemirror_mode": {
    "name": "ipython",
    "version": 3
   },
   "file_extension": ".py",
   "mimetype": "text/x-python",
   "name": "python",
   "nbconvert_exporter": "python",
   "pygments_lexer": "ipython3",
   "version": "3.9.12"
  }
 },
 "nbformat": 4,
 "nbformat_minor": 5
}

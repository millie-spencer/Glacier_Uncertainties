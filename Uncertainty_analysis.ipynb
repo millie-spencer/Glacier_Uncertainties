{
 "cells": [
  {
   "cell_type": "markdown",
   "id": "7e0ac5b3-6a36-40e1-b69b-9a8ed7dfc2fa",
   "metadata": {},
   "source": [
    "# Uncertanty analysis"
   ]
  },
  {
   "cell_type": "code",
   "execution_count": 1,
   "id": "ffa1c28f-29fa-4dc4-a7d5-8245b1498131",
   "metadata": {},
   "outputs": [],
   "source": [
    "from sklearn.preprocessing import OrdinalEncoder\n",
    "from sklearn.ensemble import RandomForestRegressor\n",
    "from sklearn.inspection import permutation_importance\n",
    "\n",
    "from sklearn.model_selection import train_test_split\n",
    "from sklearn.model_selection import cross_val_score\n",
    "from sklearn.model_selection import KFold \n",
    "\n",
    "from tqdm.notebook import tqdm\n",
    "import plotly.express as px\n",
    "import numpy as np\n",
    "import pandas as pd\n",
    "import os\n",
    "\n",
    "os.chdir(\"/home/rooda/Dropbox/Patagonia/MS2 Results/\")\n",
    "sources = [\"Outline\", \"Climate\", \"Volume\", \"GGM\", \"SSP\", \"BCM\"]\n",
    "metrics = [\"Timing\", \"Rate_change\", \"Duration\", \"Magnitude\", \"Frequency\"]"
   ]
  },
  {
   "cell_type": "markdown",
   "id": "75d74e13-f8b6-4e20-b31e-0c69a13ef0ac",
   "metadata": {},
   "source": [
    "## Data "
   ]
  },
  {
   "cell_type": "code",
   "execution_count": 2,
   "id": "c8a9003d-5dac-48d4-8fa0-2e3f260f6e1d",
   "metadata": {},
   "outputs": [],
   "source": [
    "paths = [\"data_basin_peak_water_year.csv\", \n",
    "         \"data_basin_rate_change.csv\", \n",
    "         \"data_basin_duration.csv\", \n",
    "         \"data_basin_peak_water_value.csv\", \n",
    "         \"data_basin_freq.csv\"]"
   ]
  },
  {
   "cell_type": "code",
   "execution_count": 3,
   "id": "49d0ced0-c00c-4de5-b9fa-6cb22d6543a7",
   "metadata": {},
   "outputs": [
    {
     "data": {
      "application/vnd.jupyter.widget-view+json": {
       "model_id": "da223c8118eb42c1aa0539bf03aa2412",
       "version_major": 2,
       "version_minor": 0
      },
      "text/plain": [
       "  0%|          | 0/5 [00:00<?, ?it/s]"
      ]
     },
     "metadata": {},
     "output_type": "display_data"
    },
    {
     "data": {
      "application/vnd.jupyter.widget-view+json": {
       "model_id": "0cec9e93342e4bf7a56b5bcfe40d9ba2",
       "version_major": 2,
       "version_minor": 0
      },
      "text/plain": [
       "  0%|          | 0/135 [00:00<?, ?it/s]"
      ]
     },
     "metadata": {},
     "output_type": "display_data"
    },
    {
     "data": {
      "application/vnd.jupyter.widget-view+json": {
       "model_id": "89d862fa33b74ef9b9b7d16b423d9fdf",
       "version_major": 2,
       "version_minor": 0
      },
      "text/plain": [
       "  0%|          | 0/134 [00:00<?, ?it/s]"
      ]
     },
     "metadata": {},
     "output_type": "display_data"
    },
    {
     "data": {
      "application/vnd.jupyter.widget-view+json": {
       "model_id": "bbb3e8572b5a4f0a91e2f7de62c91e11",
       "version_major": 2,
       "version_minor": 0
      },
      "text/plain": [
       "  0%|          | 0/135 [00:00<?, ?it/s]"
      ]
     },
     "metadata": {},
     "output_type": "display_data"
    },
    {
     "data": {
      "application/vnd.jupyter.widget-view+json": {
       "model_id": "07a45772174c4313b3e244744ebe1dec",
       "version_major": 2,
       "version_minor": 0
      },
      "text/plain": [
       "  0%|          | 0/135 [00:00<?, ?it/s]"
      ]
     },
     "metadata": {},
     "output_type": "display_data"
    },
    {
     "data": {
      "application/vnd.jupyter.widget-view+json": {
       "model_id": "682d0a33b12641b2b4b484c6cc097ef4",
       "version_major": 2,
       "version_minor": 0
      },
      "text/plain": [
       "  0%|          | 0/135 [00:00<?, ?it/s]"
      ]
     },
     "metadata": {},
     "output_type": "display_data"
    }
   ],
   "source": [
    "complete_dataset = []\n",
    "\n",
    "for path in tqdm(range(0,5)):\n",
    "    \n",
    "    # read file from datasets_signature.ipynb\n",
    "    data = pd.read_csv(paths[path], index_col = 0)\n",
    "    \n",
    "    # only basins with at least one glacier\n",
    "    data = data.dropna(axis = 1) \n",
    "    \n",
    "    # categorical variables\n",
    "    x = data[sources]\n",
    "    x = OrdinalEncoder().fit_transform(x)\n",
    "    \n",
    "    for basin in tqdm(data.columns[6:]):\n",
    "        \n",
    "        y = data[basin].values # for each basib\n",
    "        x_train, x_test, y_train, y_test = train_test_split(x, y, test_size = 0.1, random_state=123)\n",
    "\n",
    "        # random forest regression model\n",
    "        rf = RandomForestRegressor(n_estimators = 500, random_state = 123, n_jobs = -1)\n",
    "        rf.fit(x_train, y_train)\n",
    "\n",
    "        # permutation importance\n",
    "        result = permutation_importance(rf, x_test, y_test, random_state=123, n_jobs=-1, \n",
    "                                        n_repeats=5, scoring = 'neg_root_mean_squared_error')\n",
    "        \n",
    "        result = pd.DataFrame([result.importances_mean], columns = sources)\n",
    "        result[\"ID\"] = basin\n",
    "        result[\"Metric\"] = metrics[path]\n",
    "        complete_dataset.append(result)\n",
    "    \n",
    "complete_dataset = pd.concat(complete_dataset)\n",
    "complete_dataset = complete_dataset.reset_index().drop(columns='index')\n",
    "complete_dataset.to_csv(\"RF_importance_basin.csv\")"
   ]
  },
  {
   "cell_type": "code",
   "execution_count": null,
   "id": "331b5f73-a112-4185-9bdd-924bfdcac2c0",
   "metadata": {},
   "outputs": [],
   "source": [
    "kf = KFold(n_splits=20, shuffle=True, random_state=123)\n",
    "rf = RandomForestRegressor(n_estimators = 5000, min_samples_leaf = 0.12, random_state = 123)\n",
    "cross_val_score(rf, x, y, cv = kf, scoring = \"neg_root_mean_squared_error\", n_jobs = -1)"
   ]
  }
 ],
 "metadata": {
  "kernelspec": {
   "display_name": "Python 3",
   "language": "python",
   "name": "python3"
  },
  "language_info": {
   "codemirror_mode": {
    "name": "ipython",
    "version": 3
   },
   "file_extension": ".py",
   "mimetype": "text/x-python",
   "name": "python",
   "nbconvert_exporter": "python",
   "pygments_lexer": "ipython3",
   "version": "3.9.15"
  }
 },
 "nbformat": 4,
 "nbformat_minor": 5
}

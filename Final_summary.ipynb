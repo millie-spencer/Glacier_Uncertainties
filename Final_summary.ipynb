{
 "cells": [
  {
   "cell_type": "markdown",
   "id": "192a8bfd-20a7-4d37-9556-9ecba759d641",
   "metadata": {},
   "source": [
    "# Dataset for repository"
   ]
  },
  {
   "cell_type": "code",
   "execution_count": null,
   "id": "a970de23-7bc7-44eb-b1e2-7a63079a41fe",
   "metadata": {
    "tags": []
   },
   "outputs": [],
   "source": [
    "import os\n",
    "import numpy as np\n",
    "import pandas as pd\n",
    "import xarray as xr\n",
    "import geopandas as gpd\n",
    "import shapely.geometry\n",
    "\n",
    "from oggm import utils\n",
    "from glob import glob\n",
    "from tqdm.notebook import tqdm\n",
    "\n",
    "os.chdir('/home/rooda/Dropbox/Patagonia')"
   ]
  },
  {
   "cell_type": "code",
   "execution_count": null,
   "id": "afaef1f3-2602-4b11-af44-2802dece0fd3",
   "metadata": {
    "tags": []
   },
   "outputs": [],
   "source": [
    "# basins\n",
    "basins = gpd.read_file(\"GIS South/Basins_Patagonia_ice.shp\")\n",
    "basins = basins.set_index(\"ID\")\n",
    "\n",
    "names = [\"Yelcho\", \"Baker\", \"Santa Cruz\", \"Palena\", \"Grey\", \"Puelo\", \"Cisnes\", \"Aysen\", \"Pascua\"]\n",
    "basins.loc[basins.basin_area > 5000, \"Name\"] = names\n",
    "basins = basins.replace({\"Zone\": {1:'PPY', 2:'PCA', 3:'NPI-E', 4:'NPI-W', 5:'SPI-N', 6:'SPI-C', 7:'SPI-S', 8:'GCN', 9:'CDI'}})\n",
    "basins = basins[[\"Name\", \"Zone\", \"basin_area\", \"geometry\"]]\n",
    "basins = basins.rename(columns = {\"Name\": \"basin_name\", \"Zone\": \"basin_zone\"})\n",
    "\n",
    "basins.index.name='basin_id'\n",
    "basins.to_file(\"MS2 Results/zenodo/basins_boundaries.shp\")"
   ]
  },
  {
   "cell_type": "code",
   "execution_count": null,
   "id": "9efa357f-c6a9-4e9f-b07f-fd4566977dec",
   "metadata": {
    "tags": []
   },
   "outputs": [],
   "source": [
    "# add area, volume and number of glaciers\n",
    "RGI6 = gpd.read_file(\"GIS South/Glaciers/RGI6_v2.shp\")\n",
    "RGI7 = gpd.read_file(\"GIS South/Glaciers/RGI7_v2.shp\")\n",
    "\n",
    "RGI6_sum = RGI6.groupby(\"ID_basin\")[[\"O2Region\", \"area_km2\", \"vol_F19\", \"vol_M22\"]].sum()\n",
    "RGI6_sum = RGI6_sum.rename(columns = {\"O2Region\": \"n_RGI6\", \"area_km2\": \"area_RGI6\"})\n",
    "\n",
    "RGI7_sum = RGI7.groupby(\"ID_basin\")[[\"O2Region\", \"area_km2\"]].sum()\n",
    "RGI7_sum = RGI7_sum.rename(columns = {\"O2Region\": \"n_RGI7\", \"area_km2\": \"area_RGI7\"})\n",
    "\n",
    "basins = pd.concat([basins, RGI6_sum, RGI7_sum], axis=1)\n",
    "\n",
    "# fill with zeros\n",
    "fillc = [\"n_RGI6\", \"area_RGI6\", \"vol_F19\", \"vol_M22\", \"n_RGI7\", \"area_RGI7\"]\n",
    "basins[fillc] = basins[fillc].fillna(0) "
   ]
  },
  {
   "cell_type": "code",
   "execution_count": null,
   "id": "2a8e8b6f-6241-45da-a125-aa80576d074f",
   "metadata": {
    "tags": []
   },
   "outputs": [],
   "source": [
    "# reference climate\n",
    "climate_ref = pd.read_csv(\"MS2 Results/dataset_climate_ref.csv\").set_index(\"ID\")\n",
    "climate_ref = climate_ref[['PP_PMET', 'PP_ERA5','PP_CR2MET', 'PP_MSWEP', 'T2M_PMET', 'T2M_ERA5', 'T2M_CR2MET', 'T2M_MSWEP']]\n",
    "\n",
    "basins = pd.concat([basins, climate_ref], axis=1)\n",
    "#basins = basins.drop(columns = \"geometry\").to_csv(\"MS2 Results/zenodo/dataset_historical.csv\",  index_label='basin_id')"
   ]
  },
  {
   "cell_type": "code",
   "execution_count": null,
   "id": "41979a6c-dddc-4ed3-8833-9323923d598f",
   "metadata": {
    "tags": []
   },
   "outputs": [],
   "source": [
    "# future climate\n",
    "climate_fut = pd.read_csv(\"MS2 Results/dataset_climate_future.csv\").set_index(\"ID\")\n",
    "climate_fut = climate_fut[['PP_change_126', 'PP_change_245', 'PP_change_370', 'PP_change_585', \n",
    "                           'T2M_change_126','T2M_change_245', 'T2M_change_370', 'T2M_change_585']]\n",
    "\n",
    "climate_fut = climate_fut.rename(columns = {\n",
    "    'PP_change_126': 'PPc_ssp126', 'PP_change_245': 'PPc_ssp245', 'PP_change_370': 'PPc_ssp370', 'PP_change_585': 'PPc_ssp585', \n",
    "    'T2M_change_126': 'T2Mc_ssp126','T2M_change_245': 'T2Mc_ssp245','T2M_change_370': 'T2Mc_ssp370','T2M_change_585': 'T2Mc_ssp585'})\n",
    "\n",
    "basins = pd.concat([basins, climate_fut], axis=1)"
   ]
  },
  {
   "cell_type": "code",
   "execution_count": null,
   "id": "9e69f89f-e5f6-4793-b7d8-c875def09271",
   "metadata": {
    "tags": []
   },
   "outputs": [],
   "source": [
    "# volume change\n",
    "RGI6_ids = gpd.read_file(\"/home/rooda/Dropbox/Patagonia/GIS South/Glaciers/RGI6_v2.shp\")\n",
    "RGI6_ids = RGI6_ids[RGI6_ids.area_km2 > 1][[\"RGIId\", \"ID_basin\"]]\n",
    "\n",
    "RGI7_ids = gpd.read_file(\"/home/rooda/Dropbox/Patagonia/GIS South/Glaciers/RGI7_v2.shp\")\n",
    "RGI7_ids = RGI7_ids[RGI7_ids.area_km2 > 1]\n",
    "RGI7_ids = utils.cook_rgidf(RGI7_ids, o1_region='17', o2_region='02', bgndate= RGI7_ids.src_date, \n",
    "                            version = \"70\", assign_column_values= {'ID_basin' : 'ID_basin'})\n",
    "RGI7_ids = RGI7_ids[[\"RGIId\", \"ID_basin\"]]\n",
    "\n",
    "# merge both datasets\n",
    "ids = pd.concat([RGI6_ids, RGI7_ids]).set_index(\"RGIId\")\n",
    "\n",
    "def preprocess(ds): # remove unnecessary variables and coordinates\n",
    "    return ds.drop_vars(['hydro_year', 'hydro_month', 'calendar_year', 'calendar_month'])['volume']\n",
    "\n",
    "gdirs = glob(\"/home/rooda/OGGM_results/new/*\", recursive = True)\n",
    "\n",
    "ds    = []\n",
    "for gdir in tqdm(gdirs):\n",
    "\n",
    "    # read historical run \n",
    "    model_hist   = xr.open_mfdataset(gdir + \"/run_outputs_*.nc\", preprocess = preprocess)\n",
    "    model_hist   = model_hist.sel(time=2015).volume # check NAs\n",
    "\n",
    "    paths = glob(gdir + \"/run_output_*ssp*.nc\", recursive = True)\n",
    "    for path in tqdm(paths, leave = False):\n",
    "\n",
    "        # read future run and concatenate\n",
    "        model_future = xr.open_dataset(path)\n",
    "        model_future = preprocess(model_future).sel(time=2100)\n",
    "        model   = xr.concat([model_hist, model_future], dim = \"time\").load()\n",
    "\n",
    "        # add basin ID to each glacier ID (RGI_ID)\n",
    "        ids_subset = ids[ids.index.isin(model.rgi_id.to_pandas().tolist())]\n",
    "        model = model.assign_coords(rgi_id = ids_subset.ID_basin.tolist())\n",
    "        model = model.groupby('rgi_id').sum()\n",
    "        model = 1 - (model.sel(time = 2100) / model.sel(time = 2015))\n",
    "        \n",
    "        # ID of the setup\n",
    "        experiment_id = pd.Series(data = {'SSP':     os.path.basename(path).split(\"_\")[3]})\n",
    "        ds_model = pd.DataFrame(pd.concat([experiment_id, model.to_pandas()]), columns=['mass_loss']).transpose()\n",
    "        ds.append(ds_model)\n",
    "        \n",
    "ds = pd.concat(ds)\n",
    "ds = ds.groupby(\"SSP\").mean()\n",
    "ds = ds.transpose()\n",
    "ds = ds.rename(columns = {'ssp126': 'mass_loss_ssp126', \n",
    "                    'ssp245': 'mass_loss_ssp245',\n",
    "                    'ssp370': 'mass_loss_ssp370', \n",
    "                    'ssp585': 'mass_loss_ssp585'})\n",
    "\n",
    "basins = pd.concat([basins, ds], axis=1)"
   ]
  },
  {
   "cell_type": "code",
   "execution_count": null,
   "id": "d6705c5f-fa6a-4344-9c44-99d52bfe2261",
   "metadata": {
    "tags": []
   },
   "outputs": [],
   "source": [
    "basins = basins[['PPc_ssp126', 'PPc_ssp245', 'PPc_ssp370', 'PPc_ssp585', \n",
    "                  'T2Mc_ssp126','T2Mc_ssp245', 'T2Mc_ssp370', 'T2Mc_ssp585',\n",
    "                  'mass_loss_ssp126', 'mass_loss_ssp245', 'mass_loss_ssp370', 'mass_loss_ssp585']]\n",
    "basins = basins.drop(columns = \"geometry\").to_csv(\"MS2 Results/zenodo/dataset_future.csv\",  index_label='basin_id')"
   ]
  },
  {
   "cell_type": "code",
   "execution_count": null,
   "id": "048abeab-0209-4cdb-ab00-c9a1167efc7f",
   "metadata": {
    "tags": []
   },
   "outputs": [],
   "source": [
    "# glacio-hydrological signature\n",
    "metrics = pd.read_csv(\"MS2 Results/dataset_hydro_signatures.csv\")\n",
    "metrics = metrics.drop(columns = [\"Outline\", \"Climate\", \"Volume\", \"GCM\", \"SSP\", \"BCM\"])\n",
    "metrics = metrics.rename(columns = {\"Unnamed: 0\": \"variable\", \"Variable\": \"metric\"})\n",
    "metrics = metrics.groupby([\"metric\", \"variable\"]).mean().transpose()\n",
    "metrics = metrics.droplevel(0, axis=1) \n",
    "metrics.columns = np.concatenate((\"mg_\" + metrics.columns[0:10].values, \"tr_\" + metrics.columns[0:10].values), axis=0)\n",
    "metrics.index = metrics.index.astype(\"int64\")\n",
    "\n",
    "metrics_su = pd.read_csv(\"MS2 Results/feature_importance_rmse.csv\", index_col = 0)\n",
    "metrics_su['Most_important'] = metrics_su[[\"Outline\",\"Climate\", \"Volume\", \"GCM\", \"SSP\", \"BCM\"]].idxmax(axis=1)\n",
    "metrics_su = metrics_su.drop(columns = [\"Outline\", \"Climate\", \"Volume\", \"GCM\", \"SSP\", \"BCM\"])\n",
    "metrics_su = metrics_su.pivot(columns = [\"Variable\", \"Metric\"], values = \"Most_important\")\n",
    "metrics_su = metrics_su.droplevel(0, axis=1)\n",
    "metrics_su.columns = np.concatenate((\"SoU_mg_\" + metrics_su.columns[0:10].values, \"SoU_tr_\" + metrics_su.columns[0:10].values), axis=0)\n",
    "\n",
    "metrics_hydro = pd.concat([metrics, metrics_su], axis=1)\n",
    "metrics_hydro.to_csv(\"MS2 Results/zenodo/dataset_signatures.csv\",  index_label='basin_id')"
   ]
  },
  {
   "cell_type": "code",
   "execution_count": null,
   "id": "dc2e9258-3f79-4817-89e6-46de04278607",
   "metadata": {},
   "outputs": [],
   "source": []
  }
 ],
 "metadata": {
  "kernelspec": {
   "display_name": "Python 3 (ipykernel)",
   "language": "python",
   "name": "python3"
  },
  "language_info": {
   "codemirror_mode": {
    "name": "ipython",
    "version": 3
   },
   "file_extension": ".py",
   "mimetype": "text/x-python",
   "name": "python",
   "nbconvert_exporter": "python",
   "pygments_lexer": "ipython3",
   "version": "3.10.10"
  }
 },
 "nbformat": 4,
 "nbformat_minor": 5
}

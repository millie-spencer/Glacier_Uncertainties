{
 "cells": [
  {
   "cell_type": "markdown",
   "id": "f023dea2-3a0c-4e52-b248-33ff045d6ea9",
   "metadata": {},
   "source": [
    "# Uncertanty analysis "
   ]
  },
  {
   "cell_type": "code",
   "execution_count": null,
   "id": "10885fd0-3cf4-4958-ade7-81c84c48e333",
   "metadata": {
    "tags": []
   },
   "outputs": [],
   "source": [
    "import numpy as np\n",
    "import pandas as pd\n",
    "import xarray as xr \n",
    "import geopandas as gpd\n",
    "\n",
    "import os\n",
    "from glob import glob\n",
    "from oggm import utils\n",
    "from tqdm import tqdm\n",
    "from tqdm.notebook import tqdm\n",
    "\n",
    "os.chdir('/home/rooda/OGGM_results/')\n",
    "\n",
    "import warnings\n",
    "warnings.simplefilter('ignore', np.RankWarning)"
   ]
  },
  {
   "cell_type": "markdown",
   "id": "08f65d16-c588-46ff-ab27-064dc6ba8a19",
   "metadata": {},
   "source": [
    "## Data"
   ]
  },
  {
   "cell_type": "code",
   "execution_count": null,
   "id": "d893e9b0-f469-4ed9-9dc1-9ef52e8a089f",
   "metadata": {
    "tags": []
   },
   "outputs": [],
   "source": [
    "RGI6_ids = gpd.read_file(\"/home/rooda/Dropbox/Patagonia/GIS South/Glaciers/RGI6_v2.shp\")\n",
    "RGI7_ids = gpd.read_file(\"/home/rooda/Dropbox/Patagonia/GIS South/Glaciers/RGI7_v2.shp\")\n",
    "RGI6_ids = RGI6_ids[RGI6_ids.area_km2 > 7][[\"RGIId\", \"Zone\", \"ID_basin\"]]\n",
    "RGI7_ids = RGI7_ids[RGI7_ids.area_km2 > 7]\n",
    "\n",
    "RGI7_ids = utils.cook_rgidf(RGI7_ids, o1_region='17', o2_region='02', bgndate= RGI7_ids.src_date, \n",
    "                            version = \"70\", assign_column_values= {'Zone' : 'Zone', 'ID_basin' : 'ID_basin'})\n",
    "\n",
    "RGI7_ids = RGI7_ids[[\"RGIId\", \"Zone\", \"ID_basin\"]]\n",
    "ids = pd.concat([RGI6_ids, RGI7_ids]).set_index(\"RGIId\")\n",
    "\n",
    "dict_zone = {1:'PPY', 2:'PCA', 3:'NPI-E', 4:'NPI-W', 5:'SPI-N', 6:'SPI-C', 7:'SPI-S', 8:'GCN', 9:'CDI'}\n",
    "ids = ids.replace({\"Zone\": dict_zone})"
   ]
  },
  {
   "cell_type": "markdown",
   "id": "4874bb97-5edb-4e74-afe0-0b9b90a18669",
   "metadata": {},
   "source": [
    "## Preprocessing"
   ]
  },
  {
   "cell_type": "code",
   "execution_count": null,
   "id": "0f3bdf8a-a8d9-45fc-87cd-be78cb5e90a5",
   "metadata": {
    "tags": []
   },
   "outputs": [],
   "source": [
    "# remove unnecessary variables and coordinates\n",
    "variables = [\"melt_on_glacier\", \"melt_on_glacier_monthly\"]\n",
    "\n",
    "def preprocess(ds): \n",
    "    ds = ds.drop_vars(['hydro_year', 'hydro_month', 'calendar_year', 'calendar_month'])\n",
    "    ds = ds[variables]\n",
    "    return ds"
   ]
  },
  {
   "cell_type": "markdown",
   "id": "2d280566-50bc-46b4-873b-a88f0db3288d",
   "metadata": {
    "tags": []
   },
   "source": [
    "# Calculation of all metrics"
   ]
  },
  {
   "cell_type": "code",
   "execution_count": null,
   "id": "caec6822-0108-4f1e-8290-814d6df07db1",
   "metadata": {
    "scrolled": true,
    "tags": []
   },
   "outputs": [],
   "source": [
    "# Folder with all the results\n",
    "gdirs = glob(\"/home/rooda/OGGM_results/new/*\", recursive = True)\n",
    "\n",
    "dataset_peak_year      = []\n",
    "dataset_peak_magnitude = []\n",
    "dataset_frecuency      = []\n",
    "dataset_rate_change    = []\n",
    "dataset_duration       = []\n",
    "\n",
    "for gdir in tqdm(gdirs):\n",
    "\n",
    "    # read historical run \n",
    "    model_hist   = xr.open_mfdataset(gdir + \"/run_outputs_*.nc\", preprocess = preprocess)[variables]\n",
    "    model_hist   = model_hist.isel(time=slice(0, -1)) \n",
    "    \n",
    "    paths = glob(gdir + \"/run_output_*.nc\", recursive = True)\n",
    "    for path in tqdm(paths, leave = False):\n",
    "        \n",
    "        # read future run and concatenate\n",
    "        model_future = xr.open_dataset(path)\n",
    "        model_future = preprocess(model_future)\n",
    "        model   = xr.concat([model_hist, model_future], dim = \"time\").load()\n",
    "        \n",
    "        # add basin ID to each glacier ID (RGI_ID)\n",
    "        ids_subset = ids[ids.index.isin(model.rgi_id.to_pandas().tolist())]\n",
    "        model = model.assign_coords(rgi_id = ids_subset.ID_basin.tolist())\n",
    "        \n",
    "        # aggregate based on \"new\" ID\n",
    "        model = model.groupby('rgi_id').sum()\n",
    "        model = model.isel(time=slice(0, -1)) * 1e-9\n",
    "        rolling = model.melt_on_glacier.rolling(time=11, center=True).mean()\n",
    "        \n",
    "        # ID of the setup\n",
    "        experiment_id = pd.Series(data = {'Outline': os.path.basename(gdir).split(\"_\")[0],\n",
    "                                          'Climate': os.path.basename(gdir).split(\"_\")[1],\n",
    "                                          'Volume':  os.path.basename(gdir).split(\"_\")[2],\n",
    "                                          'GCM':     os.path.basename(path).split(\"_\")[2],\n",
    "                                          'SSP':     os.path.basename(path).split(\"_\")[3],\n",
    "                                          'BCM':     os.path.basename(path).split(\"_\")[4][0:3]})\n",
    "        \n",
    "        ## Peak water year: Calculated using a 11-year moving average\n",
    "        peak_year = rolling.idxmax(dim = \"time\").astype(\"int16\").to_series()      \n",
    "        peak_year = pd.DataFrame(pd.concat([experiment_id, peak_year]), columns=['peak_water_year']).transpose()\n",
    "        dataset_peak_year.append(peak_year)\n",
    "        \n",
    "        ## Magnitude: Annual maximum of total melt on the glacier\n",
    "        peak_magnitude = rolling.max(dim = \"time\") \n",
    "        peak_magnitude = peak_magnitude.to_series()      \n",
    "        peak_magnitude = pd.DataFrame(pd.concat([experiment_id, peak_magnitude]), columns=['peak_magnitude']).transpose()\n",
    "        dataset_peak_magnitude.append(peak_magnitude)\n",
    "        \n",
    "        ## Frecuency\n",
    "        frecuency = model.melt_on_glacier - rolling\n",
    "        frecuency = frecuency.std(dim = \"time\").to_series()\n",
    "        frecuency = pd.DataFrame(pd.concat([experiment_id, frecuency]), columns=['frecuency']).transpose()\n",
    "        dataset_frecuency.append(frecuency)\n",
    "        \n",
    "        ## Rate of change\n",
    "        rolling_norm = rolling/rolling.max(dim = \"time\")  # normalize values (max = 1)\n",
    "        rolling_norm = rolling_norm.transpose(\"rgi_id\", \"time\") # trick to complete loop\n",
    "        \n",
    "        rate_change = []\n",
    "        for catchment in model.rgi_id.to_numpy(): # get the trend for each catchment\n",
    "            \n",
    "            time_period = slice(int(peak_year[catchment]), int(peak_year[catchment])+30)\n",
    "            rate_change_i = rolling_norm.sel(time = time_period, rgi_id = catchment)\n",
    "            rate_change_i = rate_change_i.polyfit(dim = \"time\", deg = 1, skipna = True).polyfit_coefficients[0].to_numpy()\n",
    "            rate_change_i = rate_change_i * 100 * 10 # final value: %% per decade\n",
    "            rate_change.append(rate_change_i)\n",
    "        \n",
    "        rate_change = pd.Series(rate_change, index=model.rgi_id.to_numpy())\n",
    "        rate_change = pd.DataFrame(pd.concat([experiment_id, rate_change]), columns=['rate_of_change']).transpose()\n",
    "        dataset_rate_change.append(rate_change)\n",
    "        \n",
    "        ## Duration\n",
    "        duration = model.melt_on_glacier_monthly.mean(dim = \"time\")*100 / model.melt_on_glacier_monthly.mean(dim = \"time\").sum(dim = \"month_2d\")\n",
    "        duration = duration.sel(month_2d = [12,1,2]).sum(dim = \"month_2d\").to_series()\n",
    "        duration = pd.DataFrame(pd.concat([experiment_id, duration]), columns=['duration']).transpose()\n",
    "        dataset_duration.append(duration)\n",
    "        \n",
    "# concatenate all metrics \n",
    "dataset = pd.concat([pd.concat(dataset_peak_year),\n",
    "                     pd.concat(dataset_peak_magnitude),\n",
    "                     pd.concat(dataset_frecuency),\n",
    "                     pd.concat(dataset_rate_change),\n",
    "                     pd.concat(dataset_duration)])\n",
    "                         \n",
    "dataset.to_csv(\"/home/rooda/Dropbox/Patagonia/MS2 Results/dataset_hydro_signatures.csv\")"
   ]
  }
 ],
 "metadata": {
  "kernelspec": {
   "display_name": "Python 3 (ipykernel)",
   "language": "python",
   "name": "python3"
  },
  "language_info": {
   "codemirror_mode": {
    "name": "ipython",
    "version": 3
   },
   "file_extension": ".py",
   "mimetype": "text/x-python",
   "name": "python",
   "nbconvert_exporter": "python",
   "pygments_lexer": "ipython3",
   "version": "3.10.10"
  }
 },
 "nbformat": 4,
 "nbformat_minor": 5
}

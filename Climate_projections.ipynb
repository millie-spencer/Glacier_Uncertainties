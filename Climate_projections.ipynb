{
 "cells": [
  {
   "cell_type": "code",
   "execution_count": null,
   "id": "4f495ab8-501b-4124-b425-974d224a0ed1",
   "metadata": {},
   "outputs": [],
   "source": [
    "# basic\n",
    "import os \n",
    "import numpy as np\n",
    "import xarray as xr\n",
    "import geopandas as gpd\n",
    "\n",
    "# climate-related\n",
    "import cftime\n",
    "import regionmask\n",
    "from xclim import sdba\n",
    "from datetime import datetime\n",
    "\n",
    "import warnings\n",
    "warnings.simplefilter(\"ignore\") \n",
    "\n",
    "chunks_dict = {\"lon\": 10, \"lat\": 10, \"time\": -1}"
   ]
  },
  {
   "cell_type": "code",
   "execution_count": null,
   "id": "bb419a2e-2979-4849-abf0-cb20c1d0a333",
   "metadata": {},
   "outputs": [],
   "source": [
    "# prepare baseline climate for bias correction of projections \n",
    "pp_baseline  = xr.open_dataset(\"/home/rooda/OGGM_results/PMET_OGGM_1980_2019m.nc\")[\"prcp\"]\n",
    "t2m_baseline = xr.open_dataset(\"/home/rooda/OGGM_results/PMET_OGGM_1980_2019m.nc\")[\"temp\"]\n",
    "pp_baseline"
   ]
  },
  {
   "cell_type": "code",
   "execution_count": null,
   "id": "15ea06bb-942e-4b06-ba7f-1c2c8752155b",
   "metadata": {},
   "outputs": [],
   "source": [
    "# future climate tasks\n",
    "period = slice(\"1980-01-01\", \"2099-12-31\") # period\n",
    "days = np.array([31, 28, 31, 30, 31, 30, 31, 31, 30, 31, 30, 31])\n",
    "\n",
    "os.chdir(\"/home/rooda/Dropbox/Patagonia/Data/Future\")\n",
    "gcm_list  = [\"ACCESS-CM2\", \"EC-Earth3\", \"INM-CM5-0\", \"KACE-1-0-G\", \"MPI-ESM1-2-HR\", \n",
    "             \"CMCC-ESM2\",  \"GFDL-ESM4\",  \"IPSL-CM6A\",  \"MIROC6\",   \"NorESM2-LM\"]\n",
    "ssp_list  = [\"ssp245\",\"ssp370\",\"ssp585\"] \n",
    "start = datetime.now()\n",
    "\n",
    "for gcm in gcm_list:\n",
    "    pp_historical  = xr.open_mfdataset(os.path.join(gcm + \"/*_historical_*.nc\"))[\"pr\"]\n",
    "    t2m_historical = xr.open_mfdataset(os.path.join(gcm + \"/*_historical_*.nc\"))[[\"tasmax\",\"tasmin\"]]\n",
    "    \n",
    "    for ssp in ssp_list:\n",
    "        path = os.path.join(gcm + \"/*\" + ssp + \"*.nc\")\n",
    "        pp_model_ssp = xr.open_mfdataset(path)[\"pr\"]\n",
    "        pp_model_ssp = xr.concat([pp_historical, pp_model_ssp], dim = \"time\").drop(\"height\")\n",
    "        pp_model_ssp.coords['lon'] = (pp_model_ssp.coords['lon'] + 180) % 360 - 180\n",
    "        pp_model_ssp = pp_model_ssp.sortby(pp_model_ssp.lon)\n",
    "        pp_model_ssp = pp_model_ssp.resample(time='MS').sum()\n",
    "        pp_model_ssp = pp_model_ssp*86400\n",
    "        pp_model_ssp = pp_model_ssp.where((pp_model_ssp.lon >= -76) & (pp_model_ssp.lon <= -68), drop=True)\n",
    "        pp_model_ssp = pp_model_ssp.sel(time=~((pp_model_ssp.time.dt.month == 2) & (pp_model_ssp.time.dt.day == 29)))\n",
    "        if isinstance(pp_model_ssp.indexes['time'][0], cftime.DatetimeNoLeap) or isinstance(pp_model_ssp.indexes['time'][0], cftime.Datetime360Day):\n",
    "            pp_model_ssp[\"time\"] = pp_model_ssp.indexes['time'].to_datetimeindex()\n",
    "        pp_model_ssp = pp_model_ssp.chunk(chunks_dict)\n",
    "        pp_model_ssp.attrs[\"units\"] = \"mm\"\n",
    "        pp_model_ssp  = pp_model_ssp.sel(time=period)\n",
    "        pp_model_ssp  = pp_model_ssp.astype(\"int16\")\n",
    "        \n",
    "        t2m_model_ssp = xr.open_mfdataset(path)[[\"tasmax\",\"tasmin\"]]\n",
    "        t2m_model_ssp = xr.concat([t2m_historical, t2m_model_ssp], dim = \"time\").drop(\"height\")\n",
    "        t2m_model_ssp = t2m_model_ssp.resample(time='MS').mean()\n",
    "        t2m_model_ssp[\"tas\"] = (t2m_model_ssp.tasmax + t2m_model_ssp.tasmin)/2\n",
    "        t2m_model_ssp = t2m_model_ssp[\"tas\"] \n",
    "        t2m_model_ssp.coords['lon'] = (t2m_model_ssp.coords['lon'] + 180) % 360 - 180\n",
    "        t2m_model_ssp = t2m_model_ssp.sortby(t2m_model_ssp.lon)\n",
    "        t2m_model_ssp = t2m_model_ssp-273.15\n",
    "        t2m_model_ssp = t2m_model_ssp.where((t2m_model_ssp.lon >= -76) & (t2m_model_ssp.lon <= -68), drop=True)\n",
    "        t2m_model_ssp = t2m_model_ssp.sel(time=~((t2m_model_ssp.time.dt.month == 2) & (t2m_model_ssp.time.dt.day == 29)))\n",
    "        if isinstance(t2m_model_ssp.indexes['time'][0], cftime.DatetimeNoLeap) or isinstance(t2m_model_ssp.indexes['time'][0], cftime.Datetime360Day):\n",
    "            t2m_model_ssp[\"time\"] = t2m_model_ssp.indexes['time'].to_datetimeindex()\n",
    "        t2m_model_ssp = t2m_model_ssp.chunk(chunks_dict)\n",
    "        t2m_model_ssp.attrs[\"units\"] = \"degC\"\n",
    "        t2m_model_ssp  = t2m_model_ssp.sel(time=period)\n",
    "        \n",
    "        t2m_model_ssp.to_netcdf(\"/home/rooda/OGGM_results/Future_climate/T2M_\" + gcm + \"_\" + ssp + \".nc\")\n",
    "        pp_model_ssp.to_netcdf(\"/home/rooda/OGGM_results/Future_climate/PP_\"   + gcm + \"_\" + ssp + \".nc\")\n",
    "        print(gcm, ssp, datetime.now()-start)"
   ]
  },
  {
   "cell_type": "code",
   "execution_count": null,
   "id": "7318b31e-a338-41e0-91fc-ecf8aa039379",
   "metadata": {},
   "outputs": [],
   "source": []
  }
 ],
 "metadata": {
  "kernelspec": {
   "display_name": "Python 3 (ipykernel)",
   "language": "python",
   "name": "python3"
  },
  "language_info": {
   "codemirror_mode": {
    "name": "ipython",
    "version": 3
   },
   "file_extension": ".py",
   "mimetype": "text/x-python",
   "name": "python",
   "nbconvert_exporter": "python",
   "pygments_lexer": "ipython3",
   "version": "3.9.12"
  }
 },
 "nbformat": 4,
 "nbformat_minor": 5
}
